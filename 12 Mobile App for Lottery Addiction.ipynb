{
  "nbformat": 4,
  "nbformat_minor": 0,
  "metadata": {
    "colab": {
      "name": "12 Mobile App for Lottery Addiction.ipynb",
      "provenance": [],
      "collapsed_sections": [],
      "mount_file_id": "1WWmZ6vmcyd5yLuFkMTNKhlDkeOXXqqNj",
      "authorship_tag": "ABX9TyMCzfhfs3bcr8av4feUyFAl",
      "include_colab_link": true
    },
    "kernelspec": {
      "name": "python3",
      "display_name": "Python 3"
    },
    "language_info": {
      "name": "python"
    }
  },
  "cells": [
    {
      "cell_type": "markdown",
      "metadata": {
        "id": "view-in-github",
        "colab_type": "text"
      },
      "source": [
        "<a href=\"https://colab.research.google.com/github/K-Erath/Dataquest/blob/master/12%20Mobile%20App%20for%20Lottery%20Addiction.ipynb\" target=\"_parent\"><img src=\"https://colab.research.google.com/assets/colab-badge.svg\" alt=\"Open In Colab\"/></a>"
      ]
    },
    {
      "cell_type": "markdown",
      "metadata": {
        "id": "EOIHVAd0tQTr"
      },
      "source": [
        "# Guided Project: Mobile App for Lottery Addiction\n",
        "In this project, we are going to contribute to the development of a mobile app by writing a couple of functions that are mostly focused on calculating probabilities. The app is aimed to both prevent and treat lottery addiction by helping people better estimate their chances of winning.\n",
        "\n",
        "The app idea comes from a medical institute which is specialized in treating gambling addictions. The institute already has a team of engineers that will build the app, but they need us to create the logical core of the app and calculate probabilities. For the first version of the app, they want us to focus on the 6/49 lottery and build functions that can answer users the following questions:\n",
        "\n",
        "* What is the probability of winning the big prize with a single ticket?\n",
        "* What is the probability of winning the big prize if we play 40 different tickets (or any other number)?\n",
        "* What is the probability of having at least five (or four, or three) winning numbers on a single ticket?\n",
        "\n",
        "The scenario we're following throughout this project is fictional — the main purpose is to practice applying probability and combinatorics (permutations and combinations) concepts in a setting that simulates a real-world scenario.\n",
        "\n",
        "## Core Functions\n",
        "Below, we're going to write two functions that we'll be using frequently:\n",
        "\n",
        "* factorial() — a function that calculates factorials\n",
        "* combinations() — a function that calculates combinations"
      ]
    },
    {
      "cell_type": "code",
      "metadata": {
        "id": "63cyeFd9y6sV"
      },
      "source": [
        "# import modules\n",
        "import pandas as pd\n",
        "from fractions import Fraction"
      ],
      "execution_count": null,
      "outputs": []
    },
    {
      "cell_type": "code",
      "metadata": {
        "id": "D2dMGljxjMCp"
      },
      "source": [
        "# define functions\n",
        "def factorial(n):\n",
        "  '''Returns the product of an integer and all integers below it.\n",
        "  n: input integer\n",
        "  '''\n",
        "  final = 1\n",
        "  for i in range(n, 0, -1):\n",
        "    final *= i\n",
        "  return final\n",
        "\n",
        "def combinations(n, k):\n",
        "  '''Returns how many different combinations of k number of items there can be \n",
        "  if taken from n number of items. For example, a poker hand can be described as \n",
        "  a 5-combination (k = 5) of cards from a 52 card deck (n = 52).\n",
        "  n: integer, total number of items\n",
        "  k: integer, number of items taken at one time\n",
        "  '''\n",
        "  numerator = factorial(n)\n",
        "  denominator = factorial(k) * factorial(n-k)\n",
        "  return numerator/denominator"
      ],
      "execution_count": null,
      "outputs": []
    },
    {
      "cell_type": "markdown",
      "metadata": {
        "id": "ERdZoNLUBk5_"
      },
      "source": [
        "## One-ticket Probability\n",
        "We need to build a function that calculates the probability of winning the big prize for any given ticket. For each drawing, six numbers are drawn from a set of 49, and a player wins the big prize if the six numbers on their tickets match all six numbers.\n",
        "\n",
        "The engineer team told us that we need to be aware of the following details when we write the function:\n",
        "\n",
        "* Inside the app, the user inputs six different numbers from 1 to 49.\n",
        "* Under the hood, the six numbers will come as a Python list and serve as an input to our function.\n",
        "* The engineering team wants the function to print the probability value in a friendly way — in a way that people without any probability training are able to understand.\n",
        "\n",
        "Below, we write the one_ticket_probability() function, which takes in a list of six unique numbers and prints the probability of winning in a way that's easy to understand."
      ]
    },
    {
      "cell_type": "code",
      "metadata": {
        "id": "RtlIhQtJB6L2"
      },
      "source": [
        "def one_ticket_probability(l):\n",
        "  '''Prints chance of winning with a list of 6 numbers.\n",
        "  l: list of 6 numbers\n",
        "  '''\n",
        "  n = 49\n",
        "  k = len(l)\n",
        "  c = combinations(n, k)\n",
        "  p = 1/c\n",
        "  print(\"You have a 1 out of {:,} (or {:.6f}% chance) chance of winning.\".format(c, p*100))"
      ],
      "execution_count": null,
      "outputs": []
    },
    {
      "cell_type": "markdown",
      "metadata": {
        "id": "nAcnBBg_B2eG"
      },
      "source": [
        "We now test a bit the function on two different outputs."
      ]
    },
    {
      "cell_type": "code",
      "metadata": {
        "colab": {
          "base_uri": "https://localhost:8080/"
        },
        "id": "uZb4IN29ypVj",
        "outputId": "a322fe73-d43d-44d7-836c-78c46053c68a"
      },
      "source": [
        "test_input_1 = [2, 43, 22, 23, 11, 5]\n",
        "one_ticket_probability(test_input_1)"
      ],
      "execution_count": null,
      "outputs": [
        {
          "output_type": "stream",
          "text": [
            "You have a 1 out of 13,983,816.0 (or 0.000007% chance) chance of winning.\n"
          ],
          "name": "stdout"
        }
      ]
    },
    {
      "cell_type": "code",
      "metadata": {
        "colab": {
          "base_uri": "https://localhost:8080/"
        },
        "id": "XOozMa37CLav",
        "outputId": "a57c0697-5e0c-4837-aa4c-55796d48d0db"
      },
      "source": [
        "test_input_2 = [9, 26, 41, 7, 15, 6]\n",
        "one_ticket_probability(test_input_2)"
      ],
      "execution_count": null,
      "outputs": [
        {
          "output_type": "stream",
          "text": [
            "You have a 1 out of 13,983,816.0 (or 0.000007% chance) chance of winning.\n"
          ],
          "name": "stdout"
        }
      ]
    },
    {
      "cell_type": "markdown",
      "metadata": {
        "id": "ebwo01jJzIMk"
      },
      "source": [
        "## Historical Data Check for Canada Lottery\n",
        "The institute also wants us to consider the data coming from the national 6/49 lottery game in Canada. The data set contains historical data for 3,665 drawings, dating from 1982 to 2018 (the data set can be downloaded from [here](https://www.kaggle.com/datascienceai/lottery-dataset))."
      ]
    },
    {
      "cell_type": "code",
      "metadata": {
        "colab": {
          "base_uri": "https://localhost:8080/",
          "height": 142
        },
        "id": "btBPDRClzK43",
        "outputId": "2cd1529f-2a11-4d3f-92b8-0b5789d694ec"
      },
      "source": [
        "# import historical data into pandas dataframe and explore the data\n",
        "#df = pd.read_csv(\"/649.csv\")\n",
        "df = pd.read_csv(\"649.csv\")\n",
        "# look at the first 3 records\n",
        "df.head(3)"
      ],
      "execution_count": null,
      "outputs": [
        {
          "output_type": "execute_result",
          "data": {
            "text/html": [
              "<div>\n",
              "<style scoped>\n",
              "    .dataframe tbody tr th:only-of-type {\n",
              "        vertical-align: middle;\n",
              "    }\n",
              "\n",
              "    .dataframe tbody tr th {\n",
              "        vertical-align: top;\n",
              "    }\n",
              "\n",
              "    .dataframe thead th {\n",
              "        text-align: right;\n",
              "    }\n",
              "</style>\n",
              "<table border=\"1\" class=\"dataframe\">\n",
              "  <thead>\n",
              "    <tr style=\"text-align: right;\">\n",
              "      <th></th>\n",
              "      <th>PRODUCT</th>\n",
              "      <th>DRAW NUMBER</th>\n",
              "      <th>SEQUENCE NUMBER</th>\n",
              "      <th>DRAW DATE</th>\n",
              "      <th>NUMBER DRAWN 1</th>\n",
              "      <th>NUMBER DRAWN 2</th>\n",
              "      <th>NUMBER DRAWN 3</th>\n",
              "      <th>NUMBER DRAWN 4</th>\n",
              "      <th>NUMBER DRAWN 5</th>\n",
              "      <th>NUMBER DRAWN 6</th>\n",
              "      <th>BONUS NUMBER</th>\n",
              "    </tr>\n",
              "  </thead>\n",
              "  <tbody>\n",
              "    <tr>\n",
              "      <th>0</th>\n",
              "      <td>649</td>\n",
              "      <td>1</td>\n",
              "      <td>0</td>\n",
              "      <td>6/12/1982</td>\n",
              "      <td>3</td>\n",
              "      <td>11</td>\n",
              "      <td>12</td>\n",
              "      <td>14</td>\n",
              "      <td>41</td>\n",
              "      <td>43</td>\n",
              "      <td>13</td>\n",
              "    </tr>\n",
              "    <tr>\n",
              "      <th>1</th>\n",
              "      <td>649</td>\n",
              "      <td>2</td>\n",
              "      <td>0</td>\n",
              "      <td>6/19/1982</td>\n",
              "      <td>8</td>\n",
              "      <td>33</td>\n",
              "      <td>36</td>\n",
              "      <td>37</td>\n",
              "      <td>39</td>\n",
              "      <td>41</td>\n",
              "      <td>9</td>\n",
              "    </tr>\n",
              "    <tr>\n",
              "      <th>2</th>\n",
              "      <td>649</td>\n",
              "      <td>3</td>\n",
              "      <td>0</td>\n",
              "      <td>6/26/1982</td>\n",
              "      <td>1</td>\n",
              "      <td>6</td>\n",
              "      <td>23</td>\n",
              "      <td>24</td>\n",
              "      <td>27</td>\n",
              "      <td>39</td>\n",
              "      <td>34</td>\n",
              "    </tr>\n",
              "  </tbody>\n",
              "</table>\n",
              "</div>"
            ],
            "text/plain": [
              "   PRODUCT  DRAW NUMBER  ...  NUMBER DRAWN 6 BONUS NUMBER\n",
              "0      649            1  ...              43           13\n",
              "1      649            2  ...              41            9\n",
              "2      649            3  ...              39           34\n",
              "\n",
              "[3 rows x 11 columns]"
            ]
          },
          "metadata": {
            "tags": []
          },
          "execution_count": 7
        }
      ]
    },
    {
      "cell_type": "code",
      "metadata": {
        "id": "S2lF_Hff10wF",
        "colab": {
          "base_uri": "https://localhost:8080/",
          "height": 142
        },
        "outputId": "ca4809f1-9876-49ce-f399-7cd567ae4a3d"
      },
      "source": [
        "# look at the last 3 records\n",
        "df.tail(3)"
      ],
      "execution_count": null,
      "outputs": [
        {
          "output_type": "execute_result",
          "data": {
            "text/html": [
              "<div>\n",
              "<style scoped>\n",
              "    .dataframe tbody tr th:only-of-type {\n",
              "        vertical-align: middle;\n",
              "    }\n",
              "\n",
              "    .dataframe tbody tr th {\n",
              "        vertical-align: top;\n",
              "    }\n",
              "\n",
              "    .dataframe thead th {\n",
              "        text-align: right;\n",
              "    }\n",
              "</style>\n",
              "<table border=\"1\" class=\"dataframe\">\n",
              "  <thead>\n",
              "    <tr style=\"text-align: right;\">\n",
              "      <th></th>\n",
              "      <th>PRODUCT</th>\n",
              "      <th>DRAW NUMBER</th>\n",
              "      <th>SEQUENCE NUMBER</th>\n",
              "      <th>DRAW DATE</th>\n",
              "      <th>NUMBER DRAWN 1</th>\n",
              "      <th>NUMBER DRAWN 2</th>\n",
              "      <th>NUMBER DRAWN 3</th>\n",
              "      <th>NUMBER DRAWN 4</th>\n",
              "      <th>NUMBER DRAWN 5</th>\n",
              "      <th>NUMBER DRAWN 6</th>\n",
              "      <th>BONUS NUMBER</th>\n",
              "    </tr>\n",
              "  </thead>\n",
              "  <tbody>\n",
              "    <tr>\n",
              "      <th>3662</th>\n",
              "      <td>649</td>\n",
              "      <td>3589</td>\n",
              "      <td>0</td>\n",
              "      <td>6/13/2018</td>\n",
              "      <td>6</td>\n",
              "      <td>22</td>\n",
              "      <td>24</td>\n",
              "      <td>31</td>\n",
              "      <td>32</td>\n",
              "      <td>34</td>\n",
              "      <td>16</td>\n",
              "    </tr>\n",
              "    <tr>\n",
              "      <th>3663</th>\n",
              "      <td>649</td>\n",
              "      <td>3590</td>\n",
              "      <td>0</td>\n",
              "      <td>6/16/2018</td>\n",
              "      <td>2</td>\n",
              "      <td>15</td>\n",
              "      <td>21</td>\n",
              "      <td>31</td>\n",
              "      <td>38</td>\n",
              "      <td>49</td>\n",
              "      <td>8</td>\n",
              "    </tr>\n",
              "    <tr>\n",
              "      <th>3664</th>\n",
              "      <td>649</td>\n",
              "      <td>3591</td>\n",
              "      <td>0</td>\n",
              "      <td>6/20/2018</td>\n",
              "      <td>14</td>\n",
              "      <td>24</td>\n",
              "      <td>31</td>\n",
              "      <td>35</td>\n",
              "      <td>37</td>\n",
              "      <td>48</td>\n",
              "      <td>17</td>\n",
              "    </tr>\n",
              "  </tbody>\n",
              "</table>\n",
              "</div>"
            ],
            "text/plain": [
              "      PRODUCT  DRAW NUMBER  ...  NUMBER DRAWN 6 BONUS NUMBER\n",
              "3662      649         3589  ...              34           16\n",
              "3663      649         3590  ...              49            8\n",
              "3664      649         3591  ...              48           17\n",
              "\n",
              "[3 rows x 11 columns]"
            ]
          },
          "metadata": {
            "tags": []
          },
          "execution_count": 8
        }
      ]
    },
    {
      "cell_type": "code",
      "metadata": {
        "id": "bYIQG9ox132b",
        "colab": {
          "base_uri": "https://localhost:8080/"
        },
        "outputId": "9dcec92a-058c-411e-e030-a70a57b444b9"
      },
      "source": [
        "# count number of rows and columns\n",
        "df.shape"
      ],
      "execution_count": null,
      "outputs": [
        {
          "output_type": "execute_result",
          "data": {
            "text/plain": [
              "(3665, 11)"
            ]
          },
          "metadata": {
            "tags": []
          },
          "execution_count": 9
        }
      ]
    },
    {
      "cell_type": "markdown",
      "metadata": {
        "id": "yQCzxn2vCl6E"
      },
      "source": [
        "## Function for Historical Data Check\n",
        "The engineering team tells us that we need to write a function that can help users determine whether they would have ever won by now using a certain combination of six numbers. These are the details we'll need to be aware of:\n",
        "\n",
        "* Inside the app, the user inputs six different numbers from 1 to 49.\n",
        "* Under the hood, the six numbers will come as a Python list and serve as an input to our function.\n",
        "* The engineering team wants us to write a function that prints:\n",
        "     * the number of times the combination selected occurred; and\n",
        "     * the probability of winning the big prize in the next drawing with that combination.\n",
        "\n",
        "We're going to begin by extracting all the winning numbers from the lottery data set. The extract_numbers() function will go over each row of the dataframe and extract the six winning numbers as a Python set."
      ]
    },
    {
      "cell_type": "code",
      "metadata": {
        "id": "VBT1LjiB6fwL",
        "colab": {
          "base_uri": "https://localhost:8080/"
        },
        "outputId": "1afe94cc-f812-4de2-c106-b3d09105095b"
      },
      "source": [
        "def extract_numbers(df):\n",
        "  '''Takes as input a row of the lottery dataframe and returns a set containing all the six winning numbers\n",
        "  df: input dataframe of winning lottery numbers\n",
        "  '''\n",
        "  s = {df[\"NUMBER DRAWN 1\"], df[\"NUMBER DRAWN 2\"], df[\"NUMBER DRAWN 3\"], df[\"NUMBER DRAWN 4\"], df[\"NUMBER DRAWN 5\"], df[\"NUMBER DRAWN 6\"]}\n",
        "  return s\n",
        "\n",
        "historical_numbers = df.apply(extract_numbers, 1)\n",
        "historical_numbers"
      ],
      "execution_count": null,
      "outputs": [
        {
          "output_type": "execute_result",
          "data": {
            "text/plain": [
              "0        {3, 41, 11, 12, 43, 14}\n",
              "1        {33, 36, 37, 39, 8, 41}\n",
              "2         {1, 6, 39, 23, 24, 27}\n",
              "3         {3, 9, 10, 43, 13, 20}\n",
              "4        {34, 5, 14, 47, 21, 31}\n",
              "                  ...           \n",
              "3660    {38, 40, 41, 10, 15, 23}\n",
              "3661    {36, 46, 47, 19, 25, 31}\n",
              "3662     {32, 34, 6, 22, 24, 31}\n",
              "3663     {2, 38, 15, 49, 21, 31}\n",
              "3664    {35, 37, 14, 48, 24, 31}\n",
              "Length: 3665, dtype: object"
            ]
          },
          "metadata": {
            "tags": []
          },
          "execution_count": 33
        }
      ]
    },
    {
      "cell_type": "markdown",
      "metadata": {
        "id": "Aye4iWv8DMJ3"
      },
      "source": [
        "Below, we write the check_historical_occurrence() function that takes in the user numbers and the historical numbers and prints information with respect to the number of occurrences and the probability of winning in the next drawing."
      ]
    },
    {
      "cell_type": "code",
      "metadata": {
        "id": "hSEsNLkt8u9O"
      },
      "source": [
        "def check_historical_occurrence(l,historical_numbers):\n",
        "  '''Takes input list of 6 numbers and checks to see how many times those \n",
        "  numbers have won in the past.\n",
        "  l: list of 6 numbers\n",
        "  historical_numbers: series of numbers that have won in the past\n",
        "  '''\n",
        "  bool_set = set(l) == historical_numbers\n",
        "  total_wins = bool_set.sum()\n",
        "  print(f\"The input numbers have won {total_wins} times in the past.\")"
      ],
      "execution_count": null,
      "outputs": []
    },
    {
      "cell_type": "code",
      "metadata": {
        "colab": {
          "base_uri": "https://localhost:8080/"
        },
        "id": "jSH7sgIKMsjV",
        "outputId": "6d9eaf94-a93c-4648-ef4a-5cdec881db88"
      },
      "source": [
        "test_input_3 = [33, 36, 37, 39, 8, 41]\n",
        "check_historical_occurrence(test_input_3, historical_numbers)"
      ],
      "execution_count": null,
      "outputs": [
        {
          "output_type": "stream",
          "text": [
            "The input numbers have won 1 times in the past.\n"
          ],
          "name": "stdout"
        }
      ]
    },
    {
      "cell_type": "code",
      "metadata": {
        "colab": {
          "base_uri": "https://localhost:8080/"
        },
        "id": "ZEIJ_YfMMtyl",
        "outputId": "5feb430f-0c23-409e-8649-a54381ab4ee7"
      },
      "source": [
        "test_input_4 = [3, 2, 44, 22, 1, 44]\n",
        "check_historical_occurrence(test_input_4, historical_numbers)"
      ],
      "execution_count": null,
      "outputs": [
        {
          "output_type": "stream",
          "text": [
            "The input numbers have won 0 times in the past.\n"
          ],
          "name": "stdout"
        }
      ]
    },
    {
      "cell_type": "markdown",
      "metadata": {
        "id": "DOoA91BUNFLh"
      },
      "source": [
        "## Multi-ticket Probability\n",
        "For the first version of the app, users should also be able to find the probability of winning if they play multiple different tickets. For instance, someone might intend to play 15 different tickets and they want to know the probability of winning the big prize.\n",
        "\n",
        "The engineering team wants us to be aware of the following details when we're writing the function:\n",
        "\n",
        "* The user will input the number of different tickets they want to play (without inputting the specific combinations they intend to play).\n",
        "* Our function will see an integer between 1 and 13,983,816 (the maximum number of different tickets).\n",
        "* The function should print information about the probability of winning the big prize depending on the number of different tickets played.\n",
        "\n",
        "The multi_ticket_probability() function below takes in the number of tickets and prints probability information depending on the input."
      ]
    },
    {
      "cell_type": "code",
      "metadata": {
        "id": "qkD-I7-zNxkC"
      },
      "source": [
        "def multi_ticket_probability(num_tickets):\n",
        "  '''Calculates the probability of winning based on purchasing the input number \n",
        "  of tickets.\n",
        "  num_tickets: number of tickets purchased\n",
        "  '''\n",
        "  outcomes = combinations(49, 6)\n",
        "  p = num_tickets / outcomes\n",
        "  percentage = p*100\n",
        "  x = str(Fraction(p))\n",
        "  y = str(Fraction(0.25))\n",
        "  combinations_simplified = round(outcomes / num_tickets)\n",
        "  print(\"You have a {:.6f}% chance of winning. In other words, you have a 1 in {:,} chance of winning.\".format(percentage, combinations_simplified))"
      ],
      "execution_count": null,
      "outputs": []
    },
    {
      "cell_type": "code",
      "metadata": {
        "id": "KsN-Cyl_R0i1",
        "colab": {
          "base_uri": "https://localhost:8080/"
        },
        "outputId": "1bbd3cc0-8820-40f5-df23-2f79a59d2bd7"
      },
      "source": [
        "multi_ticket_probability(num_tickets=1)"
      ],
      "execution_count": null,
      "outputs": [
        {
          "output_type": "stream",
          "text": [
            "You have a 0.000007% chance of winning. In other words, you have a 1 in 13,983,816 chance of winning.\n"
          ],
          "name": "stdout"
        }
      ]
    },
    {
      "cell_type": "code",
      "metadata": {
        "id": "1XiEoIpXS4Rt",
        "colab": {
          "base_uri": "https://localhost:8080/"
        },
        "outputId": "6498c720-b6a0-4317-f9db-a8ee205bbba2"
      },
      "source": [
        "multi_ticket_probability(num_tickets=10)"
      ],
      "execution_count": null,
      "outputs": [
        {
          "output_type": "stream",
          "text": [
            "You have a 0.000072% chance of winning. In other words, you have a 1 in 1,398,382 chance of winning.\n"
          ],
          "name": "stdout"
        }
      ]
    },
    {
      "cell_type": "code",
      "metadata": {
        "id": "wiK-ZrM1S4j6"
      },
      "source": [
        "multi_ticket_probability(num_tickets=100)"
      ],
      "execution_count": null,
      "outputs": []
    },
    {
      "cell_type": "code",
      "metadata": {
        "id": "NiC1j3x-S6Fo",
        "colab": {
          "base_uri": "https://localhost:8080/"
        },
        "outputId": "d8bef2ad-d720-461a-9121-08cde06591d9"
      },
      "source": [
        "multi_ticket_probability(num_tickets=10000)"
      ],
      "execution_count": null,
      "outputs": [
        {
          "output_type": "stream",
          "text": [
            "You have a 0.071511% chance of winning. In other words, you have a 1 in 1,398 chance of winning.\n"
          ],
          "name": "stdout"
        }
      ]
    },
    {
      "cell_type": "code",
      "metadata": {
        "id": "XgkIT9bmS6gB",
        "colab": {
          "base_uri": "https://localhost:8080/"
        },
        "outputId": "188f29ed-1f00-41d7-a0a7-9dc7f30870da"
      },
      "source": [
        "multi_ticket_probability(num_tickets=1000000)"
      ],
      "execution_count": null,
      "outputs": [
        {
          "output_type": "stream",
          "text": [
            "You have a 7.151124% chance of winning. In other words, you have a 1 in 14 chance of winning.\n"
          ],
          "name": "stdout"
        }
      ]
    },
    {
      "cell_type": "code",
      "metadata": {
        "id": "R_hr8mfgS6np",
        "colab": {
          "base_uri": "https://localhost:8080/"
        },
        "outputId": "37f79193-0dc1-4adb-a19a-502baca455c6"
      },
      "source": [
        "multi_ticket_probability(num_tickets=6991908)"
      ],
      "execution_count": null,
      "outputs": [
        {
          "output_type": "stream",
          "text": [
            "You have a 50.000000% chance of winning. In other words, you have a 1 in 2 chance of winning.\n"
          ],
          "name": "stdout"
        }
      ]
    },
    {
      "cell_type": "code",
      "metadata": {
        "id": "_nu0XgI4S6tL",
        "colab": {
          "base_uri": "https://localhost:8080/"
        },
        "outputId": "50a2fb20-b2c6-43c6-e87e-989c705eca2b"
      },
      "source": [
        "multi_ticket_probability(num_tickets=13983816)"
      ],
      "execution_count": null,
      "outputs": [
        {
          "output_type": "stream",
          "text": [
            "You have a 100.000000% chance of winning. In other words, you have a 1 in 1 chance of winning.\n"
          ],
          "name": "stdout"
        }
      ]
    },
    {
      "cell_type": "markdown",
      "metadata": {
        "id": "cVDTGBK2zW4r"
      },
      "source": [
        "## Less Winning Numbers — Function\n",
        "In most 6/49 lotteries, there are smaller prizes if a player's ticket match two, three, four, or five of the six numbers drawn. This means that players might be interested in finding out the probability of having two, three, four, or five winning numbers — for the first version of the app, users should be able to find those probabilities.\n",
        "\n",
        "These are the details we need to be aware of when we write a function to make the calculations of those probabilities possible:\n",
        "\n",
        "* Inside the app, the user inputs:\n",
        "  * six different numbers from 1 to 49; and\n",
        "  * an integer between 2 and 5 that represents the number of winning numbers expected\n",
        "* Our function prints information about the probability of having a certain number of winning numbers\n",
        "\n",
        "To calculate the probabilities, we tell the engineering team that the specific combination on the ticket is irrelevant and we only need the integer between 2 and 5 representing the number of winning numbers expected. Consequently, we will write a function named probability_less_6() which takes in an integer and prints information about the chances of winning depending on the value of that integer.\n",
        "\n",
        "The function below calculates the probability that a player's ticket matches exactly the given number of winning numbers. If the player wants to find out the probability of having five winning numbers, the function will return the probability of having five winning numbers exactly (no more and no less). The function will not return the probability of having at least five winning numbers."
      ]
    },
    {
      "cell_type": "code",
      "metadata": {
        "id": "8LjjpPXpnaM6"
      },
      "source": [
        "def probability_less_6(k):\n",
        "  '''Calculates the probability of winning a prize with fewer than 6 winning \n",
        "  numbers.\n",
        "  k: integer between 2 and 5\n",
        "  '''\n",
        "  # there are c combinations of k numbers\n",
        "  c_ticket = combinations(6, k)\n",
        "  c_remaining = combinations(43, 6-k)\n",
        "  possible_successful = c_ticket * c_remaining\n",
        "  \n",
        "  c_total = combinations(49, 6)\n",
        "  # divide possible successful outcomes by total outcomes (the result of \"49 choose 6\") to get the probability of having exactly k winning numbers\n",
        "  p = possible_successful / c_total\n",
        "  simplified = round(c_total / possible_successful)\n",
        "  print('''Your chances of having {} winning numbers with this ticket are {:.6f}%.\n",
        "In other words, you have a 1 in {:,} chances to win.'''.format(k, p * 100, int(simplified)))"
      ],
      "execution_count": null,
      "outputs": []
    },
    {
      "cell_type": "markdown",
      "metadata": {
        "id": "YgcBkiPVSBgK"
      },
      "source": [
        "\n",
        "Now, let's test the function on all the three possible inputs."
      ]
    },
    {
      "cell_type": "code",
      "metadata": {
        "colab": {
          "base_uri": "https://localhost:8080/"
        },
        "id": "XL7_RbDg3PfH",
        "outputId": "4b909181-dec9-411b-b522-06b3cd632554"
      },
      "source": [
        "probability_less_6(5)"
      ],
      "execution_count": null,
      "outputs": [
        {
          "output_type": "stream",
          "text": [
            "Your chances of having 5 winning numbers with this ticket are 0.001845%.\n",
            "In other words, you have a 1 in 54,201 chances to win.\n"
          ],
          "name": "stdout"
        }
      ]
    },
    {
      "cell_type": "code",
      "metadata": {
        "colab": {
          "base_uri": "https://localhost:8080/"
        },
        "id": "bbLCFOox_rKh",
        "outputId": "8f6c2122-4305-4370-961c-c67356c04dde"
      },
      "source": [
        "probability_less_6(4)"
      ],
      "execution_count": null,
      "outputs": [
        {
          "output_type": "stream",
          "text": [
            "Your chances of having 4 winning numbers with this ticket are 0.096862%.\n",
            "In other words, you have a 1 in 1,032 chances to win.\n"
          ],
          "name": "stdout"
        }
      ]
    },
    {
      "cell_type": "code",
      "metadata": {
        "colab": {
          "base_uri": "https://localhost:8080/"
        },
        "id": "pAWqiwub_rlJ",
        "outputId": "544e829c-2388-49fc-8fe2-6e55a387167d"
      },
      "source": [
        "probability_less_6(3)"
      ],
      "execution_count": null,
      "outputs": [
        {
          "output_type": "stream",
          "text": [
            "Your chances of having 3 winning numbers with this ticket are 1.765040%.\n",
            "In other words, you have a 1 in 57 chances to win.\n"
          ],
          "name": "stdout"
        }
      ]
    },
    {
      "cell_type": "code",
      "metadata": {
        "colab": {
          "base_uri": "https://localhost:8080/"
        },
        "id": "r3aMdOIq_rxW",
        "outputId": "d5e791df-91cb-4038-b097-47be72187d41"
      },
      "source": [
        "probability_less_6(2)"
      ],
      "execution_count": null,
      "outputs": [
        {
          "output_type": "stream",
          "text": [
            "Your chances of having 2 winning numbers with this ticket are 13.237803%.\n",
            "In other words, you have a 1 in 8 chances to win.\n"
          ],
          "name": "stdout"
        }
      ]
    },
    {
      "cell_type": "markdown",
      "metadata": {
        "id": "zmun0EGOHcNa"
      },
      "source": [
        "## Conculsion\n",
        "In conclusion, we can see that the probablity of winning the lottery is extremely low, so it would not be wise to invest a large amount of money in lottery tickets. Hopefully the mobile app will help gambling addicts see the facts and reduce risky behavior."
      ]
    }
  ]
}