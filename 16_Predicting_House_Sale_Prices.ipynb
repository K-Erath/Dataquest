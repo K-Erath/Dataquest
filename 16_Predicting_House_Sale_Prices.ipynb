{
  "nbformat": 4,
  "nbformat_minor": 0,
  "metadata": {
    "colab": {
      "provenance": [],
      "toc_visible": true,
      "authorship_tag": "ABX9TyMvlgB5qdpcuKYFPIfjHtZq",
      "include_colab_link": true
    },
    "kernelspec": {
      "name": "python3",
      "display_name": "Python 3"
    },
    "language_info": {
      "name": "python"
    }
  },
  "cells": [
    {
      "cell_type": "markdown",
      "metadata": {
        "id": "view-in-github",
        "colab_type": "text"
      },
      "source": [
        "<a href=\"https://colab.research.google.com/github/K-Erath/Dataquest/blob/master/16_Predicting_House_Sale_Prices.ipynb\" target=\"_parent\"><img src=\"https://colab.research.google.com/assets/colab-badge.svg\" alt=\"Open In Colab\"/></a>"
      ]
    },
    {
      "cell_type": "markdown",
      "source": [
        "# Predicting House Sale Prices\n",
        "In this project we will explore ways to improve models, build intuition for model based learning, explore linear regression, understand different approaches to model fitting, and use techniques for cleaning transforming and selecting features. \n",
        "\n",
        "We will work with the city of Ames, Iowa from 2006 to 2010.You can read more about how the data was collected [here](https://www.tandfonline.com/doi/abs/10.1080/10691898.2011.11889627). We will become more familiar with the columns by reading the data [documentation](https://s3.amazonaws.com/dq-content/307/data_description.txt). This will help us determine what data transformations (if any) are necessary. Succeeding in predictive modeling is highly dependent on the quality of features the model has. Libraries like scikit-learn have made it quick and easy to simply try and tweak many different models, but cleaning, selecting, and transforming features are still more of an art that requires a bit of human ingenuity.\n",
        "\n",
        "We will start by setting up a pipeline of functions that will let us quickly iterate on different models. \n",
        "\n",
        "![img_01](content/drive/MyDrive/Training/Dataquest - Data Scientist in Python/Step 7 Machine Learning Fundamentals/04 Linear Regression for Machine Learning/GuidedProject_PredictingHouseSalePrices/img_01.png)\n"
      ],
      "metadata": {
        "id": "5XTFOe6Uopzv"
      }
    },
    {
      "cell_type": "markdown",
      "source": [
        "[Solution notebook](https://github.com/dataquestio/solutions/blob/master/Mission240Solutions.ipynb)\n",
        "\n",
        "[Community](https://community.dataquest.io/tags/c/share/47/240)"
      ],
      "metadata": {
        "id": "RT9MZMIftZLT"
      }
    },
    {
      "cell_type": "markdown",
      "source": [
        "## Import Modules and Data"
      ],
      "metadata": {
        "id": "8UR2-fAIJ-E9"
      }
    },
    {
      "cell_type": "code",
      "execution_count": 1,
      "metadata": {
        "id": "MbCoe48Dm6no"
      },
      "outputs": [],
      "source": [
        "import pandas as pd\n",
        "import numpy as np\n",
        "import matplotlib.pyplot as plt\n",
        "from sklearn.linear_model import LinearRegression\n",
        "from sklearn.metrics import mean_squared_error\n",
        "from sklearn.utils import shuffle\n",
        "from math import sqrt\n",
        "import datetime\n",
        "from sklearn.model_selection import cross_val_score, KFold\n",
        "import seaborn as sns\n",
        "from sklearn.feature_selection import SelectKBest\n",
        "from sklearn.feature_selection import f_classif"
      ]
    },
    {
      "cell_type": "code",
      "source": [
        "!python --version"
      ],
      "metadata": {
        "colab": {
          "base_uri": "https://localhost:8080/"
        },
        "id": "UKDJAiSgV84P",
        "outputId": "a05239e1-8321-4d86-c55a-bee74cbba195"
      },
      "execution_count": 2,
      "outputs": [
        {
          "output_type": "stream",
          "name": "stdout",
          "text": [
            "Python 3.7.15\n"
          ]
        }
      ]
    },
    {
      "cell_type": "code",
      "source": [
        "pd.__version__"
      ],
      "metadata": {
        "id": "f-02r2d7X9Uq",
        "colab": {
          "base_uri": "https://localhost:8080/",
          "height": 35
        },
        "outputId": "4fc715a1-977c-4586-cde1-04e4fbb9db35"
      },
      "execution_count": 3,
      "outputs": [
        {
          "output_type": "execute_result",
          "data": {
            "text/plain": [
              "'1.3.5'"
            ],
            "application/vnd.google.colaboratory.intrinsic+json": {
              "type": "string"
            }
          },
          "metadata": {},
          "execution_count": 3
        }
      ]
    },
    {
      "cell_type": "code",
      "source": [
        "from google.colab import drive\n",
        "\n",
        "drive.mount('/content/gdrive/', force_remount=True)"
      ],
      "metadata": {
        "colab": {
          "base_uri": "https://localhost:8080/"
        },
        "id": "zeHRKpSRlk5c",
        "outputId": "d6713654-9478-4569-9417-85d4046ebab1"
      },
      "execution_count": 4,
      "outputs": [
        {
          "output_type": "stream",
          "name": "stdout",
          "text": [
            "Mounted at /content/gdrive/\n"
          ]
        }
      ]
    },
    {
      "cell_type": "code",
      "source": [
        "%cd gdrive/MyDrive/Training/Dataquest-DataScientistPython/Step-7-Machine-Learning-Fundamentals/04-Linear-Regression-for-Machine-Learning/GuidedProject_PredictingHouseSalePrices"
      ],
      "metadata": {
        "colab": {
          "base_uri": "https://localhost:8080/"
        },
        "id": "FnA9DvErqsP3",
        "outputId": "82dc8644-67eb-4e93-9be9-57b89f7a0a28"
      },
      "execution_count": 5,
      "outputs": [
        {
          "output_type": "stream",
          "name": "stdout",
          "text": [
            "/content/gdrive/MyDrive/Training/Dataquest-DataScientistPython/Step-7-Machine-Learning-Fundamentals/04-Linear-Regression-for-Machine-Learning/GuidedProject_PredictingHouseSalePrices\n"
          ]
        }
      ]
    },
    {
      "cell_type": "code",
      "source": [
        "csv = \"AmesHousing.tsv\"\n",
        "\n",
        "ames_df = pd.read_csv(csv, delimiter=\"\\t\")\n",
        "ames_df.head()"
      ],
      "metadata": {
        "colab": {
          "base_uri": "https://localhost:8080/",
          "height": 297
        },
        "id": "7mvJ3dZ3xgqc",
        "outputId": "d3036ada-6c26-4cc1-c3ee-634876e5b05e"
      },
      "execution_count": 6,
      "outputs": [
        {
          "output_type": "execute_result",
          "data": {
            "text/plain": [
              "   Order        PID  MS SubClass MS Zoning  Lot Frontage  Lot Area Street  \\\n",
              "0      1  526301100           20        RL         141.0     31770   Pave   \n",
              "1      2  526350040           20        RH          80.0     11622   Pave   \n",
              "2      3  526351010           20        RL          81.0     14267   Pave   \n",
              "3      4  526353030           20        RL          93.0     11160   Pave   \n",
              "4      5  527105010           60        RL          74.0     13830   Pave   \n",
              "\n",
              "  Alley Lot Shape Land Contour  ... Pool Area Pool QC  Fence Misc Feature  \\\n",
              "0   NaN       IR1          Lvl  ...         0     NaN    NaN          NaN   \n",
              "1   NaN       Reg          Lvl  ...         0     NaN  MnPrv          NaN   \n",
              "2   NaN       IR1          Lvl  ...         0     NaN    NaN         Gar2   \n",
              "3   NaN       Reg          Lvl  ...         0     NaN    NaN          NaN   \n",
              "4   NaN       IR1          Lvl  ...         0     NaN  MnPrv          NaN   \n",
              "\n",
              "  Misc Val Mo Sold Yr Sold Sale Type  Sale Condition  SalePrice  \n",
              "0        0       5    2010       WD           Normal     215000  \n",
              "1        0       6    2010       WD           Normal     105000  \n",
              "2    12500       6    2010       WD           Normal     172000  \n",
              "3        0       4    2010       WD           Normal     244000  \n",
              "4        0       3    2010       WD           Normal     189900  \n",
              "\n",
              "[5 rows x 82 columns]"
            ],
            "text/html": [
              "\n",
              "  <div id=\"df-398dbaab-ac25-47f8-ade5-2930f7f25d2b\">\n",
              "    <div class=\"colab-df-container\">\n",
              "      <div>\n",
              "<style scoped>\n",
              "    .dataframe tbody tr th:only-of-type {\n",
              "        vertical-align: middle;\n",
              "    }\n",
              "\n",
              "    .dataframe tbody tr th {\n",
              "        vertical-align: top;\n",
              "    }\n",
              "\n",
              "    .dataframe thead th {\n",
              "        text-align: right;\n",
              "    }\n",
              "</style>\n",
              "<table border=\"1\" class=\"dataframe\">\n",
              "  <thead>\n",
              "    <tr style=\"text-align: right;\">\n",
              "      <th></th>\n",
              "      <th>Order</th>\n",
              "      <th>PID</th>\n",
              "      <th>MS SubClass</th>\n",
              "      <th>MS Zoning</th>\n",
              "      <th>Lot Frontage</th>\n",
              "      <th>Lot Area</th>\n",
              "      <th>Street</th>\n",
              "      <th>Alley</th>\n",
              "      <th>Lot Shape</th>\n",
              "      <th>Land Contour</th>\n",
              "      <th>...</th>\n",
              "      <th>Pool Area</th>\n",
              "      <th>Pool QC</th>\n",
              "      <th>Fence</th>\n",
              "      <th>Misc Feature</th>\n",
              "      <th>Misc Val</th>\n",
              "      <th>Mo Sold</th>\n",
              "      <th>Yr Sold</th>\n",
              "      <th>Sale Type</th>\n",
              "      <th>Sale Condition</th>\n",
              "      <th>SalePrice</th>\n",
              "    </tr>\n",
              "  </thead>\n",
              "  <tbody>\n",
              "    <tr>\n",
              "      <th>0</th>\n",
              "      <td>1</td>\n",
              "      <td>526301100</td>\n",
              "      <td>20</td>\n",
              "      <td>RL</td>\n",
              "      <td>141.0</td>\n",
              "      <td>31770</td>\n",
              "      <td>Pave</td>\n",
              "      <td>NaN</td>\n",
              "      <td>IR1</td>\n",
              "      <td>Lvl</td>\n",
              "      <td>...</td>\n",
              "      <td>0</td>\n",
              "      <td>NaN</td>\n",
              "      <td>NaN</td>\n",
              "      <td>NaN</td>\n",
              "      <td>0</td>\n",
              "      <td>5</td>\n",
              "      <td>2010</td>\n",
              "      <td>WD</td>\n",
              "      <td>Normal</td>\n",
              "      <td>215000</td>\n",
              "    </tr>\n",
              "    <tr>\n",
              "      <th>1</th>\n",
              "      <td>2</td>\n",
              "      <td>526350040</td>\n",
              "      <td>20</td>\n",
              "      <td>RH</td>\n",
              "      <td>80.0</td>\n",
              "      <td>11622</td>\n",
              "      <td>Pave</td>\n",
              "      <td>NaN</td>\n",
              "      <td>Reg</td>\n",
              "      <td>Lvl</td>\n",
              "      <td>...</td>\n",
              "      <td>0</td>\n",
              "      <td>NaN</td>\n",
              "      <td>MnPrv</td>\n",
              "      <td>NaN</td>\n",
              "      <td>0</td>\n",
              "      <td>6</td>\n",
              "      <td>2010</td>\n",
              "      <td>WD</td>\n",
              "      <td>Normal</td>\n",
              "      <td>105000</td>\n",
              "    </tr>\n",
              "    <tr>\n",
              "      <th>2</th>\n",
              "      <td>3</td>\n",
              "      <td>526351010</td>\n",
              "      <td>20</td>\n",
              "      <td>RL</td>\n",
              "      <td>81.0</td>\n",
              "      <td>14267</td>\n",
              "      <td>Pave</td>\n",
              "      <td>NaN</td>\n",
              "      <td>IR1</td>\n",
              "      <td>Lvl</td>\n",
              "      <td>...</td>\n",
              "      <td>0</td>\n",
              "      <td>NaN</td>\n",
              "      <td>NaN</td>\n",
              "      <td>Gar2</td>\n",
              "      <td>12500</td>\n",
              "      <td>6</td>\n",
              "      <td>2010</td>\n",
              "      <td>WD</td>\n",
              "      <td>Normal</td>\n",
              "      <td>172000</td>\n",
              "    </tr>\n",
              "    <tr>\n",
              "      <th>3</th>\n",
              "      <td>4</td>\n",
              "      <td>526353030</td>\n",
              "      <td>20</td>\n",
              "      <td>RL</td>\n",
              "      <td>93.0</td>\n",
              "      <td>11160</td>\n",
              "      <td>Pave</td>\n",
              "      <td>NaN</td>\n",
              "      <td>Reg</td>\n",
              "      <td>Lvl</td>\n",
              "      <td>...</td>\n",
              "      <td>0</td>\n",
              "      <td>NaN</td>\n",
              "      <td>NaN</td>\n",
              "      <td>NaN</td>\n",
              "      <td>0</td>\n",
              "      <td>4</td>\n",
              "      <td>2010</td>\n",
              "      <td>WD</td>\n",
              "      <td>Normal</td>\n",
              "      <td>244000</td>\n",
              "    </tr>\n",
              "    <tr>\n",
              "      <th>4</th>\n",
              "      <td>5</td>\n",
              "      <td>527105010</td>\n",
              "      <td>60</td>\n",
              "      <td>RL</td>\n",
              "      <td>74.0</td>\n",
              "      <td>13830</td>\n",
              "      <td>Pave</td>\n",
              "      <td>NaN</td>\n",
              "      <td>IR1</td>\n",
              "      <td>Lvl</td>\n",
              "      <td>...</td>\n",
              "      <td>0</td>\n",
              "      <td>NaN</td>\n",
              "      <td>MnPrv</td>\n",
              "      <td>NaN</td>\n",
              "      <td>0</td>\n",
              "      <td>3</td>\n",
              "      <td>2010</td>\n",
              "      <td>WD</td>\n",
              "      <td>Normal</td>\n",
              "      <td>189900</td>\n",
              "    </tr>\n",
              "  </tbody>\n",
              "</table>\n",
              "<p>5 rows × 82 columns</p>\n",
              "</div>\n",
              "      <button class=\"colab-df-convert\" onclick=\"convertToInteractive('df-398dbaab-ac25-47f8-ade5-2930f7f25d2b')\"\n",
              "              title=\"Convert this dataframe to an interactive table.\"\n",
              "              style=\"display:none;\">\n",
              "        \n",
              "  <svg xmlns=\"http://www.w3.org/2000/svg\" height=\"24px\"viewBox=\"0 0 24 24\"\n",
              "       width=\"24px\">\n",
              "    <path d=\"M0 0h24v24H0V0z\" fill=\"none\"/>\n",
              "    <path d=\"M18.56 5.44l.94 2.06.94-2.06 2.06-.94-2.06-.94-.94-2.06-.94 2.06-2.06.94zm-11 1L8.5 8.5l.94-2.06 2.06-.94-2.06-.94L8.5 2.5l-.94 2.06-2.06.94zm10 10l.94 2.06.94-2.06 2.06-.94-2.06-.94-.94-2.06-.94 2.06-2.06.94z\"/><path d=\"M17.41 7.96l-1.37-1.37c-.4-.4-.92-.59-1.43-.59-.52 0-1.04.2-1.43.59L10.3 9.45l-7.72 7.72c-.78.78-.78 2.05 0 2.83L4 21.41c.39.39.9.59 1.41.59.51 0 1.02-.2 1.41-.59l7.78-7.78 2.81-2.81c.8-.78.8-2.07 0-2.86zM5.41 20L4 18.59l7.72-7.72 1.47 1.35L5.41 20z\"/>\n",
              "  </svg>\n",
              "      </button>\n",
              "      \n",
              "  <style>\n",
              "    .colab-df-container {\n",
              "      display:flex;\n",
              "      flex-wrap:wrap;\n",
              "      gap: 12px;\n",
              "    }\n",
              "\n",
              "    .colab-df-convert {\n",
              "      background-color: #E8F0FE;\n",
              "      border: none;\n",
              "      border-radius: 50%;\n",
              "      cursor: pointer;\n",
              "      display: none;\n",
              "      fill: #1967D2;\n",
              "      height: 32px;\n",
              "      padding: 0 0 0 0;\n",
              "      width: 32px;\n",
              "    }\n",
              "\n",
              "    .colab-df-convert:hover {\n",
              "      background-color: #E2EBFA;\n",
              "      box-shadow: 0px 1px 2px rgba(60, 64, 67, 0.3), 0px 1px 3px 1px rgba(60, 64, 67, 0.15);\n",
              "      fill: #174EA6;\n",
              "    }\n",
              "\n",
              "    [theme=dark] .colab-df-convert {\n",
              "      background-color: #3B4455;\n",
              "      fill: #D2E3FC;\n",
              "    }\n",
              "\n",
              "    [theme=dark] .colab-df-convert:hover {\n",
              "      background-color: #434B5C;\n",
              "      box-shadow: 0px 1px 3px 1px rgba(0, 0, 0, 0.15);\n",
              "      filter: drop-shadow(0px 1px 2px rgba(0, 0, 0, 0.3));\n",
              "      fill: #FFFFFF;\n",
              "    }\n",
              "  </style>\n",
              "\n",
              "      <script>\n",
              "        const buttonEl =\n",
              "          document.querySelector('#df-398dbaab-ac25-47f8-ade5-2930f7f25d2b button.colab-df-convert');\n",
              "        buttonEl.style.display =\n",
              "          google.colab.kernel.accessAllowed ? 'block' : 'none';\n",
              "\n",
              "        async function convertToInteractive(key) {\n",
              "          const element = document.querySelector('#df-398dbaab-ac25-47f8-ade5-2930f7f25d2b');\n",
              "          const dataTable =\n",
              "            await google.colab.kernel.invokeFunction('convertToInteractive',\n",
              "                                                     [key], {});\n",
              "          if (!dataTable) return;\n",
              "\n",
              "          const docLinkHtml = 'Like what you see? Visit the ' +\n",
              "            '<a target=\"_blank\" href=https://colab.research.google.com/notebooks/data_table.ipynb>data table notebook</a>'\n",
              "            + ' to learn more about interactive tables.';\n",
              "          element.innerHTML = '';\n",
              "          dataTable['output_type'] = 'display_data';\n",
              "          await google.colab.output.renderOutput(dataTable, element);\n",
              "          const docLink = document.createElement('div');\n",
              "          docLink.innerHTML = docLinkHtml;\n",
              "          element.appendChild(docLink);\n",
              "        }\n",
              "      </script>\n",
              "    </div>\n",
              "  </div>\n",
              "  "
            ]
          },
          "metadata": {},
          "execution_count": 6
        }
      ]
    },
    {
      "cell_type": "code",
      "source": [
        "ames_df.shape"
      ],
      "metadata": {
        "colab": {
          "base_uri": "https://localhost:8080/"
        },
        "id": "4Jx4jmPtyTPy",
        "outputId": "48f8b13e-6e1c-4412-9ccf-531f4131e690"
      },
      "execution_count": 7,
      "outputs": [
        {
          "output_type": "execute_result",
          "data": {
            "text/plain": [
              "(2930, 82)"
            ]
          },
          "metadata": {},
          "execution_count": 7
        }
      ]
    },
    {
      "cell_type": "markdown",
      "source": [
        "## First Draft Model\n",
        "These initial functions will be updated throughout the project as we improve the model."
      ],
      "metadata": {
        "id": "6CvRX_RctSlX"
      }
    },
    {
      "cell_type": "code",
      "source": [
        "def transform_features(df):\n",
        "    '''for now return a copy of the dataframe'''\n",
        "    transformed_df = df.copy()\n",
        "    return transformed_df\n",
        "\n",
        "def select_features(df, high_corr_cols=[]):\n",
        "    '''for now return Gr Liv Area and SalePrice columns from the train data frame.'''\n",
        "    if high_corr_cols==[]:\n",
        "        selected_df = df.copy()\n",
        "    else:\n",
        "        selected_df = df[high_corr_cols].copy()\n",
        "    return selected_df\n",
        "\n",
        "def train_and_test(df):\n",
        "    '''\n",
        "    * Selects the first 1460 rows from from data and assign to train.\n",
        "    * Selects the remaining rows from data and assign to test.\n",
        "    * Trains a model using all numerical columns except the SalePrice column (the target column) from the data frame returned from select_features().\n",
        "    * Tests the model on the test set and returns the RMSE value.\n",
        "    '''\n",
        "    # get numeric columns and print warning about non-numeric columns\n",
        "    num_cols = df.select_dtypes(include=np.number).columns.tolist()\n",
        "    non_num_cols = [col for col in df.columns if col not in num_cols]\n",
        "    if len(non_num_cols) > 0:\n",
        "        print(f'WARNING: Non-numeric columns will not be included in the model: {non_num_cols}')\n",
        "\n",
        "    # shuffling a pandas dataframe with sklearn\n",
        "    shuffled_df = shuffle(df, random_state=1)\n",
        "\n",
        "    # split dataframe into train and test\n",
        "    train_df = shuffled_df.iloc[:1460]\n",
        "    test_df = shuffled_df.iloc[1460:]\n",
        "    target_col = 'SalePrice'\n",
        "    features = [col for col in num_cols if col != target_col]\n",
        "\n",
        "    lr = LinearRegression()\n",
        "    x = train_df[features]\n",
        "    y = train_df[target_col]\n",
        "    reg = lr.fit(X=x, y=y)\n",
        "    y_pred_train = reg.predict(x)\n",
        "    y_pred_test = reg.predict(test_df[features])\n",
        "\n",
        "    rmse_train = sqrt(mean_squared_error(\n",
        "        y_true=y,\n",
        "        y_pred=y_pred_train\n",
        "    ))\n",
        "\n",
        "    rmse_test = sqrt(mean_squared_error(\n",
        "        y_true=test_df[target_col],\n",
        "        y_pred=y_pred_test\n",
        "    ))\n",
        "    print(f'Test RMSE: {rmse_test}, Train RMSE: {rmse_train}')\n",
        "    return [rmse_test, rmse_train]"
      ],
      "metadata": {
        "id": "cXXlJ_qF5SOK"
      },
      "execution_count": 8,
      "outputs": []
    },
    {
      "cell_type": "code",
      "source": [
        "transformed_df = transform_features(ames_df)"
      ],
      "metadata": {
        "id": "j1BJ6quTd5wL"
      },
      "execution_count": 9,
      "outputs": []
    },
    {
      "cell_type": "code",
      "source": [
        "# only use two columns for now, if we use all columns we will run into errors because of null values\n",
        "filtered_df = select_features(transformed_df, high_corr_cols=['Gr Liv Area', 'SalePrice'])\n",
        "filtered_df.shape"
      ],
      "metadata": {
        "colab": {
          "base_uri": "https://localhost:8080/"
        },
        "id": "lVJ7yXGXd51B",
        "outputId": "35677d90-aba0-47cc-88f6-d38c70c992c5"
      },
      "execution_count": 10,
      "outputs": [
        {
          "output_type": "execute_result",
          "data": {
            "text/plain": [
              "(2930, 2)"
            ]
          },
          "metadata": {},
          "execution_count": 10
        }
      ]
    },
    {
      "cell_type": "code",
      "source": [
        "rmse = train_and_test(filtered_df)"
      ],
      "metadata": {
        "colab": {
          "base_uri": "https://localhost:8080/"
        },
        "id": "atLjMhUbwpij",
        "outputId": "afe5155c-e603-44ab-c2e1-08c5ecb665a2"
      },
      "execution_count": 11,
      "outputs": [
        {
          "output_type": "stream",
          "name": "stdout",
          "text": [
            "Test RMSE: 55943.34407431997, Train RMSE: 57086.31613271551\n"
          ]
        }
      ]
    },
    {
      "cell_type": "code",
      "source": [
        "results = {'original': rmse}\n",
        "results"
      ],
      "metadata": {
        "colab": {
          "base_uri": "https://localhost:8080/"
        },
        "id": "rp4UbzB9t_Jn",
        "outputId": "42305984-02eb-484e-a5aa-b1fb1244c034"
      },
      "execution_count": 12,
      "outputs": [
        {
          "output_type": "execute_result",
          "data": {
            "text/plain": [
              "{'original': [55943.34407431997, 57086.31613271551]}"
            ]
          },
          "metadata": {},
          "execution_count": 12
        }
      ]
    },
    {
      "cell_type": "markdown",
      "source": [
        "# Feature Engineering\n",
        "Let's now start removing features with many missing values, diving deeper into potential categorical features, and transforming text and numerical columns. \n",
        "\n",
        "#### Remove features that we don't want to use in the model:\n",
        "* Drop any column from the data frame with more than 25% missing values.\n",
        "* Remove columns that are not relevant to machine learning.\n",
        "* Remove any columns that leak information about the sale (e.g. year the sale happened). \n",
        "\n",
        "#### Transorm features into the proper format:\n",
        "* For any column missing 5% or less of its values, fill null values witth he most frequent value.\n",
        "* Numerical to categorical\n",
        "* Text to categorical\n",
        "* Categorical to numerical\n",
        "* Text to numerical\n",
        "* Scaling numerical\n",
        "* Create new features by combining other features.\n",
        "\n",
        "##### **Notes on Data leakage**\n",
        "##### Definition\n",
        "* Any feature whose value would not actually be available in practice at the time you’d want to use the model to make a prediction, is a feature that can introduce leakage to your model.\n",
        "* When the data you are using to train a machine learning algorithm happens to have the information you are trying to predict.\n",
        "\n",
        "##### Problem\n",
        "* You may be creating overly optimistic models that are practically useless and cannot be used in production.\n",
        "* The effect is overfitting your training data and having an overly optimistic evaluation of your models performance on unseen data.\n",
        "\n",
        "##### How to tell?  \n",
        "* An easy way to know you have data leakage is if you are achieving performance that seems a little too good to be true.\n",
        "\n",
        "##### How to minimize?  \n",
        "1. Perform data preparation within your cross validation folds.\n",
        "2. Hold back a validation dataset for final sanity check of your developed models.\n",
        "\n",
        "[source](https://machinelearningmastery.com/data-leakage-machine-learning/)\n"
      ],
      "metadata": {
        "id": "jQu-1rvNKMPN"
      }
    },
    {
      "cell_type": "markdown",
      "source": [
        "### Drop columns that are not relevant to machine learning or that leak information about the sale."
      ],
      "metadata": {
        "id": "s7v3M7M9abhN"
      }
    },
    {
      "cell_type": "code",
      "source": [
        "# drop columns that are not useful for machine learning\n",
        "drop_cols = ['Order', 'PID']\n",
        "# print(f'Dropping columns not useful for machine learning: {drop_cols}')\n",
        "transformed_df = transformed_df.drop(columns=drop_cols)"
      ],
      "metadata": {
        "id": "ybLozEHCejv1"
      },
      "execution_count": 13,
      "outputs": []
    },
    {
      "cell_type": "code",
      "source": [
        "# drop columns that leak information\n",
        "drop_cols = ['Mo Sold', 'Sale Type', 'Sale Condition']\n",
        "# print(f'Dropping columns that leak information: {drop_cols}')\n",
        "transformed_df = transformed_df.drop(columns=drop_cols)"
      ],
      "metadata": {
        "id": "PJNv1yI6enPr"
      },
      "execution_count": 14,
      "outputs": []
    },
    {
      "cell_type": "markdown",
      "source": [
        "### Deal with null values"
      ],
      "metadata": {
        "id": "iTchQQ84aqHR"
      }
    },
    {
      "cell_type": "code",
      "source": [
        "# drop columns where more than 25% of values are missing\n",
        "# total number of rows\n",
        "len_df = transformed_df.shape[0]\n",
        "# count of missing values in each column\n",
        "missing_count = transformed_df.isna().sum()\n",
        "# 25% of rows\n",
        "twentyfive_percent = int(len_df*0.25)\n",
        "# columns to drop\n",
        "drop_cols = missing_count[missing_count > twentyfive_percent].index\n",
        "# drop columns where the missing count is greater than 25%\n",
        "transformed_df = transformed_df.drop(columns=drop_cols)"
      ],
      "metadata": {
        "id": "eYnOuyI6epr0"
      },
      "execution_count": 15,
      "outputs": []
    },
    {
      "cell_type": "code",
      "source": [
        "# For columns that have 5% or less missing values, we will fill in missing values with the most frequent value\n",
        "# 5% of values\n",
        "five_percent = int(len_df*0.05)\n",
        "# filter series by missing less than 5%\n",
        "missing_0_to_5 = missing_count[(missing_count < five_percent) & (missing_count > 0)]\n",
        "# columns to fill with mode\n",
        "cols_to_fill = missing_0_to_5.index\n",
        "# fill na values with mode\n",
        "transformed_df[cols_to_fill] = transformed_df[cols_to_fill].fillna(transformed_df.mode().iloc[0])"
      ],
      "metadata": {
        "id": "uHje_IiUevVf"
      },
      "execution_count": 16,
      "outputs": []
    },
    {
      "cell_type": "code",
      "source": [
        "# find columns that still have missing values\n",
        "missing_count = transformed_df.isna().sum()\n",
        "missing_percent = transformed_df.isna().sum() / len(transformed_df)\n",
        "columns = ['missing_count','missing_percent']\n",
        "missing_df = pd.concat([missing_count,missing_percent], axis=1, keys=columns)\n",
        "missing_df = missing_df[missing_df['missing_percent'] > 0].sort_values('missing_percent', ascending=False)\n",
        "with pd.option_context('display.max_rows', None, 'display.max_columns', None):\n",
        "    print(missing_df)"
      ],
      "metadata": {
        "id": "NnUSt_6DNFgS",
        "colab": {
          "base_uri": "https://localhost:8080/"
        },
        "outputId": "841d0e3b-0ccf-4138-fd94-8ccc4f77e92b"
      },
      "execution_count": 17,
      "outputs": [
        {
          "output_type": "stream",
          "name": "stdout",
          "text": [
            "               missing_count  missing_percent\n",
            "Lot Frontage             490         0.167235\n",
            "Garage Yr Blt            159         0.054266\n",
            "Garage Finish            159         0.054266\n",
            "Garage Qual              159         0.054266\n",
            "Garage Cond              159         0.054266\n",
            "Garage Type              157         0.053584\n"
          ]
        }
      ]
    },
    {
      "cell_type": "code",
      "source": [
        "filtered_df = select_features(transformed_df, high_corr_cols=[col for col in transformed_df.columns if col not in missing_df.index])\n",
        "rmse = train_and_test(filtered_df)"
      ],
      "metadata": {
        "colab": {
          "base_uri": "https://localhost:8080/"
        },
        "id": "4pVPuqExwcIj",
        "outputId": "5dbe9101-2da7-4a47-983d-cd229b1b5bb6"
      },
      "execution_count": 18,
      "outputs": [
        {
          "output_type": "stream",
          "name": "stdout",
          "text": [
            "WARNING: Non-numeric columns will not be included in the model: ['MS Zoning', 'Street', 'Lot Shape', 'Land Contour', 'Utilities', 'Lot Config', 'Land Slope', 'Neighborhood', 'Condition 1', 'Condition 2', 'Bldg Type', 'House Style', 'Roof Style', 'Roof Matl', 'Exterior 1st', 'Exterior 2nd', 'Mas Vnr Type', 'Exter Qual', 'Exter Cond', 'Foundation', 'Bsmt Qual', 'Bsmt Cond', 'Bsmt Exposure', 'BsmtFin Type 1', 'BsmtFin Type 2', 'Heating', 'Heating QC', 'Central Air', 'Electrical', 'Kitchen Qual', 'Functional', 'Paved Drive']\n",
            "Test RMSE: 31309.33622848826, Train RMSE: 34532.95844367829\n"
          ]
        }
      ]
    },
    {
      "cell_type": "code",
      "source": [
        "# get list of garage columns\n",
        "garage_cols = [col for col in transformed_df.columns if 'garage' in col.lower()]\n",
        "garage_cols"
      ],
      "metadata": {
        "colab": {
          "base_uri": "https://localhost:8080/"
        },
        "id": "xCpJZjqQjHtZ",
        "outputId": "f4e6f16d-178e-4843-b1ef-955eede3abcb"
      },
      "execution_count": 19,
      "outputs": [
        {
          "output_type": "execute_result",
          "data": {
            "text/plain": [
              "['Garage Type',\n",
              " 'Garage Yr Blt',\n",
              " 'Garage Finish',\n",
              " 'Garage Cars',\n",
              " 'Garage Area',\n",
              " 'Garage Qual',\n",
              " 'Garage Cond']"
            ]
          },
          "metadata": {},
          "execution_count": 19
        }
      ]
    },
    {
      "cell_type": "code",
      "source": [
        "garage_bool = transformed_df['Garage Cars'] == 0\n",
        "no_garage_bool = transformed_df['Garage Cars'] != 0\n",
        "# if there is a garage, fill na values with the mode\n",
        "transformed_df.loc[garage_bool, garage_cols] = transformed_df.loc[garage_bool, garage_cols].fillna(transformed_df.mode().iloc[0])\n",
        "# if there is not a garage, for Garage Yr Blt fill with Yr Sold\n",
        "transformed_df.loc[no_garage_bool, 'Garage Yr Blt'] = transformed_df.loc[no_garage_bool, 'Garage Yr Blt'].fillna(transformed_df['Yr Sold'])\n",
        "# if there is not a garage for text columns, fill na values with 'NA'\n",
        "transformed_df.loc[no_garage_bool, garage_cols] = transformed_df.loc[no_garage_bool, garage_cols].fillna('NA')"
      ],
      "metadata": {
        "id": "wKmrmzgJgOWT"
      },
      "execution_count": 20,
      "outputs": []
    },
    {
      "cell_type": "code",
      "source": [
        "filtered_df = select_features(transformed_df, high_corr_cols=[col for col in transformed_df.columns if col not in 'Lot Frontage'])\n",
        "rmse = train_and_test(filtered_df)"
      ],
      "metadata": {
        "colab": {
          "base_uri": "https://localhost:8080/"
        },
        "id": "EuK1ZTfI8cAZ",
        "outputId": "4a99ac40-da90-4ba0-afe3-2cff09fc9d4f"
      },
      "execution_count": 21,
      "outputs": [
        {
          "output_type": "stream",
          "name": "stdout",
          "text": [
            "WARNING: Non-numeric columns will not be included in the model: ['MS Zoning', 'Street', 'Lot Shape', 'Land Contour', 'Utilities', 'Lot Config', 'Land Slope', 'Neighborhood', 'Condition 1', 'Condition 2', 'Bldg Type', 'House Style', 'Roof Style', 'Roof Matl', 'Exterior 1st', 'Exterior 2nd', 'Mas Vnr Type', 'Exter Qual', 'Exter Cond', 'Foundation', 'Bsmt Qual', 'Bsmt Cond', 'Bsmt Exposure', 'BsmtFin Type 1', 'BsmtFin Type 2', 'Heating', 'Heating QC', 'Central Air', 'Electrical', 'Kitchen Qual', 'Functional', 'Garage Type', 'Garage Finish', 'Garage Qual', 'Garage Cond', 'Paved Drive']\n",
            "Test RMSE: 31137.44397514447, Train RMSE: 34375.42169380369\n"
          ]
        }
      ]
    },
    {
      "cell_type": "markdown",
      "source": [
        "A Google search revealed that lot frontage was important for determining sale price, and that it can vary a lot by neighborhood. "
      ],
      "metadata": {
        "id": "r15POj43Dkg0"
      }
    },
    {
      "cell_type": "code",
      "source": [
        "# # get statistics using groupby() & describe()\n",
        "# describe_df = transformed_df.groupby(['Neighborhood'])['Lot Frontage'].describe()\n",
        "# # look at how standard deviation varies by neighborhood, compared to the dataset\n",
        "# fig, ax = plt.subplots(figsize=(15,7))\n",
        "# describe_df[['std']].plot(kind='bar', ax=ax)\n",
        "# ax.axhline(transformed_df['Lot Frontage'].std(), color='green', lw=2)\n",
        "# ax.legend(['Standard Deviation', 'Lot Frontage'])"
      ],
      "metadata": {
        "id": "A_K2pCfHFGL8"
      },
      "execution_count": 22,
      "outputs": []
    },
    {
      "cell_type": "markdown",
      "source": [
        "Generally, the standard deviation is lower for the neighborhoods than for the entire dataset. The lower variability in the neighborhoods vs. the whole dataset is a good sign that filling na values with the mean for the neighborhood will be better than using the mean for the entire dataset."
      ],
      "metadata": {
        "id": "uICNjX5BFLgl"
      }
    },
    {
      "cell_type": "code",
      "source": [
        "# # boxplot of lot frontage by neighborhood\n",
        "# fig, ax = plt.subplots(figsize=(25,12))\n",
        "# transformed_df.boxplot(by ='Neighborhood', column =['Lot Frontage'], grid = False, ax=ax)\n",
        "# ax.axhline(transformed_df['Lot Frontage'].mean(), color ='orange', label='Average')\n",
        "# ax.legend()"
      ],
      "metadata": {
        "id": "a1we5KZlRAyW"
      },
      "execution_count": 23,
      "outputs": []
    },
    {
      "cell_type": "markdown",
      "source": [
        "Unfortunately, we can see from the box plot that there are still a lot of outliers within the neighborhoods.\n",
        "\n",
        "There are two neighborhoods with no values for lot frontage. We will fill these with the mean for the dataset."
      ],
      "metadata": {
        "id": "RLVxP7SSF8Pk"
      }
    },
    {
      "cell_type": "code",
      "source": [
        "# calculate null values in lot frontage\n",
        "# get dataframe of mean values for each neighborhood\n",
        "mean_df = transformed_df.groupby('Neighborhood')['Lot Frontage'].mean()\n",
        "# get names of neighborhoods where the mean is null\n",
        "nbhd_null = mean_df[mean_df.isna()].index\n",
        "# if the neighborhood has no values for lot frontage, fill the values in with the mean for the dataset\n",
        "transformed_df.loc[transformed_df['Neighborhood'].isin(nbhd_null), 'Lot Frontage'] = transformed_df['Lot Frontage'].mean()"
      ],
      "metadata": {
        "id": "yFfqC-AIf1QE"
      },
      "execution_count": 24,
      "outputs": []
    },
    {
      "cell_type": "code",
      "source": [
        "transformed_df['Lot Frontage'] = transformed_df.groupby('Neighborhood')['Lot Frontage'].transform(\n",
        "    lambda grp: grp.fillna(np.mean(grp))\n",
        ")"
      ],
      "metadata": {
        "id": "Muk6dEquo-OP"
      },
      "execution_count": 25,
      "outputs": []
    },
    {
      "cell_type": "code",
      "source": [
        "# find columns that still have missing values\n",
        "missing_count = transformed_df.isna().sum()\n",
        "missing_percent = transformed_df.isna().sum() / len(transformed_df)\n",
        "columns = ['missing_count','missing_percent']\n",
        "missing_df = pd.concat([missing_count,missing_percent], axis=1, keys=columns)\n",
        "missing_df = missing_df[missing_df['missing_percent'] > 0].sort_values('missing_percent', ascending=False)\n",
        "with pd.option_context('display.max_rows', None, 'display.max_columns', None):\n",
        "    print(missing_df)"
      ],
      "metadata": {
        "colab": {
          "base_uri": "https://localhost:8080/"
        },
        "id": "10zoKtR2owfb",
        "outputId": "86716a8c-92c4-4588-d4fa-dc3ae560dece"
      },
      "execution_count": 26,
      "outputs": [
        {
          "output_type": "stream",
          "name": "stdout",
          "text": [
            "Empty DataFrame\n",
            "Columns: [missing_count, missing_percent]\n",
            "Index: []\n"
          ]
        }
      ]
    },
    {
      "cell_type": "markdown",
      "source": [
        "Now that we have dealt with null values we can test the model with all numeric columns"
      ],
      "metadata": {
        "id": "Qw_DXgs6rJzz"
      }
    },
    {
      "cell_type": "code",
      "source": [
        "filtered_df = select_features(transformed_df)\n",
        "rmse = train_and_test(filtered_df)"
      ],
      "metadata": {
        "colab": {
          "base_uri": "https://localhost:8080/"
        },
        "id": "WjOnpbY68poy",
        "outputId": "781b0654-2f56-466a-c97b-1d465b9dc326"
      },
      "execution_count": 27,
      "outputs": [
        {
          "output_type": "stream",
          "name": "stdout",
          "text": [
            "WARNING: Non-numeric columns will not be included in the model: ['MS Zoning', 'Street', 'Lot Shape', 'Land Contour', 'Utilities', 'Lot Config', 'Land Slope', 'Neighborhood', 'Condition 1', 'Condition 2', 'Bldg Type', 'House Style', 'Roof Style', 'Roof Matl', 'Exterior 1st', 'Exterior 2nd', 'Mas Vnr Type', 'Exter Qual', 'Exter Cond', 'Foundation', 'Bsmt Qual', 'Bsmt Cond', 'Bsmt Exposure', 'BsmtFin Type 1', 'BsmtFin Type 2', 'Heating', 'Heating QC', 'Central Air', 'Electrical', 'Kitchen Qual', 'Functional', 'Garage Type', 'Garage Finish', 'Garage Qual', 'Garage Cond', 'Paved Drive']\n",
            "Test RMSE: 31459.519644043823, Train RMSE: 34272.84697547075\n"
          ]
        }
      ]
    },
    {
      "cell_type": "markdown",
      "source": [
        "Fixing the null values in lot frontage increased the RMSE, so it might be better to drop that column. "
      ],
      "metadata": {
        "id": "VdOh8muttbsx"
      }
    },
    {
      "cell_type": "code",
      "source": [
        "results['resolve null values']=rmse\n",
        "results"
      ],
      "metadata": {
        "colab": {
          "base_uri": "https://localhost:8080/"
        },
        "id": "ZmHZLtNPrbBX",
        "outputId": "1c9052aa-e22f-43ec-9bfc-e43acdb5bddf"
      },
      "execution_count": 28,
      "outputs": [
        {
          "output_type": "execute_result",
          "data": {
            "text/plain": [
              "{'original': [55943.34407431997, 57086.31613271551],\n",
              " 'resolve null values': [31459.519644043823, 34272.84697547075]}"
            ]
          },
          "metadata": {},
          "execution_count": 28
        }
      ]
    },
    {
      "cell_type": "markdown",
      "source": [
        "### Create new features"
      ],
      "metadata": {
        "id": "JjqSx6WzbCIy"
      }
    },
    {
      "cell_type": "code",
      "source": [
        "# create new feature that better captures the age of the home\n",
        "transformed_df['years_since_built'] = transformed_df['Yr Sold'] - transformed_df['Year Built']\n",
        "# drop rows with negative values since those are not possible\n",
        "drop_idx = transformed_df['years_since_built'][transformed_df['years_since_built']<0].index.tolist()\n",
        "transformed_df.drop(index=drop_idx, inplace=True)\n",
        "# drop column no longer needed\n",
        "transformed_df = transformed_df.drop(columns='Year Built')"
      ],
      "metadata": {
        "id": "Y6iOz77phVNR"
      },
      "execution_count": 29,
      "outputs": []
    },
    {
      "cell_type": "code",
      "source": [
        "filtered_df = select_features(transformed_df)\n",
        "rmse = train_and_test(filtered_df)"
      ],
      "metadata": {
        "colab": {
          "base_uri": "https://localhost:8080/"
        },
        "id": "Grg3Q2fk86ZH",
        "outputId": "f58e2ceb-5068-40df-ba55-de3d188c0065"
      },
      "execution_count": 30,
      "outputs": [
        {
          "output_type": "stream",
          "name": "stdout",
          "text": [
            "WARNING: Non-numeric columns will not be included in the model: ['MS Zoning', 'Street', 'Lot Shape', 'Land Contour', 'Utilities', 'Lot Config', 'Land Slope', 'Neighborhood', 'Condition 1', 'Condition 2', 'Bldg Type', 'House Style', 'Roof Style', 'Roof Matl', 'Exterior 1st', 'Exterior 2nd', 'Mas Vnr Type', 'Exter Qual', 'Exter Cond', 'Foundation', 'Bsmt Qual', 'Bsmt Cond', 'Bsmt Exposure', 'BsmtFin Type 1', 'BsmtFin Type 2', 'Heating', 'Heating QC', 'Central Air', 'Electrical', 'Kitchen Qual', 'Functional', 'Garage Type', 'Garage Finish', 'Garage Qual', 'Garage Cond', 'Paved Drive']\n",
            "Test RMSE: 30243.710194330593, Train RMSE: 33020.51202798555\n"
          ]
        }
      ]
    },
    {
      "cell_type": "code",
      "source": [
        "# create new feature that better captures the remodel date\n",
        "transformed_df['years_since_remod'] = transformed_df['Yr Sold'] - transformed_df['Year Remod/Add']\n",
        "# drop rows with negative values since those are not possible\n",
        "drop_idx = transformed_df['years_since_remod'][transformed_df['years_since_remod']<0].index.tolist()\n",
        "transformed_df.drop(index=drop_idx, inplace=True)\n",
        "# drop column no longer needed\n",
        "transformed_df = transformed_df.drop(columns='Year Remod/Add')"
      ],
      "metadata": {
        "id": "b_Hg7W9shd74"
      },
      "execution_count": 31,
      "outputs": []
    },
    {
      "cell_type": "code",
      "source": [
        "filtered_df = select_features(transformed_df)\n",
        "rmse = train_and_test(filtered_df)"
      ],
      "metadata": {
        "colab": {
          "base_uri": "https://localhost:8080/"
        },
        "id": "Won4UkvN8_Ci",
        "outputId": "c9131d3c-8777-41c2-b177-30584c59fae7"
      },
      "execution_count": 32,
      "outputs": [
        {
          "output_type": "stream",
          "name": "stdout",
          "text": [
            "WARNING: Non-numeric columns will not be included in the model: ['MS Zoning', 'Street', 'Lot Shape', 'Land Contour', 'Utilities', 'Lot Config', 'Land Slope', 'Neighborhood', 'Condition 1', 'Condition 2', 'Bldg Type', 'House Style', 'Roof Style', 'Roof Matl', 'Exterior 1st', 'Exterior 2nd', 'Mas Vnr Type', 'Exter Qual', 'Exter Cond', 'Foundation', 'Bsmt Qual', 'Bsmt Cond', 'Bsmt Exposure', 'BsmtFin Type 1', 'BsmtFin Type 2', 'Heating', 'Heating QC', 'Central Air', 'Electrical', 'Kitchen Qual', 'Functional', 'Garage Type', 'Garage Finish', 'Garage Qual', 'Garage Cond', 'Paved Drive']\n",
            "Test RMSE: 28615.586316187793, Train RMSE: 32758.431019892592\n"
          ]
        }
      ]
    },
    {
      "cell_type": "code",
      "source": [
        "# create new feature that better captures when the garage was built\n",
        "transformed_df['years_since_garage_built'] = transformed_df['Yr Sold'] - transformed_df['Garage Yr Blt']\n",
        "# drop rows with negative values since those are not possible\n",
        "drop_idx = transformed_df['years_since_garage_built'][transformed_df['years_since_garage_built']<0].index.tolist()\n",
        "transformed_df.drop(index=drop_idx, inplace=True)\n",
        "# drop column no longer needed\n",
        "transformed_df = transformed_df.drop(columns=['Garage Yr Blt','Yr Sold'])"
      ],
      "metadata": {
        "id": "SVoCEvWeheqF"
      },
      "execution_count": 33,
      "outputs": []
    },
    {
      "cell_type": "code",
      "source": [
        "filtered_df = select_features(transformed_df)\n",
        "rmse = train_and_test(filtered_df)"
      ],
      "metadata": {
        "colab": {
          "base_uri": "https://localhost:8080/"
        },
        "id": "0maEQ0ee9CUr",
        "outputId": "2dc98a30-00c1-46e2-8201-226453e9ef84"
      },
      "execution_count": 34,
      "outputs": [
        {
          "output_type": "stream",
          "name": "stdout",
          "text": [
            "WARNING: Non-numeric columns will not be included in the model: ['MS Zoning', 'Street', 'Lot Shape', 'Land Contour', 'Utilities', 'Lot Config', 'Land Slope', 'Neighborhood', 'Condition 1', 'Condition 2', 'Bldg Type', 'House Style', 'Roof Style', 'Roof Matl', 'Exterior 1st', 'Exterior 2nd', 'Mas Vnr Type', 'Exter Qual', 'Exter Cond', 'Foundation', 'Bsmt Qual', 'Bsmt Cond', 'Bsmt Exposure', 'BsmtFin Type 1', 'BsmtFin Type 2', 'Heating', 'Heating QC', 'Central Air', 'Electrical', 'Kitchen Qual', 'Functional', 'Garage Type', 'Garage Finish', 'Garage Qual', 'Garage Cond', 'Paved Drive']\n",
            "Test RMSE: 27896.577355463498, Train RMSE: 33328.97298133154\n"
          ]
        }
      ]
    },
    {
      "cell_type": "code",
      "source": [
        "# combine two columns that represent number of bathrooms\n",
        "transformed_df['Bathrooms'] = transformed_df['Full Bath'] + transformed_df['Half Bath']\n",
        "# drop column no longer needed\n",
        "transformed_df = transformed_df.drop(columns=['Half Bath','Full Bath'])"
      ],
      "metadata": {
        "id": "3VXqqwFdsAaf"
      },
      "execution_count": 35,
      "outputs": []
    },
    {
      "cell_type": "code",
      "source": [
        "filtered_df = select_features(transformed_df)\n",
        "rmse = train_and_test(filtered_df)"
      ],
      "metadata": {
        "colab": {
          "base_uri": "https://localhost:8080/"
        },
        "id": "cPCgTsvE9GPC",
        "outputId": "f187b43f-2966-4310-865e-6832c3aa43d1"
      },
      "execution_count": 36,
      "outputs": [
        {
          "output_type": "stream",
          "name": "stdout",
          "text": [
            "WARNING: Non-numeric columns will not be included in the model: ['MS Zoning', 'Street', 'Lot Shape', 'Land Contour', 'Utilities', 'Lot Config', 'Land Slope', 'Neighborhood', 'Condition 1', 'Condition 2', 'Bldg Type', 'House Style', 'Roof Style', 'Roof Matl', 'Exterior 1st', 'Exterior 2nd', 'Mas Vnr Type', 'Exter Qual', 'Exter Cond', 'Foundation', 'Bsmt Qual', 'Bsmt Cond', 'Bsmt Exposure', 'BsmtFin Type 1', 'BsmtFin Type 2', 'Heating', 'Heating QC', 'Central Air', 'Electrical', 'Kitchen Qual', 'Functional', 'Garage Type', 'Garage Finish', 'Garage Qual', 'Garage Cond', 'Paved Drive']\n",
            "Test RMSE: 27887.9378446402, Train RMSE: 33343.907741871146\n"
          ]
        }
      ]
    },
    {
      "cell_type": "code",
      "source": [
        "# combine porch/deck sq ft columns\n",
        "porch_cols = ['Wood Deck SF','Open Porch SF','Enclosed Porch','3Ssn Porch','Screen Porch']\n",
        "transformed_df['PorchDeck_SF'] = transformed_df[porch_cols].sum(axis=1)\n",
        "# drop original columns\n",
        "transformed_df.drop(columns=porch_cols, inplace=True)"
      ],
      "metadata": {
        "id": "L87XclbBuJww"
      },
      "execution_count": 37,
      "outputs": []
    },
    {
      "cell_type": "code",
      "source": [
        "filtered_df = select_features(transformed_df)\n",
        "rmse = train_and_test(filtered_df)"
      ],
      "metadata": {
        "colab": {
          "base_uri": "https://localhost:8080/"
        },
        "id": "NDn5Bt7W9LrU",
        "outputId": "9c44bf43-ea92-4b11-fab2-91b0d1c65e3e"
      },
      "execution_count": 38,
      "outputs": [
        {
          "output_type": "stream",
          "name": "stdout",
          "text": [
            "WARNING: Non-numeric columns will not be included in the model: ['MS Zoning', 'Street', 'Lot Shape', 'Land Contour', 'Utilities', 'Lot Config', 'Land Slope', 'Neighborhood', 'Condition 1', 'Condition 2', 'Bldg Type', 'House Style', 'Roof Style', 'Roof Matl', 'Exterior 1st', 'Exterior 2nd', 'Mas Vnr Type', 'Exter Qual', 'Exter Cond', 'Foundation', 'Bsmt Qual', 'Bsmt Cond', 'Bsmt Exposure', 'BsmtFin Type 1', 'BsmtFin Type 2', 'Heating', 'Heating QC', 'Central Air', 'Electrical', 'Kitchen Qual', 'Functional', 'Garage Type', 'Garage Finish', 'Garage Qual', 'Garage Cond', 'Paved Drive']\n",
            "Test RMSE: 27947.03139306928, Train RMSE: 33425.29432231938\n"
          ]
        }
      ]
    },
    {
      "cell_type": "markdown",
      "source": [
        "Combining the porch/deck square footage also increased RMSE."
      ],
      "metadata": {
        "id": "PIky-gKf9_9_"
      }
    },
    {
      "cell_type": "code",
      "source": [
        "results['new features']=rmse\n",
        "results"
      ],
      "metadata": {
        "colab": {
          "base_uri": "https://localhost:8080/"
        },
        "id": "VFDYHcpNCZtw",
        "outputId": "f182e5be-a91e-4178-d30b-82767b3a3027"
      },
      "execution_count": 39,
      "outputs": [
        {
          "output_type": "execute_result",
          "data": {
            "text/plain": [
              "{'original': [55943.34407431997, 57086.31613271551],\n",
              " 'resolve null values': [31459.519644043823, 34272.84697547075],\n",
              " 'new features': [27947.03139306928, 33425.29432231938]}"
            ]
          },
          "metadata": {},
          "execution_count": 39
        }
      ]
    },
    {
      "cell_type": "markdown",
      "source": [
        "### Transform nominal numerical to text\n",
        "MS SubClass is numerical but it represents categories."
      ],
      "metadata": {
        "id": "2MWTPKVVzcK-"
      }
    },
    {
      "cell_type": "code",
      "source": [
        "# ms subclass is numerical discrete, but it should be categorical nominal\n",
        "# later we will convert the numerical codes to text descriptions\n",
        "# this dictionary maps the codes to descriptions\n",
        "ms_subclass_dict = {\n",
        "    20: '1-STORY 1946 & NEWER ALL STYLES',\n",
        "    30: '1-STORY 1945 & OLDER1-STORY 1945 & OLDER',\n",
        "    40: '1-STORY W/FINISHED ATTIC ALL AGES',\n",
        "    45: '1-1/2 STORY - UNFINISHED ALL AGES',\n",
        "    50: '1-1/2 STORY FINISHED ALL AGES',\n",
        "    60: '2-STORY 1946 & NEWER',\n",
        "    70: '2-STORY 1945 & OLDER',\n",
        "    75: '2-1/2 STORY ALL AGES',\n",
        "    80: 'SPLIT OR MULTI-LEVEL',\n",
        "    85: 'SPLIT FOYER',\n",
        "    90: 'DUPLEX - ALL STYLES AND AGES',\n",
        "    120: '1-STORY PUD (Planned Unit Development) - 1946 & NEWER',\n",
        "    150: '1-1/2 STORY PUD - ALL AGES',\n",
        "    160: '2-STORY PUD - 1946 & NEWER',\n",
        "    180: 'PUD - MULTILEVEL - INCL SPLIT LEV/FOYER',\n",
        "    190: '2 FAMILY CONVERSION - ALL STYLES AND AGES'\n",
        " }"
      ],
      "metadata": {
        "id": "a3Crd3S81VYN"
      },
      "execution_count": 40,
      "outputs": []
    },
    {
      "cell_type": "code",
      "source": [
        "# get descriptions instead of codes\n",
        "transformed_df['MS SubClass'] = transformed_df['MS SubClass'].replace(ms_subclass_dict)\n",
        "\n",
        "filtered_df = select_features(transformed_df)\n",
        "rmse = train_and_test(filtered_df)"
      ],
      "metadata": {
        "id": "OrmUk2KKHivq",
        "colab": {
          "base_uri": "https://localhost:8080/"
        },
        "outputId": "1eb3a47b-2883-442f-c8b8-4831bb051dea"
      },
      "execution_count": 41,
      "outputs": [
        {
          "output_type": "stream",
          "name": "stdout",
          "text": [
            "WARNING: Non-numeric columns will not be included in the model: ['MS SubClass', 'MS Zoning', 'Street', 'Lot Shape', 'Land Contour', 'Utilities', 'Lot Config', 'Land Slope', 'Neighborhood', 'Condition 1', 'Condition 2', 'Bldg Type', 'House Style', 'Roof Style', 'Roof Matl', 'Exterior 1st', 'Exterior 2nd', 'Mas Vnr Type', 'Exter Qual', 'Exter Cond', 'Foundation', 'Bsmt Qual', 'Bsmt Cond', 'Bsmt Exposure', 'BsmtFin Type 1', 'BsmtFin Type 2', 'Heating', 'Heating QC', 'Central Air', 'Electrical', 'Kitchen Qual', 'Functional', 'Garage Type', 'Garage Finish', 'Garage Qual', 'Garage Cond', 'Paved Drive']\n",
            "Test RMSE: 28316.71501624453, Train RMSE: 33909.57028239677\n"
          ]
        }
      ]
    },
    {
      "cell_type": "markdown",
      "source": [
        "We wouldn't expect this to drop the RMSE right away becuase text columns get dropped. It might help later after we transform text columns."
      ],
      "metadata": {
        "id": "Pj0VEBgswsui"
      }
    },
    {
      "cell_type": "markdown",
      "source": [
        "### Scaling Numerical Columns\n",
        "Our method for scaling was chosen after doing some [research](https://www.mage.ai/blog/scaling-numerical-data). We will use min-max normalization on our discrete data and z-score standardization on our continuous data.\n"
      ],
      "metadata": {
        "id": "kSc1VA9BIIhJ"
      }
    },
    {
      "cell_type": "markdown",
      "source": [
        "The following variables were defined by looking at the data documentation and determining the data type for each field. As new features were created they were added to these lists."
      ],
      "metadata": {
        "id": "P4HCGoknGymu"
      }
    },
    {
      "cell_type": "code",
      "source": [
        "# discrete data columns will be scaled using min-max normalization\n",
        "discrete_cols = ['Overall Qual','Overall Cond','years_since_remod','years_since_garage_built','years_since_built','Bsmt Full Bath','Bsmt Half Bath','Full Bath','Half Bath','Bedroom AbvGr','Kitchen AbvGr','TotRms AbvGrd','Fireplaces','Garage Cars','Misc Val','Bathrooms','Bsmt Rating','Bsmt Bath']\n",
        "\n",
        "# continuous data columns will be scaled using z-score standardization\n",
        "continuous_cols = ['Lot Frontage','Lot Area','Mas Vnr Area','BsmtFin SF 1','BsmtFin SF 2','Bsmt Unf SF','Total Bsmt SF','1st Flr SF','2nd Flr SF','Low Qual Fin SF','Gr Liv Area','Garage Area','Wood Deck SF','Open Porch SF','Enclosed Porch','3Ssn Porch','Screen Porch','Pool Area','Bsmt Fin SQ','PorchDeck_SF']\n",
        "\n",
        "# this dictionary will be used for converting ordinal text columns to numeric values\n",
        "ordinal_dict = {\n",
        "    'Bsmt Cond': {'Ex': 5, 'Fa': 2, 'Gd': 4, 'Po': 1, 'TA': 3, 'NA': 0},\n",
        "    'Bsmt Exposure': {'Av': 3, 'Gd': 4, 'Mn': 2, 'No': 1, 'NA': 0},\n",
        "    'Bsmt Qual': {'Ex': 5, 'Fa': 2, 'Gd': 4, 'Po': 1, 'TA': 3, 'NA': 0},\n",
        "    'BsmtFin Type 1': {'ALQ': 5, 'BLQ': 4, 'GLQ': 6, 'LwQ': 2, 'Rec': 3, 'Unf': 1, 'NA': 0},\n",
        "    'BsmtFin Type 2': {'ALQ': 5, 'BLQ': 4, 'GLQ': 6, 'LwQ': 2, 'Rec': 3, 'Unf': 1, 'NA': 0},\n",
        "    'Exter Cond': {'Ex': 5, 'Fa': 2, 'Gd': 4, 'Po': 1, 'TA': 3, 'NA': 0},\n",
        "    'Exter Qual': {'Ex': 5, 'Fa': 2, 'Gd': 4, 'Po': 1, 'TA': 3, 'NA': 0},\n",
        "    'Garage Cond': {'Ex': 5, 'Fa': 2, 'Gd': 4, 'Po': 1, 'TA': 3, 'NA': 0},\n",
        "    'Garage Qual': {'Ex': 5, 'Fa': 2, 'Gd': 4, 'Po': 1, 'TA': 3, 'NA': 0},\n",
        "    'Heating QC': {'Ex': 5, 'Fa': 2, 'Gd': 4, 'Po': 1, 'TA': 3, 'NA': 0},\n",
        "    'Kitchen Qual': {'Ex': 5, 'Fa': 2, 'Gd': 4, 'Po': 1, 'TA': 3, 'NA': 0},\n",
        "    'Land Slope': {'Gtl': 1, 'Mod': 2, 'Sev': 3},\n",
        "    'Paved Drive': {'N': 1, 'P': 2, 'Y': 3}\n",
        " }"
      ],
      "metadata": {
        "id": "bKO8tmPFZHVi"
      },
      "execution_count": 42,
      "outputs": []
    },
    {
      "cell_type": "code",
      "source": [
        "zscore_cols = continuous_cols\n",
        "# Scale numeric columns\n",
        "if len(zscore_cols) > 0:\n",
        "    zscore_cols = [col for col in zscore_cols if col in transformed_df.columns]\n",
        "    print(f'Scaling numerical columns using z-score standardization: {zscore_cols}')\n",
        "    zscore_df = transformed_df[zscore_cols]\n",
        "    # scale data with z-score standardization (normal distribution)\n",
        "    # (x - xmean / xstd.dev)\n",
        "    standardized_df = (zscore_df - zscore_df.mean()) / (zscore_df.std())\n",
        "    df1 = transformed_df.drop(columns=zscore_cols)\n",
        "    df2 = standardized_df\n",
        "    transformed_df = pd.concat([df1, df2], axis=1)"
      ],
      "metadata": {
        "colab": {
          "base_uri": "https://localhost:8080/"
        },
        "id": "mQO8lxOzIFzo",
        "outputId": "fdcc0308-4794-4f98-8c8f-129f622f28c4"
      },
      "execution_count": 43,
      "outputs": [
        {
          "output_type": "stream",
          "name": "stdout",
          "text": [
            "Scaling numerical columns using z-score standardization: ['Lot Frontage', 'Lot Area', 'Mas Vnr Area', 'BsmtFin SF 1', 'BsmtFin SF 2', 'Bsmt Unf SF', 'Total Bsmt SF', '1st Flr SF', '2nd Flr SF', 'Low Qual Fin SF', 'Gr Liv Area', 'Garage Area', 'Pool Area', 'PorchDeck_SF']\n"
          ]
        }
      ]
    },
    {
      "cell_type": "code",
      "source": [
        "rmse"
      ],
      "metadata": {
        "colab": {
          "base_uri": "https://localhost:8080/"
        },
        "id": "GRmc79bIcuZy",
        "outputId": "f066dc2c-e52f-4f77-8512-0a313c52c1fb"
      },
      "execution_count": 44,
      "outputs": [
        {
          "output_type": "execute_result",
          "data": {
            "text/plain": [
              "[28316.71501624453, 33909.57028239677]"
            ]
          },
          "metadata": {},
          "execution_count": 44
        }
      ]
    },
    {
      "cell_type": "code",
      "source": [
        "filtered_df = select_features(transformed_df)\n",
        "rmse = train_and_test(filtered_df)"
      ],
      "metadata": {
        "colab": {
          "base_uri": "https://localhost:8080/"
        },
        "id": "gRSqvtYLZgu-",
        "outputId": "0a0facc2-985e-411c-a09a-2bf699f91ce7"
      },
      "execution_count": 45,
      "outputs": [
        {
          "output_type": "stream",
          "name": "stdout",
          "text": [
            "WARNING: Non-numeric columns will not be included in the model: ['MS SubClass', 'MS Zoning', 'Street', 'Lot Shape', 'Land Contour', 'Utilities', 'Lot Config', 'Land Slope', 'Neighborhood', 'Condition 1', 'Condition 2', 'Bldg Type', 'House Style', 'Roof Style', 'Roof Matl', 'Exterior 1st', 'Exterior 2nd', 'Mas Vnr Type', 'Exter Qual', 'Exter Cond', 'Foundation', 'Bsmt Qual', 'Bsmt Cond', 'Bsmt Exposure', 'BsmtFin Type 1', 'BsmtFin Type 2', 'Heating', 'Heating QC', 'Central Air', 'Electrical', 'Kitchen Qual', 'Functional', 'Garage Type', 'Garage Finish', 'Garage Qual', 'Garage Cond', 'Paved Drive']\n",
            "Test RMSE: 28316.71501624457, Train RMSE: 33909.57028239677\n"
          ]
        }
      ]
    },
    {
      "cell_type": "markdown",
      "source": [
        "\n",
        "Scaling numerical columns using z-score standardization: ['Lot Frontage', 'Lot Area', 'Mas Vnr Area', 'BsmtFin SF 1', 'BsmtFin SF 2', 'Bsmt Unf SF', 'Total Bsmt SF', '1st Flr SF', '2nd Flr SF', 'Low Qual Fin SF', 'Gr Liv Area', 'Garage Area', 'Pool Area', 'PorchDeck_SF']\n",
        "\n",
        "Scaling continuous data columns with z-score standardization increased RMSE by a small amount.\n",
        "\n",
        "28316.71501624453 - 28316.71501624457 = -4.001776687800884e-11"
      ],
      "metadata": {
        "id": "5fjS-SLqOJVD"
      }
    },
    {
      "cell_type": "code",
      "source": [
        "minmax_cols = discrete_cols\n",
        "scale_ordinal = False\n",
        "\n",
        "if len(minmax_cols) > 0:\n",
        "    minmax_cols = [col for col in minmax_cols if col in transformed_df.columns]\n",
        "    print(f'Scaling numerical columns using min-max normalization: {minmax_cols}')\n",
        "    if scale_ordinal == True:\n",
        "        cols = minmax_cols + [k for k in ordinal_dict if k in transformed_df.columns]\n",
        "        print(f'Scaling ordinal and minmax cols: {cols}')\n",
        "        minmax_df = transformed_df[cols]\n",
        "    else:\n",
        "        minmax_df = transformed_df[minmax_cols]\n",
        "    # scale discrete numbers with normalization \n",
        "    # (x-xmin) / (x-xmax) \n",
        "    normalized_df = (minmax_df - minmax_df.min()) / (minmax_df.max() - minmax_df.min())\n",
        "    df1 = transformed_df.drop(columns=minmax_cols)\n",
        "    df2 = normalized_df\n",
        "    transformed_df = pd.concat([df1, df2], axis=1)"
      ],
      "metadata": {
        "colab": {
          "base_uri": "https://localhost:8080/"
        },
        "id": "dHfxJbJuJa7n",
        "outputId": "40eac398-4002-4668-c6bf-f225b52f2adc"
      },
      "execution_count": 46,
      "outputs": [
        {
          "output_type": "stream",
          "name": "stdout",
          "text": [
            "Scaling numerical columns using min-max normalization: ['Overall Qual', 'Overall Cond', 'years_since_remod', 'years_since_garage_built', 'years_since_built', 'Bsmt Full Bath', 'Bsmt Half Bath', 'Bedroom AbvGr', 'Kitchen AbvGr', 'TotRms AbvGrd', 'Fireplaces', 'Garage Cars', 'Misc Val', 'Bathrooms']\n"
          ]
        }
      ]
    },
    {
      "cell_type": "code",
      "source": [
        "filtered_df = select_features(transformed_df)\n",
        "rmse = train_and_test(filtered_df)"
      ],
      "metadata": {
        "colab": {
          "base_uri": "https://localhost:8080/"
        },
        "id": "HmN_d8J8Zk23",
        "outputId": "92e07a45-b73a-4e18-9ca7-b6642e478014"
      },
      "execution_count": 47,
      "outputs": [
        {
          "output_type": "stream",
          "name": "stdout",
          "text": [
            "WARNING: Non-numeric columns will not be included in the model: ['MS SubClass', 'MS Zoning', 'Street', 'Lot Shape', 'Land Contour', 'Utilities', 'Lot Config', 'Land Slope', 'Neighborhood', 'Condition 1', 'Condition 2', 'Bldg Type', 'House Style', 'Roof Style', 'Roof Matl', 'Exterior 1st', 'Exterior 2nd', 'Mas Vnr Type', 'Exter Qual', 'Exter Cond', 'Foundation', 'Bsmt Qual', 'Bsmt Cond', 'Bsmt Exposure', 'BsmtFin Type 1', 'BsmtFin Type 2', 'Heating', 'Heating QC', 'Central Air', 'Electrical', 'Kitchen Qual', 'Functional', 'Garage Type', 'Garage Finish', 'Garage Qual', 'Garage Cond', 'Paved Drive']\n",
            "Test RMSE: 29854.66373554057, Train RMSE: 34942.641059269015\n"
          ]
        }
      ]
    },
    {
      "cell_type": "markdown",
      "source": [
        "Scaling numerical columns using min-max normalization: ['Overall Qual', 'Overall Cond', 'years_since_remod', 'years_since_garage_built', 'years_since_built', 'Bsmt Full Bath', 'Bsmt Half Bath', 'Bedroom AbvGr', 'Kitchen AbvGr', 'TotRms AbvGrd', 'Fireplaces', 'Garage Cars', 'Misc Val', 'Bathrooms']\n",
        "\n",
        "Scaling discrete numerical columns using min-max normalization increased the RMSE by 1537.9487192960005 (29854.66373554057- 28316.71501624457).  "
      ],
      "metadata": {
        "id": "pNVUvhzgO-dm"
      }
    },
    {
      "cell_type": "markdown",
      "source": [
        "### Update the transform features function. \n",
        "* We will drop columns that are not relevant to machine learning or leak data about the sale price\n",
        "* We will deal with null values by dropping columns or filling in the null values\n",
        "* We will create new feature that better represent the data than the current features\n",
        "* We will transform MS Subclass to text since it represents categorical data\n",
        "* None of our attempts to scale numerical columns improved the model. We will include these options as parameters in case we want to do more testing later. \n",
        "* We will also include parameters for combining the porch square footage and filling in null values for lot frontage."
      ],
      "metadata": {
        "id": "sB3vDbmvx-NC"
      }
    },
    {
      "cell_type": "code",
      "source": [
        "def transform_features(df, lot_frontage_nbhd=True, combine_porch_sf=True, zscore_cols=[], minmax_cols=[]):\n",
        "    '''\n",
        "    Feature Engineering\n",
        "    * Remove features we do not want to use in the model, based on the number \n",
        "    of missing values or data leakage. \n",
        "    * Transform features into the proper format (filling in missing values). \n",
        "    * Create new features by combining other features.\n",
        "    '''\n",
        "    print(f'Begin Transform Features with {df.shape[1]} columns and {df.shape[0]} rows')\n",
        "\n",
        "    # drop columns that are not useful for machine learning\n",
        "    drop_cols = ['Order', 'PID']\n",
        "    # print(f'Dropping columns not useful for machine learning: {drop_cols}')\n",
        "    transformed_df = df.drop(columns=drop_cols)\n",
        "\n",
        "    # drop columns that leak information\n",
        "    drop_cols = ['Mo Sold', 'Sale Type', 'Sale Condition']\n",
        "    # print(f'Dropping columns that leak information: {drop_cols}')\n",
        "    transformed_df = transformed_df.drop(columns=drop_cols)\n",
        "\n",
        "    ## deal with null values by dropping columns or filling in\n",
        "\n",
        "    # drop columns where more than 25% of values are missing\n",
        "    # total number of rows\n",
        "    len_df = transformed_df.shape[0]\n",
        "    # count of missing values in each column\n",
        "    missing_count = transformed_df.isna().sum()\n",
        "    # 25% of rows\n",
        "    twentyfive_percent = int(len_df*0.25)\n",
        "    # columns to drop\n",
        "    drop_cols = missing_count[missing_count > twentyfive_percent].index\n",
        "    # drop columns where the missing count is greater than 25%\n",
        "    transformed_df = transformed_df.drop(columns=drop_cols)\n",
        "\n",
        "    # For columns that have 5% or less missing values, we will fill in missing values with the most frequent value\n",
        "    # 5% of values\n",
        "    five_percent = int(len_df*0.05)\n",
        "    # filter series by missing less than 5%\n",
        "    missing_0_to_5 = missing_count[(missing_count < five_percent) & (missing_count > 0)]\n",
        "    # columns to fill with mode\n",
        "    cols_to_fill = missing_0_to_5.index\n",
        "    # fill na values with mode\n",
        "    transformed_df[cols_to_fill] = transformed_df[cols_to_fill].fillna(transformed_df.mode().iloc[0])\n",
        "\n",
        "    # get list of garage columns\n",
        "    garage_cols = [col for col in transformed_df.columns if 'garage' in col.lower()]\n",
        "    garage_bool = transformed_df['Garage Cars'] == 0\n",
        "    no_garage_bool = transformed_df['Garage Cars'] != 0\n",
        "    # if there is a garage, fill na values with the mode\n",
        "    transformed_df.loc[garage_bool, garage_cols] = transformed_df.loc[garage_bool, garage_cols].fillna(transformed_df.mode().iloc[0])\n",
        "    # if there is not a garage, for Garage Yr Blt fill with Yr Sold\n",
        "    transformed_df.loc[no_garage_bool, 'Garage Yr Blt'] = transformed_df.loc[no_garage_bool, 'Garage Yr Blt'].fillna(transformed_df['Yr Sold'])\n",
        "    # if there is not a garage for text columns, fill na values with 'NA'\n",
        "    transformed_df.loc[no_garage_bool, garage_cols] = transformed_df.loc[no_garage_bool, garage_cols].fillna('NA')\n",
        "\n",
        "    # calculate null values in lot frontage\n",
        "    if lot_frontage_nbhd == True:\n",
        "        # if true, calculate the eman for the neighborhood and use that to fill null values\n",
        "        # get dataframe of mean values for each neighborhood\n",
        "        mean_df = transformed_df.groupby('Neighborhood')['Lot Frontage'].mean()\n",
        "        # get names of neighborhoods where the mean is null\n",
        "        nbhd_null = mean_df[mean_df.isna()].index\n",
        "        # if the neighborhood has no values for lot frontage, fill the values in with the mean for the dataset\n",
        "        transformed_df.loc[transformed_df['Neighborhood'].isin(nbhd_null), 'Lot Frontage'] = transformed_df['Lot Frontage'].mean()\n",
        "        def nbhd_mean(nbhd):\n",
        "            '''function returns mean lot frontage for neighborhood\n",
        "            '''\n",
        "            nbhd_mean = transformed_df[transformed_df['Neighborhood'] == nbhd]['Lot Frontage'].mean()\n",
        "            return nbhd_mean\n",
        "        # fill in remaining null lot frontage values with mean for neighborhood\n",
        "        transformed_df['Lot Frontage'] = transformed_df['Lot Frontage']\n",
        "        transformed_df.loc[transformed_df['Lot Frontage'].isna(), 'Lot Frontage'] = transformed_df.loc[transformed_df['Lot Frontage'].isna(), 'Neighborhood'].apply(nbhd_mean)\n",
        "    else:\n",
        "        # if false, drop the column\n",
        "        transformed_df.drop(columns='Lot Frontage', inplace=True)\n",
        "\n",
        "    # create new features\n",
        "\n",
        "    # create new feature that better captures the age of the home\n",
        "    transformed_df['years_since_built'] = transformed_df['Yr Sold'] - transformed_df['Year Built']\n",
        "    # drop rows with negative values since those are not possible\n",
        "    drop_idx = transformed_df['years_since_built'][transformed_df['years_since_built']<0].index.tolist()\n",
        "    transformed_df.drop(index=drop_idx, inplace=True)\n",
        "    # drop column no longer needed\n",
        "    transformed_df = transformed_df.drop(columns='Year Built')\n",
        "\n",
        "    # create new feature that better captures the remodel date\n",
        "    transformed_df['years_since_remod'] = transformed_df['Yr Sold'] - transformed_df['Year Remod/Add']\n",
        "    # drop rows with negative values since those are not possible\n",
        "    drop_idx = transformed_df['years_since_remod'][transformed_df['years_since_remod']<0].index.tolist()\n",
        "    transformed_df.drop(index=drop_idx, inplace=True)\n",
        "    # drop column no longer needed\n",
        "    transformed_df = transformed_df.drop(columns='Year Remod/Add')\n",
        "\n",
        "    # create new feature that better captures when the garage was built\n",
        "    transformed_df['years_since_garage_built'] = transformed_df['Yr Sold'] - transformed_df['Garage Yr Blt']\n",
        "    # drop rows with negative values since those are not possible\n",
        "    drop_idx = transformed_df['years_since_garage_built'][transformed_df['years_since_garage_built']<0].index.tolist()\n",
        "    transformed_df.drop(index=drop_idx, inplace=True)\n",
        "    # drop column no longer needed\n",
        "    transformed_df = transformed_df.drop(columns=['Garage Yr Blt','Yr Sold'])\n",
        "\n",
        "    # combine two columns that represent number of bathrooms\n",
        "    transformed_df['Bathrooms'] = transformed_df['Full Bath'] + transformed_df['Half Bath']\n",
        "    # drop column no longer needed\n",
        "    transformed_df = transformed_df.drop(columns=['Half Bath','Full Bath'])\n",
        "\n",
        "    # combine porch/deck sq ft columns\n",
        "    if combine_porch_sf == True:\n",
        "        porch_cols = ['Wood Deck SF','Open Porch SF','Enclosed Porch','3Ssn Porch','Screen Porch']\n",
        "        transformed_df['PorchDeck_SF'] = transformed_df[porch_cols].sum(axis=1)\n",
        "        # drop original columns\n",
        "        transformed_df.drop(columns=porch_cols, inplace=True)\n",
        "\n",
        "    # get descriptions instead of codes\n",
        "    transformed_df['MS SubClass'] = transformed_df['MS SubClass'].replace(ms_subclass_dict)\n",
        "\n",
        "    # Scale numeric columns\n",
        "    if len(zscore_cols) > 0:\n",
        "        zscore_cols = [col for col in zscore_cols if col in transformed_df.columns]\n",
        "        print(f'Scaling numerical columns using z-score standardization: {zscore_cols}')\n",
        "        zscore_df = transformed_df[zscore_cols]\n",
        "        # scale data with z-score standardization (normal distribution)\n",
        "        # (x - xmean / xstd.dev)\n",
        "        standardized_df = (zscore_df - zscore_df.mean()) / (zscore_df.std())\n",
        "        df1 = transformed_df.drop(columns=zscore_cols)\n",
        "        df2 = standardized_df\n",
        "        transformed_df = pd.concat([df1, df2], axis=1)\n",
        "    if len(minmax_cols) > 0:\n",
        "        minmax_cols = [col for col in minmax_cols if col in transformed_df.columns]\n",
        "        print(f'Scaling numerical columns using min-max normalization: {minmax_cols}')\n",
        "        minmax_df = transformed_df[minmax_cols]\n",
        "        # scale discrete numbers with normalization \n",
        "        # (x-xmin) / (x-xmax) \n",
        "        normalized_df = (minmax_df - minmax_df.min()) / (minmax_df.max() - minmax_df.min())\n",
        "        df1 = transformed_df.drop(columns=minmax_cols)\n",
        "        df2 = normalized_df\n",
        "        transformed_df = pd.concat([df1, df2], axis=1)\n",
        "\n",
        "    print(f'End Transform Features with {transformed_df.shape[1]} columns and {transformed_df.shape[0]} rows')\n",
        "    return transformed_df"
      ],
      "metadata": {
        "id": "aGZb6uUMBTdt"
      },
      "execution_count": 48,
      "outputs": []
    },
    {
      "cell_type": "code",
      "source": [
        "transformed_df = transform_features(ames_df, lot_frontage_nbhd=True, combine_porch_sf=True, zscore_cols=continuous_cols, minmax_cols=discrete_cols)\n",
        "filtered_df = select_features(transformed_df)\n",
        "rmse = train_and_test(filtered_df)"
      ],
      "metadata": {
        "colab": {
          "base_uri": "https://localhost:8080/"
        },
        "id": "FbCXTA1T15fg",
        "outputId": "19ec6ce4-7cf0-44f1-c1df-add8ad95ab9f"
      },
      "execution_count": 49,
      "outputs": [
        {
          "output_type": "stream",
          "name": "stdout",
          "text": [
            "Begin Transform Features with 82 columns and 2930 rows\n",
            "Scaling numerical columns using z-score standardization: ['Lot Frontage', 'Lot Area', 'Mas Vnr Area', 'BsmtFin SF 1', 'BsmtFin SF 2', 'Bsmt Unf SF', 'Total Bsmt SF', '1st Flr SF', '2nd Flr SF', 'Low Qual Fin SF', 'Gr Liv Area', 'Garage Area', 'Pool Area', 'PorchDeck_SF']\n",
            "Scaling numerical columns using min-max normalization: ['Overall Qual', 'Overall Cond', 'years_since_remod', 'years_since_garage_built', 'years_since_built', 'Bsmt Full Bath', 'Bsmt Half Bath', 'Bedroom AbvGr', 'Kitchen AbvGr', 'TotRms AbvGrd', 'Fireplaces', 'Garage Cars', 'Misc Val', 'Bathrooms']\n",
            "End Transform Features with 66 columns and 2926 rows\n",
            "WARNING: Non-numeric columns will not be included in the model: ['MS SubClass', 'MS Zoning', 'Street', 'Lot Shape', 'Land Contour', 'Utilities', 'Lot Config', 'Land Slope', 'Neighborhood', 'Condition 1', 'Condition 2', 'Bldg Type', 'House Style', 'Roof Style', 'Roof Matl', 'Exterior 1st', 'Exterior 2nd', 'Mas Vnr Type', 'Exter Qual', 'Exter Cond', 'Foundation', 'Bsmt Qual', 'Bsmt Cond', 'Bsmt Exposure', 'BsmtFin Type 1', 'BsmtFin Type 2', 'Heating', 'Heating QC', 'Central Air', 'Electrical', 'Kitchen Qual', 'Functional', 'Garage Type', 'Garage Finish', 'Garage Qual', 'Garage Cond', 'Paved Drive']\n",
            "Test RMSE: 29854.66373554057, Train RMSE: 34942.641059269015\n"
          ]
        }
      ]
    },
    {
      "cell_type": "code",
      "source": [
        "transformed_df = transform_features(ames_df, lot_frontage_nbhd=True, combine_porch_sf=True)\n",
        "filtered_df = select_features(transformed_df)\n",
        "rmse = train_and_test(filtered_df)"
      ],
      "metadata": {
        "colab": {
          "base_uri": "https://localhost:8080/"
        },
        "id": "t_8txBJJRREn",
        "outputId": "bf452787-9d67-4d44-e3f2-11c081d81a5e"
      },
      "execution_count": 50,
      "outputs": [
        {
          "output_type": "stream",
          "name": "stdout",
          "text": [
            "Begin Transform Features with 82 columns and 2930 rows\n",
            "End Transform Features with 66 columns and 2926 rows\n",
            "WARNING: Non-numeric columns will not be included in the model: ['MS SubClass', 'MS Zoning', 'Street', 'Lot Shape', 'Land Contour', 'Utilities', 'Lot Config', 'Land Slope', 'Neighborhood', 'Condition 1', 'Condition 2', 'Bldg Type', 'House Style', 'Roof Style', 'Roof Matl', 'Exterior 1st', 'Exterior 2nd', 'Mas Vnr Type', 'Exter Qual', 'Exter Cond', 'Foundation', 'Bsmt Qual', 'Bsmt Cond', 'Bsmt Exposure', 'BsmtFin Type 1', 'BsmtFin Type 2', 'Heating', 'Heating QC', 'Central Air', 'Electrical', 'Kitchen Qual', 'Functional', 'Garage Type', 'Garage Finish', 'Garage Qual', 'Garage Cond', 'Paved Drive']\n",
            "Test RMSE: 28316.71501624453, Train RMSE: 33909.57028239677\n"
          ]
        }
      ]
    },
    {
      "cell_type": "code",
      "source": [
        "transformed_df = transform_features(ames_df, lot_frontage_nbhd=False, combine_porch_sf=False, zscore_cols=continuous_cols, minmax_cols=discrete_cols)\n",
        "filtered_df = select_features(transformed_df)\n",
        "rmse = train_and_test(filtered_df)"
      ],
      "metadata": {
        "colab": {
          "base_uri": "https://localhost:8080/"
        },
        "id": "0f1Ezih61_nL",
        "outputId": "3557f87f-3d59-48ed-ce37-ac23e4e9e453"
      },
      "execution_count": 51,
      "outputs": [
        {
          "output_type": "stream",
          "name": "stdout",
          "text": [
            "Begin Transform Features with 82 columns and 2930 rows\n",
            "Scaling numerical columns using z-score standardization: ['Lot Area', 'Mas Vnr Area', 'BsmtFin SF 1', 'BsmtFin SF 2', 'Bsmt Unf SF', 'Total Bsmt SF', '1st Flr SF', '2nd Flr SF', 'Low Qual Fin SF', 'Gr Liv Area', 'Garage Area', 'Wood Deck SF', 'Open Porch SF', 'Enclosed Porch', '3Ssn Porch', 'Screen Porch', 'Pool Area']\n",
            "Scaling numerical columns using min-max normalization: ['Overall Qual', 'Overall Cond', 'years_since_remod', 'years_since_garage_built', 'years_since_built', 'Bsmt Full Bath', 'Bsmt Half Bath', 'Bedroom AbvGr', 'Kitchen AbvGr', 'TotRms AbvGrd', 'Fireplaces', 'Garage Cars', 'Misc Val', 'Bathrooms']\n",
            "End Transform Features with 69 columns and 2926 rows\n",
            "WARNING: Non-numeric columns will not be included in the model: ['MS SubClass', 'MS Zoning', 'Street', 'Lot Shape', 'Land Contour', 'Utilities', 'Lot Config', 'Land Slope', 'Neighborhood', 'Condition 1', 'Condition 2', 'Bldg Type', 'House Style', 'Roof Style', 'Roof Matl', 'Exterior 1st', 'Exterior 2nd', 'Mas Vnr Type', 'Exter Qual', 'Exter Cond', 'Foundation', 'Bsmt Qual', 'Bsmt Cond', 'Bsmt Exposure', 'BsmtFin Type 1', 'BsmtFin Type 2', 'Heating', 'Heating QC', 'Central Air', 'Electrical', 'Kitchen Qual', 'Functional', 'Garage Type', 'Garage Finish', 'Garage Qual', 'Garage Cond', 'Paved Drive']\n",
            "Test RMSE: 39908.851259838666, Train RMSE: 43205.17405838527\n"
          ]
        }
      ]
    },
    {
      "cell_type": "code",
      "source": [
        "transformed_df = transform_features(ames_df, lot_frontage_nbhd=False, combine_porch_sf=False)\n",
        "filtered_df = select_features(transformed_df)\n",
        "rmse = train_and_test(filtered_df)"
      ],
      "metadata": {
        "colab": {
          "base_uri": "https://localhost:8080/"
        },
        "id": "BB2IUzm3CJ0P",
        "outputId": "fbfcd88c-5d9c-4d27-9b0b-519bd0cbff12"
      },
      "execution_count": 52,
      "outputs": [
        {
          "output_type": "stream",
          "name": "stdout",
          "text": [
            "Begin Transform Features with 82 columns and 2930 rows\n",
            "End Transform Features with 69 columns and 2926 rows\n",
            "WARNING: Non-numeric columns will not be included in the model: ['MS SubClass', 'MS Zoning', 'Street', 'Lot Shape', 'Land Contour', 'Utilities', 'Lot Config', 'Land Slope', 'Neighborhood', 'Condition 1', 'Condition 2', 'Bldg Type', 'House Style', 'Roof Style', 'Roof Matl', 'Exterior 1st', 'Exterior 2nd', 'Mas Vnr Type', 'Exter Qual', 'Exter Cond', 'Foundation', 'Bsmt Qual', 'Bsmt Cond', 'Bsmt Exposure', 'BsmtFin Type 1', 'BsmtFin Type 2', 'Heating', 'Heating QC', 'Central Air', 'Electrical', 'Kitchen Qual', 'Functional', 'Garage Type', 'Garage Finish', 'Garage Qual', 'Garage Cond', 'Paved Drive']\n",
            "Test RMSE: 28217.333098304378, Train RMSE: 33835.459860906936\n"
          ]
        }
      ]
    },
    {
      "cell_type": "code",
      "source": [
        "results['updated transform_features() function']=rmse\n",
        "results"
      ],
      "metadata": {
        "colab": {
          "base_uri": "https://localhost:8080/"
        },
        "id": "FDr9kAeOVrVw",
        "outputId": "966222d0-ef39-4698-9a34-7166b64786f1"
      },
      "execution_count": 53,
      "outputs": [
        {
          "output_type": "execute_result",
          "data": {
            "text/plain": [
              "{'original': [55943.34407431997, 57086.31613271551],\n",
              " 'resolve null values': [31459.519644043823, 34272.84697547075],\n",
              " 'new features': [27947.03139306928, 33425.29432231938],\n",
              " 'updated transform_features() function': [28217.333098304378,\n",
              "  33835.459860906936]}"
            ]
          },
          "metadata": {},
          "execution_count": 53
        }
      ]
    },
    {
      "cell_type": "markdown",
      "source": [
        "# Feature Selection"
      ],
      "metadata": {
        "id": "SQ5L2Qp7DQ-8"
      }
    },
    {
      "cell_type": "markdown",
      "source": [
        "### Feature selection based correlations of numerical columns\n",
        "We created a correlation heat map but I am going to leave it out because it is maxing out the CPU on my Chromebook."
      ],
      "metadata": {
        "id": "2aj42NmlgKBv"
      }
    },
    {
      "cell_type": "code",
      "source": [
        "# create correlation matrix\n",
        "corr_df = pd.concat([transformed_df, ames_df[['SalePrice']]], axis=1).corr()\n",
        "corr_df.head()\n",
        "\n",
        "# # heatmap of correlation matrix\n",
        "# fig, ax = plt.subplots(figsize=(10,10))\n",
        "# sns.heatmap(corr_df, ax=ax, annot=True)"
      ],
      "metadata": {
        "colab": {
          "base_uri": "https://localhost:8080/",
          "height": 404
        },
        "id": "R7Ak0HpcOZ4U",
        "outputId": "bd05198e-c1eb-468b-e9cb-1fb0a4ed9d8c"
      },
      "execution_count": 54,
      "outputs": [
        {
          "output_type": "execute_result",
          "data": {
            "text/plain": [
              "              Lot Area  Overall Qual  Overall Cond  Mas Vnr Area  \\\n",
              "Lot Area      1.000000      0.090563     -0.033529      0.114944   \n",
              "Overall Qual  0.090563      1.000000     -0.093706      0.419390   \n",
              "Overall Cond -0.033529     -0.093706      1.000000     -0.132183   \n",
              "Mas Vnr Area  0.114944      0.419390     -0.132183      1.000000   \n",
              "BsmtFin SF 1  0.180222      0.278220     -0.050091      0.284386   \n",
              "\n",
              "              BsmtFin SF 1  BsmtFin SF 2  Bsmt Unf SF  Total Bsmt SF  \\\n",
              "Lot Area          0.180222      0.084433     0.020976       0.241501   \n",
              "Overall Qual      0.278220     -0.040428     0.268457       0.545554   \n",
              "Overall Cond     -0.050091      0.040798    -0.136624      -0.174688   \n",
              "Mas Vnr Area      0.284386     -0.014197     0.087732       0.378874   \n",
              "BsmtFin SF 1      1.000000     -0.053626    -0.488008       0.522778   \n",
              "\n",
              "              1st Flr SF  2nd Flr SF  ...  3Ssn Porch  Screen Porch  \\\n",
              "Lot Area        0.321461    0.030322  ...    0.016611      0.056114   \n",
              "Overall Qual    0.474637    0.240763  ...    0.018591      0.042559   \n",
              "Overall Cond   -0.157600    0.006540  ...    0.043789      0.043868   \n",
              "Mas Vnr Area    0.376504    0.119542  ...    0.014670      0.068315   \n",
              "BsmtFin SF 1    0.439639   -0.167701  ...    0.051656      0.098370   \n",
              "\n",
              "              Pool Area  Misc Val  SalePrice  years_since_built  \\\n",
              "Lot Area       0.094417  0.038006   0.267663          -0.020980   \n",
              "Overall Qual   0.030677 -0.027650   0.801116          -0.596142   \n",
              "Overall Cond  -0.016834  0.047052  -0.101377           0.369166   \n",
              "Mas Vnr Area   0.005131 -0.022904   0.507323          -0.306479   \n",
              "BsmtFin SF 1   0.085539  0.015759   0.439262          -0.278013   \n",
              "\n",
              "              years_since_remod  years_since_garage_built  Bathrooms  \\\n",
              "Lot Area              -0.019942                  0.027973   0.105132   \n",
              "Overall Qual          -0.570011                 -0.469990   0.525266   \n",
              "Overall Cond          -0.046581                  0.307162  -0.201844   \n",
              "Mas Vnr Area          -0.191092                 -0.210351   0.290209   \n",
              "BsmtFin SF 1          -0.148368                 -0.155036   0.042632   \n",
              "\n",
              "              SalePrice  \n",
              "Lot Area       0.267663  \n",
              "Overall Qual   0.801116  \n",
              "Overall Cond  -0.101377  \n",
              "Mas Vnr Area   0.507323  \n",
              "BsmtFin SF 1   0.439262  \n",
              "\n",
              "[5 rows x 33 columns]"
            ],
            "text/html": [
              "\n",
              "  <div id=\"df-7ff41348-796b-40ff-a215-0446697f0e5a\">\n",
              "    <div class=\"colab-df-container\">\n",
              "      <div>\n",
              "<style scoped>\n",
              "    .dataframe tbody tr th:only-of-type {\n",
              "        vertical-align: middle;\n",
              "    }\n",
              "\n",
              "    .dataframe tbody tr th {\n",
              "        vertical-align: top;\n",
              "    }\n",
              "\n",
              "    .dataframe thead th {\n",
              "        text-align: right;\n",
              "    }\n",
              "</style>\n",
              "<table border=\"1\" class=\"dataframe\">\n",
              "  <thead>\n",
              "    <tr style=\"text-align: right;\">\n",
              "      <th></th>\n",
              "      <th>Lot Area</th>\n",
              "      <th>Overall Qual</th>\n",
              "      <th>Overall Cond</th>\n",
              "      <th>Mas Vnr Area</th>\n",
              "      <th>BsmtFin SF 1</th>\n",
              "      <th>BsmtFin SF 2</th>\n",
              "      <th>Bsmt Unf SF</th>\n",
              "      <th>Total Bsmt SF</th>\n",
              "      <th>1st Flr SF</th>\n",
              "      <th>2nd Flr SF</th>\n",
              "      <th>...</th>\n",
              "      <th>3Ssn Porch</th>\n",
              "      <th>Screen Porch</th>\n",
              "      <th>Pool Area</th>\n",
              "      <th>Misc Val</th>\n",
              "      <th>SalePrice</th>\n",
              "      <th>years_since_built</th>\n",
              "      <th>years_since_remod</th>\n",
              "      <th>years_since_garage_built</th>\n",
              "      <th>Bathrooms</th>\n",
              "      <th>SalePrice</th>\n",
              "    </tr>\n",
              "  </thead>\n",
              "  <tbody>\n",
              "    <tr>\n",
              "      <th>Lot Area</th>\n",
              "      <td>1.000000</td>\n",
              "      <td>0.090563</td>\n",
              "      <td>-0.033529</td>\n",
              "      <td>0.114944</td>\n",
              "      <td>0.180222</td>\n",
              "      <td>0.084433</td>\n",
              "      <td>0.020976</td>\n",
              "      <td>0.241501</td>\n",
              "      <td>0.321461</td>\n",
              "      <td>0.030322</td>\n",
              "      <td>...</td>\n",
              "      <td>0.016611</td>\n",
              "      <td>0.056114</td>\n",
              "      <td>0.094417</td>\n",
              "      <td>0.038006</td>\n",
              "      <td>0.267663</td>\n",
              "      <td>-0.020980</td>\n",
              "      <td>-0.019942</td>\n",
              "      <td>0.027973</td>\n",
              "      <td>0.105132</td>\n",
              "      <td>0.267663</td>\n",
              "    </tr>\n",
              "    <tr>\n",
              "      <th>Overall Qual</th>\n",
              "      <td>0.090563</td>\n",
              "      <td>1.000000</td>\n",
              "      <td>-0.093706</td>\n",
              "      <td>0.419390</td>\n",
              "      <td>0.278220</td>\n",
              "      <td>-0.040428</td>\n",
              "      <td>0.268457</td>\n",
              "      <td>0.545554</td>\n",
              "      <td>0.474637</td>\n",
              "      <td>0.240763</td>\n",
              "      <td>...</td>\n",
              "      <td>0.018591</td>\n",
              "      <td>0.042559</td>\n",
              "      <td>0.030677</td>\n",
              "      <td>-0.027650</td>\n",
              "      <td>0.801116</td>\n",
              "      <td>-0.596142</td>\n",
              "      <td>-0.570011</td>\n",
              "      <td>-0.469990</td>\n",
              "      <td>0.525266</td>\n",
              "      <td>0.801116</td>\n",
              "    </tr>\n",
              "    <tr>\n",
              "      <th>Overall Cond</th>\n",
              "      <td>-0.033529</td>\n",
              "      <td>-0.093706</td>\n",
              "      <td>1.000000</td>\n",
              "      <td>-0.132183</td>\n",
              "      <td>-0.050091</td>\n",
              "      <td>0.040798</td>\n",
              "      <td>-0.136624</td>\n",
              "      <td>-0.174688</td>\n",
              "      <td>-0.157600</td>\n",
              "      <td>0.006540</td>\n",
              "      <td>...</td>\n",
              "      <td>0.043789</td>\n",
              "      <td>0.043868</td>\n",
              "      <td>-0.016834</td>\n",
              "      <td>0.047052</td>\n",
              "      <td>-0.101377</td>\n",
              "      <td>0.369166</td>\n",
              "      <td>-0.046581</td>\n",
              "      <td>0.307162</td>\n",
              "      <td>-0.201844</td>\n",
              "      <td>-0.101377</td>\n",
              "    </tr>\n",
              "    <tr>\n",
              "      <th>Mas Vnr Area</th>\n",
              "      <td>0.114944</td>\n",
              "      <td>0.419390</td>\n",
              "      <td>-0.132183</td>\n",
              "      <td>1.000000</td>\n",
              "      <td>0.284386</td>\n",
              "      <td>-0.014197</td>\n",
              "      <td>0.087732</td>\n",
              "      <td>0.378874</td>\n",
              "      <td>0.376504</td>\n",
              "      <td>0.119542</td>\n",
              "      <td>...</td>\n",
              "      <td>0.014670</td>\n",
              "      <td>0.068315</td>\n",
              "      <td>0.005131</td>\n",
              "      <td>-0.022904</td>\n",
              "      <td>0.507323</td>\n",
              "      <td>-0.306479</td>\n",
              "      <td>-0.191092</td>\n",
              "      <td>-0.210351</td>\n",
              "      <td>0.290209</td>\n",
              "      <td>0.507323</td>\n",
              "    </tr>\n",
              "    <tr>\n",
              "      <th>BsmtFin SF 1</th>\n",
              "      <td>0.180222</td>\n",
              "      <td>0.278220</td>\n",
              "      <td>-0.050091</td>\n",
              "      <td>0.284386</td>\n",
              "      <td>1.000000</td>\n",
              "      <td>-0.053626</td>\n",
              "      <td>-0.488008</td>\n",
              "      <td>0.522778</td>\n",
              "      <td>0.439639</td>\n",
              "      <td>-0.167701</td>\n",
              "      <td>...</td>\n",
              "      <td>0.051656</td>\n",
              "      <td>0.098370</td>\n",
              "      <td>0.085539</td>\n",
              "      <td>0.015759</td>\n",
              "      <td>0.439262</td>\n",
              "      <td>-0.278013</td>\n",
              "      <td>-0.148368</td>\n",
              "      <td>-0.155036</td>\n",
              "      <td>0.042632</td>\n",
              "      <td>0.439262</td>\n",
              "    </tr>\n",
              "  </tbody>\n",
              "</table>\n",
              "<p>5 rows × 33 columns</p>\n",
              "</div>\n",
              "      <button class=\"colab-df-convert\" onclick=\"convertToInteractive('df-7ff41348-796b-40ff-a215-0446697f0e5a')\"\n",
              "              title=\"Convert this dataframe to an interactive table.\"\n",
              "              style=\"display:none;\">\n",
              "        \n",
              "  <svg xmlns=\"http://www.w3.org/2000/svg\" height=\"24px\"viewBox=\"0 0 24 24\"\n",
              "       width=\"24px\">\n",
              "    <path d=\"M0 0h24v24H0V0z\" fill=\"none\"/>\n",
              "    <path d=\"M18.56 5.44l.94 2.06.94-2.06 2.06-.94-2.06-.94-.94-2.06-.94 2.06-2.06.94zm-11 1L8.5 8.5l.94-2.06 2.06-.94-2.06-.94L8.5 2.5l-.94 2.06-2.06.94zm10 10l.94 2.06.94-2.06 2.06-.94-2.06-.94-.94-2.06-.94 2.06-2.06.94z\"/><path d=\"M17.41 7.96l-1.37-1.37c-.4-.4-.92-.59-1.43-.59-.52 0-1.04.2-1.43.59L10.3 9.45l-7.72 7.72c-.78.78-.78 2.05 0 2.83L4 21.41c.39.39.9.59 1.41.59.51 0 1.02-.2 1.41-.59l7.78-7.78 2.81-2.81c.8-.78.8-2.07 0-2.86zM5.41 20L4 18.59l7.72-7.72 1.47 1.35L5.41 20z\"/>\n",
              "  </svg>\n",
              "      </button>\n",
              "      \n",
              "  <style>\n",
              "    .colab-df-container {\n",
              "      display:flex;\n",
              "      flex-wrap:wrap;\n",
              "      gap: 12px;\n",
              "    }\n",
              "\n",
              "    .colab-df-convert {\n",
              "      background-color: #E8F0FE;\n",
              "      border: none;\n",
              "      border-radius: 50%;\n",
              "      cursor: pointer;\n",
              "      display: none;\n",
              "      fill: #1967D2;\n",
              "      height: 32px;\n",
              "      padding: 0 0 0 0;\n",
              "      width: 32px;\n",
              "    }\n",
              "\n",
              "    .colab-df-convert:hover {\n",
              "      background-color: #E2EBFA;\n",
              "      box-shadow: 0px 1px 2px rgba(60, 64, 67, 0.3), 0px 1px 3px 1px rgba(60, 64, 67, 0.15);\n",
              "      fill: #174EA6;\n",
              "    }\n",
              "\n",
              "    [theme=dark] .colab-df-convert {\n",
              "      background-color: #3B4455;\n",
              "      fill: #D2E3FC;\n",
              "    }\n",
              "\n",
              "    [theme=dark] .colab-df-convert:hover {\n",
              "      background-color: #434B5C;\n",
              "      box-shadow: 0px 1px 3px 1px rgba(0, 0, 0, 0.15);\n",
              "      filter: drop-shadow(0px 1px 2px rgba(0, 0, 0, 0.3));\n",
              "      fill: #FFFFFF;\n",
              "    }\n",
              "  </style>\n",
              "\n",
              "      <script>\n",
              "        const buttonEl =\n",
              "          document.querySelector('#df-7ff41348-796b-40ff-a215-0446697f0e5a button.colab-df-convert');\n",
              "        buttonEl.style.display =\n",
              "          google.colab.kernel.accessAllowed ? 'block' : 'none';\n",
              "\n",
              "        async function convertToInteractive(key) {\n",
              "          const element = document.querySelector('#df-7ff41348-796b-40ff-a215-0446697f0e5a');\n",
              "          const dataTable =\n",
              "            await google.colab.kernel.invokeFunction('convertToInteractive',\n",
              "                                                     [key], {});\n",
              "          if (!dataTable) return;\n",
              "\n",
              "          const docLinkHtml = 'Like what you see? Visit the ' +\n",
              "            '<a target=\"_blank\" href=https://colab.research.google.com/notebooks/data_table.ipynb>data table notebook</a>'\n",
              "            + ' to learn more about interactive tables.';\n",
              "          element.innerHTML = '';\n",
              "          dataTable['output_type'] = 'display_data';\n",
              "          await google.colab.output.renderOutput(dataTable, element);\n",
              "          const docLink = document.createElement('div');\n",
              "          docLink.innerHTML = docLinkHtml;\n",
              "          element.appendChild(docLink);\n",
              "        }\n",
              "      </script>\n",
              "    </div>\n",
              "  </div>\n",
              "  "
            ]
          },
          "metadata": {},
          "execution_count": 54
        }
      ]
    },
    {
      "cell_type": "code",
      "source": [
        "# drop columns that are highly correlated to columns other than sale price\n",
        "# drop_cols = ['Garage Area','TotRms AbvGrd'] # increased RMSE\n",
        "drop_cols = ['Garage Area']\n",
        "transformed_df = transformed_df.drop(columns=drop_cols, errors='ignore')"
      ],
      "metadata": {
        "id": "o10GIKuoecvg"
      },
      "execution_count": 55,
      "outputs": []
    },
    {
      "cell_type": "code",
      "source": [
        "filtered_df = select_features(transformed_df)\n",
        "rmse = train_and_test(filtered_df)"
      ],
      "metadata": {
        "colab": {
          "base_uri": "https://localhost:8080/"
        },
        "id": "Fqk359KffNtX",
        "outputId": "9556c968-9411-4925-fb68-53bdc335bd9b"
      },
      "execution_count": 56,
      "outputs": [
        {
          "output_type": "stream",
          "name": "stdout",
          "text": [
            "WARNING: Non-numeric columns will not be included in the model: ['MS SubClass', 'MS Zoning', 'Street', 'Lot Shape', 'Land Contour', 'Utilities', 'Lot Config', 'Land Slope', 'Neighborhood', 'Condition 1', 'Condition 2', 'Bldg Type', 'House Style', 'Roof Style', 'Roof Matl', 'Exterior 1st', 'Exterior 2nd', 'Mas Vnr Type', 'Exter Qual', 'Exter Cond', 'Foundation', 'Bsmt Qual', 'Bsmt Cond', 'Bsmt Exposure', 'BsmtFin Type 1', 'BsmtFin Type 2', 'Heating', 'Heating QC', 'Central Air', 'Electrical', 'Kitchen Qual', 'Functional', 'Garage Type', 'Garage Finish', 'Garage Qual', 'Garage Cond', 'Paved Drive']\n",
            "Test RMSE: 28215.893633155334, Train RMSE: 33835.46431280156\n"
          ]
        }
      ]
    },
    {
      "cell_type": "markdown",
      "source": [
        "Garage Area is highly correlated with Garage Cars and TotRms AbvGrd is highly correlated with GrLiving Area. Dropping Garage Cars and TotRms AbvGrd increased RMSE:  \n",
        "28058.556035136608 - 27947.03139306928 = 111.52464206732839\n",
        "\n",
        "Only dropping Garage Area reduced RMSE."
      ],
      "metadata": {
        "id": "9DTTev9YPz5N"
      }
    },
    {
      "cell_type": "code",
      "source": [
        "# if highly correlated columns were provided, skip this step\n",
        "high_corr_cols=[]\n",
        "if high_corr_cols==[]:\n",
        "    # create correlation matrix\n",
        "    corr_df = transformed_df.corr()\n",
        "    # calculate absolute correlation coefficients\n",
        "    abs_corr_coeffs = corr_df['SalePrice'].abs().sort_values()\n",
        "    # get columns that have a high correlation coefficients\n",
        "    corr_thresh = 0.0\n",
        "    high_corr_cols = abs_corr_coeffs[abs_corr_coeffs > corr_thresh].index\n",
        "# keep highly correlated\n",
        "transformed_df = transformed_df[high_corr_cols]"
      ],
      "metadata": {
        "id": "0YQ6nPkNHYUD"
      },
      "execution_count": 57,
      "outputs": []
    },
    {
      "cell_type": "code",
      "source": [
        "high_corr_cols"
      ],
      "metadata": {
        "colab": {
          "base_uri": "https://localhost:8080/"
        },
        "id": "g7HXMJoxgQBu",
        "outputId": "6b36b4cb-8513-4254-9e57-e5baa5fdd7fe"
      },
      "execution_count": 58,
      "outputs": [
        {
          "output_type": "execute_result",
          "data": {
            "text/plain": [
              "Index(['BsmtFin SF 2', 'Misc Val', '3Ssn Porch', 'Bsmt Half Bath',\n",
              "       'Low Qual Fin SF', 'Pool Area', 'Overall Cond', 'Screen Porch',\n",
              "       'Kitchen AbvGr', 'Enclosed Porch', 'Bedroom AbvGr', 'Bsmt Unf SF',\n",
              "       'Lot Area', '2nd Flr SF', 'Bsmt Full Bath', 'Open Porch SF',\n",
              "       'Wood Deck SF', 'BsmtFin SF 1', 'years_since_garage_built',\n",
              "       'Fireplaces', 'TotRms AbvGrd', 'Mas Vnr Area', 'years_since_remod',\n",
              "       'Bathrooms', 'years_since_built', '1st Flr SF', 'Total Bsmt SF',\n",
              "       'Garage Cars', 'Gr Liv Area', 'Overall Qual', 'SalePrice'],\n",
              "      dtype='object')"
            ]
          },
          "metadata": {},
          "execution_count": 58
        }
      ]
    },
    {
      "cell_type": "code",
      "source": [
        "filtered_df = select_features(transformed_df)\n",
        "rmse = train_and_test(filtered_df) "
      ],
      "metadata": {
        "colab": {
          "base_uri": "https://localhost:8080/"
        },
        "id": "b0ojuSOqfHpM",
        "outputId": "2e643dd4-8b47-43ea-f662-02894a8ce9cb"
      },
      "execution_count": 59,
      "outputs": [
        {
          "output_type": "stream",
          "name": "stdout",
          "text": [
            "Test RMSE: 28215.893633155567, Train RMSE: 33835.46431280156\n"
          ]
        }
      ]
    },
    {
      "cell_type": "markdown",
      "source": [
        "0.8  \n",
        "'Overall Qual'  \n",
        "Test RMSE: 46236.32346664704, Train RMSE: 49443.87470242076  \n",
        "\n",
        "0.6  \n",
        "'1st Flr SF', 'Garage Area', 'Total Bsmt SF', 'Garage Cars', 'Gr Liv Area', 'Overall Qual'  \n",
        "Test RMSE: 34110.88679971664, Train RMSE: 37738.79474281697  \n",
        "\n",
        "0.4  \n",
        "'BsmtFin SF 1', 'years_since_garage_built', 'Fireplaces',\n",
        "       'TotRms AbvGrd', 'Mas Vnr Area', 'years_since_remod', 'Bathrooms',\n",
        "       'years_since_built', '1st Flr SF', 'Total Bsmt SF', 'Garage Cars',\n",
        "       'Gr Liv Area', 'Overall Qual'  \n",
        "Test RMSE: 30298.367837063786, Train RMSE: 35089.03029383569  \n",
        "\n",
        "0.2  \n",
        "'Lot Area', '2nd Flr SF', 'Bsmt Full Bath', 'Open Porch SF',\n",
        "       'Wood Deck SF', 'BsmtFin SF 1', 'years_since_garage_built',\n",
        "       'Fireplaces', 'TotRms AbvGrd', 'Mas Vnr Area', 'years_since_remod',\n",
        "       'Bathrooms', 'years_since_built', '1st Flr SF', 'Total Bsmt SF',\n",
        "       'Garage Cars', 'Gr Liv Area', 'Overall Qual'    \n",
        "Test RMSE: 29731.310264257252, Train RMSE: 34774.37630203527  \n",
        "\n",
        "0.1  \n",
        "'Overall Cond', 'Screen Porch', 'Kitchen AbvGr', 'Enclosed Porch',\n",
        "       'Bedroom AbvGr', 'Bsmt Unf SF', 'Lot Area', '2nd Flr SF',\n",
        "       'Bsmt Full Bath', 'Open Porch SF', 'Wood Deck SF', 'BsmtFin SF 1',\n",
        "       'years_since_garage_built', 'Fireplaces', 'TotRms AbvGrd',\n",
        "       'Mas Vnr Area', 'years_since_remod', 'Bathrooms', 'years_since_built',\n",
        "       '1st Flr SF', 'Total Bsmt SF', 'Garage Cars', 'Gr Liv Area',\n",
        "       'Overall Qual'  \n",
        "Test RMSE: 28257.60600135309, Train RMSE: 33925.887835433285  \n",
        "\n",
        "0  \n",
        "'BsmtFin SF 2', 'Misc Val', '3Ssn Porch', 'Bsmt Half Bath',\n",
        "       'Low Qual Fin SF', 'Pool Area', 'MS SubClass', 'Overall Cond',\n",
        "       'Screen Porch', 'Kitchen AbvGr', 'Enclosed Porch', 'Bedroom AbvGr',\n",
        "       'Bsmt Unf SF', 'Lot Area', '2nd Flr SF', 'Bsmt Full Bath',\n",
        "       'Open Porch SF', 'Wood Deck SF', 'BsmtFin SF 1',\n",
        "       'years_since_garage_built', 'Fireplaces', 'TotRms AbvGrd',\n",
        "       'Mas Vnr Area', 'years_since_remod', 'Bathrooms', 'years_since_built',\n",
        "       '1st Flr SF', 'Total Bsmt SF', 'Garage Cars', 'Gr Liv Area',\n",
        "       'Overall Qual'   \n",
        "Test RMSE: 27660.449988989607, Train RMSE: 33423.505865954816  \n",
        "\n",
        "\n",
        "Filtering by highly correlated columns did not reduce RMSE.\n"
      ],
      "metadata": {
        "id": "iUeQM1L1R1jL"
      }
    },
    {
      "cell_type": "markdown",
      "source": [
        "### Transforming Text to Numerical\n",
        "Text columns will be transformed to categorical, then dummy columns will be created so that all the data is in numerical format."
      ],
      "metadata": {
        "id": "qyJSoy-LKb1h"
      }
    },
    {
      "cell_type": "code",
      "source": [
        "# finding highly correlated columns removed text colums, so we have to re-create transformed_df\n",
        "transformed_df = transform_features(ames_df, lot_frontage_nbhd=False, combine_porch_sf=False)\n",
        "filtered_df = select_features(transformed_df)\n",
        "rmse = train_and_test(filtered_df)"
      ],
      "metadata": {
        "colab": {
          "base_uri": "https://localhost:8080/"
        },
        "id": "uux4FulK5hWr",
        "outputId": "0020a3c4-ad61-41b2-9d98-eeb149c1de58"
      },
      "execution_count": 60,
      "outputs": [
        {
          "output_type": "stream",
          "name": "stdout",
          "text": [
            "Begin Transform Features with 82 columns and 2930 rows\n",
            "End Transform Features with 69 columns and 2926 rows\n",
            "WARNING: Non-numeric columns will not be included in the model: ['MS SubClass', 'MS Zoning', 'Street', 'Lot Shape', 'Land Contour', 'Utilities', 'Lot Config', 'Land Slope', 'Neighborhood', 'Condition 1', 'Condition 2', 'Bldg Type', 'House Style', 'Roof Style', 'Roof Matl', 'Exterior 1st', 'Exterior 2nd', 'Mas Vnr Type', 'Exter Qual', 'Exter Cond', 'Foundation', 'Bsmt Qual', 'Bsmt Cond', 'Bsmt Exposure', 'BsmtFin Type 1', 'BsmtFin Type 2', 'Heating', 'Heating QC', 'Central Air', 'Electrical', 'Kitchen Qual', 'Functional', 'Garage Type', 'Garage Finish', 'Garage Qual', 'Garage Cond', 'Paved Drive']\n",
            "Test RMSE: 28217.333098304378, Train RMSE: 33835.459860906936\n"
          ]
        }
      ]
    },
    {
      "cell_type": "markdown",
      "source": [
        "#### Test transforming ordinal text columns to numerical"
      ],
      "metadata": {
        "id": "eTPUCjjB4E4V"
      }
    },
    {
      "cell_type": "code",
      "source": [
        "# list all text columns\n",
        "all_text_cols = transformed_df.select_dtypes(include=['object']).columns.to_list()\n",
        "len(all_text_cols)"
      ],
      "metadata": {
        "colab": {
          "base_uri": "https://localhost:8080/"
        },
        "id": "37gg1mMl624W",
        "outputId": "5b746d0a-311c-49b2-c099-8629e46376ab"
      },
      "execution_count": 61,
      "outputs": [
        {
          "output_type": "execute_result",
          "data": {
            "text/plain": [
              "37"
            ]
          },
          "metadata": {},
          "execution_count": 61
        }
      ]
    },
    {
      "cell_type": "code",
      "source": [
        "test_ordinal_df = transformed_df.copy()\n",
        "# convert ordinal text columns to numeric\n",
        "transformed_ordinal = []\n",
        "for col, mapper in ordinal_dict.items():\n",
        "    if col in test_ordinal_df.columns:\n",
        "        test_ordinal_df[col] = test_ordinal_df[col].map(mapper)\n",
        "        transformed_ordinal.append(col)"
      ],
      "metadata": {
        "id": "tqzmjegGHleg"
      },
      "execution_count": 62,
      "outputs": []
    },
    {
      "cell_type": "code",
      "source": [
        "filtered_df = select_features(test_ordinal_df)\n",
        "rmse = train_and_test(filtered_df) "
      ],
      "metadata": {
        "colab": {
          "base_uri": "https://localhost:8080/"
        },
        "id": "ZmWzojvu3wL-",
        "outputId": "55d8dea7-eaa5-41d2-d7bc-21abb950819b"
      },
      "execution_count": 63,
      "outputs": [
        {
          "output_type": "stream",
          "name": "stdout",
          "text": [
            "WARNING: Non-numeric columns will not be included in the model: ['MS SubClass', 'MS Zoning', 'Street', 'Lot Shape', 'Land Contour', 'Utilities', 'Lot Config', 'Neighborhood', 'Condition 1', 'Condition 2', 'Bldg Type', 'House Style', 'Roof Style', 'Roof Matl', 'Exterior 1st', 'Exterior 2nd', 'Mas Vnr Type', 'Foundation', 'Heating', 'Central Air', 'Electrical', 'Functional', 'Garage Type', 'Garage Finish']\n",
            "Test RMSE: 26799.049498739518, Train RMSE: 31993.13153788107\n"
          ]
        }
      ]
    },
    {
      "cell_type": "markdown",
      "source": [
        "Including ordinal columns by converting them to numeric decreased RMSE."
      ],
      "metadata": {
        "id": "skcu4d846qMf"
      }
    },
    {
      "cell_type": "code",
      "source": [
        "# transformed_df = test_ordinal_df.copy()"
      ],
      "metadata": {
        "id": "nlNMj9qzGmUT"
      },
      "execution_count": 64,
      "outputs": []
    },
    {
      "cell_type": "code",
      "source": [
        "# list all text columns\n",
        "all_text_cols = transformed_df.select_dtypes(include=['object']).columns.to_list()\n",
        "len(all_text_cols)"
      ],
      "metadata": {
        "id": "n6RoDPgoKzFt",
        "colab": {
          "base_uri": "https://localhost:8080/"
        },
        "outputId": "c990aa98-f6af-41f7-df6f-3307655753f1"
      },
      "execution_count": 65,
      "outputs": [
        {
          "output_type": "execute_result",
          "data": {
            "text/plain": [
              "37"
            ]
          },
          "metadata": {},
          "execution_count": 65
        }
      ]
    },
    {
      "cell_type": "code",
      "source": [
        "# create dataframe of text columns\n",
        "text_df = transformed_df[all_text_cols].copy()"
      ],
      "metadata": {
        "id": "IpwZjhrq9h5s"
      },
      "execution_count": 66,
      "outputs": []
    },
    {
      "cell_type": "markdown",
      "source": [
        "When we create dummy columns, that will create a new column for each unique values, so we will drop text columns that have too many unique values."
      ],
      "metadata": {
        "id": "EWY94tl68l7u"
      }
    },
    {
      "cell_type": "code",
      "source": [
        "# set arbitrary threshold and drop columns that have more than that many unique values\n",
        "unique_val_thresh=30\n",
        "drop_cols = text_df.nunique()[text_df.nunique() > unique_val_thresh].index\n",
        "text_df = text_df.drop(columns=drop_cols)\n",
        "print(f'Removed {len(drop_cols)} columns because they contained {unique_val_thresh} or more unique values: {drop_cols}')"
      ],
      "metadata": {
        "id": "9m1M-hI2K2AC",
        "colab": {
          "base_uri": "https://localhost:8080/"
        },
        "outputId": "881f8b3b-9788-4b15-987a-d36673cd409b"
      },
      "execution_count": 67,
      "outputs": [
        {
          "output_type": "stream",
          "name": "stdout",
          "text": [
            "Removed 0 columns because they contained 30 or more unique values: Index([], dtype='object')\n"
          ]
        }
      ]
    },
    {
      "cell_type": "markdown",
      "source": [
        "We will try to remove columns with low variance by dropping columns where one value accounts for more than 95% (or some other threshold) of values."
      ],
      "metadata": {
        "id": "yCCa8Di-FG8H"
      }
    },
    {
      "cell_type": "code",
      "source": [
        "# the describe df index 'freq' tells us how many times the most frequent value occurs\n",
        "# get most the common value's frequency for each text column\n",
        "# divide by length of dataframe to convert to percentage\n",
        "value_frequency = text_df.describe().loc['freq'].sort_values() / len(text_df)\n",
        "# columns where most frequent value accounts for more than some percentage of values\n",
        "single_value_thresh=0.95\n",
        "drop_cols = value_frequency[value_frequency > 0.95].index\n",
        "print(f'Dropping columns if one value represents more than {single_value_thresh*100}% of the data: {drop_cols}')\n",
        "text_df = text_df.drop(columns=drop_cols)\n",
        "\n",
        "# get dummies for text columns\n",
        "dummy_df = pd.get_dummies(text_df)"
      ],
      "metadata": {
        "id": "0DPm382vLA7N",
        "colab": {
          "base_uri": "https://localhost:8080/"
        },
        "outputId": "44f99256-a0bc-437f-e1d2-d7dab0dd3a34"
      },
      "execution_count": 68,
      "outputs": [
        {
          "output_type": "stream",
          "name": "stdout",
          "text": [
            "Dropping columns if one value represents more than 95.0% of the data: Index(['Land Slope', 'Garage Cond', 'Heating', 'Roof Matl', 'Condition 2',\n",
            "       'Street', 'Utilities'],\n",
            "      dtype='object')\n"
          ]
        }
      ]
    },
    {
      "cell_type": "code",
      "source": [
        "dummy_df.shape"
      ],
      "metadata": {
        "colab": {
          "base_uri": "https://localhost:8080/"
        },
        "id": "CsEigMHQViLM",
        "outputId": "b5dbb329-1f64-4f09-cbcd-962638efdad8"
      },
      "execution_count": 69,
      "outputs": [
        {
          "output_type": "execute_result",
          "data": {
            "text/plain": [
              "(2926, 215)"
            ]
          },
          "metadata": {},
          "execution_count": 69
        }
      ]
    },
    {
      "cell_type": "code",
      "source": [
        "df1 = transformed_df.drop(columns=all_text_cols)\n",
        "df2 = dummy_df\n",
        "test_df = pd.concat([df1, df2], axis=1)\n",
        "filtered_df = select_features(test_df)\n",
        "rmse = train_and_test(filtered_df)"
      ],
      "metadata": {
        "colab": {
          "base_uri": "https://localhost:8080/"
        },
        "id": "VVBJPvDFavlF",
        "outputId": "5bee0a19-17dd-4448-a4c3-6fd2d3529f9e"
      },
      "execution_count": 70,
      "outputs": [
        {
          "output_type": "stream",
          "name": "stdout",
          "text": [
            "Test RMSE: 25172.61071035756, Train RMSE: 23874.39327541863\n"
          ]
        }
      ]
    },
    {
      "cell_type": "code",
      "source": [
        "results['dummy columns'] = rmse\n",
        "results"
      ],
      "metadata": {
        "colab": {
          "base_uri": "https://localhost:8080/"
        },
        "id": "G9JIEi2KKyNp",
        "outputId": "a25b0e46-318e-4423-b18d-1b4196bcf525"
      },
      "execution_count": 71,
      "outputs": [
        {
          "output_type": "execute_result",
          "data": {
            "text/plain": [
              "{'original': [55943.34407431997, 57086.31613271551],\n",
              " 'resolve null values': [31459.519644043823, 34272.84697547075],\n",
              " 'new features': [27947.03139306928, 33425.29432231938],\n",
              " 'updated transform_features() function': [28217.333098304378,\n",
              "  33835.459860906936],\n",
              " 'dummy columns': [25172.61071035756, 23874.39327541863]}"
            ]
          },
          "metadata": {},
          "execution_count": 71
        }
      ]
    },
    {
      "cell_type": "markdown",
      "source": [
        "Not converting text to ordinal:  \n",
        "Test RMSE: 25172.61071035756, Train RMSE: 23874.39327541863\n",
        "\n",
        "Converting text to ordinal first, before creating dummy columns:  \n",
        "RMSE: 26516.470316924082, Train RMSE: 25127.3365618802  \n",
        "\n",
        "Even though converting text to ordinal improved the RMSE, it was better to convert all columns to categorical and use dummy columns.\n",
        "\n",
        "We will remove dummy columns with low variance."
      ],
      "metadata": {
        "id": "vzR3W_nGFeD2"
      }
    },
    {
      "cell_type": "code",
      "source": [
        "# create dataframe of dummy column variance\n",
        "var_dummy_cols = []\n",
        "for col in dummy_df.columns:\n",
        "    var_dummy_cols.append(dummy_df[col].value_counts(normalize=True))\n",
        "dummy_var_df = pd.DataFrame(var_dummy_cols)\n",
        "# set a threshold\n",
        "# if False values exceed this threshold, the column will be dropped\n",
        "dummy_var_thresh = 0.99\n",
        "drop_dummy_cols = dummy_var_df[dummy_var_df[0]>dummy_var_thresh].index\n",
        "dummy_df.drop(columns=drop_dummy_cols, inplace=True)"
      ],
      "metadata": {
        "id": "X7F1Rvf2PfRD"
      },
      "execution_count": 72,
      "outputs": []
    },
    {
      "cell_type": "code",
      "source": [
        "dummy_df.shape"
      ],
      "metadata": {
        "colab": {
          "base_uri": "https://localhost:8080/"
        },
        "id": "v9G5RkC4PPWS",
        "outputId": "8d1cc670-864d-4bf0-97a3-4f55048b3da1"
      },
      "execution_count": 73,
      "outputs": [
        {
          "output_type": "execute_result",
          "data": {
            "text/plain": [
              "(2926, 149)"
            ]
          },
          "metadata": {},
          "execution_count": 73
        }
      ]
    },
    {
      "cell_type": "code",
      "source": [
        "df1 = transformed_df.drop(columns=all_text_cols)\n",
        "df2 = dummy_df\n",
        "test_df = pd.concat([df1, df2], axis=1)\n",
        "filtered_df = select_features(test_df)\n",
        "rmse = train_and_test(filtered_df)"
      ],
      "metadata": {
        "colab": {
          "base_uri": "https://localhost:8080/"
        },
        "id": "MACd9phybGYY",
        "outputId": "2451660b-943b-4db5-ad27-1297632cfa04"
      },
      "execution_count": 74,
      "outputs": [
        {
          "output_type": "stream",
          "name": "stdout",
          "text": [
            "Test RMSE: 24645.647930544466, Train RMSE: 24768.03660552109\n"
          ]
        }
      ]
    },
    {
      "cell_type": "code",
      "source": [
        "results['dummy columns reduced variance'] = rmse\n",
        "results"
      ],
      "metadata": {
        "colab": {
          "base_uri": "https://localhost:8080/"
        },
        "id": "2JyJtkZMIUia",
        "outputId": "7d613d2a-c675-4db7-eb51-80180e7ecb05"
      },
      "execution_count": 75,
      "outputs": [
        {
          "output_type": "execute_result",
          "data": {
            "text/plain": [
              "{'original': [55943.34407431997, 57086.31613271551],\n",
              " 'resolve null values': [31459.519644043823, 34272.84697547075],\n",
              " 'new features': [27947.03139306928, 33425.29432231938],\n",
              " 'updated transform_features() function': [28217.333098304378,\n",
              "  33835.459860906936],\n",
              " 'dummy columns': [25172.61071035756, 23874.39327541863],\n",
              " 'dummy columns reduced variance': [24645.647930544466, 24768.03660552109]}"
            ]
          },
          "metadata": {},
          "execution_count": 75
        }
      ]
    },
    {
      "cell_type": "markdown",
      "source": [
        "Using 99% threshold with dummy cols\n",
        "Test RMSE: 24949.63068566496, Train RMSE: 24740.132336733237"
      ],
      "metadata": {
        "id": "AvRlWgqXMLxQ"
      }
    },
    {
      "cell_type": "markdown",
      "source": [
        "Find dummy columns that have high correlation with sale price."
      ],
      "metadata": {
        "id": "K-K6ULPeQI4_"
      }
    },
    {
      "cell_type": "code",
      "source": [
        "# create correlation matrix\n",
        "corr_df = pd.concat([dummy_df, ames_df[['SalePrice']]], axis=1).corr()"
      ],
      "metadata": {
        "id": "OUQo6V8TQP8x"
      },
      "execution_count": 76,
      "outputs": []
    },
    {
      "cell_type": "code",
      "source": [
        "corr_df.shape"
      ],
      "metadata": {
        "colab": {
          "base_uri": "https://localhost:8080/"
        },
        "id": "5aPZCnsUQ4Es",
        "outputId": "abc1a031-79e5-436e-a497-2efdfe041250"
      },
      "execution_count": 77,
      "outputs": [
        {
          "output_type": "execute_result",
          "data": {
            "text/plain": [
              "(150, 150)"
            ]
          },
          "metadata": {},
          "execution_count": 77
        }
      ]
    },
    {
      "cell_type": "code",
      "source": [
        "# calculate absolute correlation coefficients\n",
        "abs_corr_coeffs = corr_df['SalePrice'].abs().sort_values()\n",
        "# get columns that have a high correlation coefficients\n",
        "corr_thresh = 0.2\n",
        "high_corr_cols = [col for col in abs_corr_coeffs[abs_corr_coeffs > corr_thresh].index if col != 'SalePrice']\n",
        "high_corr_df = pd.concat([dummy_df[high_corr_cols], ames_df[['SalePrice']]], axis=1).corr()"
      ],
      "metadata": {
        "id": "VCRR26AeTL7M"
      },
      "execution_count": 78,
      "outputs": []
    },
    {
      "cell_type": "code",
      "source": [
        "high_corr_df.shape"
      ],
      "metadata": {
        "colab": {
          "base_uri": "https://localhost:8080/"
        },
        "id": "vney-S5rQ5yT",
        "outputId": "3812603a-32ed-4b1b-8873-799c6745e675"
      },
      "execution_count": 79,
      "outputs": [
        {
          "output_type": "execute_result",
          "data": {
            "text/plain": [
              "(46, 46)"
            ]
          },
          "metadata": {},
          "execution_count": 79
        }
      ]
    },
    {
      "cell_type": "code",
      "source": [
        "df1 = transformed_df.drop(columns=all_text_cols)\n",
        "df2 = dummy_df[high_corr_cols]\n",
        "test_df = pd.concat([df1, df2], axis=1)\n",
        "filtered_df = select_features(test_df)\n",
        "rmse = train_and_test(filtered_df)"
      ],
      "metadata": {
        "colab": {
          "base_uri": "https://localhost:8080/"
        },
        "id": "oNHDFKh3bYVn",
        "outputId": "aeba8d21-2c6d-446e-c8a7-10afd381ddf1"
      },
      "execution_count": 80,
      "outputs": [
        {
          "output_type": "stream",
          "name": "stdout",
          "text": [
            "Test RMSE: 23877.208641396446, Train RMSE: 28152.671086980783\n"
          ]
        }
      ]
    },
    {
      "cell_type": "code",
      "source": [
        "results['dummy columns high correlation'] = rmse\n",
        "results"
      ],
      "metadata": {
        "colab": {
          "base_uri": "https://localhost:8080/"
        },
        "id": "t8XHxnRwLMee",
        "outputId": "a82a34be-2658-4a82-9773-e7310f18b6de"
      },
      "execution_count": 81,
      "outputs": [
        {
          "output_type": "execute_result",
          "data": {
            "text/plain": [
              "{'original': [55943.34407431997, 57086.31613271551],\n",
              " 'resolve null values': [31459.519644043823, 34272.84697547075],\n",
              " 'new features': [27947.03139306928, 33425.29432231938],\n",
              " 'updated transform_features() function': [28217.333098304378,\n",
              "  33835.459860906936],\n",
              " 'dummy columns': [25172.61071035756, 23874.39327541863],\n",
              " 'dummy columns reduced variance': [24645.647930544466, 24768.03660552109],\n",
              " 'dummy columns high correlation': [23877.208641396446, 28152.671086980783]}"
            ]
          },
          "metadata": {},
          "execution_count": 81
        }
      ]
    },
    {
      "cell_type": "code",
      "source": [
        "high_corr_cols.sort()\n",
        "high_corr_cols"
      ],
      "metadata": {
        "colab": {
          "base_uri": "https://localhost:8080/"
        },
        "id": "_4816DgoVzpJ",
        "outputId": "0bd954af-8469-4d0d-a5de-e0f556eea64a"
      },
      "execution_count": 82,
      "outputs": [
        {
          "output_type": "execute_result",
          "data": {
            "text/plain": [
              "['Bsmt Exposure_Gd',\n",
              " 'Bsmt Exposure_No',\n",
              " 'Bsmt Qual_Ex',\n",
              " 'Bsmt Qual_Gd',\n",
              " 'Bsmt Qual_TA',\n",
              " 'BsmtFin Type 1_GLQ',\n",
              " 'Central Air_N',\n",
              " 'Central Air_Y',\n",
              " 'Electrical_SBrkr',\n",
              " 'Exter Qual_Ex',\n",
              " 'Exter Qual_Gd',\n",
              " 'Exter Qual_TA',\n",
              " 'Exterior 1st_VinylSd',\n",
              " 'Exterior 2nd_VinylSd',\n",
              " 'Foundation_BrkTil',\n",
              " 'Foundation_CBlock',\n",
              " 'Foundation_PConc',\n",
              " 'Garage Finish_Fin',\n",
              " 'Garage Finish_Unf',\n",
              " 'Garage Type_Attchd',\n",
              " 'Garage Type_BuiltIn',\n",
              " 'Garage Type_Detchd',\n",
              " 'Heating QC_Ex',\n",
              " 'Heating QC_TA',\n",
              " 'House Style_2Story',\n",
              " 'Kitchen Qual_Ex',\n",
              " 'Kitchen Qual_Gd',\n",
              " 'Kitchen Qual_TA',\n",
              " 'Lot Shape_IR1',\n",
              " 'Lot Shape_Reg',\n",
              " 'MS SubClass_1-STORY 1945 & OLDER1-STORY 1945 & OLDER',\n",
              " 'MS SubClass_2-STORY 1946 & NEWER',\n",
              " 'MS Zoning_RL',\n",
              " 'MS Zoning_RM',\n",
              " 'Mas Vnr Type_BrkFace',\n",
              " 'Mas Vnr Type_None',\n",
              " 'Mas Vnr Type_Stone',\n",
              " 'Neighborhood_NoRidge',\n",
              " 'Neighborhood_NridgHt',\n",
              " 'Neighborhood_OldTown',\n",
              " 'Neighborhood_StoneBr',\n",
              " 'Paved Drive_N',\n",
              " 'Paved Drive_Y',\n",
              " 'Roof Style_Gable',\n",
              " 'Roof Style_Hip']"
            ]
          },
          "metadata": {},
          "execution_count": 82
        }
      ]
    },
    {
      "cell_type": "markdown",
      "source": [
        "Drop the boolean columns, we only need to keep the True columns."
      ],
      "metadata": {
        "id": "A86YwrxzXwt9"
      }
    },
    {
      "cell_type": "code",
      "source": [
        "high_corr_cols.remove('Central Air_N')\n",
        "high_corr_cols.remove('Paved Drive_N')"
      ],
      "metadata": {
        "id": "oUyN0ggmcU6C"
      },
      "execution_count": 83,
      "outputs": []
    },
    {
      "cell_type": "code",
      "source": [
        "df1 = transformed_df.drop(columns=all_text_cols)\n",
        "df2 = dummy_df[high_corr_cols]\n",
        "test_df = pd.concat([df1, df2], axis=1)\n",
        "filtered_df = select_features(test_df)\n",
        "rmse = train_and_test(filtered_df)"
      ],
      "metadata": {
        "colab": {
          "base_uri": "https://localhost:8080/"
        },
        "id": "yrIF1elFYnzB",
        "outputId": "878f39f5-4461-423b-f5b4-bd83fabfb3db"
      },
      "execution_count": 84,
      "outputs": [
        {
          "output_type": "stream",
          "name": "stdout",
          "text": [
            "Test RMSE: 23876.835511422658, Train RMSE: 28152.707588296424\n"
          ]
        }
      ]
    },
    {
      "cell_type": "code",
      "source": [
        "# update high correlation value\n",
        "results['dummy columns high correlation'] = rmse\n",
        "results"
      ],
      "metadata": {
        "colab": {
          "base_uri": "https://localhost:8080/"
        },
        "id": "fBFdaYX5LRkd",
        "outputId": "e3d26c53-b147-4fc1-8df6-eb4714dd9dbc"
      },
      "execution_count": 85,
      "outputs": [
        {
          "output_type": "execute_result",
          "data": {
            "text/plain": [
              "{'original': [55943.34407431997, 57086.31613271551],\n",
              " 'resolve null values': [31459.519644043823, 34272.84697547075],\n",
              " 'new features': [27947.03139306928, 33425.29432231938],\n",
              " 'updated transform_features() function': [28217.333098304378,\n",
              "  33835.459860906936],\n",
              " 'dummy columns': [25172.61071035756, 23874.39327541863],\n",
              " 'dummy columns reduced variance': [24645.647930544466, 24768.03660552109],\n",
              " 'dummy columns high correlation': [23876.835511422658, 28152.707588296424]}"
            ]
          },
          "metadata": {},
          "execution_count": 85
        }
      ]
    },
    {
      "cell_type": "code",
      "source": [
        "# update transformed df by dropping the original text columns and adding in the dummy columns\n",
        "df1 = transformed_df.drop(columns=all_text_cols)\n",
        "df2 = dummy_df[high_corr_cols]\n",
        "transformed_df = pd.concat([df1, df2], axis=1)"
      ],
      "metadata": {
        "id": "bGDvcoXjMOQC"
      },
      "execution_count": 86,
      "outputs": []
    },
    {
      "cell_type": "markdown",
      "source": [
        "### Update select_features() function\n",
        "* Selecting highly correlated numeric features was not beneficial, but we will make a parameter in case we want to do more testing later.\n",
        "* We wil not transform ordinal values to numeric before converting text columns to categorical since that did not improve the model.\n",
        "* We will \n",
        "    * Transform text columns to categorical and then create dummy columns.\n",
        "    * Remove dummy columns with low variance.\n",
        "    * Select dummy columns with high correlation with sale price and create a parameter so we can adjust this value."
      ],
      "metadata": {
        "id": "5djixiShMOS8"
      }
    },
    {
      "cell_type": "code",
      "source": [
        "def select_features(df, num_corr_thresh=0.0, dummy_corr_thresh=0.2):\n",
        "    '''Feature Selection\n",
        "    '''\n",
        "    print(f'Begin Feature Selection with {len(df.columns)} columns')\n",
        "\n",
        "    # drop columns that are highly correlated to columns other than sale price\n",
        "    # drop_cols = ['Garage Area','TotRms AbvGrd'] # increased RMSE\n",
        "    drop_cols = ['Garage Area']\n",
        "    selected_df = df.drop(columns=drop_cols, errors='ignore')\n",
        "\n",
        "    # only keep highly correlated numeric columns\n",
        "    if num_corr_thresh > 0:\n",
        "        # create correlation matrix\n",
        "        corr_df = selected_df.corr()\n",
        "        # calculate absolute correlation coefficients\n",
        "        abs_corr_coeffs = corr_df['SalePrice'].abs().sort_values()\n",
        "        # get columns that have a high correlation coefficients\n",
        "        high_corr_cols = abs_corr_coeffs[abs_corr_coeffs > num_corr_thresh].index\n",
        "        # keep highly correlated\n",
        "        high_corr_num_df = selected_df[high_corr_cols]\n",
        "\n",
        "    # list all text columns\n",
        "    all_text_cols = selected_df.select_dtypes(include=['object']).columns.to_list()\n",
        "    # create dataframe of text columns\n",
        "    text_df = selected_df[all_text_cols].copy()\n",
        "    # set arbitrary threshold and drop columns that have more than that many unique values\n",
        "    unique_val_thresh=30\n",
        "    drop_cols = text_df.nunique()[text_df.nunique() > unique_val_thresh].index\n",
        "    text_df = text_df.drop(columns=drop_cols)\n",
        "    print(f'Removed {len(drop_cols)} columns because they contained {unique_val_thresh} or more unique values: {drop_cols}')\n",
        "    # the describe df index 'freq' tells us how many times the most frequent value occurs\n",
        "    # get most the common value's frequency for each text column\n",
        "    # divide by length of dataframe to convert to percentage\n",
        "    value_frequency = text_df.describe().loc['freq'].sort_values() / len(text_df)\n",
        "    # columns where most frequent value accounts for more than some percentage of values\n",
        "    single_value_thresh=0.95\n",
        "    drop_cols = value_frequency[value_frequency > 0.95].index\n",
        "    print(f'Dropping columns if one value represents more than {single_value_thresh*100}% of the data: {drop_cols}')\n",
        "    text_df = text_df.drop(columns=drop_cols)\n",
        "    # get dummies for text columns\n",
        "    dummy_df = pd.get_dummies(text_df)\n",
        "    # create dataframe of dummy column variance\n",
        "    var_dummy_cols = []\n",
        "    for col in dummy_df.columns:\n",
        "        var_dummy_cols.append(dummy_df[col].value_counts(normalize=True))\n",
        "    dummy_var_df = pd.DataFrame(var_dummy_cols)\n",
        "    # set a threshold\n",
        "    # if False values exceed this threshold, the column will be dropped\n",
        "    dummy_var_thresh = 0.99\n",
        "    drop_dummy_cols = dummy_var_df[dummy_var_df[0]>dummy_var_thresh].index\n",
        "    dummy_df.drop(columns=drop_dummy_cols, inplace=True)\n",
        "    # create correlation matrix\n",
        "    corr_df = pd.concat([dummy_df, ames_df[['SalePrice']]], axis=1).corr()  \n",
        "    # calculate absolute correlation coefficients\n",
        "    abs_corr_coeffs = corr_df['SalePrice'].abs().sort_values()\n",
        "    # get columns that have a high correlation coefficients\n",
        "    high_corr_cols = [col for col in abs_corr_coeffs[abs_corr_coeffs > dummy_corr_thresh].index if col != 'SalePrice']\n",
        "    high_corr_df = pd.concat([dummy_df[high_corr_cols], ames_df[['SalePrice']]], axis=1).corr()\n",
        "    dummy_df = dummy_df[high_corr_cols]\n",
        "    # Drop the boolean columns, we only need to keep the True columns.\n",
        "    dummy_df.drop(columns=['Central Air_N','Paved Drive_N'], errors='ignore')\n",
        "\n",
        "    # update transformed df\n",
        "    if num_corr_thresh > 0:\n",
        "        # only include highly correlated numeric columns\n",
        "        df1 = high_corr_num_df\n",
        "    else:\n",
        "        # drop the original text columns from selected df\n",
        "        df1 = selected_df.drop(columns=all_text_cols)\n",
        "    # combine numeric and transformed text features\n",
        "    df2 = dummy_df[high_corr_cols]\n",
        "    selected_df = pd.concat([df1, df2], axis=1)\n",
        "\n",
        "    return selected_df "
      ],
      "metadata": {
        "id": "7RbG2NBLPt_I"
      },
      "execution_count": 87,
      "outputs": []
    },
    {
      "cell_type": "code",
      "source": [
        "transformed_df = transform_features(ames_df, lot_frontage_nbhd=False, combine_porch_sf=False)\n",
        "filtered_df = select_features(transformed_df, num_corr_thresh=0.0, dummy_corr_thresh=0.2)\n",
        "rmse = train_and_test(filtered_df)"
      ],
      "metadata": {
        "colab": {
          "base_uri": "https://localhost:8080/"
        },
        "id": "EaiwGauVUh_M",
        "outputId": "79978ec0-436f-438d-a2da-96a21e3ba752"
      },
      "execution_count": 88,
      "outputs": [
        {
          "output_type": "stream",
          "name": "stdout",
          "text": [
            "Begin Transform Features with 82 columns and 2930 rows\n",
            "End Transform Features with 69 columns and 2926 rows\n",
            "Begin Feature Selection with 69 columns\n",
            "Removed 0 columns because they contained 30 or more unique values: Index([], dtype='object')\n",
            "Dropping columns if one value represents more than 95.0% of the data: Index(['Land Slope', 'Garage Cond', 'Heating', 'Roof Matl', 'Condition 2',\n",
            "       'Street', 'Utilities'],\n",
            "      dtype='object')\n",
            "Test RMSE: 23881.453611208774, Train RMSE: 28152.827208334926\n"
          ]
        }
      ]
    },
    {
      "cell_type": "code",
      "source": [
        "transformed_df = transform_features(ames_df, lot_frontage_nbhd=False, combine_porch_sf=False)\n",
        "filtered_df = select_features(transformed_df, num_corr_thresh=0.0, dummy_corr_thresh=0.0)\n",
        "rmse = train_and_test(filtered_df)"
      ],
      "metadata": {
        "colab": {
          "base_uri": "https://localhost:8080/"
        },
        "id": "0_fhvYf7X4vm",
        "outputId": "283ba22a-de36-49c7-f9af-0763e4a1f6b3"
      },
      "execution_count": 89,
      "outputs": [
        {
          "output_type": "stream",
          "name": "stdout",
          "text": [
            "Begin Transform Features with 82 columns and 2930 rows\n",
            "End Transform Features with 69 columns and 2926 rows\n",
            "Begin Feature Selection with 69 columns\n",
            "Removed 0 columns because they contained 30 or more unique values: Index([], dtype='object')\n",
            "Dropping columns if one value represents more than 95.0% of the data: Index(['Land Slope', 'Garage Cond', 'Heating', 'Roof Matl', 'Condition 2',\n",
            "       'Street', 'Utilities'],\n",
            "      dtype='object')\n",
            "Test RMSE: 24646.24777029301, Train RMSE: 24770.17622003498\n"
          ]
        }
      ]
    },
    {
      "cell_type": "code",
      "source": [
        "transformed_df = transform_features(ames_df, lot_frontage_nbhd=False, combine_porch_sf=False)\n",
        "filtered_df = select_features(transformed_df, num_corr_thresh=0.0, dummy_corr_thresh=0.1)\n",
        "rmse = train_and_test(filtered_df)"
      ],
      "metadata": {
        "colab": {
          "base_uri": "https://localhost:8080/"
        },
        "id": "wtL9y9AZWTc5",
        "outputId": "a62c5adb-c0d7-4fcf-f793-09d8ce04cb24"
      },
      "execution_count": 90,
      "outputs": [
        {
          "output_type": "stream",
          "name": "stdout",
          "text": [
            "Begin Transform Features with 82 columns and 2930 rows\n",
            "End Transform Features with 69 columns and 2926 rows\n",
            "Begin Feature Selection with 69 columns\n",
            "Removed 0 columns because they contained 30 or more unique values: Index([], dtype='object')\n",
            "Dropping columns if one value represents more than 95.0% of the data: Index(['Land Slope', 'Garage Cond', 'Heating', 'Roof Matl', 'Condition 2',\n",
            "       'Street', 'Utilities'],\n",
            "      dtype='object')\n",
            "Test RMSE: 23707.856487351604, Train RMSE: 26312.897911700937\n"
          ]
        }
      ]
    },
    {
      "cell_type": "code",
      "source": [
        "results['updated select_features() function']=rmse\n",
        "results"
      ],
      "metadata": {
        "colab": {
          "base_uri": "https://localhost:8080/"
        },
        "id": "Gj5RkG7kVi1f",
        "outputId": "a7cf8c6b-e092-46f2-d93f-837f5a5144ab"
      },
      "execution_count": 91,
      "outputs": [
        {
          "output_type": "execute_result",
          "data": {
            "text/plain": [
              "{'original': [55943.34407431997, 57086.31613271551],\n",
              " 'resolve null values': [31459.519644043823, 34272.84697547075],\n",
              " 'new features': [27947.03139306928, 33425.29432231938],\n",
              " 'updated transform_features() function': [28217.333098304378,\n",
              "  33835.459860906936],\n",
              " 'dummy columns': [25172.61071035756, 23874.39327541863],\n",
              " 'dummy columns reduced variance': [24645.647930544466, 24768.03660552109],\n",
              " 'dummy columns high correlation': [23876.835511422658, 28152.707588296424],\n",
              " 'updated select_features() function': [23707.856487351604,\n",
              "  26312.897911700937]}"
            ]
          },
          "metadata": {},
          "execution_count": 91
        }
      ]
    },
    {
      "cell_type": "markdown",
      "source": [
        "# Train And Test\n",
        "Now for the final part of the pipeline, training and testing. When iterating on different features, using simple validation is a good idea. Let's add a parameter named k that controls the type of cross validation that occurs.\n",
        "\n",
        "* The optional k parameter should accept integer values, with a default value of 0.\n",
        "* When k equals 0, perform **holdout validation** (what we already implemented):\n",
        "    * Select the first 1460 rows and assign to train.\n",
        "    * Select the remaining rows and assign to test.\n",
        "    * Train on train and test on test.\n",
        "    * Compute the RMSE and return.\n",
        "\n",
        "* When k equals 1, perform **simple cross validation**:\n",
        "    * Shuffle the ordering of the rows in the data frame.\n",
        "    * Select the first 1460 rows and assign to fold_one.\n",
        "    * Select the remaining rows and assign to fold_two.\n",
        "    * Train on fold_one and test on fold_two.\n",
        "    * Train on fold_two and test on fold_one.\n",
        "    * Compute the average RMSE and return.\n",
        "\n",
        "* When k is greater than 0, implement **k-fold cross validation** using k folds:\n",
        "    * Perform k-fold cross validation using k folds.\n",
        "    * Calculate the average RMSE value and return this value."
      ],
      "metadata": {
        "id": "z-HjG212cr17"
      }
    },
    {
      "cell_type": "code",
      "source": [
        "def get_rmse(train_df, test_df, train_features, test_features, target_col):\n",
        "    lr = LinearRegression()\n",
        "    x = train_df[train_features]\n",
        "    y = train_df[target_col]\n",
        "    reg = lr.fit(X=x, y=y)\n",
        "    y_pred_train = reg.predict(x)\n",
        "    y_pred_test = reg.predict(test_df[test_features])\n",
        "\n",
        "    rmse_train = sqrt(mean_squared_error(\n",
        "        y_true=y,\n",
        "        y_pred=y_pred_train\n",
        "    ))\n",
        "\n",
        "    rmse_test = sqrt(mean_squared_error(\n",
        "        y_true=test_df[target_col],\n",
        "        y_pred=y_pred_test\n",
        "    ))\n",
        "\n",
        "    return [rmse_test, rmse_train]\n",
        "\n",
        "def train_and_test(df, k=0):\n",
        "    '''\n",
        "    * Selects the first 1460 rows from from data and assign to train.\n",
        "    * Selects the remaining rows from data and assign to test.\n",
        "    * Trains a model using all numerical columns except the SalePrice column (the target column) from the data frame returned from select_features().\n",
        "    * Tests the model on the test set and returns the RMSE value.\n",
        "    '''\n",
        "    target_col = 'SalePrice'\n",
        "    # print('Train:')\n",
        "    # train_df = transform_features(train_df)\n",
        "    # train_df = select_features(train_df)\n",
        "    # train_features = [col for col in train_df.columns if col != target_col]\n",
        "    # print('')\n",
        "\n",
        "    # print('Test:')\n",
        "    # test_df = transform_features(test_df)\n",
        "    # test_df = select_features(test_df)\n",
        "    # test_features = [col for col in test_df.columns if col != target_col]\n",
        "    # print('')\n",
        "\n",
        "    selected_features = [col for col in df.columns if col != target_col]\n",
        "    train_features = selected_features\n",
        "    test_features = selected_features\n",
        "\n",
        "    # when k = 0, perform holdout validation\n",
        "    if k == 0:\n",
        "        # shuffling a pandas dataframe with sklearn\n",
        "        shuffled_df = shuffle(df, random_state=1)\n",
        "        train_df = shuffled_df.iloc[:1460]\n",
        "        test_df = shuffled_df.iloc[1460:]\n",
        "        # Randomize *all* rows (frac=1) from `df` and return\n",
        "        # shuffled_df = df.sample(frac=1, )\n",
        "        # train_df = df.iloc[:1460]\n",
        "        # test_df = df.iloc[1460:]\n",
        "\n",
        "        rmse_test, rmse_train = get_rmse(train_df, test_df, train_features, test_features, target_col)\n",
        "\n",
        "        print('Holdout validation')\n",
        "        print(f'Test RMSE: {rmse_test}, Train RMSE: {rmse_train}')\n",
        "        return [rmse_test, rmse_train]\n",
        "\n",
        "    # if k = 1, perform simple cross validation (also called holdout)\n",
        "    elif k == 1:\n",
        "        # Shuffle the ordering of the rows in the data frame.\n",
        "        shuffled_df = df.iloc[np.random.permutation(len(df))]\n",
        "        # Select the first 1460 rows and assign to fold_one.\n",
        "        fold1_df = shuffled_df.iloc[:1460]\n",
        "        # Select the remaining rows and assign to fold_two.\n",
        "        fold2_df = shuffled_df.iloc[1460:]\n",
        "        # Train on fold_one and test on fold_two.\n",
        "        rmse_test1, rmse_train1 = get_rmse(train_df=fold1_df, test_df=fold2_df, train_features=train_features, test_features=test_features, target_col=target_col)\n",
        "        # Train on fold_two and test on fold_one.\n",
        "        rmse_test2, rmse_train2 = get_rmse(train_df=fold2_df, test_df=fold1_df, train_features=train_features, test_features=test_features, target_col=target_col)\n",
        "        # Compute the average RMSE and return.\n",
        "        avg_train = np.mean([rmse_train1, rmse_train2])\n",
        "        avg_test = np.mean([rmse_test1, rmse_test2])\n",
        "        print('Simple cross validation/holdout validation')\n",
        "        print(f'Avg Test RMSE: {avg_test}, Avg Train RMSE: {avg_train}')\n",
        "        return [avg_test, avg_train]\n",
        "\n",
        "    # if k > 1, perform k-fold cross validation using k folds\n",
        "    else:\n",
        "        # Perform k-fold cross validation using k folds.\n",
        "        kf = KFold(n_splits=k, shuffle=True, random_state=1)\n",
        "        # Calculate the average RMSE value and return this value.\n",
        "        # lr = LinearRegression()\n",
        "        # rmses = cross_val_score(estimator=lr, X=df[selected_features], y=df[target_col], scoring='neg_root_mean_squared_error', cv=kf)\n",
        "        test_rmses = []\n",
        "        train_rmses = []\n",
        "        for train_index, test_index, in kf.split(df):\n",
        "            train_df = df.iloc[train_index]\n",
        "            test_df = df.iloc[test_index]\n",
        "            rmse_test, rmse_train = get_rmse(train_df, test_df, train_features, test_features, target_col)\n",
        "            test_rmses.append(rmse_test)\n",
        "            train_rmses.append(rmse_train)\n",
        "        avg_train = np.mean(train_rmses)\n",
        "        avg_test = np.mean(test_rmses)  \n",
        "        print('K-fold cross validation')\n",
        "        print(f'Avg Test RMSE: {avg_test}, Avg Train RMSE: {avg_train}')\n",
        "        return [avg_test, avg_train]\n"
      ],
      "metadata": {
        "id": "bDnc4oOCJ3wv"
      },
      "execution_count": 92,
      "outputs": []
    },
    {
      "cell_type": "code",
      "source": [
        "transformed_df = transform_features(ames_df, lot_frontage_nbhd=False, combine_porch_sf=False)\n",
        "filtered_df = select_features(transformed_df, num_corr_thresh=0.0, dummy_corr_thresh=0.1)\n",
        "rmse = train_and_test(filtered_df, k=0)"
      ],
      "metadata": {
        "colab": {
          "base_uri": "https://localhost:8080/"
        },
        "id": "iRZPNCv31MSV",
        "outputId": "6af593e7-a830-41b4-c7a6-fa122a57b3ce"
      },
      "execution_count": 93,
      "outputs": [
        {
          "output_type": "stream",
          "name": "stdout",
          "text": [
            "Begin Transform Features with 82 columns and 2930 rows\n",
            "End Transform Features with 69 columns and 2926 rows\n",
            "Begin Feature Selection with 69 columns\n",
            "Removed 0 columns because they contained 30 or more unique values: Index([], dtype='object')\n",
            "Dropping columns if one value represents more than 95.0% of the data: Index(['Land Slope', 'Garage Cond', 'Heating', 'Roof Matl', 'Condition 2',\n",
            "       'Street', 'Utilities'],\n",
            "      dtype='object')\n",
            "Holdout validation\n",
            "Test RMSE: 23707.856487351604, Train RMSE: 26312.897911700937\n"
          ]
        }
      ]
    },
    {
      "cell_type": "code",
      "source": [
        "rmse = train_and_test(filtered_df, k=1)"
      ],
      "metadata": {
        "colab": {
          "base_uri": "https://localhost:8080/"
        },
        "id": "inWGy96FbZkk",
        "outputId": "87b71666-6952-4ab2-962b-012e2a4c4c5a"
      },
      "execution_count": 94,
      "outputs": [
        {
          "output_type": "stream",
          "name": "stdout",
          "text": [
            "Simple cross validation/holdout validation\n",
            "Avg Test RMSE: 27740.101294570308, Avg Train RMSE: 22837.6513111386\n"
          ]
        }
      ]
    },
    {
      "cell_type": "code",
      "source": [
        "rmse = train_and_test(filtered_df, k=10)"
      ],
      "metadata": {
        "colab": {
          "base_uri": "https://localhost:8080/"
        },
        "id": "ivX2QIl-1Qwa",
        "outputId": "941a2a8d-edd2-462b-efda-b70be57a407e"
      },
      "execution_count": 95,
      "outputs": [
        {
          "output_type": "stream",
          "name": "stdout",
          "text": [
            "K-fold cross validation\n",
            "Avg Test RMSE: 24908.35614107272, Avg Train RMSE: 23961.31645258876\n"
          ]
        }
      ]
    },
    {
      "cell_type": "code",
      "source": [
        "results['final']=rmse\n",
        "results"
      ],
      "metadata": {
        "colab": {
          "base_uri": "https://localhost:8080/"
        },
        "id": "ba-DVsQrbAPJ",
        "outputId": "f0d6b986-e4db-412d-a0b8-5cfdaaf6ac77"
      },
      "execution_count": 96,
      "outputs": [
        {
          "output_type": "execute_result",
          "data": {
            "text/plain": [
              "{'original': [55943.34407431997, 57086.31613271551],\n",
              " 'resolve null values': [31459.519644043823, 34272.84697547075],\n",
              " 'new features': [27947.03139306928, 33425.29432231938],\n",
              " 'updated transform_features() function': [28217.333098304378,\n",
              "  33835.459860906936],\n",
              " 'dummy columns': [25172.61071035756, 23874.39327541863],\n",
              " 'dummy columns reduced variance': [24645.647930544466, 24768.03660552109],\n",
              " 'dummy columns high correlation': [23876.835511422658, 28152.707588296424],\n",
              " 'updated select_features() function': [23707.856487351604,\n",
              "  26312.897911700937],\n",
              " 'final': [24908.35614107272, 23961.31645258876]}"
            ]
          },
          "metadata": {},
          "execution_count": 96
        }
      ]
    },
    {
      "cell_type": "code",
      "source": [
        "results_df = pd.DataFrame.from_dict(results, orient='index', columns=['Test', 'Train'])\n",
        "results_df"
      ],
      "metadata": {
        "colab": {
          "base_uri": "https://localhost:8080/",
          "height": 332
        },
        "id": "qpOG_u5feSfv",
        "outputId": "898fa789-3919-40ee-c437-f18c528d80ce"
      },
      "execution_count": 98,
      "outputs": [
        {
          "output_type": "execute_result",
          "data": {
            "text/plain": [
              "                                               Test         Train\n",
              "original                               55943.344074  57086.316133\n",
              "resolve null values                    31459.519644  34272.846975\n",
              "new features                           27947.031393  33425.294322\n",
              "updated transform_features() function  28217.333098  33835.459861\n",
              "dummy columns                          25172.610710  23874.393275\n",
              "dummy columns reduced variance         24645.647931  24768.036606\n",
              "dummy columns high correlation         23876.835511  28152.707588\n",
              "updated select_features() function     23707.856487  26312.897912\n",
              "final                                  24908.356141  23961.316453"
            ],
            "text/html": [
              "\n",
              "  <div id=\"df-cb305aec-0c02-4110-8db6-b7df752c4e3c\">\n",
              "    <div class=\"colab-df-container\">\n",
              "      <div>\n",
              "<style scoped>\n",
              "    .dataframe tbody tr th:only-of-type {\n",
              "        vertical-align: middle;\n",
              "    }\n",
              "\n",
              "    .dataframe tbody tr th {\n",
              "        vertical-align: top;\n",
              "    }\n",
              "\n",
              "    .dataframe thead th {\n",
              "        text-align: right;\n",
              "    }\n",
              "</style>\n",
              "<table border=\"1\" class=\"dataframe\">\n",
              "  <thead>\n",
              "    <tr style=\"text-align: right;\">\n",
              "      <th></th>\n",
              "      <th>Test</th>\n",
              "      <th>Train</th>\n",
              "    </tr>\n",
              "  </thead>\n",
              "  <tbody>\n",
              "    <tr>\n",
              "      <th>original</th>\n",
              "      <td>55943.344074</td>\n",
              "      <td>57086.316133</td>\n",
              "    </tr>\n",
              "    <tr>\n",
              "      <th>resolve null values</th>\n",
              "      <td>31459.519644</td>\n",
              "      <td>34272.846975</td>\n",
              "    </tr>\n",
              "    <tr>\n",
              "      <th>new features</th>\n",
              "      <td>27947.031393</td>\n",
              "      <td>33425.294322</td>\n",
              "    </tr>\n",
              "    <tr>\n",
              "      <th>updated transform_features() function</th>\n",
              "      <td>28217.333098</td>\n",
              "      <td>33835.459861</td>\n",
              "    </tr>\n",
              "    <tr>\n",
              "      <th>dummy columns</th>\n",
              "      <td>25172.610710</td>\n",
              "      <td>23874.393275</td>\n",
              "    </tr>\n",
              "    <tr>\n",
              "      <th>dummy columns reduced variance</th>\n",
              "      <td>24645.647931</td>\n",
              "      <td>24768.036606</td>\n",
              "    </tr>\n",
              "    <tr>\n",
              "      <th>dummy columns high correlation</th>\n",
              "      <td>23876.835511</td>\n",
              "      <td>28152.707588</td>\n",
              "    </tr>\n",
              "    <tr>\n",
              "      <th>updated select_features() function</th>\n",
              "      <td>23707.856487</td>\n",
              "      <td>26312.897912</td>\n",
              "    </tr>\n",
              "    <tr>\n",
              "      <th>final</th>\n",
              "      <td>24908.356141</td>\n",
              "      <td>23961.316453</td>\n",
              "    </tr>\n",
              "  </tbody>\n",
              "</table>\n",
              "</div>\n",
              "      <button class=\"colab-df-convert\" onclick=\"convertToInteractive('df-cb305aec-0c02-4110-8db6-b7df752c4e3c')\"\n",
              "              title=\"Convert this dataframe to an interactive table.\"\n",
              "              style=\"display:none;\">\n",
              "        \n",
              "  <svg xmlns=\"http://www.w3.org/2000/svg\" height=\"24px\"viewBox=\"0 0 24 24\"\n",
              "       width=\"24px\">\n",
              "    <path d=\"M0 0h24v24H0V0z\" fill=\"none\"/>\n",
              "    <path d=\"M18.56 5.44l.94 2.06.94-2.06 2.06-.94-2.06-.94-.94-2.06-.94 2.06-2.06.94zm-11 1L8.5 8.5l.94-2.06 2.06-.94-2.06-.94L8.5 2.5l-.94 2.06-2.06.94zm10 10l.94 2.06.94-2.06 2.06-.94-2.06-.94-.94-2.06-.94 2.06-2.06.94z\"/><path d=\"M17.41 7.96l-1.37-1.37c-.4-.4-.92-.59-1.43-.59-.52 0-1.04.2-1.43.59L10.3 9.45l-7.72 7.72c-.78.78-.78 2.05 0 2.83L4 21.41c.39.39.9.59 1.41.59.51 0 1.02-.2 1.41-.59l7.78-7.78 2.81-2.81c.8-.78.8-2.07 0-2.86zM5.41 20L4 18.59l7.72-7.72 1.47 1.35L5.41 20z\"/>\n",
              "  </svg>\n",
              "      </button>\n",
              "      \n",
              "  <style>\n",
              "    .colab-df-container {\n",
              "      display:flex;\n",
              "      flex-wrap:wrap;\n",
              "      gap: 12px;\n",
              "    }\n",
              "\n",
              "    .colab-df-convert {\n",
              "      background-color: #E8F0FE;\n",
              "      border: none;\n",
              "      border-radius: 50%;\n",
              "      cursor: pointer;\n",
              "      display: none;\n",
              "      fill: #1967D2;\n",
              "      height: 32px;\n",
              "      padding: 0 0 0 0;\n",
              "      width: 32px;\n",
              "    }\n",
              "\n",
              "    .colab-df-convert:hover {\n",
              "      background-color: #E2EBFA;\n",
              "      box-shadow: 0px 1px 2px rgba(60, 64, 67, 0.3), 0px 1px 3px 1px rgba(60, 64, 67, 0.15);\n",
              "      fill: #174EA6;\n",
              "    }\n",
              "\n",
              "    [theme=dark] .colab-df-convert {\n",
              "      background-color: #3B4455;\n",
              "      fill: #D2E3FC;\n",
              "    }\n",
              "\n",
              "    [theme=dark] .colab-df-convert:hover {\n",
              "      background-color: #434B5C;\n",
              "      box-shadow: 0px 1px 3px 1px rgba(0, 0, 0, 0.15);\n",
              "      filter: drop-shadow(0px 1px 2px rgba(0, 0, 0, 0.3));\n",
              "      fill: #FFFFFF;\n",
              "    }\n",
              "  </style>\n",
              "\n",
              "      <script>\n",
              "        const buttonEl =\n",
              "          document.querySelector('#df-cb305aec-0c02-4110-8db6-b7df752c4e3c button.colab-df-convert');\n",
              "        buttonEl.style.display =\n",
              "          google.colab.kernel.accessAllowed ? 'block' : 'none';\n",
              "\n",
              "        async function convertToInteractive(key) {\n",
              "          const element = document.querySelector('#df-cb305aec-0c02-4110-8db6-b7df752c4e3c');\n",
              "          const dataTable =\n",
              "            await google.colab.kernel.invokeFunction('convertToInteractive',\n",
              "                                                     [key], {});\n",
              "          if (!dataTable) return;\n",
              "\n",
              "          const docLinkHtml = 'Like what you see? Visit the ' +\n",
              "            '<a target=\"_blank\" href=https://colab.research.google.com/notebooks/data_table.ipynb>data table notebook</a>'\n",
              "            + ' to learn more about interactive tables.';\n",
              "          element.innerHTML = '';\n",
              "          dataTable['output_type'] = 'display_data';\n",
              "          await google.colab.output.renderOutput(dataTable, element);\n",
              "          const docLink = document.createElement('div');\n",
              "          docLink.innerHTML = docLinkHtml;\n",
              "          element.appendChild(docLink);\n",
              "        }\n",
              "      </script>\n",
              "    </div>\n",
              "  </div>\n",
              "  "
            ]
          },
          "metadata": {},
          "execution_count": 98
        }
      ]
    },
    {
      "cell_type": "code",
      "source": [],
      "metadata": {
        "id": "hfhEACaXehOo"
      },
      "execution_count": null,
      "outputs": []
    }
  ]
}