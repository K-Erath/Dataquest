{
  "cells": [
    {
      "metadata": {},
      "cell_type": "markdown",
      "source": "# Answering Business Questions Using SQL"
    },
    {
      "metadata": {
        "trusted": true
      },
      "cell_type": "code",
      "source": "!pip install --upgrade pip",
      "execution_count": 1,
      "outputs": [
        {
          "output_type": "stream",
          "text": "Requirement already up-to-date: pip in /home/nbuser/anaconda3_420/lib/python3.5/site-packages (20.1.1)\r\n",
          "name": "stdout"
        }
      ]
    },
    {
      "metadata": {
        "trusted": true
      },
      "cell_type": "code",
      "source": "!pip install ipython-sql",
      "execution_count": 2,
      "outputs": [
        {
          "output_type": "stream",
          "text": "Requirement already satisfied: ipython-sql in /home/nbuser/anaconda3_420/lib/python3.5/site-packages (0.4.0)\nRequirement already satisfied: six in /home/nbuser/anaconda3_420/lib/python3.5/site-packages (from ipython-sql) (1.11.0)\nRequirement already satisfied: sqlalchemy>=0.6.7 in /home/nbuser/anaconda3_420/lib/python3.5/site-packages (from ipython-sql) (1.0.13)\nRequirement already satisfied: prettytable<1 in /home/nbuser/anaconda3_420/lib/python3.5/site-packages (from ipython-sql) (0.7.2)\nRequirement already satisfied: ipython-genutils>=0.1.0 in /home/nbuser/anaconda3_420/lib/python3.5/site-packages (from ipython-sql) (0.1.0)\nRequirement already satisfied: ipython>=1.0 in /home/nbuser/anaconda3_420/lib/python3.5/site-packages (from ipython-sql) (6.2.1)\nRequirement already satisfied: sqlparse in /home/nbuser/anaconda3_420/lib/python3.5/site-packages (from ipython-sql) (0.3.1)\nRequirement already satisfied: setuptools>=18.5 in /home/nbuser/anaconda3_420/lib/python3.5/site-packages (from ipython>=1.0->ipython-sql) (41.6.0)\nRequirement already satisfied: jedi>=0.10 in /home/nbuser/anaconda3_420/lib/python3.5/site-packages (from ipython>=1.0->ipython-sql) (0.11.0)\nRequirement already satisfied: decorator in /home/nbuser/anaconda3_420/lib/python3.5/site-packages (from ipython>=1.0->ipython-sql) (4.4.1)\nRequirement already satisfied: pickleshare in /home/nbuser/anaconda3_420/lib/python3.5/site-packages (from ipython>=1.0->ipython-sql) (0.7.4)\nRequirement already satisfied: simplegeneric>0.8 in /home/nbuser/anaconda3_420/lib/python3.5/site-packages (from ipython>=1.0->ipython-sql) (0.8.1)\nRequirement already satisfied: traitlets>=4.2 in /home/nbuser/anaconda3_420/lib/python3.5/site-packages (from ipython>=1.0->ipython-sql) (4.3.1)\nRequirement already satisfied: prompt_toolkit<2.0.0,>=1.0.4 in /home/nbuser/anaconda3_420/lib/python3.5/site-packages (from ipython>=1.0->ipython-sql) (1.0.15)\nRequirement already satisfied: pygments in /home/nbuser/anaconda3_420/lib/python3.5/site-packages (from ipython>=1.0->ipython-sql) (2.1.3)\nRequirement already satisfied: pexpect in /home/nbuser/anaconda3_420/lib/python3.5/site-packages (from ipython>=1.0->ipython-sql) (4.0.1)\nRequirement already satisfied: parso==0.1.* in /home/nbuser/anaconda3_420/lib/python3.5/site-packages (from jedi>=0.10->ipython>=1.0->ipython-sql) (0.1.1)\nRequirement already satisfied: wcwidth in /home/nbuser/anaconda3_420/lib/python3.5/site-packages (from prompt_toolkit<2.0.0,>=1.0.4->ipython>=1.0->ipython-sql) (0.1.7)\n",
          "name": "stdout"
        }
      ]
    },
    {
      "metadata": {
        "trusted": true
      },
      "cell_type": "code",
      "source": "%%capture\n%load_ext sql\n%sql sqlite:///chinook.db",
      "execution_count": 3,
      "outputs": []
    },
    {
      "metadata": {},
      "cell_type": "markdown",
      "source": "## Overview of the Data"
    },
    {
      "metadata": {},
      "cell_type": "markdown",
      "source": "Query the database to get a list of all tables and views in the database"
    },
    {
      "metadata": {
        "trusted": true
      },
      "cell_type": "code",
      "source": "%%sql\nSELECT\n    name,\n    type\nFROM sqlite_master\nWHERE type IN (\"table\",\"view\");",
      "execution_count": 4,
      "outputs": [
        {
          "output_type": "stream",
          "text": " * sqlite:///chinook.db\nDone.\n",
          "name": "stdout"
        },
        {
          "output_type": "execute_result",
          "execution_count": 4,
          "data": {
            "text/plain": "[('album', 'table'),\n ('artist', 'table'),\n ('customer', 'table'),\n ('employee', 'table'),\n ('genre', 'table'),\n ('invoice', 'table'),\n ('invoice_line', 'table'),\n ('media_type', 'table'),\n ('playlist', 'table'),\n ('playlist_track', 'table'),\n ('track', 'table'),\n ('vw_country', 'view')]",
            "text/html": "<table>\n    <tr>\n        <th>name</th>\n        <th>type</th>\n    </tr>\n    <tr>\n        <td>album</td>\n        <td>table</td>\n    </tr>\n    <tr>\n        <td>artist</td>\n        <td>table</td>\n    </tr>\n    <tr>\n        <td>customer</td>\n        <td>table</td>\n    </tr>\n    <tr>\n        <td>employee</td>\n        <td>table</td>\n    </tr>\n    <tr>\n        <td>genre</td>\n        <td>table</td>\n    </tr>\n    <tr>\n        <td>invoice</td>\n        <td>table</td>\n    </tr>\n    <tr>\n        <td>invoice_line</td>\n        <td>table</td>\n    </tr>\n    <tr>\n        <td>media_type</td>\n        <td>table</td>\n    </tr>\n    <tr>\n        <td>playlist</td>\n        <td>table</td>\n    </tr>\n    <tr>\n        <td>playlist_track</td>\n        <td>table</td>\n    </tr>\n    <tr>\n        <td>track</td>\n        <td>table</td>\n    </tr>\n    <tr>\n        <td>vw_country</td>\n        <td>view</td>\n    </tr>\n</table>"
          },
          "metadata": {}
        }
      ]
    },
    {
      "metadata": {
        "trusted": true
      },
      "cell_type": "code",
      "source": "%%sql\nSELECT\n    *\nFROM customer\nLIMIT 5;",
      "execution_count": 5,
      "outputs": [
        {
          "output_type": "stream",
          "text": " * sqlite:///chinook.db\nDone.\n",
          "name": "stdout"
        },
        {
          "output_type": "execute_result",
          "execution_count": 5,
          "data": {
            "text/plain": "[(1, 'Luís', 'Gonçalves', 'Embraer - Empresa Brasileira de Aeronáutica S.A.', 'Av. Brigadeiro Faria Lima, 2170', 'São José dos Campos', 'SP', 'Brazil', '12227-000', '+55 (12) 3923-5555', '+55 (12) 3923-5566', 'luisg@embraer.com.br', 3),\n (2, 'Leonie', 'Köhler', None, 'Theodor-Heuss-Straße 34', 'Stuttgart', None, 'Germany', '70174', '+49 0711 2842222', None, 'leonekohler@surfeu.de', 5),\n (3, 'François', 'Tremblay', None, '1498 rue Bélanger', 'Montréal', 'QC', 'Canada', 'H2G 1A7', '+1 (514) 721-4711', None, 'ftremblay@gmail.com', 3),\n (4, 'Bjørn', 'Hansen', None, 'Ullevålsveien 14', 'Oslo', None, 'Norway', '0171', '+47 22 44 22 22', None, 'bjorn.hansen@yahoo.no', 4),\n (5, 'František', 'Wichterlová', 'JetBrains s.r.o.', 'Klanova 9/506', 'Prague', None, 'Czech Republic', '14700', '+420 2 4172 5555', '+420 2 4172 5555', 'frantisekw@jetbrains.com', 4)]",
            "text/html": "<table>\n    <tr>\n        <th>customer_id</th>\n        <th>first_name</th>\n        <th>last_name</th>\n        <th>company</th>\n        <th>address</th>\n        <th>city</th>\n        <th>state</th>\n        <th>country</th>\n        <th>postal_code</th>\n        <th>phone</th>\n        <th>fax</th>\n        <th>email</th>\n        <th>support_rep_id</th>\n    </tr>\n    <tr>\n        <td>1</td>\n        <td>Luís</td>\n        <td>Gonçalves</td>\n        <td>Embraer - Empresa Brasileira de Aeronáutica S.A.</td>\n        <td>Av. Brigadeiro Faria Lima, 2170</td>\n        <td>São José dos Campos</td>\n        <td>SP</td>\n        <td>Brazil</td>\n        <td>12227-000</td>\n        <td>+55 (12) 3923-5555</td>\n        <td>+55 (12) 3923-5566</td>\n        <td>luisg@embraer.com.br</td>\n        <td>3</td>\n    </tr>\n    <tr>\n        <td>2</td>\n        <td>Leonie</td>\n        <td>Köhler</td>\n        <td>None</td>\n        <td>Theodor-Heuss-Straße 34</td>\n        <td>Stuttgart</td>\n        <td>None</td>\n        <td>Germany</td>\n        <td>70174</td>\n        <td>+49 0711 2842222</td>\n        <td>None</td>\n        <td>leonekohler@surfeu.de</td>\n        <td>5</td>\n    </tr>\n    <tr>\n        <td>3</td>\n        <td>François</td>\n        <td>Tremblay</td>\n        <td>None</td>\n        <td>1498 rue Bélanger</td>\n        <td>Montréal</td>\n        <td>QC</td>\n        <td>Canada</td>\n        <td>H2G 1A7</td>\n        <td>+1 (514) 721-4711</td>\n        <td>None</td>\n        <td>ftremblay@gmail.com</td>\n        <td>3</td>\n    </tr>\n    <tr>\n        <td>4</td>\n        <td>Bjørn</td>\n        <td>Hansen</td>\n        <td>None</td>\n        <td>Ullevålsveien 14</td>\n        <td>Oslo</td>\n        <td>None</td>\n        <td>Norway</td>\n        <td>0171</td>\n        <td>+47 22 44 22 22</td>\n        <td>None</td>\n        <td>bjorn.hansen@yahoo.no</td>\n        <td>4</td>\n    </tr>\n    <tr>\n        <td>5</td>\n        <td>František</td>\n        <td>Wichterlová</td>\n        <td>JetBrains s.r.o.</td>\n        <td>Klanova 9/506</td>\n        <td>Prague</td>\n        <td>None</td>\n        <td>Czech Republic</td>\n        <td>14700</td>\n        <td>+420 2 4172 5555</td>\n        <td>+420 2 4172 5555</td>\n        <td>frantisekw@jetbrains.com</td>\n        <td>4</td>\n    </tr>\n</table>"
          },
          "metadata": {}
        }
      ]
    },
    {
      "metadata": {
        "trusted": true
      },
      "cell_type": "code",
      "source": "%%sql\nSELECT\n    *\nFROM track\nLIMIT 5;",
      "execution_count": 6,
      "outputs": [
        {
          "output_type": "stream",
          "text": " * sqlite:///chinook.db\nDone.\n",
          "name": "stdout"
        },
        {
          "output_type": "execute_result",
          "execution_count": 6,
          "data": {
            "text/plain": "[(1, 'For Those About To Rock (We Salute You)', 1, 1, 1, 'Angus Young, Malcolm Young, Brian Johnson', 343719, 11170334, 0.99),\n (2, 'Balls to the Wall', 2, 2, 1, None, 342562, 5510424, 0.99),\n (3, 'Fast As a Shark', 3, 2, 1, 'F. Baltes, S. Kaufman, U. Dirkscneider & W. Hoffman', 230619, 3990994, 0.99),\n (4, 'Restless and Wild', 3, 2, 1, 'F. Baltes, R.A. Smith-Diesel, S. Kaufman, U. Dirkscneider & W. Hoffman', 252051, 4331779, 0.99),\n (5, 'Princess of the Dawn', 3, 2, 1, 'Deaffy & R.A. Smith-Diesel', 375418, 6290521, 0.99)]",
            "text/html": "<table>\n    <tr>\n        <th>track_id</th>\n        <th>name</th>\n        <th>album_id</th>\n        <th>media_type_id</th>\n        <th>genre_id</th>\n        <th>composer</th>\n        <th>milliseconds</th>\n        <th>bytes</th>\n        <th>unit_price</th>\n    </tr>\n    <tr>\n        <td>1</td>\n        <td>For Those About To Rock (We Salute You)</td>\n        <td>1</td>\n        <td>1</td>\n        <td>1</td>\n        <td>Angus Young, Malcolm Young, Brian Johnson</td>\n        <td>343719</td>\n        <td>11170334</td>\n        <td>0.99</td>\n    </tr>\n    <tr>\n        <td>2</td>\n        <td>Balls to the Wall</td>\n        <td>2</td>\n        <td>2</td>\n        <td>1</td>\n        <td>None</td>\n        <td>342562</td>\n        <td>5510424</td>\n        <td>0.99</td>\n    </tr>\n    <tr>\n        <td>3</td>\n        <td>Fast As a Shark</td>\n        <td>3</td>\n        <td>2</td>\n        <td>1</td>\n        <td>F. Baltes, S. Kaufman, U. Dirkscneider &amp; W. Hoffman</td>\n        <td>230619</td>\n        <td>3990994</td>\n        <td>0.99</td>\n    </tr>\n    <tr>\n        <td>4</td>\n        <td>Restless and Wild</td>\n        <td>3</td>\n        <td>2</td>\n        <td>1</td>\n        <td>F. Baltes, R.A. Smith-Diesel, S. Kaufman, U. Dirkscneider &amp; W. Hoffman</td>\n        <td>252051</td>\n        <td>4331779</td>\n        <td>0.99</td>\n    </tr>\n    <tr>\n        <td>5</td>\n        <td>Princess of the Dawn</td>\n        <td>3</td>\n        <td>2</td>\n        <td>1</td>\n        <td>Deaffy &amp; R.A. Smith-Diesel</td>\n        <td>375418</td>\n        <td>6290521</td>\n        <td>0.99</td>\n    </tr>\n</table>"
          },
          "metadata": {}
        }
      ]
    },
    {
      "metadata": {},
      "cell_type": "markdown",
      "source": "## Selecting New Albums to purchase\nFind the best selling genres in the U.S."
    },
    {
      "metadata": {
        "trusted": true
      },
      "cell_type": "code",
      "source": "%%sql\nWITH track_genre AS (\n    SELECT\n        c.customer_id,\n        c.country,\n        t.track_id,\n        g.name AS genre\n    FROM customer c\n    JOIN invoice i ON c.customer_id = i.customer_id\n    JOIN invoice_line il ON i.invoice_id = il.invoice_id\n    JOIN track t ON il.track_id = t.track_id\n    JOIN genre g ON t.genre_id = g.genre_id\n    WHERE c.country = 'USA'\n    ),\n    genre_tracks_count AS (\n        SELECT\n            genre,\n            COUNT(track_id) AS tracks_sold\n        FROM track_genre\n        GROUP BY genre\n        ORDER BY tracks_sold DESC\n    )\n    \nSELECT \n    genre,\n    tracks_sold,\n    ROUND(\n        (CAST(tracks_sold AS FLOAT) / \n            (SELECT \n                CAST(SUM(tracks_sold) AS FLOAT)\n                FROM genre_tracks_count) * 100)\n        , 1) AS percent_sold\nFROM genre_tracks_count",
      "execution_count": 7,
      "outputs": [
        {
          "output_type": "stream",
          "text": " * sqlite:///chinook.db\nDone.\n",
          "name": "stdout"
        },
        {
          "output_type": "execute_result",
          "execution_count": 7,
          "data": {
            "text/plain": "[('Rock', 561, 53.4),\n ('Alternative & Punk', 130, 12.4),\n ('Metal', 124, 11.8),\n ('R&B/Soul', 53, 5.0),\n ('Blues', 36, 3.4),\n ('Alternative', 35, 3.3),\n ('Latin', 22, 2.1),\n ('Pop', 22, 2.1),\n ('Hip Hop/Rap', 20, 1.9),\n ('Jazz', 14, 1.3),\n ('Easy Listening', 13, 1.2),\n ('Reggae', 6, 0.6),\n ('Electronica/Dance', 5, 0.5),\n ('Classical', 4, 0.4),\n ('Heavy Metal', 3, 0.3),\n ('Soundtrack', 2, 0.2),\n ('TV Shows', 1, 0.1)]",
            "text/html": "<table>\n    <tr>\n        <th>genre</th>\n        <th>tracks_sold</th>\n        <th>percent_sold</th>\n    </tr>\n    <tr>\n        <td>Rock</td>\n        <td>561</td>\n        <td>53.4</td>\n    </tr>\n    <tr>\n        <td>Alternative &amp; Punk</td>\n        <td>130</td>\n        <td>12.4</td>\n    </tr>\n    <tr>\n        <td>Metal</td>\n        <td>124</td>\n        <td>11.8</td>\n    </tr>\n    <tr>\n        <td>R&amp;B/Soul</td>\n        <td>53</td>\n        <td>5.0</td>\n    </tr>\n    <tr>\n        <td>Blues</td>\n        <td>36</td>\n        <td>3.4</td>\n    </tr>\n    <tr>\n        <td>Alternative</td>\n        <td>35</td>\n        <td>3.3</td>\n    </tr>\n    <tr>\n        <td>Latin</td>\n        <td>22</td>\n        <td>2.1</td>\n    </tr>\n    <tr>\n        <td>Pop</td>\n        <td>22</td>\n        <td>2.1</td>\n    </tr>\n    <tr>\n        <td>Hip Hop/Rap</td>\n        <td>20</td>\n        <td>1.9</td>\n    </tr>\n    <tr>\n        <td>Jazz</td>\n        <td>14</td>\n        <td>1.3</td>\n    </tr>\n    <tr>\n        <td>Easy Listening</td>\n        <td>13</td>\n        <td>1.2</td>\n    </tr>\n    <tr>\n        <td>Reggae</td>\n        <td>6</td>\n        <td>0.6</td>\n    </tr>\n    <tr>\n        <td>Electronica/Dance</td>\n        <td>5</td>\n        <td>0.5</td>\n    </tr>\n    <tr>\n        <td>Classical</td>\n        <td>4</td>\n        <td>0.4</td>\n    </tr>\n    <tr>\n        <td>Heavy Metal</td>\n        <td>3</td>\n        <td>0.3</td>\n    </tr>\n    <tr>\n        <td>Soundtrack</td>\n        <td>2</td>\n        <td>0.2</td>\n    </tr>\n    <tr>\n        <td>TV Shows</td>\n        <td>1</td>\n        <td>0.1</td>\n    </tr>\n</table>"
          },
          "metadata": {}
        }
      ]
    },
    {
      "metadata": {},
      "cell_type": "markdown",
      "source": "The record store has four albums to choose from but can only add three new records to the store. The choices are Regal (Hip-Hop), Red Tone (Punk), Meteor and the Girls (Pop) and Slim Jim Bites (Blues). To determine which records the store should choose we looked at what genres have sold the most records in the U.S. in the past. 12.4 of records sold were alternative and punk, 3.4 percent were the blues, 2.1 were pop, and 1.9 were hip-hop. Therefore, we have determined that the record store should select Red Tone, Meteor and the Girls, and Slim Jim Bites as the next three records to add to the store."
    },
    {
      "metadata": {},
      "cell_type": "markdown",
      "source": "## Analyzing Employee Sales Performance"
    },
    {
      "metadata": {
        "trusted": true
      },
      "cell_type": "code",
      "source": "%%sql\nSELECT\n    e.employee_id,\n    e.hire_date,\n    e.first_name || \" \" || e.last_name AS employee_name,\n    SUM(i.total) AS total_sales\nFROM employee e\nLEFT JOIN customer c ON e.employee_id = c.support_rep_id\nLEFT JOIN invoice i ON c.customer_id = i.customer_id\nWHERE e.title = 'Sales Support Agent'\nGROUP BY e.employee_id, employee_name\nORDER BY total_sales DESC;",
      "execution_count": 8,
      "outputs": [
        {
          "output_type": "stream",
          "text": " * sqlite:///chinook.db\nDone.\n",
          "name": "stdout"
        },
        {
          "output_type": "execute_result",
          "execution_count": 8,
          "data": {
            "text/plain": "[(3, '2017-04-01 00:00:00', 'Jane Peacock', 1731.510000000004),\n (4, '2017-05-03 00:00:00', 'Margaret Park', 1584.0000000000032),\n (5, '2017-10-17 00:00:00', 'Steve Johnson', 1393.9200000000028)]",
            "text/html": "<table>\n    <tr>\n        <th>employee_id</th>\n        <th>hire_date</th>\n        <th>employee_name</th>\n        <th>total_sales</th>\n    </tr>\n    <tr>\n        <td>3</td>\n        <td>2017-04-01 00:00:00</td>\n        <td>Jane Peacock</td>\n        <td>1731.510000000004</td>\n    </tr>\n    <tr>\n        <td>4</td>\n        <td>2017-05-03 00:00:00</td>\n        <td>Margaret Park</td>\n        <td>1584.0000000000032</td>\n    </tr>\n    <tr>\n        <td>5</td>\n        <td>2017-10-17 00:00:00</td>\n        <td>Steve Johnson</td>\n        <td>1393.9200000000028</td>\n    </tr>\n</table>"
          },
          "metadata": {}
        }
      ]
    },
    {
      "metadata": {},
      "cell_type": "markdown",
      "source": "Jane Peackock is the highest seller and Steve Johnson is the lowest seller. However, total sales of the employees corresponds with thier length of employment. Once you take this into account, they have similar sales per length of employment."
    },
    {
      "metadata": {},
      "cell_type": "markdown",
      "source": "## Analyzing Sales by Country"
    },
    {
      "metadata": {},
      "cell_type": "markdown",
      "source": "Create view that categorizes countries with less than 2 customers as 'Other'."
    },
    {
      "metadata": {
        "trusted": true
      },
      "cell_type": "code",
      "source": "%%sql\n\nDROP VIEW IF EXISTS vw_country;\n\nCREATE VIEW vw_country AS\nSELECT\n    country,\n    CASE \n        WHEN COUNT(c.country) > 1 THEN c.country\n        ELSE 'Other'\n    END AS country_modified,\n    COUNT(c.country) AS count\nFROM customer c\nGROUP BY country\nORDER BY count DESC;\n\nSELECT country, country_modified, count FROM vw_country;",
      "execution_count": 9,
      "outputs": [
        {
          "output_type": "stream",
          "text": " * sqlite:///chinook.db\nDone.\nDone.\nDone.\n",
          "name": "stdout"
        },
        {
          "output_type": "execute_result",
          "execution_count": 9,
          "data": {
            "text/plain": "[('USA', 'USA', 13),\n ('Canada', 'Canada', 8),\n ('Brazil', 'Brazil', 5),\n ('France', 'France', 5),\n ('Germany', 'Germany', 4),\n ('United Kingdom', 'United Kingdom', 3),\n ('Czech Republic', 'Czech Republic', 2),\n ('India', 'India', 2),\n ('Portugal', 'Portugal', 2),\n ('Argentina', 'Other', 1),\n ('Australia', 'Other', 1),\n ('Austria', 'Other', 1),\n ('Belgium', 'Other', 1),\n ('Chile', 'Other', 1),\n ('Denmark', 'Other', 1),\n ('Finland', 'Other', 1),\n ('Hungary', 'Other', 1),\n ('Ireland', 'Other', 1),\n ('Italy', 'Other', 1),\n ('Netherlands', 'Other', 1),\n ('Norway', 'Other', 1),\n ('Poland', 'Other', 1),\n ('Spain', 'Other', 1),\n ('Sweden', 'Other', 1)]",
            "text/html": "<table>\n    <tr>\n        <th>country</th>\n        <th>country_modified</th>\n        <th>count</th>\n    </tr>\n    <tr>\n        <td>USA</td>\n        <td>USA</td>\n        <td>13</td>\n    </tr>\n    <tr>\n        <td>Canada</td>\n        <td>Canada</td>\n        <td>8</td>\n    </tr>\n    <tr>\n        <td>Brazil</td>\n        <td>Brazil</td>\n        <td>5</td>\n    </tr>\n    <tr>\n        <td>France</td>\n        <td>France</td>\n        <td>5</td>\n    </tr>\n    <tr>\n        <td>Germany</td>\n        <td>Germany</td>\n        <td>4</td>\n    </tr>\n    <tr>\n        <td>United Kingdom</td>\n        <td>United Kingdom</td>\n        <td>3</td>\n    </tr>\n    <tr>\n        <td>Czech Republic</td>\n        <td>Czech Republic</td>\n        <td>2</td>\n    </tr>\n    <tr>\n        <td>India</td>\n        <td>India</td>\n        <td>2</td>\n    </tr>\n    <tr>\n        <td>Portugal</td>\n        <td>Portugal</td>\n        <td>2</td>\n    </tr>\n    <tr>\n        <td>Argentina</td>\n        <td>Other</td>\n        <td>1</td>\n    </tr>\n    <tr>\n        <td>Australia</td>\n        <td>Other</td>\n        <td>1</td>\n    </tr>\n    <tr>\n        <td>Austria</td>\n        <td>Other</td>\n        <td>1</td>\n    </tr>\n    <tr>\n        <td>Belgium</td>\n        <td>Other</td>\n        <td>1</td>\n    </tr>\n    <tr>\n        <td>Chile</td>\n        <td>Other</td>\n        <td>1</td>\n    </tr>\n    <tr>\n        <td>Denmark</td>\n        <td>Other</td>\n        <td>1</td>\n    </tr>\n    <tr>\n        <td>Finland</td>\n        <td>Other</td>\n        <td>1</td>\n    </tr>\n    <tr>\n        <td>Hungary</td>\n        <td>Other</td>\n        <td>1</td>\n    </tr>\n    <tr>\n        <td>Ireland</td>\n        <td>Other</td>\n        <td>1</td>\n    </tr>\n    <tr>\n        <td>Italy</td>\n        <td>Other</td>\n        <td>1</td>\n    </tr>\n    <tr>\n        <td>Netherlands</td>\n        <td>Other</td>\n        <td>1</td>\n    </tr>\n    <tr>\n        <td>Norway</td>\n        <td>Other</td>\n        <td>1</td>\n    </tr>\n    <tr>\n        <td>Poland</td>\n        <td>Other</td>\n        <td>1</td>\n    </tr>\n    <tr>\n        <td>Spain</td>\n        <td>Other</td>\n        <td>1</td>\n    </tr>\n    <tr>\n        <td>Sweden</td>\n        <td>Other</td>\n        <td>1</td>\n    </tr>\n</table>"
          },
          "metadata": {}
        }
      ]
    },
    {
      "metadata": {
        "trusted": true
      },
      "cell_type": "code",
      "source": "%%sql\nWITH t AS \n    (\n        SELECT \n        c.customer_id,\n        v.country_modified AS country,\n        i.invoice_id,\n        i.total,\n        CASE \n            WHEN v.country_modified = 'Other' THEN 1\n            ELSE 0\n        END AS sort\n        FROM customer c\n        LEFT JOIN vw_country v ON c.country = v.country\n        LEFT JOIN invoice i ON c.customer_id = i.customer_id\n    ),\n    customer_sales AS \n    (\n        SELECT \n            c.customer_id,\n            c.country AS country,\n            COUNT(i.invoice_id) AS number_of_sales,\n            SUM(i.total) AS total_sales,\n            SUM(i.total) / COUNT(i.invoice_id) average_value_of_sales\n        FROM customer c\n        LEFT JOIN invoice i ON c.customer_id = i.customer_id\n        GROUP BY c.customer_id\n    )\n\nSELECT\n    t.country,\n    COUNT(distinct t.customer_id) AS total_customers,\n    ROUND(SUM(t.total), 2) AS total_sales,\n    ROUND(\n            (SUM(t.total)/COUNT(distinct t.invoice_id))\n        , 2) average_order_value,\n    ROUND(\n        (SUM(t.total)/COUNT(distinct t.customer_id))\n        , 2) average_customer_value\nFROM t\nLEFT JOIN customer_sales cs ON t.customer_id = cs.customer_id\nGROUP BY t.country\nORDER BY t.sort, total_sales DESC",
      "execution_count": 10,
      "outputs": [
        {
          "output_type": "stream",
          "text": " * sqlite:///chinook.db\nDone.\n",
          "name": "stdout"
        },
        {
          "output_type": "execute_result",
          "execution_count": 10,
          "data": {
            "text/plain": "[('USA', 13, 1040.49, 7.94, 80.04),\n ('Canada', 8, 535.59, 7.05, 66.95),\n ('Brazil', 5, 427.68, 7.01, 85.54),\n ('France', 5, 389.07, 7.78, 77.81),\n ('Germany', 4, 334.62, 8.16, 83.65),\n ('Czech Republic', 2, 273.24, 9.11, 136.62),\n ('United Kingdom', 3, 245.52, 8.77, 81.84),\n ('Portugal', 2, 185.13, 6.38, 92.56),\n ('India', 2, 183.15, 8.72, 91.57),\n ('Other', 15, 1094.94, 7.45, 73.0)]",
            "text/html": "<table>\n    <tr>\n        <th>country</th>\n        <th>total_customers</th>\n        <th>total_sales</th>\n        <th>average_order_value</th>\n        <th>average_customer_value</th>\n    </tr>\n    <tr>\n        <td>USA</td>\n        <td>13</td>\n        <td>1040.49</td>\n        <td>7.94</td>\n        <td>80.04</td>\n    </tr>\n    <tr>\n        <td>Canada</td>\n        <td>8</td>\n        <td>535.59</td>\n        <td>7.05</td>\n        <td>66.95</td>\n    </tr>\n    <tr>\n        <td>Brazil</td>\n        <td>5</td>\n        <td>427.68</td>\n        <td>7.01</td>\n        <td>85.54</td>\n    </tr>\n    <tr>\n        <td>France</td>\n        <td>5</td>\n        <td>389.07</td>\n        <td>7.78</td>\n        <td>77.81</td>\n    </tr>\n    <tr>\n        <td>Germany</td>\n        <td>4</td>\n        <td>334.62</td>\n        <td>8.16</td>\n        <td>83.65</td>\n    </tr>\n    <tr>\n        <td>Czech Republic</td>\n        <td>2</td>\n        <td>273.24</td>\n        <td>9.11</td>\n        <td>136.62</td>\n    </tr>\n    <tr>\n        <td>United Kingdom</td>\n        <td>3</td>\n        <td>245.52</td>\n        <td>8.77</td>\n        <td>81.84</td>\n    </tr>\n    <tr>\n        <td>Portugal</td>\n        <td>2</td>\n        <td>185.13</td>\n        <td>6.38</td>\n        <td>92.56</td>\n    </tr>\n    <tr>\n        <td>India</td>\n        <td>2</td>\n        <td>183.15</td>\n        <td>8.72</td>\n        <td>91.57</td>\n    </tr>\n    <tr>\n        <td>Other</td>\n        <td>15</td>\n        <td>1094.94</td>\n        <td>7.45</td>\n        <td>73.0</td>\n    </tr>\n</table>"
          },
          "metadata": {}
        }
      ]
    },
    {
      "metadata": {
        "collapsed": true
      },
      "cell_type": "markdown",
      "source": "Based on average order value and average customer value, there may be opportunity in the following countries:\n\n- Czech Republic  \n- United Kingdom  \n- India \n\nSince the number of customers in these countries is small, the data we ahve is limited. Because of this, we should be cautious spending too much money on new marketing campaigns, as the sample size is not large enough to give us high confidence. A better approach would be to run small campaigns in these countries, collecting and analyzing the new customers to make sure that these trends hold with new customers."
    },
    {
      "metadata": {},
      "cell_type": "markdown",
      "source": "## Albums vs Individual Tracks"
    },
    {
      "metadata": {
        "trusted": true
      },
      "cell_type": "code",
      "source": "%%sql\nWITH album_tracks AS \n    (\n        SELECT\n            a.album_id,\n            t.track_id\n        FROM track t\n        LEFT JOIN album a ON t.album_id = a.album_id\n        ORDER BY a.album_id, t.track_id\n    ),\n    invoice_tracks AS \n    (\n        SELECT\n            il.invoice_line_id,\n            il.invoice_id,\n            il.track_id,\n            t.album_id\n        FROM invoice_line il\n        LEFT JOIN track t ON il.track_id = t.track_id\n        ORDER BY il.invoice_id, il.invoice_line_id, t.album_id, il.track_id\n    ),\n    invoice_albums AS\n    (\n    SELECT\n        i.invoice_id,\n        i.album_id,\n        i.track_id,\n        CASE WHEN \n            (\n                SELECT track_id FROM album_tracks WHERE album_tracks.album_id = a.album_id\n                EXCEPT\n                SELECT track_id FROM invoice_tracks WHERE invoice_tracks.invoice_id = i.invoice_id\n            ) IS NULL\n            AND\n            (\n                SELECT track_id FROM invoice_tracks WHERE invoice_tracks.invoice_id = i.invoice_id\n                EXCEPT\n                SELECT track_id FROM album_tracks WHERE album_tracks.album_id = a.album_id\n            ) IS NULL\n            THEN 1\n            ELSE 0\n            END AS album\n    FROM invoice_tracks i \n    LEFT JOIN album_tracks a ON i.track_id = a.track_id\n    ),\n    album_purchase AS \n    (\n        SELECT\n            invoice_id,\n            CASE \n                WHEN SUM(album) > 0 THEN 'Yes'\n                ELSE 'No'\n            END AS album_purchase\n        FROM invoice_albums\n        GROUP BY invoice_id\n    )\n\nSELECT \n    a.album_purchase, \n    COUNT(a.invoice_id) AS total_invoices,\n    (CAST(COUNT(a.invoice_id) AS FLOAT)/(SELECT COUNT(*) FROM invoice) * 100) AS percent_invoices\n    \nFROM album_purchase a\nGROUP BY a.album_purchase",
      "execution_count": 11,
      "outputs": [
        {
          "output_type": "stream",
          "text": " * sqlite:///chinook.db\nDone.\n",
          "name": "stdout"
        },
        {
          "output_type": "execute_result",
          "execution_count": 11,
          "data": {
            "text/plain": "[('No', 500, 81.43322475570032), ('Yes', 114, 18.566775244299674)]",
            "text/html": "<table>\n    <tr>\n        <th>album_purchase</th>\n        <th>total_invoices</th>\n        <th>percent_invoices</th>\n    </tr>\n    <tr>\n        <td>No</td>\n        <td>500</td>\n        <td>81.43322475570032</td>\n    </tr>\n    <tr>\n        <td>Yes</td>\n        <td>114</td>\n        <td>18.566775244299674</td>\n    </tr>\n</table>"
          },
          "metadata": {}
        }
      ]
    },
    {
      "metadata": {},
      "cell_type": "markdown",
      "source": "Management are currently considering changing their purchasing strategy to save money. The strategy they are considering is to purchase only the most popular tracks from each album from record companies, instead of purchasing every track from an album. After analyzing the number of invoices with an album purchase, I would recommend that the Chinook store should continue to buy full albums. Nearly 20 percent of invoices had a full album and we would not want to lose that revenue."
    },
    {
      "metadata": {
        "trusted": true
      },
      "cell_type": "code",
      "source": "",
      "execution_count": null,
      "outputs": []
    }
  ],
  "metadata": {
    "kernelspec": {
      "name": "python3",
      "display_name": "Python 3",
      "language": "python"
    },
    "language_info": {
      "mimetype": "text/x-python",
      "nbconvert_exporter": "python",
      "name": "python",
      "pygments_lexer": "ipython3",
      "version": "3.5.4",
      "file_extension": ".py",
      "codemirror_mode": {
        "version": 3,
        "name": "ipython"
      }
    }
  },
  "nbformat": 4,
  "nbformat_minor": 2
}