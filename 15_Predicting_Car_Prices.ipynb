{
  "nbformat": 4,
  "nbformat_minor": 0,
  "metadata": {
    "colab": {
      "name": "15 Predicting Car Prices.ipynb",
      "provenance": [],
      "collapsed_sections": [],
      "authorship_tag": "ABX9TyPMRlVnpaQxsqAEKnOVbn3x",
      "include_colab_link": true
    },
    "kernelspec": {
      "name": "python3",
      "display_name": "Python 3"
    },
    "language_info": {
      "name": "python"
    }
  },
  "cells": [
    {
      "cell_type": "markdown",
      "metadata": {
        "id": "view-in-github",
        "colab_type": "text"
      },
      "source": [
        "<a href=\"https://colab.research.google.com/github/K-Erath/Dataquest/blob/master/15_Predicting_Car_Prices.ipynb\" target=\"_parent\"><img src=\"https://colab.research.google.com/assets/colab-badge.svg\" alt=\"Open In Colab\"/></a>"
      ]
    },
    {
      "cell_type": "markdown",
      "source": [
        "# Predicting Car Prices\n",
        "For this project we will try to find the best model for predicting car prices using a machine learning algorithim known as K-Nearest Neighbors. K-Nearest Neighbors computes Euclidean Distance to find similarity and average to predict an unseen value.\n",
        "\n",
        "We wil use a dataset that contains information on various cars. For each car we have information about the technical aspects of the vehicle such as the motor's displacement, the weight of the car, the miles per gallon, how fast the car accelerates, and more. You can read more about the data set [here](https://archive.ics.uci.edu/ml/datasets/automobile) and can download it directly from [here](https://archive.ics.uci.edu/ml/machine-learning-databases/autos/imports-85.data).\n",
        "\n",
        "To find the best model, we will\n",
        "1. Select relevant features to use for predicting the target column.\n",
        "2. Use grid search to find the optimal hyperparameter value for the selected features.\n",
        "3. Evaluate the model's accuracy and repeat the process.\n",
        "\n",
        "We will start by using a machine learning algorithm, k-nearest neighbors, to predict car prices.\n"
      ],
      "metadata": {
        "id": "elY7MEDJX4WK"
      }
    },
    {
      "cell_type": "markdown",
      "source": [
        "TODO:\n",
        "Lookinto using pearsons correlation like [this](https://community.dataquest.io/t/guided-project-predicting-us-car-import-car-prices-feedback-welcomed/559839) Then drop columns that are highly correlated from the final chosen features.\n",
        "\n",
        "Why does the solution divide test and training 50-50."
      ],
      "metadata": {
        "id": "ZXIBNonOEptt"
      }
    },
    {
      "cell_type": "markdown",
      "source": [
        "## Introduction To The Data Set"
      ],
      "metadata": {
        "id": "-AB1f8GWfy-5"
      }
    },
    {
      "cell_type": "code",
      "source": [
        "import pandas as pd"
      ],
      "metadata": {
        "id": "mDFpCOKcX2wE"
      },
      "execution_count": null,
      "outputs": []
    },
    {
      "cell_type": "code",
      "execution_count": null,
      "metadata": {
        "id": "Mtxi8D82BIcn",
        "colab": {
          "base_uri": "https://localhost:8080/",
          "height": 206
        },
        "outputId": "844b247b-628d-415d-f383-461ace884915"
      },
      "outputs": [
        {
          "output_type": "execute_result",
          "data": {
            "text/html": [
              "\n",
              "  <div id=\"df-4ed232d9-1ae9-4dd6-bcfc-9d9a986051b7\">\n",
              "    <div class=\"colab-df-container\">\n",
              "      <div>\n",
              "<style scoped>\n",
              "    .dataframe tbody tr th:only-of-type {\n",
              "        vertical-align: middle;\n",
              "    }\n",
              "\n",
              "    .dataframe tbody tr th {\n",
              "        vertical-align: top;\n",
              "    }\n",
              "\n",
              "    .dataframe thead th {\n",
              "        text-align: right;\n",
              "    }\n",
              "</style>\n",
              "<table border=\"1\" class=\"dataframe\">\n",
              "  <thead>\n",
              "    <tr style=\"text-align: right;\">\n",
              "      <th></th>\n",
              "      <th>3</th>\n",
              "      <th>?</th>\n",
              "      <th>alfa-romero</th>\n",
              "      <th>gas</th>\n",
              "      <th>std</th>\n",
              "      <th>two</th>\n",
              "      <th>convertible</th>\n",
              "      <th>rwd</th>\n",
              "      <th>front</th>\n",
              "      <th>88.60</th>\n",
              "      <th>168.80</th>\n",
              "      <th>64.10</th>\n",
              "      <th>48.80</th>\n",
              "      <th>2548</th>\n",
              "      <th>dohc</th>\n",
              "      <th>four</th>\n",
              "      <th>130</th>\n",
              "      <th>mpfi</th>\n",
              "      <th>3.47</th>\n",
              "      <th>2.68</th>\n",
              "      <th>9.00</th>\n",
              "      <th>111</th>\n",
              "      <th>5000</th>\n",
              "      <th>21</th>\n",
              "      <th>27</th>\n",
              "      <th>13495</th>\n",
              "    </tr>\n",
              "  </thead>\n",
              "  <tbody>\n",
              "    <tr>\n",
              "      <th>0</th>\n",
              "      <td>3</td>\n",
              "      <td>?</td>\n",
              "      <td>alfa-romero</td>\n",
              "      <td>gas</td>\n",
              "      <td>std</td>\n",
              "      <td>two</td>\n",
              "      <td>convertible</td>\n",
              "      <td>rwd</td>\n",
              "      <td>front</td>\n",
              "      <td>88.6</td>\n",
              "      <td>168.8</td>\n",
              "      <td>64.1</td>\n",
              "      <td>48.8</td>\n",
              "      <td>2548</td>\n",
              "      <td>dohc</td>\n",
              "      <td>four</td>\n",
              "      <td>130</td>\n",
              "      <td>mpfi</td>\n",
              "      <td>3.47</td>\n",
              "      <td>2.68</td>\n",
              "      <td>9.0</td>\n",
              "      <td>111</td>\n",
              "      <td>5000</td>\n",
              "      <td>21</td>\n",
              "      <td>27</td>\n",
              "      <td>16500</td>\n",
              "    </tr>\n",
              "    <tr>\n",
              "      <th>1</th>\n",
              "      <td>1</td>\n",
              "      <td>?</td>\n",
              "      <td>alfa-romero</td>\n",
              "      <td>gas</td>\n",
              "      <td>std</td>\n",
              "      <td>two</td>\n",
              "      <td>hatchback</td>\n",
              "      <td>rwd</td>\n",
              "      <td>front</td>\n",
              "      <td>94.5</td>\n",
              "      <td>171.2</td>\n",
              "      <td>65.5</td>\n",
              "      <td>52.4</td>\n",
              "      <td>2823</td>\n",
              "      <td>ohcv</td>\n",
              "      <td>six</td>\n",
              "      <td>152</td>\n",
              "      <td>mpfi</td>\n",
              "      <td>2.68</td>\n",
              "      <td>3.47</td>\n",
              "      <td>9.0</td>\n",
              "      <td>154</td>\n",
              "      <td>5000</td>\n",
              "      <td>19</td>\n",
              "      <td>26</td>\n",
              "      <td>16500</td>\n",
              "    </tr>\n",
              "    <tr>\n",
              "      <th>2</th>\n",
              "      <td>2</td>\n",
              "      <td>164</td>\n",
              "      <td>audi</td>\n",
              "      <td>gas</td>\n",
              "      <td>std</td>\n",
              "      <td>four</td>\n",
              "      <td>sedan</td>\n",
              "      <td>fwd</td>\n",
              "      <td>front</td>\n",
              "      <td>99.8</td>\n",
              "      <td>176.6</td>\n",
              "      <td>66.2</td>\n",
              "      <td>54.3</td>\n",
              "      <td>2337</td>\n",
              "      <td>ohc</td>\n",
              "      <td>four</td>\n",
              "      <td>109</td>\n",
              "      <td>mpfi</td>\n",
              "      <td>3.19</td>\n",
              "      <td>3.40</td>\n",
              "      <td>10.0</td>\n",
              "      <td>102</td>\n",
              "      <td>5500</td>\n",
              "      <td>24</td>\n",
              "      <td>30</td>\n",
              "      <td>13950</td>\n",
              "    </tr>\n",
              "    <tr>\n",
              "      <th>3</th>\n",
              "      <td>2</td>\n",
              "      <td>164</td>\n",
              "      <td>audi</td>\n",
              "      <td>gas</td>\n",
              "      <td>std</td>\n",
              "      <td>four</td>\n",
              "      <td>sedan</td>\n",
              "      <td>4wd</td>\n",
              "      <td>front</td>\n",
              "      <td>99.4</td>\n",
              "      <td>176.6</td>\n",
              "      <td>66.4</td>\n",
              "      <td>54.3</td>\n",
              "      <td>2824</td>\n",
              "      <td>ohc</td>\n",
              "      <td>five</td>\n",
              "      <td>136</td>\n",
              "      <td>mpfi</td>\n",
              "      <td>3.19</td>\n",
              "      <td>3.40</td>\n",
              "      <td>8.0</td>\n",
              "      <td>115</td>\n",
              "      <td>5500</td>\n",
              "      <td>18</td>\n",
              "      <td>22</td>\n",
              "      <td>17450</td>\n",
              "    </tr>\n",
              "    <tr>\n",
              "      <th>4</th>\n",
              "      <td>2</td>\n",
              "      <td>?</td>\n",
              "      <td>audi</td>\n",
              "      <td>gas</td>\n",
              "      <td>std</td>\n",
              "      <td>two</td>\n",
              "      <td>sedan</td>\n",
              "      <td>fwd</td>\n",
              "      <td>front</td>\n",
              "      <td>99.8</td>\n",
              "      <td>177.3</td>\n",
              "      <td>66.3</td>\n",
              "      <td>53.1</td>\n",
              "      <td>2507</td>\n",
              "      <td>ohc</td>\n",
              "      <td>five</td>\n",
              "      <td>136</td>\n",
              "      <td>mpfi</td>\n",
              "      <td>3.19</td>\n",
              "      <td>3.40</td>\n",
              "      <td>8.5</td>\n",
              "      <td>110</td>\n",
              "      <td>5500</td>\n",
              "      <td>19</td>\n",
              "      <td>25</td>\n",
              "      <td>15250</td>\n",
              "    </tr>\n",
              "  </tbody>\n",
              "</table>\n",
              "</div>\n",
              "      <button class=\"colab-df-convert\" onclick=\"convertToInteractive('df-4ed232d9-1ae9-4dd6-bcfc-9d9a986051b7')\"\n",
              "              title=\"Convert this dataframe to an interactive table.\"\n",
              "              style=\"display:none;\">\n",
              "        \n",
              "  <svg xmlns=\"http://www.w3.org/2000/svg\" height=\"24px\"viewBox=\"0 0 24 24\"\n",
              "       width=\"24px\">\n",
              "    <path d=\"M0 0h24v24H0V0z\" fill=\"none\"/>\n",
              "    <path d=\"M18.56 5.44l.94 2.06.94-2.06 2.06-.94-2.06-.94-.94-2.06-.94 2.06-2.06.94zm-11 1L8.5 8.5l.94-2.06 2.06-.94-2.06-.94L8.5 2.5l-.94 2.06-2.06.94zm10 10l.94 2.06.94-2.06 2.06-.94-2.06-.94-.94-2.06-.94 2.06-2.06.94z\"/><path d=\"M17.41 7.96l-1.37-1.37c-.4-.4-.92-.59-1.43-.59-.52 0-1.04.2-1.43.59L10.3 9.45l-7.72 7.72c-.78.78-.78 2.05 0 2.83L4 21.41c.39.39.9.59 1.41.59.51 0 1.02-.2 1.41-.59l7.78-7.78 2.81-2.81c.8-.78.8-2.07 0-2.86zM5.41 20L4 18.59l7.72-7.72 1.47 1.35L5.41 20z\"/>\n",
              "  </svg>\n",
              "      </button>\n",
              "      \n",
              "  <style>\n",
              "    .colab-df-container {\n",
              "      display:flex;\n",
              "      flex-wrap:wrap;\n",
              "      gap: 12px;\n",
              "    }\n",
              "\n",
              "    .colab-df-convert {\n",
              "      background-color: #E8F0FE;\n",
              "      border: none;\n",
              "      border-radius: 50%;\n",
              "      cursor: pointer;\n",
              "      display: none;\n",
              "      fill: #1967D2;\n",
              "      height: 32px;\n",
              "      padding: 0 0 0 0;\n",
              "      width: 32px;\n",
              "    }\n",
              "\n",
              "    .colab-df-convert:hover {\n",
              "      background-color: #E2EBFA;\n",
              "      box-shadow: 0px 1px 2px rgba(60, 64, 67, 0.3), 0px 1px 3px 1px rgba(60, 64, 67, 0.15);\n",
              "      fill: #174EA6;\n",
              "    }\n",
              "\n",
              "    [theme=dark] .colab-df-convert {\n",
              "      background-color: #3B4455;\n",
              "      fill: #D2E3FC;\n",
              "    }\n",
              "\n",
              "    [theme=dark] .colab-df-convert:hover {\n",
              "      background-color: #434B5C;\n",
              "      box-shadow: 0px 1px 3px 1px rgba(0, 0, 0, 0.15);\n",
              "      filter: drop-shadow(0px 1px 2px rgba(0, 0, 0, 0.3));\n",
              "      fill: #FFFFFF;\n",
              "    }\n",
              "  </style>\n",
              "\n",
              "      <script>\n",
              "        const buttonEl =\n",
              "          document.querySelector('#df-4ed232d9-1ae9-4dd6-bcfc-9d9a986051b7 button.colab-df-convert');\n",
              "        buttonEl.style.display =\n",
              "          google.colab.kernel.accessAllowed ? 'block' : 'none';\n",
              "\n",
              "        async function convertToInteractive(key) {\n",
              "          const element = document.querySelector('#df-4ed232d9-1ae9-4dd6-bcfc-9d9a986051b7');\n",
              "          const dataTable =\n",
              "            await google.colab.kernel.invokeFunction('convertToInteractive',\n",
              "                                                     [key], {});\n",
              "          if (!dataTable) return;\n",
              "\n",
              "          const docLinkHtml = 'Like what you see? Visit the ' +\n",
              "            '<a target=\"_blank\" href=https://colab.research.google.com/notebooks/data_table.ipynb>data table notebook</a>'\n",
              "            + ' to learn more about interactive tables.';\n",
              "          element.innerHTML = '';\n",
              "          dataTable['output_type'] = 'display_data';\n",
              "          await google.colab.output.renderOutput(dataTable, element);\n",
              "          const docLink = document.createElement('div');\n",
              "          docLink.innerHTML = docLinkHtml;\n",
              "          element.appendChild(docLink);\n",
              "        }\n",
              "      </script>\n",
              "    </div>\n",
              "  </div>\n",
              "  "
            ],
            "text/plain": [
              "   3    ?  alfa-romero  gas  std   two  ...  9.00  111  5000  21  27  13495\n",
              "0  3    ?  alfa-romero  gas  std   two  ...   9.0  111  5000  21  27  16500\n",
              "1  1    ?  alfa-romero  gas  std   two  ...   9.0  154  5000  19  26  16500\n",
              "2  2  164         audi  gas  std  four  ...  10.0  102  5500  24  30  13950\n",
              "3  2  164         audi  gas  std  four  ...   8.0  115  5500  18  22  17450\n",
              "4  2    ?         audi  gas  std   two  ...   8.5  110  5500  19  25  15250\n",
              "\n",
              "[5 rows x 26 columns]"
            ]
          },
          "metadata": {},
          "execution_count": 2
        }
      ],
      "source": [
        "csv = \"https://archive.ics.uci.edu/ml/machine-learning-databases/autos/imports-85.data\" \n",
        "cars = pd.read_csv(csv)\n",
        "cars.head()"
      ]
    },
    {
      "cell_type": "markdown",
      "source": [
        "The column names are missing and that is messing up the table. Let's read the column names from the [documentation](https://archive.ics.uci.edu/ml/datasets/automobile)."
      ],
      "metadata": {
        "id": "-_jPKEzKde-8"
      }
    },
    {
      "cell_type": "code",
      "source": [
        "import requests\n",
        "from bs4 import BeautifulSoup"
      ],
      "metadata": {
        "id": "3OaqjtVVdzkJ"
      },
      "execution_count": null,
      "outputs": []
    },
    {
      "cell_type": "code",
      "source": [
        "url = \"https://archive.ics.uci.edu/ml/datasets/automobile\"\n",
        "resp = requests.get(url)"
      ],
      "metadata": {
        "id": "W1ieEOeRYXun"
      },
      "execution_count": null,
      "outputs": []
    },
    {
      "cell_type": "code",
      "source": [
        "from urllib.request import urlopen\n",
        "\n",
        "html = urlopen(url).read()\n",
        "soup = BeautifulSoup(html, features=\"html.parser\")\n",
        "text = soup.body.get_text()"
      ],
      "metadata": {
        "id": "RtcczBrcupKX"
      },
      "execution_count": null,
      "outputs": []
    },
    {
      "cell_type": "code",
      "source": [
        "# break into lines and remove leading and trailing space on each\n",
        "lines = (line.strip() for line in text.splitlines())\n",
        "# break multi-headlines into a line each\n",
        "chunks = (phrase.strip() for line in lines for phrase in line.split(\"  \"))"
      ],
      "metadata": {
        "id": "_xalmRjj71cg"
      },
      "execution_count": null,
      "outputs": []
    },
    {
      "cell_type": "code",
      "source": [
        "import re\n",
        "# pattern captures string that starts with one or more digit, a period, and then a space\n",
        "pat = re.compile(r\"^\\d+\\.\\s\")\n",
        "\n",
        "column_names = []\n",
        "\n",
        "for chunk in chunks:\n",
        "    # if the line matches the pattern\n",
        "    if pat.search(chunk) != None:\n",
        "        # get the text after the pattern and remove the colon\n",
        "        column_name = re.split(pat, chunk)[1].replace(':', '')\n",
        "        # append text to list of columns names\n",
        "        column_names.append(column_name)\n",
        "\n",
        "column_names"
      ],
      "metadata": {
        "colab": {
          "base_uri": "https://localhost:8080/"
        },
        "id": "GS8LQsvovVB3",
        "outputId": "7bc4538f-3237-40cc-9c00-c2d3790f0fc6"
      },
      "execution_count": null,
      "outputs": [
        {
          "output_type": "execute_result",
          "data": {
            "text/plain": [
              "['symboling',\n",
              " 'normalized-losses',\n",
              " 'make',\n",
              " 'fuel-type',\n",
              " 'aspiration',\n",
              " 'num-of-doors',\n",
              " 'body-style',\n",
              " 'drive-wheels',\n",
              " 'engine-location',\n",
              " 'wheel-base',\n",
              " 'length',\n",
              " 'width',\n",
              " 'height',\n",
              " 'curb-weight',\n",
              " 'engine-type',\n",
              " 'num-of-cylinders',\n",
              " 'engine-size',\n",
              " 'fuel-system',\n",
              " 'bore',\n",
              " 'stroke',\n",
              " 'compression-ratio',\n",
              " 'horsepower',\n",
              " 'peak-rpm',\n",
              " 'city-mpg',\n",
              " 'highway-mpg',\n",
              " 'price']"
            ]
          },
          "metadata": {},
          "execution_count": 7
        }
      ]
    },
    {
      "cell_type": "markdown",
      "source": [
        "Read data again but this time pass in column names."
      ],
      "metadata": {
        "id": "xD4HKyDk8yD4"
      }
    },
    {
      "cell_type": "code",
      "source": [
        "pd.set_option(\"display.max_columns\", 30)"
      ],
      "metadata": {
        "id": "uzzuinbP-Ki4"
      },
      "execution_count": null,
      "outputs": []
    },
    {
      "cell_type": "code",
      "source": [
        "cars = pd.read_csv(csv, names=column_names)\n",
        "cars.head()"
      ],
      "metadata": {
        "colab": {
          "base_uri": "https://localhost:8080/",
          "height": 356
        },
        "id": "4_Pe95dL8xIZ",
        "outputId": "90200754-1ddf-4eaa-a7a3-f5748d5bd776"
      },
      "execution_count": null,
      "outputs": [
        {
          "output_type": "execute_result",
          "data": {
            "text/html": [
              "\n",
              "  <div id=\"df-022e9093-1148-4103-bae7-87e343526f6c\">\n",
              "    <div class=\"colab-df-container\">\n",
              "      <div>\n",
              "<style scoped>\n",
              "    .dataframe tbody tr th:only-of-type {\n",
              "        vertical-align: middle;\n",
              "    }\n",
              "\n",
              "    .dataframe tbody tr th {\n",
              "        vertical-align: top;\n",
              "    }\n",
              "\n",
              "    .dataframe thead th {\n",
              "        text-align: right;\n",
              "    }\n",
              "</style>\n",
              "<table border=\"1\" class=\"dataframe\">\n",
              "  <thead>\n",
              "    <tr style=\"text-align: right;\">\n",
              "      <th></th>\n",
              "      <th>symboling</th>\n",
              "      <th>normalized-losses</th>\n",
              "      <th>make</th>\n",
              "      <th>fuel-type</th>\n",
              "      <th>aspiration</th>\n",
              "      <th>num-of-doors</th>\n",
              "      <th>body-style</th>\n",
              "      <th>drive-wheels</th>\n",
              "      <th>engine-location</th>\n",
              "      <th>wheel-base</th>\n",
              "      <th>length</th>\n",
              "      <th>width</th>\n",
              "      <th>height</th>\n",
              "      <th>curb-weight</th>\n",
              "      <th>engine-type</th>\n",
              "      <th>num-of-cylinders</th>\n",
              "      <th>engine-size</th>\n",
              "      <th>fuel-system</th>\n",
              "      <th>bore</th>\n",
              "      <th>stroke</th>\n",
              "      <th>compression-ratio</th>\n",
              "      <th>horsepower</th>\n",
              "      <th>peak-rpm</th>\n",
              "      <th>city-mpg</th>\n",
              "      <th>highway-mpg</th>\n",
              "      <th>price</th>\n",
              "    </tr>\n",
              "  </thead>\n",
              "  <tbody>\n",
              "    <tr>\n",
              "      <th>0</th>\n",
              "      <td>3</td>\n",
              "      <td>?</td>\n",
              "      <td>alfa-romero</td>\n",
              "      <td>gas</td>\n",
              "      <td>std</td>\n",
              "      <td>two</td>\n",
              "      <td>convertible</td>\n",
              "      <td>rwd</td>\n",
              "      <td>front</td>\n",
              "      <td>88.6</td>\n",
              "      <td>168.8</td>\n",
              "      <td>64.1</td>\n",
              "      <td>48.8</td>\n",
              "      <td>2548</td>\n",
              "      <td>dohc</td>\n",
              "      <td>four</td>\n",
              "      <td>130</td>\n",
              "      <td>mpfi</td>\n",
              "      <td>3.47</td>\n",
              "      <td>2.68</td>\n",
              "      <td>9.0</td>\n",
              "      <td>111</td>\n",
              "      <td>5000</td>\n",
              "      <td>21</td>\n",
              "      <td>27</td>\n",
              "      <td>13495</td>\n",
              "    </tr>\n",
              "    <tr>\n",
              "      <th>1</th>\n",
              "      <td>3</td>\n",
              "      <td>?</td>\n",
              "      <td>alfa-romero</td>\n",
              "      <td>gas</td>\n",
              "      <td>std</td>\n",
              "      <td>two</td>\n",
              "      <td>convertible</td>\n",
              "      <td>rwd</td>\n",
              "      <td>front</td>\n",
              "      <td>88.6</td>\n",
              "      <td>168.8</td>\n",
              "      <td>64.1</td>\n",
              "      <td>48.8</td>\n",
              "      <td>2548</td>\n",
              "      <td>dohc</td>\n",
              "      <td>four</td>\n",
              "      <td>130</td>\n",
              "      <td>mpfi</td>\n",
              "      <td>3.47</td>\n",
              "      <td>2.68</td>\n",
              "      <td>9.0</td>\n",
              "      <td>111</td>\n",
              "      <td>5000</td>\n",
              "      <td>21</td>\n",
              "      <td>27</td>\n",
              "      <td>16500</td>\n",
              "    </tr>\n",
              "    <tr>\n",
              "      <th>2</th>\n",
              "      <td>1</td>\n",
              "      <td>?</td>\n",
              "      <td>alfa-romero</td>\n",
              "      <td>gas</td>\n",
              "      <td>std</td>\n",
              "      <td>two</td>\n",
              "      <td>hatchback</td>\n",
              "      <td>rwd</td>\n",
              "      <td>front</td>\n",
              "      <td>94.5</td>\n",
              "      <td>171.2</td>\n",
              "      <td>65.5</td>\n",
              "      <td>52.4</td>\n",
              "      <td>2823</td>\n",
              "      <td>ohcv</td>\n",
              "      <td>six</td>\n",
              "      <td>152</td>\n",
              "      <td>mpfi</td>\n",
              "      <td>2.68</td>\n",
              "      <td>3.47</td>\n",
              "      <td>9.0</td>\n",
              "      <td>154</td>\n",
              "      <td>5000</td>\n",
              "      <td>19</td>\n",
              "      <td>26</td>\n",
              "      <td>16500</td>\n",
              "    </tr>\n",
              "    <tr>\n",
              "      <th>3</th>\n",
              "      <td>2</td>\n",
              "      <td>164</td>\n",
              "      <td>audi</td>\n",
              "      <td>gas</td>\n",
              "      <td>std</td>\n",
              "      <td>four</td>\n",
              "      <td>sedan</td>\n",
              "      <td>fwd</td>\n",
              "      <td>front</td>\n",
              "      <td>99.8</td>\n",
              "      <td>176.6</td>\n",
              "      <td>66.2</td>\n",
              "      <td>54.3</td>\n",
              "      <td>2337</td>\n",
              "      <td>ohc</td>\n",
              "      <td>four</td>\n",
              "      <td>109</td>\n",
              "      <td>mpfi</td>\n",
              "      <td>3.19</td>\n",
              "      <td>3.40</td>\n",
              "      <td>10.0</td>\n",
              "      <td>102</td>\n",
              "      <td>5500</td>\n",
              "      <td>24</td>\n",
              "      <td>30</td>\n",
              "      <td>13950</td>\n",
              "    </tr>\n",
              "    <tr>\n",
              "      <th>4</th>\n",
              "      <td>2</td>\n",
              "      <td>164</td>\n",
              "      <td>audi</td>\n",
              "      <td>gas</td>\n",
              "      <td>std</td>\n",
              "      <td>four</td>\n",
              "      <td>sedan</td>\n",
              "      <td>4wd</td>\n",
              "      <td>front</td>\n",
              "      <td>99.4</td>\n",
              "      <td>176.6</td>\n",
              "      <td>66.4</td>\n",
              "      <td>54.3</td>\n",
              "      <td>2824</td>\n",
              "      <td>ohc</td>\n",
              "      <td>five</td>\n",
              "      <td>136</td>\n",
              "      <td>mpfi</td>\n",
              "      <td>3.19</td>\n",
              "      <td>3.40</td>\n",
              "      <td>8.0</td>\n",
              "      <td>115</td>\n",
              "      <td>5500</td>\n",
              "      <td>18</td>\n",
              "      <td>22</td>\n",
              "      <td>17450</td>\n",
              "    </tr>\n",
              "  </tbody>\n",
              "</table>\n",
              "</div>\n",
              "      <button class=\"colab-df-convert\" onclick=\"convertToInteractive('df-022e9093-1148-4103-bae7-87e343526f6c')\"\n",
              "              title=\"Convert this dataframe to an interactive table.\"\n",
              "              style=\"display:none;\">\n",
              "        \n",
              "  <svg xmlns=\"http://www.w3.org/2000/svg\" height=\"24px\"viewBox=\"0 0 24 24\"\n",
              "       width=\"24px\">\n",
              "    <path d=\"M0 0h24v24H0V0z\" fill=\"none\"/>\n",
              "    <path d=\"M18.56 5.44l.94 2.06.94-2.06 2.06-.94-2.06-.94-.94-2.06-.94 2.06-2.06.94zm-11 1L8.5 8.5l.94-2.06 2.06-.94-2.06-.94L8.5 2.5l-.94 2.06-2.06.94zm10 10l.94 2.06.94-2.06 2.06-.94-2.06-.94-.94-2.06-.94 2.06-2.06.94z\"/><path d=\"M17.41 7.96l-1.37-1.37c-.4-.4-.92-.59-1.43-.59-.52 0-1.04.2-1.43.59L10.3 9.45l-7.72 7.72c-.78.78-.78 2.05 0 2.83L4 21.41c.39.39.9.59 1.41.59.51 0 1.02-.2 1.41-.59l7.78-7.78 2.81-2.81c.8-.78.8-2.07 0-2.86zM5.41 20L4 18.59l7.72-7.72 1.47 1.35L5.41 20z\"/>\n",
              "  </svg>\n",
              "      </button>\n",
              "      \n",
              "  <style>\n",
              "    .colab-df-container {\n",
              "      display:flex;\n",
              "      flex-wrap:wrap;\n",
              "      gap: 12px;\n",
              "    }\n",
              "\n",
              "    .colab-df-convert {\n",
              "      background-color: #E8F0FE;\n",
              "      border: none;\n",
              "      border-radius: 50%;\n",
              "      cursor: pointer;\n",
              "      display: none;\n",
              "      fill: #1967D2;\n",
              "      height: 32px;\n",
              "      padding: 0 0 0 0;\n",
              "      width: 32px;\n",
              "    }\n",
              "\n",
              "    .colab-df-convert:hover {\n",
              "      background-color: #E2EBFA;\n",
              "      box-shadow: 0px 1px 2px rgba(60, 64, 67, 0.3), 0px 1px 3px 1px rgba(60, 64, 67, 0.15);\n",
              "      fill: #174EA6;\n",
              "    }\n",
              "\n",
              "    [theme=dark] .colab-df-convert {\n",
              "      background-color: #3B4455;\n",
              "      fill: #D2E3FC;\n",
              "    }\n",
              "\n",
              "    [theme=dark] .colab-df-convert:hover {\n",
              "      background-color: #434B5C;\n",
              "      box-shadow: 0px 1px 3px 1px rgba(0, 0, 0, 0.15);\n",
              "      filter: drop-shadow(0px 1px 2px rgba(0, 0, 0, 0.3));\n",
              "      fill: #FFFFFF;\n",
              "    }\n",
              "  </style>\n",
              "\n",
              "      <script>\n",
              "        const buttonEl =\n",
              "          document.querySelector('#df-022e9093-1148-4103-bae7-87e343526f6c button.colab-df-convert');\n",
              "        buttonEl.style.display =\n",
              "          google.colab.kernel.accessAllowed ? 'block' : 'none';\n",
              "\n",
              "        async function convertToInteractive(key) {\n",
              "          const element = document.querySelector('#df-022e9093-1148-4103-bae7-87e343526f6c');\n",
              "          const dataTable =\n",
              "            await google.colab.kernel.invokeFunction('convertToInteractive',\n",
              "                                                     [key], {});\n",
              "          if (!dataTable) return;\n",
              "\n",
              "          const docLinkHtml = 'Like what you see? Visit the ' +\n",
              "            '<a target=\"_blank\" href=https://colab.research.google.com/notebooks/data_table.ipynb>data table notebook</a>'\n",
              "            + ' to learn more about interactive tables.';\n",
              "          element.innerHTML = '';\n",
              "          dataTable['output_type'] = 'display_data';\n",
              "          await google.colab.output.renderOutput(dataTable, element);\n",
              "          const docLink = document.createElement('div');\n",
              "          docLink.innerHTML = docLinkHtml;\n",
              "          element.appendChild(docLink);\n",
              "        }\n",
              "      </script>\n",
              "    </div>\n",
              "  </div>\n",
              "  "
            ],
            "text/plain": [
              "   symboling normalized-losses         make fuel-type aspiration num-of-doors  \\\n",
              "0          3                 ?  alfa-romero       gas        std          two   \n",
              "1          3                 ?  alfa-romero       gas        std          two   \n",
              "2          1                 ?  alfa-romero       gas        std          two   \n",
              "3          2               164         audi       gas        std         four   \n",
              "4          2               164         audi       gas        std         four   \n",
              "\n",
              "    body-style drive-wheels engine-location  wheel-base  length  width  \\\n",
              "0  convertible          rwd           front        88.6   168.8   64.1   \n",
              "1  convertible          rwd           front        88.6   168.8   64.1   \n",
              "2    hatchback          rwd           front        94.5   171.2   65.5   \n",
              "3        sedan          fwd           front        99.8   176.6   66.2   \n",
              "4        sedan          4wd           front        99.4   176.6   66.4   \n",
              "\n",
              "   height  curb-weight engine-type num-of-cylinders  engine-size fuel-system  \\\n",
              "0    48.8         2548        dohc             four          130        mpfi   \n",
              "1    48.8         2548        dohc             four          130        mpfi   \n",
              "2    52.4         2823        ohcv              six          152        mpfi   \n",
              "3    54.3         2337         ohc             four          109        mpfi   \n",
              "4    54.3         2824         ohc             five          136        mpfi   \n",
              "\n",
              "   bore stroke  compression-ratio horsepower peak-rpm  city-mpg  highway-mpg  \\\n",
              "0  3.47   2.68                9.0        111     5000        21           27   \n",
              "1  3.47   2.68                9.0        111     5000        21           27   \n",
              "2  2.68   3.47                9.0        154     5000        19           26   \n",
              "3  3.19   3.40               10.0        102     5500        24           30   \n",
              "4  3.19   3.40                8.0        115     5500        18           22   \n",
              "\n",
              "   price  \n",
              "0  13495  \n",
              "1  16500  \n",
              "2  16500  \n",
              "3  13950  \n",
              "4  17450  "
            ]
          },
          "metadata": {},
          "execution_count": 9
        }
      ]
    },
    {
      "cell_type": "code",
      "source": [
        "cars.info()"
      ],
      "metadata": {
        "colab": {
          "base_uri": "https://localhost:8080/"
        },
        "id": "5bX2DrttyhCG",
        "outputId": "56070301-9c87-45d9-9a1b-105acd51b632"
      },
      "execution_count": null,
      "outputs": [
        {
          "output_type": "stream",
          "name": "stdout",
          "text": [
            "<class 'pandas.core.frame.DataFrame'>\n",
            "RangeIndex: 205 entries, 0 to 204\n",
            "Data columns (total 26 columns):\n",
            " #   Column             Non-Null Count  Dtype  \n",
            "---  ------             --------------  -----  \n",
            " 0   symboling          205 non-null    int64  \n",
            " 1   normalized-losses  205 non-null    object \n",
            " 2   make               205 non-null    object \n",
            " 3   fuel-type          205 non-null    object \n",
            " 4   aspiration         205 non-null    object \n",
            " 5   num-of-doors       205 non-null    object \n",
            " 6   body-style         205 non-null    object \n",
            " 7   drive-wheels       205 non-null    object \n",
            " 8   engine-location    205 non-null    object \n",
            " 9   wheel-base         205 non-null    float64\n",
            " 10  length             205 non-null    float64\n",
            " 11  width              205 non-null    float64\n",
            " 12  height             205 non-null    float64\n",
            " 13  curb-weight        205 non-null    int64  \n",
            " 14  engine-type        205 non-null    object \n",
            " 15  num-of-cylinders   205 non-null    object \n",
            " 16  engine-size        205 non-null    int64  \n",
            " 17  fuel-system        205 non-null    object \n",
            " 18  bore               205 non-null    object \n",
            " 19  stroke             205 non-null    object \n",
            " 20  compression-ratio  205 non-null    float64\n",
            " 21  horsepower         205 non-null    object \n",
            " 22  peak-rpm           205 non-null    object \n",
            " 23  city-mpg           205 non-null    int64  \n",
            " 24  highway-mpg        205 non-null    int64  \n",
            " 25  price              205 non-null    object \n",
            "dtypes: float64(5), int64(5), object(16)\n",
            "memory usage: 41.8+ KB\n"
          ]
        }
      ]
    },
    {
      "cell_type": "markdown",
      "source": [
        "## Data Cleaning"
      ],
      "metadata": {
        "id": "fPBxEEnHgDG2"
      }
    },
    {
      "cell_type": "markdown",
      "source": [
        "We usually can't have any missing values if we want to use them for predictive modeling. In particular, K-Nearest Neighbors uses Euclidean distance and there are a few things that do not work well for Euclidean Distance:\n",
        "* Non-numerical values\n",
        "* Missing values\n",
        "* Non-ordinal values (i.e. latitude, longitude - can’t rank)\n",
        "\n",
        "Based on the data set preview from the last step, we can tell that the normalized-losses column contains missing values represented using \"?\". Let's replace these values and look for the presence of missing values in other numeric columns. Let's also rescale the values in the numeric columns so they all range from 0 to 1."
      ],
      "metadata": {
        "id": "SI8UsSlpALUR"
      }
    },
    {
      "cell_type": "code",
      "source": [
        "import numpy as np"
      ],
      "metadata": {
        "id": "CzhEcY4O_5cj"
      },
      "execution_count": null,
      "outputs": []
    },
    {
      "cell_type": "code",
      "source": [
        "# replace ? with null\n",
        "cars.replace('?', np.nan, inplace=True)"
      ],
      "metadata": {
        "id": "QkA3HEQS3Ayy"
      },
      "execution_count": null,
      "outputs": []
    },
    {
      "cell_type": "code",
      "source": [
        "# only numeric columns will be useful for our analysis\n",
        "numeric_cols = ['normalized-losses', 'wheel-base', 'length', 'width', 'height', 'curb-weight', 'engine-size', 'bore', 'stroke', 'compression-ratio', 'horsepower', 'peak-rpm', 'city-mpg', 'highway-mpg', 'price']\n",
        "cars_numeric = cars[numeric_cols]\n",
        "cars_numeric.head()"
      ],
      "metadata": {
        "colab": {
          "base_uri": "https://localhost:8080/",
          "height": 206
        },
        "id": "uFHhj_WEAg_i",
        "outputId": "2c0da021-1073-4f4c-c4a9-69430011d537"
      },
      "execution_count": null,
      "outputs": [
        {
          "output_type": "execute_result",
          "data": {
            "text/html": [
              "\n",
              "  <div id=\"df-e325a742-592d-49a2-9dfa-d91d83aacac6\">\n",
              "    <div class=\"colab-df-container\">\n",
              "      <div>\n",
              "<style scoped>\n",
              "    .dataframe tbody tr th:only-of-type {\n",
              "        vertical-align: middle;\n",
              "    }\n",
              "\n",
              "    .dataframe tbody tr th {\n",
              "        vertical-align: top;\n",
              "    }\n",
              "\n",
              "    .dataframe thead th {\n",
              "        text-align: right;\n",
              "    }\n",
              "</style>\n",
              "<table border=\"1\" class=\"dataframe\">\n",
              "  <thead>\n",
              "    <tr style=\"text-align: right;\">\n",
              "      <th></th>\n",
              "      <th>normalized-losses</th>\n",
              "      <th>wheel-base</th>\n",
              "      <th>length</th>\n",
              "      <th>width</th>\n",
              "      <th>height</th>\n",
              "      <th>curb-weight</th>\n",
              "      <th>engine-size</th>\n",
              "      <th>bore</th>\n",
              "      <th>stroke</th>\n",
              "      <th>compression-ratio</th>\n",
              "      <th>horsepower</th>\n",
              "      <th>peak-rpm</th>\n",
              "      <th>city-mpg</th>\n",
              "      <th>highway-mpg</th>\n",
              "      <th>price</th>\n",
              "    </tr>\n",
              "  </thead>\n",
              "  <tbody>\n",
              "    <tr>\n",
              "      <th>0</th>\n",
              "      <td>NaN</td>\n",
              "      <td>88.6</td>\n",
              "      <td>168.8</td>\n",
              "      <td>64.1</td>\n",
              "      <td>48.8</td>\n",
              "      <td>2548</td>\n",
              "      <td>130</td>\n",
              "      <td>3.47</td>\n",
              "      <td>2.68</td>\n",
              "      <td>9.0</td>\n",
              "      <td>111</td>\n",
              "      <td>5000</td>\n",
              "      <td>21</td>\n",
              "      <td>27</td>\n",
              "      <td>13495</td>\n",
              "    </tr>\n",
              "    <tr>\n",
              "      <th>1</th>\n",
              "      <td>NaN</td>\n",
              "      <td>88.6</td>\n",
              "      <td>168.8</td>\n",
              "      <td>64.1</td>\n",
              "      <td>48.8</td>\n",
              "      <td>2548</td>\n",
              "      <td>130</td>\n",
              "      <td>3.47</td>\n",
              "      <td>2.68</td>\n",
              "      <td>9.0</td>\n",
              "      <td>111</td>\n",
              "      <td>5000</td>\n",
              "      <td>21</td>\n",
              "      <td>27</td>\n",
              "      <td>16500</td>\n",
              "    </tr>\n",
              "    <tr>\n",
              "      <th>2</th>\n",
              "      <td>NaN</td>\n",
              "      <td>94.5</td>\n",
              "      <td>171.2</td>\n",
              "      <td>65.5</td>\n",
              "      <td>52.4</td>\n",
              "      <td>2823</td>\n",
              "      <td>152</td>\n",
              "      <td>2.68</td>\n",
              "      <td>3.47</td>\n",
              "      <td>9.0</td>\n",
              "      <td>154</td>\n",
              "      <td>5000</td>\n",
              "      <td>19</td>\n",
              "      <td>26</td>\n",
              "      <td>16500</td>\n",
              "    </tr>\n",
              "    <tr>\n",
              "      <th>3</th>\n",
              "      <td>164</td>\n",
              "      <td>99.8</td>\n",
              "      <td>176.6</td>\n",
              "      <td>66.2</td>\n",
              "      <td>54.3</td>\n",
              "      <td>2337</td>\n",
              "      <td>109</td>\n",
              "      <td>3.19</td>\n",
              "      <td>3.40</td>\n",
              "      <td>10.0</td>\n",
              "      <td>102</td>\n",
              "      <td>5500</td>\n",
              "      <td>24</td>\n",
              "      <td>30</td>\n",
              "      <td>13950</td>\n",
              "    </tr>\n",
              "    <tr>\n",
              "      <th>4</th>\n",
              "      <td>164</td>\n",
              "      <td>99.4</td>\n",
              "      <td>176.6</td>\n",
              "      <td>66.4</td>\n",
              "      <td>54.3</td>\n",
              "      <td>2824</td>\n",
              "      <td>136</td>\n",
              "      <td>3.19</td>\n",
              "      <td>3.40</td>\n",
              "      <td>8.0</td>\n",
              "      <td>115</td>\n",
              "      <td>5500</td>\n",
              "      <td>18</td>\n",
              "      <td>22</td>\n",
              "      <td>17450</td>\n",
              "    </tr>\n",
              "  </tbody>\n",
              "</table>\n",
              "</div>\n",
              "      <button class=\"colab-df-convert\" onclick=\"convertToInteractive('df-e325a742-592d-49a2-9dfa-d91d83aacac6')\"\n",
              "              title=\"Convert this dataframe to an interactive table.\"\n",
              "              style=\"display:none;\">\n",
              "        \n",
              "  <svg xmlns=\"http://www.w3.org/2000/svg\" height=\"24px\"viewBox=\"0 0 24 24\"\n",
              "       width=\"24px\">\n",
              "    <path d=\"M0 0h24v24H0V0z\" fill=\"none\"/>\n",
              "    <path d=\"M18.56 5.44l.94 2.06.94-2.06 2.06-.94-2.06-.94-.94-2.06-.94 2.06-2.06.94zm-11 1L8.5 8.5l.94-2.06 2.06-.94-2.06-.94L8.5 2.5l-.94 2.06-2.06.94zm10 10l.94 2.06.94-2.06 2.06-.94-2.06-.94-.94-2.06-.94 2.06-2.06.94z\"/><path d=\"M17.41 7.96l-1.37-1.37c-.4-.4-.92-.59-1.43-.59-.52 0-1.04.2-1.43.59L10.3 9.45l-7.72 7.72c-.78.78-.78 2.05 0 2.83L4 21.41c.39.39.9.59 1.41.59.51 0 1.02-.2 1.41-.59l7.78-7.78 2.81-2.81c.8-.78.8-2.07 0-2.86zM5.41 20L4 18.59l7.72-7.72 1.47 1.35L5.41 20z\"/>\n",
              "  </svg>\n",
              "      </button>\n",
              "      \n",
              "  <style>\n",
              "    .colab-df-container {\n",
              "      display:flex;\n",
              "      flex-wrap:wrap;\n",
              "      gap: 12px;\n",
              "    }\n",
              "\n",
              "    .colab-df-convert {\n",
              "      background-color: #E8F0FE;\n",
              "      border: none;\n",
              "      border-radius: 50%;\n",
              "      cursor: pointer;\n",
              "      display: none;\n",
              "      fill: #1967D2;\n",
              "      height: 32px;\n",
              "      padding: 0 0 0 0;\n",
              "      width: 32px;\n",
              "    }\n",
              "\n",
              "    .colab-df-convert:hover {\n",
              "      background-color: #E2EBFA;\n",
              "      box-shadow: 0px 1px 2px rgba(60, 64, 67, 0.3), 0px 1px 3px 1px rgba(60, 64, 67, 0.15);\n",
              "      fill: #174EA6;\n",
              "    }\n",
              "\n",
              "    [theme=dark] .colab-df-convert {\n",
              "      background-color: #3B4455;\n",
              "      fill: #D2E3FC;\n",
              "    }\n",
              "\n",
              "    [theme=dark] .colab-df-convert:hover {\n",
              "      background-color: #434B5C;\n",
              "      box-shadow: 0px 1px 3px 1px rgba(0, 0, 0, 0.15);\n",
              "      filter: drop-shadow(0px 1px 2px rgba(0, 0, 0, 0.3));\n",
              "      fill: #FFFFFF;\n",
              "    }\n",
              "  </style>\n",
              "\n",
              "      <script>\n",
              "        const buttonEl =\n",
              "          document.querySelector('#df-e325a742-592d-49a2-9dfa-d91d83aacac6 button.colab-df-convert');\n",
              "        buttonEl.style.display =\n",
              "          google.colab.kernel.accessAllowed ? 'block' : 'none';\n",
              "\n",
              "        async function convertToInteractive(key) {\n",
              "          const element = document.querySelector('#df-e325a742-592d-49a2-9dfa-d91d83aacac6');\n",
              "          const dataTable =\n",
              "            await google.colab.kernel.invokeFunction('convertToInteractive',\n",
              "                                                     [key], {});\n",
              "          if (!dataTable) return;\n",
              "\n",
              "          const docLinkHtml = 'Like what you see? Visit the ' +\n",
              "            '<a target=\"_blank\" href=https://colab.research.google.com/notebooks/data_table.ipynb>data table notebook</a>'\n",
              "            + ' to learn more about interactive tables.';\n",
              "          element.innerHTML = '';\n",
              "          dataTable['output_type'] = 'display_data';\n",
              "          await google.colab.output.renderOutput(dataTable, element);\n",
              "          const docLink = document.createElement('div');\n",
              "          docLink.innerHTML = docLinkHtml;\n",
              "          element.appendChild(docLink);\n",
              "        }\n",
              "      </script>\n",
              "    </div>\n",
              "  </div>\n",
              "  "
            ],
            "text/plain": [
              "  normalized-losses  wheel-base  length  width  height  curb-weight  \\\n",
              "0               NaN        88.6   168.8   64.1    48.8         2548   \n",
              "1               NaN        88.6   168.8   64.1    48.8         2548   \n",
              "2               NaN        94.5   171.2   65.5    52.4         2823   \n",
              "3               164        99.8   176.6   66.2    54.3         2337   \n",
              "4               164        99.4   176.6   66.4    54.3         2824   \n",
              "\n",
              "   engine-size  bore stroke  compression-ratio horsepower peak-rpm  city-mpg  \\\n",
              "0          130  3.47   2.68                9.0        111     5000        21   \n",
              "1          130  3.47   2.68                9.0        111     5000        21   \n",
              "2          152  2.68   3.47                9.0        154     5000        19   \n",
              "3          109  3.19   3.40               10.0        102     5500        24   \n",
              "4          136  3.19   3.40                8.0        115     5500        18   \n",
              "\n",
              "   highway-mpg  price  \n",
              "0           27  13495  \n",
              "1           27  16500  \n",
              "2           26  16500  \n",
              "3           30  13950  \n",
              "4           22  17450  "
            ]
          },
          "metadata": {},
          "execution_count": 13
        }
      ]
    },
    {
      "cell_type": "code",
      "source": [
        "cars_numeric = cars_numeric.astype('float64')\n",
        "cars_numeric.info()"
      ],
      "metadata": {
        "colab": {
          "base_uri": "https://localhost:8080/"
        },
        "id": "PbXHMVg7A1z5",
        "outputId": "d613333c-9b04-438a-c478-1666806587f6"
      },
      "execution_count": null,
      "outputs": [
        {
          "output_type": "stream",
          "name": "stdout",
          "text": [
            "<class 'pandas.core.frame.DataFrame'>\n",
            "RangeIndex: 205 entries, 0 to 204\n",
            "Data columns (total 15 columns):\n",
            " #   Column             Non-Null Count  Dtype  \n",
            "---  ------             --------------  -----  \n",
            " 0   normalized-losses  164 non-null    float64\n",
            " 1   wheel-base         205 non-null    float64\n",
            " 2   length             205 non-null    float64\n",
            " 3   width              205 non-null    float64\n",
            " 4   height             205 non-null    float64\n",
            " 5   curb-weight        205 non-null    float64\n",
            " 6   engine-size        205 non-null    float64\n",
            " 7   bore               201 non-null    float64\n",
            " 8   stroke             201 non-null    float64\n",
            " 9   compression-ratio  205 non-null    float64\n",
            " 10  horsepower         203 non-null    float64\n",
            " 11  peak-rpm           203 non-null    float64\n",
            " 12  city-mpg           205 non-null    float64\n",
            " 13  highway-mpg        205 non-null    float64\n",
            " 14  price              201 non-null    float64\n",
            "dtypes: float64(15)\n",
            "memory usage: 24.1 KB\n"
          ]
        }
      ]
    },
    {
      "cell_type": "markdown",
      "source": [
        "Since price is our target, we will drop any rows that have null price."
      ],
      "metadata": {
        "id": "skv-qieqHFcV"
      }
    },
    {
      "cell_type": "code",
      "source": [
        "cars_clean = cars_numeric.dropna(axis=0, subset=['price']).copy()\n",
        "cars_clean.info()"
      ],
      "metadata": {
        "colab": {
          "base_uri": "https://localhost:8080/"
        },
        "id": "VEi53BgCRavg",
        "outputId": "46341e7f-0464-4308-94e6-fea1f3e42c37"
      },
      "execution_count": null,
      "outputs": [
        {
          "output_type": "stream",
          "name": "stdout",
          "text": [
            "<class 'pandas.core.frame.DataFrame'>\n",
            "Int64Index: 201 entries, 0 to 204\n",
            "Data columns (total 15 columns):\n",
            " #   Column             Non-Null Count  Dtype  \n",
            "---  ------             --------------  -----  \n",
            " 0   normalized-losses  164 non-null    float64\n",
            " 1   wheel-base         201 non-null    float64\n",
            " 2   length             201 non-null    float64\n",
            " 3   width              201 non-null    float64\n",
            " 4   height             201 non-null    float64\n",
            " 5   curb-weight        201 non-null    float64\n",
            " 6   engine-size        201 non-null    float64\n",
            " 7   bore               197 non-null    float64\n",
            " 8   stroke             197 non-null    float64\n",
            " 9   compression-ratio  201 non-null    float64\n",
            " 10  horsepower         199 non-null    float64\n",
            " 11  peak-rpm           199 non-null    float64\n",
            " 12  city-mpg           201 non-null    float64\n",
            " 13  highway-mpg        201 non-null    float64\n",
            " 14  price              201 non-null    float64\n",
            "dtypes: float64(15)\n",
            "memory usage: 25.1 KB\n"
          ]
        }
      ]
    },
    {
      "cell_type": "markdown",
      "source": [
        "For columns that are only missing a few values, we will replace nulls with the mean for that column. The normalized losses column is missing about 20% of values, so we will drop that column."
      ],
      "metadata": {
        "id": "qkI9rAI6R9KV"
      }
    },
    {
      "cell_type": "code",
      "source": [
        "cars_clean.fillna(cars_clean.mean(), inplace=True)\n",
        "cars_clean.info()"
      ],
      "metadata": {
        "colab": {
          "base_uri": "https://localhost:8080/"
        },
        "id": "JEcl0uTLT1zA",
        "outputId": "2444c843-4b19-45b5-a6b4-bb7e8826efae"
      },
      "execution_count": null,
      "outputs": [
        {
          "output_type": "stream",
          "name": "stdout",
          "text": [
            "<class 'pandas.core.frame.DataFrame'>\n",
            "Int64Index: 201 entries, 0 to 204\n",
            "Data columns (total 15 columns):\n",
            " #   Column             Non-Null Count  Dtype  \n",
            "---  ------             --------------  -----  \n",
            " 0   normalized-losses  201 non-null    float64\n",
            " 1   wheel-base         201 non-null    float64\n",
            " 2   length             201 non-null    float64\n",
            " 3   width              201 non-null    float64\n",
            " 4   height             201 non-null    float64\n",
            " 5   curb-weight        201 non-null    float64\n",
            " 6   engine-size        201 non-null    float64\n",
            " 7   bore               201 non-null    float64\n",
            " 8   stroke             201 non-null    float64\n",
            " 9   compression-ratio  201 non-null    float64\n",
            " 10  horsepower         201 non-null    float64\n",
            " 11  peak-rpm           201 non-null    float64\n",
            " 12  city-mpg           201 non-null    float64\n",
            " 13  highway-mpg        201 non-null    float64\n",
            " 14  price              201 non-null    float64\n",
            "dtypes: float64(15)\n",
            "memory usage: 25.1 KB\n"
          ]
        }
      ]
    },
    {
      "cell_type": "code",
      "source": [
        "cars_clean = cars_clean.drop('normalized-losses', axis=1)\n",
        "cars_clean.info()"
      ],
      "metadata": {
        "colab": {
          "base_uri": "https://localhost:8080/"
        },
        "id": "_oXHPRmlGveN",
        "outputId": "88a6d90f-a10c-4358-b7c9-18f87d74c497"
      },
      "execution_count": null,
      "outputs": [
        {
          "output_type": "stream",
          "name": "stdout",
          "text": [
            "<class 'pandas.core.frame.DataFrame'>\n",
            "Int64Index: 201 entries, 0 to 204\n",
            "Data columns (total 14 columns):\n",
            " #   Column             Non-Null Count  Dtype  \n",
            "---  ------             --------------  -----  \n",
            " 0   wheel-base         201 non-null    float64\n",
            " 1   length             201 non-null    float64\n",
            " 2   width              201 non-null    float64\n",
            " 3   height             201 non-null    float64\n",
            " 4   curb-weight        201 non-null    float64\n",
            " 5   engine-size        201 non-null    float64\n",
            " 6   bore               201 non-null    float64\n",
            " 7   stroke             201 non-null    float64\n",
            " 8   compression-ratio  201 non-null    float64\n",
            " 9   horsepower         201 non-null    float64\n",
            " 10  peak-rpm           201 non-null    float64\n",
            " 11  city-mpg           201 non-null    float64\n",
            " 12  highway-mpg        201 non-null    float64\n",
            " 13  price              201 non-null    float64\n",
            "dtypes: float64(14)\n",
            "memory usage: 23.6 KB\n"
          ]
        }
      ]
    },
    {
      "cell_type": "markdown",
      "source": [
        "Normalize all columnns to range from 0 to 1 except the target column. This is refered to as [Min-Max Scaling](https://rstatisticsblog.com/data-science-in-action/data-preprocessing/z-score-standardization-or-min-max-scaling/) or [Linear Normalization](https://analystanswers.com/data-normalization-techniques-easy-to-advanced-the-best/)."
      ],
      "metadata": {
        "id": "9AQbzJVfgoY1"
      }
    },
    {
      "cell_type": "code",
      "source": [
        "# save the values in the price column\n",
        "price_col = cars_clean['price']\n",
        "# Subtract each value in the column by the min value for that column & divide by the difference between the max and the mean\n",
        "cars_clean = (cars_clean - cars_clean.min())/(cars_clean.max() - cars_clean.min())\n",
        "# assign the original values back to the price column\n",
        "cars_clean['price'] = price_col\n",
        "cars_clean.head()"
      ],
      "metadata": {
        "colab": {
          "base_uri": "https://localhost:8080/",
          "height": 206
        },
        "id": "Y86x9lwmgqir",
        "outputId": "c2b41fa7-f764-4a88-c2fa-4acfab020ea3"
      },
      "execution_count": null,
      "outputs": [
        {
          "output_type": "execute_result",
          "data": {
            "text/html": [
              "\n",
              "  <div id=\"df-5f9e8404-9b60-43f2-a65e-d8e7136d66b8\">\n",
              "    <div class=\"colab-df-container\">\n",
              "      <div>\n",
              "<style scoped>\n",
              "    .dataframe tbody tr th:only-of-type {\n",
              "        vertical-align: middle;\n",
              "    }\n",
              "\n",
              "    .dataframe tbody tr th {\n",
              "        vertical-align: top;\n",
              "    }\n",
              "\n",
              "    .dataframe thead th {\n",
              "        text-align: right;\n",
              "    }\n",
              "</style>\n",
              "<table border=\"1\" class=\"dataframe\">\n",
              "  <thead>\n",
              "    <tr style=\"text-align: right;\">\n",
              "      <th></th>\n",
              "      <th>wheel-base</th>\n",
              "      <th>length</th>\n",
              "      <th>width</th>\n",
              "      <th>height</th>\n",
              "      <th>curb-weight</th>\n",
              "      <th>engine-size</th>\n",
              "      <th>bore</th>\n",
              "      <th>stroke</th>\n",
              "      <th>compression-ratio</th>\n",
              "      <th>horsepower</th>\n",
              "      <th>peak-rpm</th>\n",
              "      <th>city-mpg</th>\n",
              "      <th>highway-mpg</th>\n",
              "      <th>price</th>\n",
              "    </tr>\n",
              "  </thead>\n",
              "  <tbody>\n",
              "    <tr>\n",
              "      <th>0</th>\n",
              "      <td>0.058309</td>\n",
              "      <td>0.413433</td>\n",
              "      <td>0.324786</td>\n",
              "      <td>0.083333</td>\n",
              "      <td>0.411171</td>\n",
              "      <td>0.260377</td>\n",
              "      <td>0.664286</td>\n",
              "      <td>0.290476</td>\n",
              "      <td>0.1250</td>\n",
              "      <td>0.294393</td>\n",
              "      <td>0.346939</td>\n",
              "      <td>0.222222</td>\n",
              "      <td>0.289474</td>\n",
              "      <td>13495.0</td>\n",
              "    </tr>\n",
              "    <tr>\n",
              "      <th>1</th>\n",
              "      <td>0.058309</td>\n",
              "      <td>0.413433</td>\n",
              "      <td>0.324786</td>\n",
              "      <td>0.083333</td>\n",
              "      <td>0.411171</td>\n",
              "      <td>0.260377</td>\n",
              "      <td>0.664286</td>\n",
              "      <td>0.290476</td>\n",
              "      <td>0.1250</td>\n",
              "      <td>0.294393</td>\n",
              "      <td>0.346939</td>\n",
              "      <td>0.222222</td>\n",
              "      <td>0.289474</td>\n",
              "      <td>16500.0</td>\n",
              "    </tr>\n",
              "    <tr>\n",
              "      <th>2</th>\n",
              "      <td>0.230321</td>\n",
              "      <td>0.449254</td>\n",
              "      <td>0.444444</td>\n",
              "      <td>0.383333</td>\n",
              "      <td>0.517843</td>\n",
              "      <td>0.343396</td>\n",
              "      <td>0.100000</td>\n",
              "      <td>0.666667</td>\n",
              "      <td>0.1250</td>\n",
              "      <td>0.495327</td>\n",
              "      <td>0.346939</td>\n",
              "      <td>0.166667</td>\n",
              "      <td>0.263158</td>\n",
              "      <td>16500.0</td>\n",
              "    </tr>\n",
              "    <tr>\n",
              "      <th>3</th>\n",
              "      <td>0.384840</td>\n",
              "      <td>0.529851</td>\n",
              "      <td>0.504274</td>\n",
              "      <td>0.541667</td>\n",
              "      <td>0.329325</td>\n",
              "      <td>0.181132</td>\n",
              "      <td>0.464286</td>\n",
              "      <td>0.633333</td>\n",
              "      <td>0.1875</td>\n",
              "      <td>0.252336</td>\n",
              "      <td>0.551020</td>\n",
              "      <td>0.305556</td>\n",
              "      <td>0.368421</td>\n",
              "      <td>13950.0</td>\n",
              "    </tr>\n",
              "    <tr>\n",
              "      <th>4</th>\n",
              "      <td>0.373178</td>\n",
              "      <td>0.529851</td>\n",
              "      <td>0.521368</td>\n",
              "      <td>0.541667</td>\n",
              "      <td>0.518231</td>\n",
              "      <td>0.283019</td>\n",
              "      <td>0.464286</td>\n",
              "      <td>0.633333</td>\n",
              "      <td>0.0625</td>\n",
              "      <td>0.313084</td>\n",
              "      <td>0.551020</td>\n",
              "      <td>0.138889</td>\n",
              "      <td>0.157895</td>\n",
              "      <td>17450.0</td>\n",
              "    </tr>\n",
              "  </tbody>\n",
              "</table>\n",
              "</div>\n",
              "      <button class=\"colab-df-convert\" onclick=\"convertToInteractive('df-5f9e8404-9b60-43f2-a65e-d8e7136d66b8')\"\n",
              "              title=\"Convert this dataframe to an interactive table.\"\n",
              "              style=\"display:none;\">\n",
              "        \n",
              "  <svg xmlns=\"http://www.w3.org/2000/svg\" height=\"24px\"viewBox=\"0 0 24 24\"\n",
              "       width=\"24px\">\n",
              "    <path d=\"M0 0h24v24H0V0z\" fill=\"none\"/>\n",
              "    <path d=\"M18.56 5.44l.94 2.06.94-2.06 2.06-.94-2.06-.94-.94-2.06-.94 2.06-2.06.94zm-11 1L8.5 8.5l.94-2.06 2.06-.94-2.06-.94L8.5 2.5l-.94 2.06-2.06.94zm10 10l.94 2.06.94-2.06 2.06-.94-2.06-.94-.94-2.06-.94 2.06-2.06.94z\"/><path d=\"M17.41 7.96l-1.37-1.37c-.4-.4-.92-.59-1.43-.59-.52 0-1.04.2-1.43.59L10.3 9.45l-7.72 7.72c-.78.78-.78 2.05 0 2.83L4 21.41c.39.39.9.59 1.41.59.51 0 1.02-.2 1.41-.59l7.78-7.78 2.81-2.81c.8-.78.8-2.07 0-2.86zM5.41 20L4 18.59l7.72-7.72 1.47 1.35L5.41 20z\"/>\n",
              "  </svg>\n",
              "      </button>\n",
              "      \n",
              "  <style>\n",
              "    .colab-df-container {\n",
              "      display:flex;\n",
              "      flex-wrap:wrap;\n",
              "      gap: 12px;\n",
              "    }\n",
              "\n",
              "    .colab-df-convert {\n",
              "      background-color: #E8F0FE;\n",
              "      border: none;\n",
              "      border-radius: 50%;\n",
              "      cursor: pointer;\n",
              "      display: none;\n",
              "      fill: #1967D2;\n",
              "      height: 32px;\n",
              "      padding: 0 0 0 0;\n",
              "      width: 32px;\n",
              "    }\n",
              "\n",
              "    .colab-df-convert:hover {\n",
              "      background-color: #E2EBFA;\n",
              "      box-shadow: 0px 1px 2px rgba(60, 64, 67, 0.3), 0px 1px 3px 1px rgba(60, 64, 67, 0.15);\n",
              "      fill: #174EA6;\n",
              "    }\n",
              "\n",
              "    [theme=dark] .colab-df-convert {\n",
              "      background-color: #3B4455;\n",
              "      fill: #D2E3FC;\n",
              "    }\n",
              "\n",
              "    [theme=dark] .colab-df-convert:hover {\n",
              "      background-color: #434B5C;\n",
              "      box-shadow: 0px 1px 3px 1px rgba(0, 0, 0, 0.15);\n",
              "      filter: drop-shadow(0px 1px 2px rgba(0, 0, 0, 0.3));\n",
              "      fill: #FFFFFF;\n",
              "    }\n",
              "  </style>\n",
              "\n",
              "      <script>\n",
              "        const buttonEl =\n",
              "          document.querySelector('#df-5f9e8404-9b60-43f2-a65e-d8e7136d66b8 button.colab-df-convert');\n",
              "        buttonEl.style.display =\n",
              "          google.colab.kernel.accessAllowed ? 'block' : 'none';\n",
              "\n",
              "        async function convertToInteractive(key) {\n",
              "          const element = document.querySelector('#df-5f9e8404-9b60-43f2-a65e-d8e7136d66b8');\n",
              "          const dataTable =\n",
              "            await google.colab.kernel.invokeFunction('convertToInteractive',\n",
              "                                                     [key], {});\n",
              "          if (!dataTable) return;\n",
              "\n",
              "          const docLinkHtml = 'Like what you see? Visit the ' +\n",
              "            '<a target=\"_blank\" href=https://colab.research.google.com/notebooks/data_table.ipynb>data table notebook</a>'\n",
              "            + ' to learn more about interactive tables.';\n",
              "          element.innerHTML = '';\n",
              "          dataTable['output_type'] = 'display_data';\n",
              "          await google.colab.output.renderOutput(dataTable, element);\n",
              "          const docLink = document.createElement('div');\n",
              "          docLink.innerHTML = docLinkHtml;\n",
              "          element.appendChild(docLink);\n",
              "        }\n",
              "      </script>\n",
              "    </div>\n",
              "  </div>\n",
              "  "
            ],
            "text/plain": [
              "   wheel-base    length     width    height  curb-weight  engine-size  \\\n",
              "0    0.058309  0.413433  0.324786  0.083333     0.411171     0.260377   \n",
              "1    0.058309  0.413433  0.324786  0.083333     0.411171     0.260377   \n",
              "2    0.230321  0.449254  0.444444  0.383333     0.517843     0.343396   \n",
              "3    0.384840  0.529851  0.504274  0.541667     0.329325     0.181132   \n",
              "4    0.373178  0.529851  0.521368  0.541667     0.518231     0.283019   \n",
              "\n",
              "       bore    stroke  compression-ratio  horsepower  peak-rpm  city-mpg  \\\n",
              "0  0.664286  0.290476             0.1250    0.294393  0.346939  0.222222   \n",
              "1  0.664286  0.290476             0.1250    0.294393  0.346939  0.222222   \n",
              "2  0.100000  0.666667             0.1250    0.495327  0.346939  0.166667   \n",
              "3  0.464286  0.633333             0.1875    0.252336  0.551020  0.305556   \n",
              "4  0.464286  0.633333             0.0625    0.313084  0.551020  0.138889   \n",
              "\n",
              "   highway-mpg    price  \n",
              "0     0.289474  13495.0  \n",
              "1     0.289474  16500.0  \n",
              "2     0.263158  16500.0  \n",
              "3     0.368421  13950.0  \n",
              "4     0.157895  17450.0  "
            ]
          },
          "metadata": {},
          "execution_count": 18
        }
      ]
    },
    {
      "cell_type": "markdown",
      "source": [
        "## Univariate Model\n",
        "We will start with a univariate (single feature) model because starting with simple models before moving to more complex models helps us structure our code workflow and understand the features better.\n",
        "\n",
        "We will randomize the order of the rows in the dataset. This is important because if the dataset were sorted by height, and we select the first 5 cars, we would be biasing the result to the ordering of the dataset.\n",
        "\n",
        "Whenever you're performing machine learning, you want to perform validation of some kind to ensure that your machine learning model can make good predictions on new data. A simple way to test the quality of your model is to use train/test validation. For this validation process,we will\n",
        "* Split the dataset into 2 partitions:\n",
        "    * the training set: contains the majority of the rows (75%)\n",
        "    * the test set: contains the remaining minority of the rows (25%)\n",
        "* Use the rows in the training set to predict the price value for the rows in the test set\n",
        "* Compare the predicted price values with the actual price values in the test set to see how accurate the predicted values were."
      ],
      "metadata": {
        "id": "Aq29xXAyicJC"
      }
    },
    {
      "cell_type": "code",
      "source": [
        "from pandas.core.frame import DataFrame\n",
        "from sklearn.neighbors import KNeighborsRegressor\n",
        "from sklearn.metrics import mean_squared_error\n",
        "import math"
      ],
      "metadata": {
        "id": "Z6upbCiE-F6I"
      },
      "execution_count": null,
      "outputs": []
    },
    {
      "cell_type": "code",
      "source": [
        "def knn_train_test(train_col, target_col, df, k=5):\n",
        "    '''\n",
        "    importance of randomizing dataset\n",
        "    explain test train validation\n",
        "    '''\n",
        "    np.random.seed(1)\n",
        "    # randomize order of rows in data frame.\n",
        "    shuffled_index = np.random.permutation(df.index)\n",
        "    rand_df = df.reindex(shuffled_index)\n",
        "\n",
        "    # split the data - 75% into a training set and 25% into a test set\n",
        "    total_rows = rand_df.shape[0]\n",
        "    split_index = int(np.floor(total_rows * .75))\n",
        "    train_df = rand_df.iloc[0:split_index]\n",
        "    test_df = rand_df.iloc[split_index:]\n",
        "    # fit the model on the training set \n",
        "    knn = KNeighborsRegressor(n_neighbors=k, algorithm='brute')\n",
        "    knn.fit(train_df[[train_col]], train_df[target_col])\n",
        "    # make predictions on the test set\n",
        "    predictions = knn.predict(test_df[[train_col]])\n",
        "    # calculate the RMSE and return that value\n",
        "    mse = mean_squared_error(test_df[target_col], predictions)\n",
        "    rmse = math.sqrt(mse)\n",
        "    return rmse"
      ],
      "metadata": {
        "id": "q_qps2XmicQY"
      },
      "execution_count": null,
      "outputs": []
    },
    {
      "cell_type": "code",
      "source": [
        "columns = ['wheel-base', 'length', 'width', 'height', 'curb-weight', 'engine-size',\n",
        "       'bore', 'stroke', 'compression-ratio', 'horsepower', 'peak-rpm',\n",
        "       'city-mpg', 'highway-mpg']"
      ],
      "metadata": {
        "id": "gSBrU8bB4UPv"
      },
      "execution_count": null,
      "outputs": []
    },
    {
      "cell_type": "code",
      "source": [
        "# add each column name and rmse to a dictionary\n",
        "d = {}\n",
        "for col in columns:\n",
        "    rmse = knn_train_test(col, 'price', cars_clean)\n",
        "    d[col] = rmse\n",
        "\n",
        "# display dictionary sorted by values\n",
        "sorted(d.items(), key=lambda item: item[1])"
      ],
      "metadata": {
        "colab": {
          "base_uri": "https://localhost:8080/"
        },
        "id": "7ahLch_NhK-P",
        "outputId": "657bfe3e-e7ca-4730-9a28-8fc0e4fbc986"
      },
      "execution_count": null,
      "outputs": [
        {
          "output_type": "execute_result",
          "data": {
            "text/plain": [
              "[('engine-size', 3074.9348505134158),\n",
              " ('highway-mpg', 3502.0686992287356),\n",
              " ('city-mpg', 3592.9397977962603),\n",
              " ('width', 4008.251768343822),\n",
              " ('curb-weight', 4011.4500359082417),\n",
              " ('wheel-base', 4291.458741888746),\n",
              " ('horsepower', 4757.747413945171),\n",
              " ('length', 5077.437450093092),\n",
              " ('compression-ratio', 5823.474550270402),\n",
              " ('height', 6788.80115207044),\n",
              " ('stroke', 7081.699710286131),\n",
              " ('peak-rpm', 7207.398328134234),\n",
              " ('bore', 7341.716496574792)]"
            ]
          },
          "metadata": {},
          "execution_count": 22
        }
      ]
    },
    {
      "cell_type": "markdown",
      "source": [
        "The k-value is the number of \"nearest neighbors\" used to find the average and predict the target. In this case it is the number of similar cars we want to compare with.\n",
        "\n",
        "With the default k-value of 5, engine size, followed by highway-mpg and city-mpg, were most predictive. Least predictive were bore, peak-rpm, and stroke.\n",
        "\n",
        "Let's try adjusting the k-values to see if we can improve the accuracy of the model."
      ],
      "metadata": {
        "id": "uNS76F9U8pLK"
      }
    },
    {
      "cell_type": "code",
      "source": [
        "data = []\n",
        "k_values = [1,3,5,7,9]\n",
        "\n",
        "# loop through each k-value\n",
        "for k in k_values:\n",
        "    rmses = []\n",
        "    # loop though each column\n",
        "    for col in columns:\n",
        "        rmse = knn_train_test(train_col=col, target_col='price', df=cars_clean, k=k)\n",
        "        rmses.append(rmse)\n",
        "    # append row of rmses to data\n",
        "    data.append(rmses)"
      ],
      "metadata": {
        "id": "SMJ_ScjD9ldu"
      },
      "execution_count": null,
      "outputs": []
    },
    {
      "cell_type": "code",
      "source": [
        "# create dataframe of rmses\n",
        "rmse_df = pd.DataFrame(data, k_values, columns)\n",
        "rmse_df"
      ],
      "metadata": {
        "colab": {
          "base_uri": "https://localhost:8080/",
          "height": 206
        },
        "id": "yxeIWF-fCv8j",
        "outputId": "cfe9fefe-81db-4c8c-f57d-8cd8dd86b2eb"
      },
      "execution_count": null,
      "outputs": [
        {
          "output_type": "execute_result",
          "data": {
            "text/html": [
              "\n",
              "  <div id=\"df-0582be8e-c3ee-44ca-9121-5bf6b68ae0ac\">\n",
              "    <div class=\"colab-df-container\">\n",
              "      <div>\n",
              "<style scoped>\n",
              "    .dataframe tbody tr th:only-of-type {\n",
              "        vertical-align: middle;\n",
              "    }\n",
              "\n",
              "    .dataframe tbody tr th {\n",
              "        vertical-align: top;\n",
              "    }\n",
              "\n",
              "    .dataframe thead th {\n",
              "        text-align: right;\n",
              "    }\n",
              "</style>\n",
              "<table border=\"1\" class=\"dataframe\">\n",
              "  <thead>\n",
              "    <tr style=\"text-align: right;\">\n",
              "      <th></th>\n",
              "      <th>wheel-base</th>\n",
              "      <th>length</th>\n",
              "      <th>width</th>\n",
              "      <th>height</th>\n",
              "      <th>curb-weight</th>\n",
              "      <th>engine-size</th>\n",
              "      <th>bore</th>\n",
              "      <th>stroke</th>\n",
              "      <th>compression-ratio</th>\n",
              "      <th>horsepower</th>\n",
              "      <th>peak-rpm</th>\n",
              "      <th>city-mpg</th>\n",
              "      <th>highway-mpg</th>\n",
              "    </tr>\n",
              "  </thead>\n",
              "  <tbody>\n",
              "    <tr>\n",
              "      <th>1</th>\n",
              "      <td>2863.607638</td>\n",
              "      <td>5068.179381</td>\n",
              "      <td>3030.831252</td>\n",
              "      <td>7328.725125</td>\n",
              "      <td>3862.214980</td>\n",
              "      <td>3138.845563</td>\n",
              "      <td>5705.322457</td>\n",
              "      <td>6753.429085</td>\n",
              "      <td>6399.987207</td>\n",
              "      <td>3395.745602</td>\n",
              "      <td>7598.363211</td>\n",
              "      <td>4129.209291</td>\n",
              "      <td>5980.768399</td>\n",
              "    </tr>\n",
              "    <tr>\n",
              "      <th>3</th>\n",
              "      <td>3216.117747</td>\n",
              "      <td>5368.576392</td>\n",
              "      <td>4168.102358</td>\n",
              "      <td>6527.309706</td>\n",
              "      <td>4156.321620</td>\n",
              "      <td>2623.407714</td>\n",
              "      <td>6806.415332</td>\n",
              "      <td>7159.031492</td>\n",
              "      <td>5392.705973</td>\n",
              "      <td>4486.625165</td>\n",
              "      <td>7373.976378</td>\n",
              "      <td>3856.157443</td>\n",
              "      <td>3906.392752</td>\n",
              "    </tr>\n",
              "    <tr>\n",
              "      <th>5</th>\n",
              "      <td>4291.458742</td>\n",
              "      <td>5077.437450</td>\n",
              "      <td>4008.251768</td>\n",
              "      <td>6788.801152</td>\n",
              "      <td>4011.450036</td>\n",
              "      <td>3074.934851</td>\n",
              "      <td>7341.716497</td>\n",
              "      <td>7081.699710</td>\n",
              "      <td>5823.474550</td>\n",
              "      <td>4757.747414</td>\n",
              "      <td>7207.398328</td>\n",
              "      <td>3592.939798</td>\n",
              "      <td>3502.068699</td>\n",
              "    </tr>\n",
              "    <tr>\n",
              "      <th>7</th>\n",
              "      <td>4557.101223</td>\n",
              "      <td>4840.282880</td>\n",
              "      <td>3734.994957</td>\n",
              "      <td>6693.994096</td>\n",
              "      <td>3813.368344</td>\n",
              "      <td>2982.361247</td>\n",
              "      <td>7104.839810</td>\n",
              "      <td>7517.756727</td>\n",
              "      <td>6106.794084</td>\n",
              "      <td>4699.085650</td>\n",
              "      <td>6885.919244</td>\n",
              "      <td>3948.185259</td>\n",
              "      <td>3729.510988</td>\n",
              "    </tr>\n",
              "    <tr>\n",
              "      <th>9</th>\n",
              "      <td>4542.356331</td>\n",
              "      <td>4544.688358</td>\n",
              "      <td>3675.734384</td>\n",
              "      <td>6543.008832</td>\n",
              "      <td>3911.441584</td>\n",
              "      <td>2980.656651</td>\n",
              "      <td>7000.685935</td>\n",
              "      <td>7407.689600</td>\n",
              "      <td>6445.886422</td>\n",
              "      <td>4734.359913</td>\n",
              "      <td>7059.191893</td>\n",
              "      <td>4113.218575</td>\n",
              "      <td>4009.007661</td>\n",
              "    </tr>\n",
              "  </tbody>\n",
              "</table>\n",
              "</div>\n",
              "      <button class=\"colab-df-convert\" onclick=\"convertToInteractive('df-0582be8e-c3ee-44ca-9121-5bf6b68ae0ac')\"\n",
              "              title=\"Convert this dataframe to an interactive table.\"\n",
              "              style=\"display:none;\">\n",
              "        \n",
              "  <svg xmlns=\"http://www.w3.org/2000/svg\" height=\"24px\"viewBox=\"0 0 24 24\"\n",
              "       width=\"24px\">\n",
              "    <path d=\"M0 0h24v24H0V0z\" fill=\"none\"/>\n",
              "    <path d=\"M18.56 5.44l.94 2.06.94-2.06 2.06-.94-2.06-.94-.94-2.06-.94 2.06-2.06.94zm-11 1L8.5 8.5l.94-2.06 2.06-.94-2.06-.94L8.5 2.5l-.94 2.06-2.06.94zm10 10l.94 2.06.94-2.06 2.06-.94-2.06-.94-.94-2.06-.94 2.06-2.06.94z\"/><path d=\"M17.41 7.96l-1.37-1.37c-.4-.4-.92-.59-1.43-.59-.52 0-1.04.2-1.43.59L10.3 9.45l-7.72 7.72c-.78.78-.78 2.05 0 2.83L4 21.41c.39.39.9.59 1.41.59.51 0 1.02-.2 1.41-.59l7.78-7.78 2.81-2.81c.8-.78.8-2.07 0-2.86zM5.41 20L4 18.59l7.72-7.72 1.47 1.35L5.41 20z\"/>\n",
              "  </svg>\n",
              "      </button>\n",
              "      \n",
              "  <style>\n",
              "    .colab-df-container {\n",
              "      display:flex;\n",
              "      flex-wrap:wrap;\n",
              "      gap: 12px;\n",
              "    }\n",
              "\n",
              "    .colab-df-convert {\n",
              "      background-color: #E8F0FE;\n",
              "      border: none;\n",
              "      border-radius: 50%;\n",
              "      cursor: pointer;\n",
              "      display: none;\n",
              "      fill: #1967D2;\n",
              "      height: 32px;\n",
              "      padding: 0 0 0 0;\n",
              "      width: 32px;\n",
              "    }\n",
              "\n",
              "    .colab-df-convert:hover {\n",
              "      background-color: #E2EBFA;\n",
              "      box-shadow: 0px 1px 2px rgba(60, 64, 67, 0.3), 0px 1px 3px 1px rgba(60, 64, 67, 0.15);\n",
              "      fill: #174EA6;\n",
              "    }\n",
              "\n",
              "    [theme=dark] .colab-df-convert {\n",
              "      background-color: #3B4455;\n",
              "      fill: #D2E3FC;\n",
              "    }\n",
              "\n",
              "    [theme=dark] .colab-df-convert:hover {\n",
              "      background-color: #434B5C;\n",
              "      box-shadow: 0px 1px 3px 1px rgba(0, 0, 0, 0.15);\n",
              "      filter: drop-shadow(0px 1px 2px rgba(0, 0, 0, 0.3));\n",
              "      fill: #FFFFFF;\n",
              "    }\n",
              "  </style>\n",
              "\n",
              "      <script>\n",
              "        const buttonEl =\n",
              "          document.querySelector('#df-0582be8e-c3ee-44ca-9121-5bf6b68ae0ac button.colab-df-convert');\n",
              "        buttonEl.style.display =\n",
              "          google.colab.kernel.accessAllowed ? 'block' : 'none';\n",
              "\n",
              "        async function convertToInteractive(key) {\n",
              "          const element = document.querySelector('#df-0582be8e-c3ee-44ca-9121-5bf6b68ae0ac');\n",
              "          const dataTable =\n",
              "            await google.colab.kernel.invokeFunction('convertToInteractive',\n",
              "                                                     [key], {});\n",
              "          if (!dataTable) return;\n",
              "\n",
              "          const docLinkHtml = 'Like what you see? Visit the ' +\n",
              "            '<a target=\"_blank\" href=https://colab.research.google.com/notebooks/data_table.ipynb>data table notebook</a>'\n",
              "            + ' to learn more about interactive tables.';\n",
              "          element.innerHTML = '';\n",
              "          dataTable['output_type'] = 'display_data';\n",
              "          await google.colab.output.renderOutput(dataTable, element);\n",
              "          const docLink = document.createElement('div');\n",
              "          docLink.innerHTML = docLinkHtml;\n",
              "          element.appendChild(docLink);\n",
              "        }\n",
              "      </script>\n",
              "    </div>\n",
              "  </div>\n",
              "  "
            ],
            "text/plain": [
              "    wheel-base       length        width       height  curb-weight  \\\n",
              "1  2863.607638  5068.179381  3030.831252  7328.725125  3862.214980   \n",
              "3  3216.117747  5368.576392  4168.102358  6527.309706  4156.321620   \n",
              "5  4291.458742  5077.437450  4008.251768  6788.801152  4011.450036   \n",
              "7  4557.101223  4840.282880  3734.994957  6693.994096  3813.368344   \n",
              "9  4542.356331  4544.688358  3675.734384  6543.008832  3911.441584   \n",
              "\n",
              "   engine-size         bore       stroke  compression-ratio   horsepower  \\\n",
              "1  3138.845563  5705.322457  6753.429085        6399.987207  3395.745602   \n",
              "3  2623.407714  6806.415332  7159.031492        5392.705973  4486.625165   \n",
              "5  3074.934851  7341.716497  7081.699710        5823.474550  4757.747414   \n",
              "7  2982.361247  7104.839810  7517.756727        6106.794084  4699.085650   \n",
              "9  2980.656651  7000.685935  7407.689600        6445.886422  4734.359913   \n",
              "\n",
              "      peak-rpm     city-mpg  highway-mpg  \n",
              "1  7598.363211  4129.209291  5980.768399  \n",
              "3  7373.976378  3856.157443  3906.392752  \n",
              "5  7207.398328  3592.939798  3502.068699  \n",
              "7  6885.919244  3948.185259  3729.510988  \n",
              "9  7059.191893  4113.218575  4009.007661  "
            ]
          },
          "metadata": {},
          "execution_count": 24
        }
      ]
    },
    {
      "cell_type": "markdown",
      "source": [
        "Visualize the results using scatter plots."
      ],
      "metadata": {
        "id": "PT-0qa0dl6Be"
      }
    },
    {
      "cell_type": "code",
      "source": [
        "import matplotlib.pyplot as plt"
      ],
      "metadata": {
        "id": "XHVlK0FTJlbj"
      },
      "execution_count": null,
      "outputs": []
    },
    {
      "cell_type": "code",
      "source": [
        "fig = plt.figure(figsize =(30, 15))\n",
        "\n",
        "for n, col in enumerate(rmse_df):\n",
        "    # add a new subplot iteratively\n",
        "    ax = plt.subplot(3, 5, n + 1)\n",
        "\n",
        "    ax.scatter(rmse_df.index, rmse_df[col])\n",
        "    ax.set_title(col)"
      ],
      "metadata": {
        "colab": {
          "base_uri": "https://localhost:8080/",
          "height": 831
        },
        "id": "HifB0ttxqdwM",
        "outputId": "ba327b9f-0e37-44ec-ea12-7ba4e5f314f9"
      },
      "execution_count": null,
      "outputs": [
        {
          "output_type": "display_data",
          "data": {
            "image/png": "[encoded data removed]",
            "text/plain": [
              "<Figure size 2160x1080 with 13 Axes>"
            ]
          },
          "metadata": {
            "needs_background": "light"
          }
        }
      ]
    },
    {
      "cell_type": "code",
      "source": [
        "for col in columns:\n",
        "    plt.scatter(rmse_df.index, rmse_df[col])\n",
        "\n",
        "plt.xlabel(\"k-value\")\n",
        "plt.ylabel(\"rmse\")\n",
        "plt.legend(columns, bbox_to_anchor = (1.05, 1))\n",
        "plt.show()"
      ],
      "metadata": {
        "colab": {
          "base_uri": "https://localhost:8080/",
          "height": 279
        },
        "id": "dywabLles5eV",
        "outputId": "8ac69575-4740-4913-c0c0-62d6846c7433"
      },
      "execution_count": null,
      "outputs": [
        {
          "output_type": "display_data",
          "data": {
            "image/png": "[encoded data removed]",
            "text/plain": [
              "<Figure size 432x288 with 1 Axes>"
            ]
          },
          "metadata": {
            "needs_background": "light"
          }
        }
      ]
    },
    {
      "cell_type": "code",
      "source": [
        "for col in columns:\n",
        "    plt.plot(rmse_df.index, rmse_df[col])\n",
        "\n",
        "plt.xlabel(\"k-value\")\n",
        "plt.ylabel(\"rmse\")\n",
        "plt.legend(columns, bbox_to_anchor = (1.05, 1))\n",
        "plt.show()"
      ],
      "metadata": {
        "colab": {
          "base_uri": "https://localhost:8080/",
          "height": 279
        },
        "id": "2FYemDnRtir6",
        "outputId": "8740da1e-3578-42b4-e952-9b204b6f3c99"
      },
      "execution_count": null,
      "outputs": [
        {
          "output_type": "display_data",
          "data": {
            "image/png": "[encoded data removed]",
            "text/plain": [
              "<Figure size 432x288 with 1 Axes>"
            ]
          },
          "metadata": {
            "needs_background": "light"
          }
        }
      ]
    },
    {
      "cell_type": "markdown",
      "source": [
        "The best predictor using a univariate model is engine-size with k-value of 3."
      ],
      "metadata": {
        "id": "ZZhcsgYInTjb"
      }
    },
    {
      "cell_type": "code",
      "source": [
        "rmse_df[rmse_df['engine-size'].min() == rmse_df['engine-size']]"
      ],
      "metadata": {
        "colab": {
          "base_uri": "https://localhost:8080/",
          "height": 81
        },
        "id": "4W7qsjCWnq9v",
        "outputId": "30d00de5-2da5-440e-9a71-fa931f71425b"
      },
      "execution_count": null,
      "outputs": [
        {
          "output_type": "execute_result",
          "data": {
            "text/html": [
              "\n",
              "  <div id=\"df-4de47047-3294-49c7-8d0e-732adb955da9\">\n",
              "    <div class=\"colab-df-container\">\n",
              "      <div>\n",
              "<style scoped>\n",
              "    .dataframe tbody tr th:only-of-type {\n",
              "        vertical-align: middle;\n",
              "    }\n",
              "\n",
              "    .dataframe tbody tr th {\n",
              "        vertical-align: top;\n",
              "    }\n",
              "\n",
              "    .dataframe thead th {\n",
              "        text-align: right;\n",
              "    }\n",
              "</style>\n",
              "<table border=\"1\" class=\"dataframe\">\n",
              "  <thead>\n",
              "    <tr style=\"text-align: right;\">\n",
              "      <th></th>\n",
              "      <th>wheel-base</th>\n",
              "      <th>length</th>\n",
              "      <th>width</th>\n",
              "      <th>height</th>\n",
              "      <th>curb-weight</th>\n",
              "      <th>engine-size</th>\n",
              "      <th>bore</th>\n",
              "      <th>stroke</th>\n",
              "      <th>compression-ratio</th>\n",
              "      <th>horsepower</th>\n",
              "      <th>peak-rpm</th>\n",
              "      <th>city-mpg</th>\n",
              "      <th>highway-mpg</th>\n",
              "    </tr>\n",
              "  </thead>\n",
              "  <tbody>\n",
              "    <tr>\n",
              "      <th>3</th>\n",
              "      <td>3216.117747</td>\n",
              "      <td>5368.576392</td>\n",
              "      <td>4168.102358</td>\n",
              "      <td>6527.309706</td>\n",
              "      <td>4156.32162</td>\n",
              "      <td>2623.407714</td>\n",
              "      <td>6806.415332</td>\n",
              "      <td>7159.031492</td>\n",
              "      <td>5392.705973</td>\n",
              "      <td>4486.625165</td>\n",
              "      <td>7373.976378</td>\n",
              "      <td>3856.157443</td>\n",
              "      <td>3906.392752</td>\n",
              "    </tr>\n",
              "  </tbody>\n",
              "</table>\n",
              "</div>\n",
              "      <button class=\"colab-df-convert\" onclick=\"convertToInteractive('df-4de47047-3294-49c7-8d0e-732adb955da9')\"\n",
              "              title=\"Convert this dataframe to an interactive table.\"\n",
              "              style=\"display:none;\">\n",
              "        \n",
              "  <svg xmlns=\"http://www.w3.org/2000/svg\" height=\"24px\"viewBox=\"0 0 24 24\"\n",
              "       width=\"24px\">\n",
              "    <path d=\"M0 0h24v24H0V0z\" fill=\"none\"/>\n",
              "    <path d=\"M18.56 5.44l.94 2.06.94-2.06 2.06-.94-2.06-.94-.94-2.06-.94 2.06-2.06.94zm-11 1L8.5 8.5l.94-2.06 2.06-.94-2.06-.94L8.5 2.5l-.94 2.06-2.06.94zm10 10l.94 2.06.94-2.06 2.06-.94-2.06-.94-.94-2.06-.94 2.06-2.06.94z\"/><path d=\"M17.41 7.96l-1.37-1.37c-.4-.4-.92-.59-1.43-.59-.52 0-1.04.2-1.43.59L10.3 9.45l-7.72 7.72c-.78.78-.78 2.05 0 2.83L4 21.41c.39.39.9.59 1.41.59.51 0 1.02-.2 1.41-.59l7.78-7.78 2.81-2.81c.8-.78.8-2.07 0-2.86zM5.41 20L4 18.59l7.72-7.72 1.47 1.35L5.41 20z\"/>\n",
              "  </svg>\n",
              "      </button>\n",
              "      \n",
              "  <style>\n",
              "    .colab-df-container {\n",
              "      display:flex;\n",
              "      flex-wrap:wrap;\n",
              "      gap: 12px;\n",
              "    }\n",
              "\n",
              "    .colab-df-convert {\n",
              "      background-color: #E8F0FE;\n",
              "      border: none;\n",
              "      border-radius: 50%;\n",
              "      cursor: pointer;\n",
              "      display: none;\n",
              "      fill: #1967D2;\n",
              "      height: 32px;\n",
              "      padding: 0 0 0 0;\n",
              "      width: 32px;\n",
              "    }\n",
              "\n",
              "    .colab-df-convert:hover {\n",
              "      background-color: #E2EBFA;\n",
              "      box-shadow: 0px 1px 2px rgba(60, 64, 67, 0.3), 0px 1px 3px 1px rgba(60, 64, 67, 0.15);\n",
              "      fill: #174EA6;\n",
              "    }\n",
              "\n",
              "    [theme=dark] .colab-df-convert {\n",
              "      background-color: #3B4455;\n",
              "      fill: #D2E3FC;\n",
              "    }\n",
              "\n",
              "    [theme=dark] .colab-df-convert:hover {\n",
              "      background-color: #434B5C;\n",
              "      box-shadow: 0px 1px 3px 1px rgba(0, 0, 0, 0.15);\n",
              "      filter: drop-shadow(0px 1px 2px rgba(0, 0, 0, 0.3));\n",
              "      fill: #FFFFFF;\n",
              "    }\n",
              "  </style>\n",
              "\n",
              "      <script>\n",
              "        const buttonEl =\n",
              "          document.querySelector('#df-4de47047-3294-49c7-8d0e-732adb955da9 button.colab-df-convert');\n",
              "        buttonEl.style.display =\n",
              "          google.colab.kernel.accessAllowed ? 'block' : 'none';\n",
              "\n",
              "        async function convertToInteractive(key) {\n",
              "          const element = document.querySelector('#df-4de47047-3294-49c7-8d0e-732adb955da9');\n",
              "          const dataTable =\n",
              "            await google.colab.kernel.invokeFunction('convertToInteractive',\n",
              "                                                     [key], {});\n",
              "          if (!dataTable) return;\n",
              "\n",
              "          const docLinkHtml = 'Like what you see? Visit the ' +\n",
              "            '<a target=\"_blank\" href=https://colab.research.google.com/notebooks/data_table.ipynb>data table notebook</a>'\n",
              "            + ' to learn more about interactive tables.';\n",
              "          element.innerHTML = '';\n",
              "          dataTable['output_type'] = 'display_data';\n",
              "          await google.colab.output.renderOutput(dataTable, element);\n",
              "          const docLink = document.createElement('div');\n",
              "          docLink.innerHTML = docLinkHtml;\n",
              "          element.appendChild(docLink);\n",
              "        }\n",
              "      </script>\n",
              "    </div>\n",
              "  </div>\n",
              "  "
            ],
            "text/plain": [
              "    wheel-base       length        width       height  curb-weight  \\\n",
              "3  3216.117747  5368.576392  4168.102358  6527.309706   4156.32162   \n",
              "\n",
              "   engine-size         bore       stroke  compression-ratio   horsepower  \\\n",
              "3  2623.407714  6806.415332  7159.031492        5392.705973  4486.625165   \n",
              "\n",
              "      peak-rpm     city-mpg  highway-mpg  \n",
              "3  7373.976378  3856.157443  3906.392752  "
            ]
          },
          "metadata": {},
          "execution_count": 29
        }
      ]
    },
    {
      "cell_type": "markdown",
      "source": [
        "## Multivariate Model\n",
        "To improve the accuracy of our model we will now use additional relevant attributes or features to determine similarity when calculating closest neighbors."
      ],
      "metadata": {
        "id": "i6zwZ1FkgbwT"
      }
    },
    {
      "cell_type": "code",
      "source": [
        "def knn_train_test(train_cols, target_col, df, k=5):\n",
        "    np.random.seed(1)\n",
        "    # randomize order of rows in data frame.\n",
        "    shuffled_index = np.random.permutation(df.index)\n",
        "    rand_df = df.reindex(shuffled_index)\n",
        "\n",
        "    # split the data - 75% into a training set and 25% into a test set\n",
        "    total_rows = rand_df.shape[0]\n",
        "    split_index = int(np.floor(total_rows * .75))\n",
        "    train_df = rand_df.iloc[0:split_index]\n",
        "    test_df = rand_df.iloc[split_index:]\n",
        "    # fit the model on the training set\n",
        "    knn = KNeighborsRegressor(n_neighbors=k, algorithm='brute')\n",
        "    knn.fit(train_df[train_cols], train_df[target_col])\n",
        "    # make predictions on the test set\n",
        "    predictions = knn.predict(test_df[train_cols])\n",
        "    # calculate the RMSE and return that value\n",
        "    mse = mean_squared_error(test_df[target_col], predictions)\n",
        "    rmse = math.sqrt(mse)\n",
        "    return rmse"
      ],
      "metadata": {
        "id": "UEwhyk4kofrn"
      },
      "execution_count": null,
      "outputs": []
    },
    {
      "cell_type": "markdown",
      "source": [
        "Using all of the columns and the default k-value resulted in a lower [Root Mean Square Error (RMSE)](https://towardsdatascience.com/what-does-rmse-really-mean-806b65f2e48e) than any single column with any of our tested k-values.\n",
        "\n",
        "Let's try using the best 2, 3, 4, & 5 features from the previous step to train and test a multivariate k-nearest neighbors model using the default k-value. First we will rank each of the features in order of best performing."
      ],
      "metadata": {
        "id": "alJFS9AKpyh3"
      }
    },
    {
      "cell_type": "code",
      "source": [
        "# Compute average RMSE across different `k` values for each feature.\n",
        "rmse_df.mean().sort_values()"
      ],
      "metadata": {
        "colab": {
          "base_uri": "https://localhost:8080/"
        },
        "id": "M4bLaNtaMYci",
        "outputId": "e835d459-86bf-44fe-8c2d-c0ae1558a7e4"
      },
      "execution_count": null,
      "outputs": [
        {
          "output_type": "execute_result",
          "data": {
            "text/plain": [
              "engine-size          2960.041205\n",
              "width                3723.582944\n",
              "wheel-base           3894.128336\n",
              "city-mpg             3927.942073\n",
              "curb-weight          3950.959313\n",
              "highway-mpg          4225.549700\n",
              "horsepower           4414.712749\n",
              "length               4979.832892\n",
              "compression-ratio    6033.769647\n",
              "height               6776.367782\n",
              "bore                 6791.796006\n",
              "stroke               7183.921323\n",
              "peak-rpm             7224.969811\n",
              "dtype: float64"
            ]
          },
          "metadata": {},
          "execution_count": 31
        }
      ]
    },
    {
      "cell_type": "code",
      "source": [
        "sorted_features = list(rmse_df.mean().sort_values().index)\n",
        "sorted_features"
      ],
      "metadata": {
        "colab": {
          "base_uri": "https://localhost:8080/"
        },
        "id": "mqk4o6VuUU5v",
        "outputId": "12b30a51-fe75-45b9-9bcd-199886c17431"
      },
      "execution_count": null,
      "outputs": [
        {
          "output_type": "execute_result",
          "data": {
            "text/plain": [
              "['engine-size',\n",
              " 'width',\n",
              " 'wheel-base',\n",
              " 'city-mpg',\n",
              " 'curb-weight',\n",
              " 'highway-mpg',\n",
              " 'horsepower',\n",
              " 'length',\n",
              " 'compression-ratio',\n",
              " 'height',\n",
              " 'bore',\n",
              " 'stroke',\n",
              " 'peak-rpm']"
            ]
          },
          "metadata": {},
          "execution_count": 32
        }
      ]
    },
    {
      "cell_type": "code",
      "source": [
        "best2 = sorted_features[:2]\n",
        "rmse = knn_train_test(train_cols=best2, target_col='price', df=cars_clean, k=5)\n",
        "print(best2, rmse)"
      ],
      "metadata": {
        "colab": {
          "base_uri": "https://localhost:8080/"
        },
        "id": "7ruSWSnh0dHF",
        "outputId": "b49bab49-30aa-4563-e530-84f30eabae42"
      },
      "execution_count": null,
      "outputs": [
        {
          "output_type": "stream",
          "name": "stdout",
          "text": [
            "['engine-size', 'width'] 2612.9374837752334\n"
          ]
        }
      ]
    },
    {
      "cell_type": "code",
      "source": [
        "best3 = sorted_features[:3]\n",
        "rmse = knn_train_test(train_cols=['curb-weight', 'highway-mpg', 'engine-size'], target_col='price', df=cars_clean, k=5)\n",
        "print(best3, rmse)"
      ],
      "metadata": {
        "colab": {
          "base_uri": "https://localhost:8080/"
        },
        "id": "cuPDrKpAVArB",
        "outputId": "332917a2-3f3e-461a-9480-85f5a009ca67"
      },
      "execution_count": null,
      "outputs": [
        {
          "output_type": "stream",
          "name": "stdout",
          "text": [
            "['engine-size', 'width', 'wheel-base'] 2712.3444384777495\n"
          ]
        }
      ]
    },
    {
      "cell_type": "code",
      "source": [
        "best4 = sorted_features[:4]\n",
        "rmse = knn_train_test(train_cols=['curb-weight', 'highway-mpg', 'engine-size', 'horsepower'], target_col='price', df=cars_clean, k=5)\n",
        "print(best4, rmse)"
      ],
      "metadata": {
        "colab": {
          "base_uri": "https://localhost:8080/"
        },
        "id": "k-AWSBTBVA64",
        "outputId": "1a721888-174f-40b7-a7ed-1f778cea78cb"
      },
      "execution_count": null,
      "outputs": [
        {
          "output_type": "stream",
          "name": "stdout",
          "text": [
            "['engine-size', 'width', 'wheel-base', 'city-mpg'] 2439.9092041930335\n"
          ]
        }
      ]
    },
    {
      "cell_type": "code",
      "source": [
        "best5 = sorted_features[:5]\n",
        "rmse = knn_train_test(train_cols=['curb-weight', 'highway-mpg', 'engine-size', 'horsepower', 'city-mpg'], target_col='price', df=cars_clean, k=5)\n",
        "print(best5, rmse)"
      ],
      "metadata": {
        "colab": {
          "base_uri": "https://localhost:8080/"
        },
        "id": "W8t-8jlqVBHR",
        "outputId": "da975731-6791-43f5-c5f9-0b9d44f650d1"
      },
      "execution_count": null,
      "outputs": [
        {
          "output_type": "stream",
          "name": "stdout",
          "text": [
            "['engine-size', 'width', 'wheel-base', 'city-mpg', 'curb-weight'] 2572.356902172959\n"
          ]
        }
      ]
    },
    {
      "cell_type": "markdown",
      "source": [
        "Using the default k-value and the best 4 features produced the lowest RMSE and is therefore the best predictor that we have tested."
      ],
      "metadata": {
        "id": "8oJFxOm3qo3x"
      }
    },
    {
      "cell_type": "markdown",
      "source": [
        "## Hyperparameter Tuning"
      ],
      "metadata": {
        "id": "97kzI2pegkIw"
      }
    },
    {
      "cell_type": "markdown",
      "source": [
        "When we vary the features that are used in the model, we're affecting the data that the model uses. On the other hand, varying the k value affects the behavior of the model independently of the actual data that's used when making predictions. In other words, we're impacting how the model performs without trying to change the data that's used.\n",
        "\n",
        "Values that affect the behavior and performance of a model that are unrelated to the data that's used are referred to as hyperparameters. The process of finding the optimal hyperparameter value is known as hyperparameter optimization. A simple but common hyperparameter optimization technique is known as grid search, which involves:\n",
        "* selecting a subset of the possible hyperparameter values,\n",
        "training a model using each of these hyperparameter values,\n",
        "* evaluating each model's performance,\n",
        "* selecting the hyperparameter value that resulted in the lowest error value.\n",
        "\n",
        "For the top 3 models in the last step, let's vary the hyperparameter value from 1 to 25 and plot the resulting RMSE values."
      ],
      "metadata": {
        "id": "iSBFKu0p1Suk"
      }
    },
    {
      "cell_type": "code",
      "source": [
        "k_values = [i for i in range(1,26)]\n",
        "data = []\n",
        "\n",
        "# loop through k-values\n",
        "for k in k_values:\n",
        "    rmses = []\n",
        "    # loop through each set of columns\n",
        "    for train_cols in [best2, best4, best5, sorted_features]:\n",
        "        rmse = knn_train_test(train_cols, target_col='price', df=cars_clean, k=k)\n",
        "        rmses.append(rmse)\n",
        "    # append row of rmses to data\n",
        "    data.append(rmses)\n",
        "\n",
        "# create dataframe from data\n",
        "best_rmse = pd.DataFrame(data, k_values, ['best2', 'best4', 'best5', 'all'])\n",
        "best_rmse"
      ],
      "metadata": {
        "colab": {
          "base_uri": "https://localhost:8080/",
          "height": 833
        },
        "id": "xv0_QcCfXHsu",
        "outputId": "5db43944-8060-40d2-c3d7-db1a55514582"
      },
      "execution_count": null,
      "outputs": [
        {
          "output_type": "execute_result",
          "data": {
            "text/html": [
              "\n",
              "  <div id=\"df-55fa67e2-c62c-45d7-becf-885c1b7c9868\">\n",
              "    <div class=\"colab-df-container\">\n",
              "      <div>\n",
              "<style scoped>\n",
              "    .dataframe tbody tr th:only-of-type {\n",
              "        vertical-align: middle;\n",
              "    }\n",
              "\n",
              "    .dataframe tbody tr th {\n",
              "        vertical-align: top;\n",
              "    }\n",
              "\n",
              "    .dataframe thead th {\n",
              "        text-align: right;\n",
              "    }\n",
              "</style>\n",
              "<table border=\"1\" class=\"dataframe\">\n",
              "  <thead>\n",
              "    <tr style=\"text-align: right;\">\n",
              "      <th></th>\n",
              "      <th>best2</th>\n",
              "      <th>best4</th>\n",
              "      <th>best5</th>\n",
              "      <th>all</th>\n",
              "    </tr>\n",
              "  </thead>\n",
              "  <tbody>\n",
              "    <tr>\n",
              "      <th>1</th>\n",
              "      <td>2426.044024</td>\n",
              "      <td>2364.559321</td>\n",
              "      <td>2131.106971</td>\n",
              "      <td>2409.068891</td>\n",
              "    </tr>\n",
              "    <tr>\n",
              "      <th>2</th>\n",
              "      <td>2259.659556</td>\n",
              "      <td>2627.306174</td>\n",
              "      <td>2493.018916</td>\n",
              "      <td>2424.583395</td>\n",
              "    </tr>\n",
              "    <tr>\n",
              "      <th>3</th>\n",
              "      <td>2421.305249</td>\n",
              "      <td>2583.449270</td>\n",
              "      <td>2496.159249</td>\n",
              "      <td>2478.989111</td>\n",
              "    </tr>\n",
              "    <tr>\n",
              "      <th>4</th>\n",
              "      <td>2560.988463</td>\n",
              "      <td>2649.716662</td>\n",
              "      <td>2588.640862</td>\n",
              "      <td>2626.363943</td>\n",
              "    </tr>\n",
              "    <tr>\n",
              "      <th>5</th>\n",
              "      <td>2612.937484</td>\n",
              "      <td>2710.697874</td>\n",
              "      <td>2546.710588</td>\n",
              "      <td>2501.855184</td>\n",
              "    </tr>\n",
              "    <tr>\n",
              "      <th>6</th>\n",
              "      <td>2720.039343</td>\n",
              "      <td>2598.551075</td>\n",
              "      <td>2544.859755</td>\n",
              "      <td>2566.087636</td>\n",
              "    </tr>\n",
              "    <tr>\n",
              "      <th>7</th>\n",
              "      <td>2725.665215</td>\n",
              "      <td>2614.445361</td>\n",
              "      <td>2606.406502</td>\n",
              "      <td>2614.602030</td>\n",
              "    </tr>\n",
              "    <tr>\n",
              "      <th>8</th>\n",
              "      <td>2764.910470</td>\n",
              "      <td>2722.945475</td>\n",
              "      <td>2815.622969</td>\n",
              "      <td>2658.486916</td>\n",
              "    </tr>\n",
              "    <tr>\n",
              "      <th>9</th>\n",
              "      <td>2834.490186</td>\n",
              "      <td>2720.966665</td>\n",
              "      <td>2785.461021</td>\n",
              "      <td>2831.065885</td>\n",
              "    </tr>\n",
              "    <tr>\n",
              "      <th>10</th>\n",
              "      <td>2884.628829</td>\n",
              "      <td>2690.988494</td>\n",
              "      <td>2769.388064</td>\n",
              "      <td>2824.145531</td>\n",
              "    </tr>\n",
              "    <tr>\n",
              "      <th>11</th>\n",
              "      <td>2760.741351</td>\n",
              "      <td>2636.433514</td>\n",
              "      <td>2729.319810</td>\n",
              "      <td>3102.275043</td>\n",
              "    </tr>\n",
              "    <tr>\n",
              "      <th>12</th>\n",
              "      <td>2818.735910</td>\n",
              "      <td>2672.925726</td>\n",
              "      <td>2793.509751</td>\n",
              "      <td>3192.421609</td>\n",
              "    </tr>\n",
              "    <tr>\n",
              "      <th>13</th>\n",
              "      <td>2833.389679</td>\n",
              "      <td>2763.191176</td>\n",
              "      <td>2832.976017</td>\n",
              "      <td>3310.037960</td>\n",
              "    </tr>\n",
              "    <tr>\n",
              "      <th>14</th>\n",
              "      <td>2925.843416</td>\n",
              "      <td>2906.426893</td>\n",
              "      <td>2880.493076</td>\n",
              "      <td>3406.909395</td>\n",
              "    </tr>\n",
              "    <tr>\n",
              "      <th>15</th>\n",
              "      <td>3044.298324</td>\n",
              "      <td>2996.421545</td>\n",
              "      <td>3014.752752</td>\n",
              "      <td>3532.556207</td>\n",
              "    </tr>\n",
              "    <tr>\n",
              "      <th>16</th>\n",
              "      <td>3150.201797</td>\n",
              "      <td>3145.962873</td>\n",
              "      <td>3101.632929</td>\n",
              "      <td>3593.530101</td>\n",
              "    </tr>\n",
              "    <tr>\n",
              "      <th>17</th>\n",
              "      <td>3266.772311</td>\n",
              "      <td>3212.344297</td>\n",
              "      <td>3165.935507</td>\n",
              "      <td>3665.321478</td>\n",
              "    </tr>\n",
              "    <tr>\n",
              "      <th>18</th>\n",
              "      <td>3372.076530</td>\n",
              "      <td>3272.060723</td>\n",
              "      <td>3238.955971</td>\n",
              "      <td>3737.707197</td>\n",
              "    </tr>\n",
              "    <tr>\n",
              "      <th>19</th>\n",
              "      <td>3489.094160</td>\n",
              "      <td>3323.123921</td>\n",
              "      <td>3262.039219</td>\n",
              "      <td>3786.554699</td>\n",
              "    </tr>\n",
              "    <tr>\n",
              "      <th>20</th>\n",
              "      <td>3594.505286</td>\n",
              "      <td>3397.598183</td>\n",
              "      <td>3320.293920</td>\n",
              "      <td>3841.845063</td>\n",
              "    </tr>\n",
              "    <tr>\n",
              "      <th>21</th>\n",
              "      <td>3665.167392</td>\n",
              "      <td>3443.274531</td>\n",
              "      <td>3399.330393</td>\n",
              "      <td>3812.584363</td>\n",
              "    </tr>\n",
              "    <tr>\n",
              "      <th>22</th>\n",
              "      <td>3708.378631</td>\n",
              "      <td>3476.691289</td>\n",
              "      <td>3435.332427</td>\n",
              "      <td>3889.893757</td>\n",
              "    </tr>\n",
              "    <tr>\n",
              "      <th>23</th>\n",
              "      <td>3761.232780</td>\n",
              "      <td>3501.257286</td>\n",
              "      <td>3475.615752</td>\n",
              "      <td>3936.819874</td>\n",
              "    </tr>\n",
              "    <tr>\n",
              "      <th>24</th>\n",
              "      <td>3758.331567</td>\n",
              "      <td>3576.693838</td>\n",
              "      <td>3554.970029</td>\n",
              "      <td>3988.194224</td>\n",
              "    </tr>\n",
              "    <tr>\n",
              "      <th>25</th>\n",
              "      <td>3778.761906</td>\n",
              "      <td>3663.073764</td>\n",
              "      <td>3640.745501</td>\n",
              "      <td>4027.121440</td>\n",
              "    </tr>\n",
              "  </tbody>\n",
              "</table>\n",
              "</div>\n",
              "      <button class=\"colab-df-convert\" onclick=\"convertToInteractive('df-55fa67e2-c62c-45d7-becf-885c1b7c9868')\"\n",
              "              title=\"Convert this dataframe to an interactive table.\"\n",
              "              style=\"display:none;\">\n",
              "        \n",
              "  <svg xmlns=\"http://www.w3.org/2000/svg\" height=\"24px\"viewBox=\"0 0 24 24\"\n",
              "       width=\"24px\">\n",
              "    <path d=\"M0 0h24v24H0V0z\" fill=\"none\"/>\n",
              "    <path d=\"M18.56 5.44l.94 2.06.94-2.06 2.06-.94-2.06-.94-.94-2.06-.94 2.06-2.06.94zm-11 1L8.5 8.5l.94-2.06 2.06-.94-2.06-.94L8.5 2.5l-.94 2.06-2.06.94zm10 10l.94 2.06.94-2.06 2.06-.94-2.06-.94-.94-2.06-.94 2.06-2.06.94z\"/><path d=\"M17.41 7.96l-1.37-1.37c-.4-.4-.92-.59-1.43-.59-.52 0-1.04.2-1.43.59L10.3 9.45l-7.72 7.72c-.78.78-.78 2.05 0 2.83L4 21.41c.39.39.9.59 1.41.59.51 0 1.02-.2 1.41-.59l7.78-7.78 2.81-2.81c.8-.78.8-2.07 0-2.86zM5.41 20L4 18.59l7.72-7.72 1.47 1.35L5.41 20z\"/>\n",
              "  </svg>\n",
              "      </button>\n",
              "      \n",
              "  <style>\n",
              "    .colab-df-container {\n",
              "      display:flex;\n",
              "      flex-wrap:wrap;\n",
              "      gap: 12px;\n",
              "    }\n",
              "\n",
              "    .colab-df-convert {\n",
              "      background-color: #E8F0FE;\n",
              "      border: none;\n",
              "      border-radius: 50%;\n",
              "      cursor: pointer;\n",
              "      display: none;\n",
              "      fill: #1967D2;\n",
              "      height: 32px;\n",
              "      padding: 0 0 0 0;\n",
              "      width: 32px;\n",
              "    }\n",
              "\n",
              "    .colab-df-convert:hover {\n",
              "      background-color: #E2EBFA;\n",
              "      box-shadow: 0px 1px 2px rgba(60, 64, 67, 0.3), 0px 1px 3px 1px rgba(60, 64, 67, 0.15);\n",
              "      fill: #174EA6;\n",
              "    }\n",
              "\n",
              "    [theme=dark] .colab-df-convert {\n",
              "      background-color: #3B4455;\n",
              "      fill: #D2E3FC;\n",
              "    }\n",
              "\n",
              "    [theme=dark] .colab-df-convert:hover {\n",
              "      background-color: #434B5C;\n",
              "      box-shadow: 0px 1px 3px 1px rgba(0, 0, 0, 0.15);\n",
              "      filter: drop-shadow(0px 1px 2px rgba(0, 0, 0, 0.3));\n",
              "      fill: #FFFFFF;\n",
              "    }\n",
              "  </style>\n",
              "\n",
              "      <script>\n",
              "        const buttonEl =\n",
              "          document.querySelector('#df-55fa67e2-c62c-45d7-becf-885c1b7c9868 button.colab-df-convert');\n",
              "        buttonEl.style.display =\n",
              "          google.colab.kernel.accessAllowed ? 'block' : 'none';\n",
              "\n",
              "        async function convertToInteractive(key) {\n",
              "          const element = document.querySelector('#df-55fa67e2-c62c-45d7-becf-885c1b7c9868');\n",
              "          const dataTable =\n",
              "            await google.colab.kernel.invokeFunction('convertToInteractive',\n",
              "                                                     [key], {});\n",
              "          if (!dataTable) return;\n",
              "\n",
              "          const docLinkHtml = 'Like what you see? Visit the ' +\n",
              "            '<a target=\"_blank\" href=https://colab.research.google.com/notebooks/data_table.ipynb>data table notebook</a>'\n",
              "            + ' to learn more about interactive tables.';\n",
              "          element.innerHTML = '';\n",
              "          dataTable['output_type'] = 'display_data';\n",
              "          await google.colab.output.renderOutput(dataTable, element);\n",
              "          const docLink = document.createElement('div');\n",
              "          docLink.innerHTML = docLinkHtml;\n",
              "          element.appendChild(docLink);\n",
              "        }\n",
              "      </script>\n",
              "    </div>\n",
              "  </div>\n",
              "  "
            ],
            "text/plain": [
              "          best2        best4        best5          all\n",
              "1   2426.044024  2364.559321  2131.106971  2409.068891\n",
              "2   2259.659556  2627.306174  2493.018916  2424.583395\n",
              "3   2421.305249  2583.449270  2496.159249  2478.989111\n",
              "4   2560.988463  2649.716662  2588.640862  2626.363943\n",
              "5   2612.937484  2710.697874  2546.710588  2501.855184\n",
              "6   2720.039343  2598.551075  2544.859755  2566.087636\n",
              "7   2725.665215  2614.445361  2606.406502  2614.602030\n",
              "8   2764.910470  2722.945475  2815.622969  2658.486916\n",
              "9   2834.490186  2720.966665  2785.461021  2831.065885\n",
              "10  2884.628829  2690.988494  2769.388064  2824.145531\n",
              "11  2760.741351  2636.433514  2729.319810  3102.275043\n",
              "12  2818.735910  2672.925726  2793.509751  3192.421609\n",
              "13  2833.389679  2763.191176  2832.976017  3310.037960\n",
              "14  2925.843416  2906.426893  2880.493076  3406.909395\n",
              "15  3044.298324  2996.421545  3014.752752  3532.556207\n",
              "16  3150.201797  3145.962873  3101.632929  3593.530101\n",
              "17  3266.772311  3212.344297  3165.935507  3665.321478\n",
              "18  3372.076530  3272.060723  3238.955971  3737.707197\n",
              "19  3489.094160  3323.123921  3262.039219  3786.554699\n",
              "20  3594.505286  3397.598183  3320.293920  3841.845063\n",
              "21  3665.167392  3443.274531  3399.330393  3812.584363\n",
              "22  3708.378631  3476.691289  3435.332427  3889.893757\n",
              "23  3761.232780  3501.257286  3475.615752  3936.819874\n",
              "24  3758.331567  3576.693838  3554.970029  3988.194224\n",
              "25  3778.761906  3663.073764  3640.745501  4027.121440"
            ]
          },
          "metadata": {},
          "execution_count": 37
        }
      ]
    },
    {
      "cell_type": "markdown",
      "source": [
        "For each column, see what k-value produced the lowest RMSE."
      ],
      "metadata": {
        "id": "wk7xd_bSrUPq"
      }
    },
    {
      "cell_type": "code",
      "source": [
        "best_rmse[best_rmse['best2'] == best_rmse['best2'].min()]['best2']"
      ],
      "metadata": {
        "colab": {
          "base_uri": "https://localhost:8080/"
        },
        "id": "Ivtsei7qa85M",
        "outputId": "459d359a-7c8a-4eeb-e273-dd89d68a36e9"
      },
      "execution_count": null,
      "outputs": [
        {
          "output_type": "execute_result",
          "data": {
            "text/plain": [
              "2    2259.659556\n",
              "Name: best2, dtype: float64"
            ]
          },
          "metadata": {},
          "execution_count": 38
        }
      ]
    },
    {
      "cell_type": "code",
      "source": [
        "best_rmse[best_rmse['best4'] == best_rmse['best4'].min()]['best4']"
      ],
      "metadata": {
        "colab": {
          "base_uri": "https://localhost:8080/"
        },
        "id": "p2xnf3h1b_7n",
        "outputId": "fb910e49-b76f-423d-ab29-3d0c4f8b6d0b"
      },
      "execution_count": null,
      "outputs": [
        {
          "output_type": "execute_result",
          "data": {
            "text/plain": [
              "1    2364.559321\n",
              "Name: best4, dtype: float64"
            ]
          },
          "metadata": {},
          "execution_count": 39
        }
      ]
    },
    {
      "cell_type": "code",
      "source": [
        "best_rmse[best_rmse['best5'] == best_rmse['best5'].min()]['best5']"
      ],
      "metadata": {
        "colab": {
          "base_uri": "https://localhost:8080/"
        },
        "id": "er1cwyAJcFca",
        "outputId": "82aa7e9e-f5a9-4e30-f41f-de8df79a044a"
      },
      "execution_count": null,
      "outputs": [
        {
          "output_type": "execute_result",
          "data": {
            "text/plain": [
              "1    2131.106971\n",
              "Name: best5, dtype: float64"
            ]
          },
          "metadata": {},
          "execution_count": 40
        }
      ]
    },
    {
      "cell_type": "code",
      "source": [
        "best_rmse[best_rmse['all'] == best_rmse['all'].min()]['all']"
      ],
      "metadata": {
        "colab": {
          "base_uri": "https://localhost:8080/"
        },
        "id": "G8uOwSr-jetj",
        "outputId": "6ea82ec7-7251-4ecc-a111-4ce9e6622bf4"
      },
      "execution_count": null,
      "outputs": [
        {
          "output_type": "execute_result",
          "data": {
            "text/plain": [
              "1    2409.068891\n",
              "Name: all, dtype: float64"
            ]
          },
          "metadata": {},
          "execution_count": 41
        }
      ]
    },
    {
      "cell_type": "markdown",
      "source": [
        "The optimal k-value was 1 or 2. Let's visualize this in a graph."
      ],
      "metadata": {
        "id": "NIQSgRP_reQj"
      }
    },
    {
      "cell_type": "code",
      "source": [
        "for col in best_rmse:\n",
        "    plt.plot(best_rmse.index, best_rmse[col])\n",
        "\n",
        "plt.xlabel(\"k-value\")\n",
        "plt.ylabel(\"rmse\")\n",
        "plt.legend(best_rmse.columns)\n",
        "plt.show()"
      ],
      "metadata": {
        "colab": {
          "base_uri": "https://localhost:8080/",
          "height": 279
        },
        "id": "XGwf_-peeHE9",
        "outputId": "77e6ea10-bc43-49d9-c954-2e8b4be4310c"
      },
      "execution_count": null,
      "outputs": [
        {
          "output_type": "display_data",
          "data": {
            "image/png": "[encoded data removed]",
            "text/plain": [
              "<Figure size 432x288 with 1 Axes>"
            ]
          },
          "metadata": {
            "needs_background": "light"
          }
        }
      ]
    },
    {
      "cell_type": "markdown",
      "source": [
        "In the univariate model, the RMSE values were somewhat evenly distributed across all the k-values. In the multivariate model lower k-values result in lower RMSEs.\n",
        "\n",
        "Choosing a k-value of 1, would mean only using the characteristics of 1 car to predict the target price. Logically this seems like it would be unreliable. Estimating probablility based on a single observation might make the model more sensitive to noise & outliers. \n",
        "\n",
        "Some suggest using the square root of the umber of samples in the training dataset. http://theprofessionalspoint.blogspot.com/2019/02/how-to-choose-optimal-value-of-k-in-knn.html"
      ],
      "metadata": {
        "id": "X2Ym6JzruE1d"
      }
    },
    {
      "cell_type": "code",
      "source": [
        "math.sqrt(150)"
      ],
      "metadata": {
        "colab": {
          "base_uri": "https://localhost:8080/"
        },
        "id": "PkC9ngFp2NsX",
        "outputId": "6da8d7bf-653b-454f-853f-370969d27db1"
      },
      "execution_count": null,
      "outputs": [
        {
          "output_type": "execute_result",
          "data": {
            "text/plain": [
              "12.24744871391589"
            ]
          },
          "metadata": {},
          "execution_count": 75
        }
      ]
    },
    {
      "cell_type": "markdown",
      "source": [
        "We will choose 2 as the optimal k-value for our model."
      ],
      "metadata": {
        "id": "xLgxen9mOQaM"
      }
    },
    {
      "cell_type": "markdown",
      "source": [
        "## Cross Validation\n",
        "Instead of test/train validation, let's use a more robust technique called k-fold cross validation. \n",
        "\n",
        "For this validation technique we will\n",
        "* Split the full dataset into k equal length partitions.\n",
        "    * select k-1 partitions as the training set and\n",
        "    * select the remaining partition as the test set\n",
        "* Train the model on the training set.\n",
        "* Use the trained model to predict labels on the test fold.\n",
        "* Compute the test fold's error metric.\n",
        "* Repeat all of the above steps k-1 times, until each partition has been used as the test set for an iteration.\n",
        "* Calculate the mean of the k error values.\n",
        "\n",
        "K-fold cross validation is better than train/test validation because the model isn't repeatedly biased towards a specific subset of the data. It also takes advantage of a larger proportion of the data during training while still rotating through different subsets of the data.\n",
        "\n",
        "Instad of doing this by hand we will use the [sklearn module K-Folds cross-validator](https://scikit-learn.org/stable/modules/generated/sklearn.model_selection.KFold.html)."
      ],
      "metadata": {
        "id": "7YMoMh8PVJJt"
      }
    },
    {
      "cell_type": "code",
      "source": [
        "from sklearn.model_selection import cross_val_score, KFold\n",
        "from sklearn.model_selection import cross_val_score"
      ],
      "metadata": {
        "id": "qkTm-pgjY4U4"
      },
      "execution_count": null,
      "outputs": []
    },
    {
      "cell_type": "markdown",
      "source": [
        "#### A note on choosing k for k fold:  \n",
        "Choosing the right k value when performing k-fold cross validation is more of an art and less of a science. A k value of 2 is really just holdout validation. On the other end, setting k equal to n (the number of observations in the data set) is known as leave-one-out cross validation, or LOOCV for short. Through lots of trial and error, data scientists have converged on 10 as the standard k value."
      ],
      "metadata": {
        "id": "Mh4Ii-fjb7ZB"
      }
    },
    {
      "cell_type": "code",
      "source": [
        "def knn_train_test(train_cols, target_col, df, k_neighbors=5, k_folds=10):\n",
        "    # instantiate the KFold class using the parameters to specify the k-fold cross-validation attributes we want\n",
        "    kf = KFold(n_splits=k_folds, shuffle=True, random_state=1)\n",
        "    # instantiate the scikit-learn model class we want to fit\n",
        "    model = KNeighborsRegressor(n_neighbors=k_neighbors, algorithm='brute')\n",
        "    # use the cross_val_score() function to return the scoring metric we are interested in\n",
        "    mses = cross_val_score(model, df[train_cols], df[target_col], scoring=\"neg_mean_squared_error\", cv=kf)\n",
        "    # get the root mean square errors from the mean square errors\n",
        "    rmses = [np.sqrt(abs(mse)) for mse in mses]\n",
        "    # calculate the average and standard deviation of the RMSEs\n",
        "    avg_rmse = np.mean(rmses)\n",
        "    std_rmse = np.std(rmses)\n",
        "    return [avg_rmse, std_rmse]"
      ],
      "metadata": {
        "id": "xUAzCMSrY_nu"
      },
      "execution_count": null,
      "outputs": []
    },
    {
      "cell_type": "markdown",
      "source": [
        "For our model, we will experiment with 5 and 10 folds."
      ],
      "metadata": {
        "id": "x2kepckyKc34"
      }
    },
    {
      "cell_type": "code",
      "source": [
        "k_values = [5,6,7,8,9,10]\n",
        "data_averages = []\n",
        "data_stds = []\n",
        "\n",
        "# loop through k-values\n",
        "for k in k_values:\n",
        "    averages = []\n",
        "    stds = []\n",
        "    # loop through each set of columns\n",
        "    for train_cols in [best2, best4, best5, sorted_features]:\n",
        "        avg_rmse, std_rmse = knn_train_test(train_cols, target_col='price', df=cars_clean, k_neighbors=2, k_folds=k)\n",
        "        averages.append(avg_rmse)\n",
        "        stds.append(std_rmse)\n",
        "    # append row of rmses to data\n",
        "    data_averages.append(averages)\n",
        "    data_stds.append(stds)\n",
        "\n",
        "# create dataframe from data\n",
        "kfold_avgs = pd.DataFrame(data_averages, k_values, ['best2', 'best4', 'best5', 'all'])\n",
        "kfold_stds = pd.DataFrame(data_stds, k_values, ['best2', 'best4', 'best5', 'all'])\n",
        "\n",
        "kfold_avgs"
      ],
      "metadata": {
        "colab": {
          "base_uri": "https://localhost:8080/",
          "height": 237
        },
        "id": "laXK508Uf4-V",
        "outputId": "c17c5c51-8fd6-497f-e312-33b305a15617"
      },
      "execution_count": null,
      "outputs": [
        {
          "output_type": "execute_result",
          "data": {
            "text/html": [
              "\n",
              "  <div id=\"df-f7d96101-7625-4c65-a4a6-7bca08838d01\">\n",
              "    <div class=\"colab-df-container\">\n",
              "      <div>\n",
              "<style scoped>\n",
              "    .dataframe tbody tr th:only-of-type {\n",
              "        vertical-align: middle;\n",
              "    }\n",
              "\n",
              "    .dataframe tbody tr th {\n",
              "        vertical-align: top;\n",
              "    }\n",
              "\n",
              "    .dataframe thead th {\n",
              "        text-align: right;\n",
              "    }\n",
              "</style>\n",
              "<table border=\"1\" class=\"dataframe\">\n",
              "  <thead>\n",
              "    <tr style=\"text-align: right;\">\n",
              "      <th></th>\n",
              "      <th>best2</th>\n",
              "      <th>best4</th>\n",
              "      <th>best5</th>\n",
              "      <th>all</th>\n",
              "    </tr>\n",
              "  </thead>\n",
              "  <tbody>\n",
              "    <tr>\n",
              "      <th>5</th>\n",
              "      <td>2914.053517</td>\n",
              "      <td>2998.667275</td>\n",
              "      <td>2941.073817</td>\n",
              "      <td>2814.063505</td>\n",
              "    </tr>\n",
              "    <tr>\n",
              "      <th>6</th>\n",
              "      <td>2847.848827</td>\n",
              "      <td>2885.607263</td>\n",
              "      <td>2766.603960</td>\n",
              "      <td>2802.989042</td>\n",
              "    </tr>\n",
              "    <tr>\n",
              "      <th>7</th>\n",
              "      <td>2895.088750</td>\n",
              "      <td>2956.401654</td>\n",
              "      <td>2904.364879</td>\n",
              "      <td>2734.988191</td>\n",
              "    </tr>\n",
              "    <tr>\n",
              "      <th>8</th>\n",
              "      <td>2868.684518</td>\n",
              "      <td>2928.507490</td>\n",
              "      <td>2844.099719</td>\n",
              "      <td>2758.673531</td>\n",
              "    </tr>\n",
              "    <tr>\n",
              "      <th>9</th>\n",
              "      <td>2813.944827</td>\n",
              "      <td>2844.893059</td>\n",
              "      <td>2717.398917</td>\n",
              "      <td>2732.319764</td>\n",
              "    </tr>\n",
              "    <tr>\n",
              "      <th>10</th>\n",
              "      <td>2939.706095</td>\n",
              "      <td>2995.492897</td>\n",
              "      <td>2858.350745</td>\n",
              "      <td>2780.462362</td>\n",
              "    </tr>\n",
              "  </tbody>\n",
              "</table>\n",
              "</div>\n",
              "      <button class=\"colab-df-convert\" onclick=\"convertToInteractive('df-f7d96101-7625-4c65-a4a6-7bca08838d01')\"\n",
              "              title=\"Convert this dataframe to an interactive table.\"\n",
              "              style=\"display:none;\">\n",
              "        \n",
              "  <svg xmlns=\"http://www.w3.org/2000/svg\" height=\"24px\"viewBox=\"0 0 24 24\"\n",
              "       width=\"24px\">\n",
              "    <path d=\"M0 0h24v24H0V0z\" fill=\"none\"/>\n",
              "    <path d=\"M18.56 5.44l.94 2.06.94-2.06 2.06-.94-2.06-.94-.94-2.06-.94 2.06-2.06.94zm-11 1L8.5 8.5l.94-2.06 2.06-.94-2.06-.94L8.5 2.5l-.94 2.06-2.06.94zm10 10l.94 2.06.94-2.06 2.06-.94-2.06-.94-.94-2.06-.94 2.06-2.06.94z\"/><path d=\"M17.41 7.96l-1.37-1.37c-.4-.4-.92-.59-1.43-.59-.52 0-1.04.2-1.43.59L10.3 9.45l-7.72 7.72c-.78.78-.78 2.05 0 2.83L4 21.41c.39.39.9.59 1.41.59.51 0 1.02-.2 1.41-.59l7.78-7.78 2.81-2.81c.8-.78.8-2.07 0-2.86zM5.41 20L4 18.59l7.72-7.72 1.47 1.35L5.41 20z\"/>\n",
              "  </svg>\n",
              "      </button>\n",
              "      \n",
              "  <style>\n",
              "    .colab-df-container {\n",
              "      display:flex;\n",
              "      flex-wrap:wrap;\n",
              "      gap: 12px;\n",
              "    }\n",
              "\n",
              "    .colab-df-convert {\n",
              "      background-color: #E8F0FE;\n",
              "      border: none;\n",
              "      border-radius: 50%;\n",
              "      cursor: pointer;\n",
              "      display: none;\n",
              "      fill: #1967D2;\n",
              "      height: 32px;\n",
              "      padding: 0 0 0 0;\n",
              "      width: 32px;\n",
              "    }\n",
              "\n",
              "    .colab-df-convert:hover {\n",
              "      background-color: #E2EBFA;\n",
              "      box-shadow: 0px 1px 2px rgba(60, 64, 67, 0.3), 0px 1px 3px 1px rgba(60, 64, 67, 0.15);\n",
              "      fill: #174EA6;\n",
              "    }\n",
              "\n",
              "    [theme=dark] .colab-df-convert {\n",
              "      background-color: #3B4455;\n",
              "      fill: #D2E3FC;\n",
              "    }\n",
              "\n",
              "    [theme=dark] .colab-df-convert:hover {\n",
              "      background-color: #434B5C;\n",
              "      box-shadow: 0px 1px 3px 1px rgba(0, 0, 0, 0.15);\n",
              "      filter: drop-shadow(0px 1px 2px rgba(0, 0, 0, 0.3));\n",
              "      fill: #FFFFFF;\n",
              "    }\n",
              "  </style>\n",
              "\n",
              "      <script>\n",
              "        const buttonEl =\n",
              "          document.querySelector('#df-f7d96101-7625-4c65-a4a6-7bca08838d01 button.colab-df-convert');\n",
              "        buttonEl.style.display =\n",
              "          google.colab.kernel.accessAllowed ? 'block' : 'none';\n",
              "\n",
              "        async function convertToInteractive(key) {\n",
              "          const element = document.querySelector('#df-f7d96101-7625-4c65-a4a6-7bca08838d01');\n",
              "          const dataTable =\n",
              "            await google.colab.kernel.invokeFunction('convertToInteractive',\n",
              "                                                     [key], {});\n",
              "          if (!dataTable) return;\n",
              "\n",
              "          const docLinkHtml = 'Like what you see? Visit the ' +\n",
              "            '<a target=\"_blank\" href=https://colab.research.google.com/notebooks/data_table.ipynb>data table notebook</a>'\n",
              "            + ' to learn more about interactive tables.';\n",
              "          element.innerHTML = '';\n",
              "          dataTable['output_type'] = 'display_data';\n",
              "          await google.colab.output.renderOutput(dataTable, element);\n",
              "          const docLink = document.createElement('div');\n",
              "          docLink.innerHTML = docLinkHtml;\n",
              "          element.appendChild(docLink);\n",
              "        }\n",
              "      </script>\n",
              "    </div>\n",
              "  </div>\n",
              "  "
            ],
            "text/plain": [
              "          best2        best4        best5          all\n",
              "5   2914.053517  2998.667275  2941.073817  2814.063505\n",
              "6   2847.848827  2885.607263  2766.603960  2802.989042\n",
              "7   2895.088750  2956.401654  2904.364879  2734.988191\n",
              "8   2868.684518  2928.507490  2844.099719  2758.673531\n",
              "9   2813.944827  2844.893059  2717.398917  2732.319764\n",
              "10  2939.706095  2995.492897  2858.350745  2780.462362"
            ]
          },
          "metadata": {},
          "execution_count": 82
        }
      ]
    },
    {
      "cell_type": "code",
      "source": [
        "for col in kfold_avgs:\n",
        "    plt.plot(kfold_avgs.index, kfold_avgs[col])\n",
        "\n",
        "plt.xlabel(\"k-folds\")\n",
        "plt.ylabel(\"rmse\")\n",
        "plt.legend(kfold_avgs.columns)\n",
        "plt.show()"
      ],
      "metadata": {
        "colab": {
          "base_uri": "https://localhost:8080/",
          "height": 279
        },
        "id": "2-8KjFVxgox2",
        "outputId": "1d726542-02bc-46c6-89ef-6047608b319d"
      },
      "execution_count": null,
      "outputs": [
        {
          "output_type": "display_data",
          "data": {
            "image/png": "[encoded data removed]",
            "text/plain": [
              "<Figure size 432x288 with 1 Axes>"
            ]
          },
          "metadata": {
            "needs_background": "light"
          }
        }
      ]
    },
    {
      "cell_type": "code",
      "source": [
        "kfold_avgs.mean()"
      ],
      "metadata": {
        "colab": {
          "base_uri": "https://localhost:8080/"
        },
        "id": "asZekjJ-RCrP",
        "outputId": "ee201ddd-447c-47f3-e880-981ce0cdadb1"
      },
      "execution_count": null,
      "outputs": [
        {
          "output_type": "execute_result",
          "data": {
            "text/plain": [
              "best2    2879.887756\n",
              "best4    2934.928273\n",
              "best5    2838.648673\n",
              "all      2770.582733\n",
              "dtype: float64"
            ]
          },
          "metadata": {},
          "execution_count": 86
        }
      ]
    },
    {
      "cell_type": "markdown",
      "source": [
        "Looking at RMSE it looks like using all features would be the best, followed by 5 or 2 features.\n",
        "\n",
        "So far, we've been working under the assumption that a lower RMSE always means that a model is more accurate. This isn't the complete picture, unfortunately. A model has two sources of error, bias and variance.\n",
        "\n",
        "Bias describes error that results in bad assumptions about the learning algorithm. For example, assuming that only one feature, like a car's weight, relates to a car's fuel efficiency will lead you to fit a simple, univariate regression model that will result in high bias. The error rate will be high since a car's fuel efficiency is affected by many other factors besides just its weight.\n",
        "\n",
        "Variance describes error that occurs because of the variability of a model's predicted values. If we were given a dataset with 1000 features on each car and used every single feature to train an incredibly complicated multivariate regression model, we will have low bias but high variance. In an ideal world, we want low bias and low variance but in reality, there's always a tradeoff.\n",
        "\n",
        "The standard deviation of the RMSE values can be a proxy for a model's variance while the average RMSE is a proxy for a model's bias. Bias and variance are the 2 observable sources of error in a model that we can indirectly control.\n",
        "\n",
        "Let's take a look at the standard deviation of RMSEs."
      ],
      "metadata": {
        "id": "-knR3NgGvuQA"
      }
    },
    {
      "cell_type": "code",
      "source": [
        "kfold_stds"
      ],
      "metadata": {
        "colab": {
          "base_uri": "https://localhost:8080/",
          "height": 237
        },
        "id": "pqdIxoM7m70v",
        "outputId": "7ef6b7c2-ccbe-43e7-f9df-d618be13361e"
      },
      "execution_count": null,
      "outputs": [
        {
          "output_type": "execute_result",
          "data": {
            "text/html": [
              "\n",
              "  <div id=\"df-85833373-f1dc-4c2f-b482-be87bdb64ee3\">\n",
              "    <div class=\"colab-df-container\">\n",
              "      <div>\n",
              "<style scoped>\n",
              "    .dataframe tbody tr th:only-of-type {\n",
              "        vertical-align: middle;\n",
              "    }\n",
              "\n",
              "    .dataframe tbody tr th {\n",
              "        vertical-align: top;\n",
              "    }\n",
              "\n",
              "    .dataframe thead th {\n",
              "        text-align: right;\n",
              "    }\n",
              "</style>\n",
              "<table border=\"1\" class=\"dataframe\">\n",
              "  <thead>\n",
              "    <tr style=\"text-align: right;\">\n",
              "      <th></th>\n",
              "      <th>best2</th>\n",
              "      <th>best4</th>\n",
              "      <th>best5</th>\n",
              "      <th>all</th>\n",
              "    </tr>\n",
              "  </thead>\n",
              "  <tbody>\n",
              "    <tr>\n",
              "      <th>5</th>\n",
              "      <td>637.725638</td>\n",
              "      <td>449.840746</td>\n",
              "      <td>527.127943</td>\n",
              "      <td>779.413013</td>\n",
              "    </tr>\n",
              "    <tr>\n",
              "      <th>6</th>\n",
              "      <td>540.242034</td>\n",
              "      <td>633.446184</td>\n",
              "      <td>646.902350</td>\n",
              "      <td>783.687763</td>\n",
              "    </tr>\n",
              "    <tr>\n",
              "      <th>7</th>\n",
              "      <td>519.179808</td>\n",
              "      <td>608.117077</td>\n",
              "      <td>583.349356</td>\n",
              "      <td>1013.415831</td>\n",
              "    </tr>\n",
              "    <tr>\n",
              "      <th>8</th>\n",
              "      <td>824.949839</td>\n",
              "      <td>718.972449</td>\n",
              "      <td>763.164155</td>\n",
              "      <td>1002.945736</td>\n",
              "    </tr>\n",
              "    <tr>\n",
              "      <th>9</th>\n",
              "      <td>593.890425</td>\n",
              "      <td>801.894500</td>\n",
              "      <td>818.487906</td>\n",
              "      <td>924.214871</td>\n",
              "    </tr>\n",
              "    <tr>\n",
              "      <th>10</th>\n",
              "      <td>804.869390</td>\n",
              "      <td>619.600576</td>\n",
              "      <td>703.808755</td>\n",
              "      <td>1015.224350</td>\n",
              "    </tr>\n",
              "  </tbody>\n",
              "</table>\n",
              "</div>\n",
              "      <button class=\"colab-df-convert\" onclick=\"convertToInteractive('df-85833373-f1dc-4c2f-b482-be87bdb64ee3')\"\n",
              "              title=\"Convert this dataframe to an interactive table.\"\n",
              "              style=\"display:none;\">\n",
              "        \n",
              "  <svg xmlns=\"http://www.w3.org/2000/svg\" height=\"24px\"viewBox=\"0 0 24 24\"\n",
              "       width=\"24px\">\n",
              "    <path d=\"M0 0h24v24H0V0z\" fill=\"none\"/>\n",
              "    <path d=\"M18.56 5.44l.94 2.06.94-2.06 2.06-.94-2.06-.94-.94-2.06-.94 2.06-2.06.94zm-11 1L8.5 8.5l.94-2.06 2.06-.94-2.06-.94L8.5 2.5l-.94 2.06-2.06.94zm10 10l.94 2.06.94-2.06 2.06-.94-2.06-.94-.94-2.06-.94 2.06-2.06.94z\"/><path d=\"M17.41 7.96l-1.37-1.37c-.4-.4-.92-.59-1.43-.59-.52 0-1.04.2-1.43.59L10.3 9.45l-7.72 7.72c-.78.78-.78 2.05 0 2.83L4 21.41c.39.39.9.59 1.41.59.51 0 1.02-.2 1.41-.59l7.78-7.78 2.81-2.81c.8-.78.8-2.07 0-2.86zM5.41 20L4 18.59l7.72-7.72 1.47 1.35L5.41 20z\"/>\n",
              "  </svg>\n",
              "      </button>\n",
              "      \n",
              "  <style>\n",
              "    .colab-df-container {\n",
              "      display:flex;\n",
              "      flex-wrap:wrap;\n",
              "      gap: 12px;\n",
              "    }\n",
              "\n",
              "    .colab-df-convert {\n",
              "      background-color: #E8F0FE;\n",
              "      border: none;\n",
              "      border-radius: 50%;\n",
              "      cursor: pointer;\n",
              "      display: none;\n",
              "      fill: #1967D2;\n",
              "      height: 32px;\n",
              "      padding: 0 0 0 0;\n",
              "      width: 32px;\n",
              "    }\n",
              "\n",
              "    .colab-df-convert:hover {\n",
              "      background-color: #E2EBFA;\n",
              "      box-shadow: 0px 1px 2px rgba(60, 64, 67, 0.3), 0px 1px 3px 1px rgba(60, 64, 67, 0.15);\n",
              "      fill: #174EA6;\n",
              "    }\n",
              "\n",
              "    [theme=dark] .colab-df-convert {\n",
              "      background-color: #3B4455;\n",
              "      fill: #D2E3FC;\n",
              "    }\n",
              "\n",
              "    [theme=dark] .colab-df-convert:hover {\n",
              "      background-color: #434B5C;\n",
              "      box-shadow: 0px 1px 3px 1px rgba(0, 0, 0, 0.15);\n",
              "      filter: drop-shadow(0px 1px 2px rgba(0, 0, 0, 0.3));\n",
              "      fill: #FFFFFF;\n",
              "    }\n",
              "  </style>\n",
              "\n",
              "      <script>\n",
              "        const buttonEl =\n",
              "          document.querySelector('#df-85833373-f1dc-4c2f-b482-be87bdb64ee3 button.colab-df-convert');\n",
              "        buttonEl.style.display =\n",
              "          google.colab.kernel.accessAllowed ? 'block' : 'none';\n",
              "\n",
              "        async function convertToInteractive(key) {\n",
              "          const element = document.querySelector('#df-85833373-f1dc-4c2f-b482-be87bdb64ee3');\n",
              "          const dataTable =\n",
              "            await google.colab.kernel.invokeFunction('convertToInteractive',\n",
              "                                                     [key], {});\n",
              "          if (!dataTable) return;\n",
              "\n",
              "          const docLinkHtml = 'Like what you see? Visit the ' +\n",
              "            '<a target=\"_blank\" href=https://colab.research.google.com/notebooks/data_table.ipynb>data table notebook</a>'\n",
              "            + ' to learn more about interactive tables.';\n",
              "          element.innerHTML = '';\n",
              "          dataTable['output_type'] = 'display_data';\n",
              "          await google.colab.output.renderOutput(dataTable, element);\n",
              "          const docLink = document.createElement('div');\n",
              "          docLink.innerHTML = docLinkHtml;\n",
              "          element.appendChild(docLink);\n",
              "        }\n",
              "      </script>\n",
              "    </div>\n",
              "  </div>\n",
              "  "
            ],
            "text/plain": [
              "         best2       best4       best5          all\n",
              "5   637.725638  449.840746  527.127943   779.413013\n",
              "6   540.242034  633.446184  646.902350   783.687763\n",
              "7   519.179808  608.117077  583.349356  1013.415831\n",
              "8   824.949839  718.972449  763.164155  1002.945736\n",
              "9   593.890425  801.894500  818.487906   924.214871\n",
              "10  804.869390  619.600576  703.808755  1015.224350"
            ]
          },
          "metadata": {},
          "execution_count": 87
        }
      ]
    },
    {
      "cell_type": "code",
      "source": [
        "kfold_stds.mean()"
      ],
      "metadata": {
        "colab": {
          "base_uri": "https://localhost:8080/"
        },
        "id": "TD7ZirazRjRW",
        "outputId": "e44e41b4-47be-45a4-e402-fd586217e80f"
      },
      "execution_count": null,
      "outputs": [
        {
          "output_type": "execute_result",
          "data": {
            "text/plain": [
              "best2    653.476189\n",
              "best4    638.645256\n",
              "best5    673.806744\n",
              "all      919.816927\n",
              "dtype: float64"
            ]
          },
          "metadata": {},
          "execution_count": 89
        }
      ]
    },
    {
      "cell_type": "code",
      "source": [
        "for col in kfold_stds:\n",
        "    plt.plot(kfold_stds.index, kfold_stds[col])\n",
        "\n",
        "plt.xlabel(\"k folds\")\n",
        "plt.ylabel(\"rmse\")\n",
        "plt.legend(kfold_stds.columns)\n",
        "plt.show()"
      ],
      "metadata": {
        "id": "VQjIycUrmrsd",
        "colab": {
          "base_uri": "https://localhost:8080/",
          "height": 279
        },
        "outputId": "616f171f-4214-45b5-a6f8-aeea938b1bd7"
      },
      "execution_count": null,
      "outputs": [
        {
          "output_type": "display_data",
          "data": {
            "image/png": "[encoded data removed]",
            "text/plain": [
              "<Figure size 432x288 with 1 Axes>"
            ]
          },
          "metadata": {
            "needs_background": "light"
          }
        }
      ]
    },
    {
      "cell_type": "markdown",
      "source": [
        "If we take into account that we also want a model with low variance, using 4 or 2 features looks better.\n",
        "\n",
        "For our final model we will go with using 2 features, engine-size & width. The default of 5 nearest neighbors, and 9 folds for cross validation."
      ],
      "metadata": {
        "id": "9ViB4viUNNTW"
      }
    },
    {
      "cell_type": "code",
      "source": [
        "avg_rmse, std_rmse = knn_train_test(train_cols=['engine-size', 'width'], target_col='price', df=cars_clean, k_neighbors=5, k_folds=9)\n",
        "avg_rmse, std_rmse"
      ],
      "metadata": {
        "colab": {
          "base_uri": "https://localhost:8080/"
        },
        "id": "UC4C4xCeT6i3",
        "outputId": "2bfe9c67-e044-4cbb-8e24-e3b2e8ced308"
      },
      "execution_count": null,
      "outputs": [
        {
          "output_type": "execute_result",
          "data": {
            "text/plain": [
              "(3355.561461442259, 1191.0024418671687)"
            ]
          },
          "metadata": {},
          "execution_count": 98
        }
      ]
    },
    {
      "cell_type": "code",
      "source": [
        "cars_clean[\"price\"].describe()"
      ],
      "metadata": {
        "colab": {
          "base_uri": "https://localhost:8080/"
        },
        "id": "artgh0ctYRcv",
        "outputId": "c182556c-43f6-40d7-f956-9f8bbe81373f"
      },
      "execution_count": null,
      "outputs": [
        {
          "output_type": "execute_result",
          "data": {
            "text/plain": [
              "count      201.000000\n",
              "mean     13207.129353\n",
              "std       7947.066342\n",
              "min       5118.000000\n",
              "25%       7775.000000\n",
              "50%      10295.000000\n",
              "75%      16500.000000\n",
              "max      45400.000000\n",
              "Name: price, dtype: float64"
            ]
          },
          "metadata": {},
          "execution_count": 100
        }
      ]
    },
    {
      "cell_type": "code",
      "source": [
        "cars_clean[\"price\"].max() - cars_clean[\"price\"].min()"
      ],
      "metadata": {
        "colab": {
          "base_uri": "https://localhost:8080/"
        },
        "id": "TPIzBDG2b7bM",
        "outputId": "25d6cc4f-02b8-4630-a85a-a354048a5197"
      },
      "execution_count": null,
      "outputs": [
        {
          "output_type": "execute_result",
          "data": {
            "text/plain": [
              "40282.0"
            ]
          },
          "metadata": {},
          "execution_count": 101
        }
      ]
    },
    {
      "cell_type": "code",
      "source": [
        "avg_rmse / (cars_clean[\"price\"].max() - cars_clean[\"price\"].min())"
      ],
      "metadata": {
        "colab": {
          "base_uri": "https://localhost:8080/"
        },
        "id": "LwhfQgEkcAgn",
        "outputId": "1d68b15a-8f8c-48e8-ab73-62ca7f6c61fa"
      },
      "execution_count": null,
      "outputs": [
        {
          "output_type": "execute_result",
          "data": {
            "text/plain": [
              "0.08330175913416064"
            ]
          },
          "metadata": {},
          "execution_count": 102
        }
      ]
    },
    {
      "cell_type": "markdown",
      "source": [
        "Prices in the dataset range from $5,118$ to $45,400$ so we can say that our model predicts car prices with about 8% accuracy.\n",
        "\n",
        "## Further investigation\n",
        "If we choose to investigate further we may choose to do some [Exploratory Data Analysis (EDA)](https://towardsdatascience.com/exploratory-data-analysis-8fc1cb20fd15). The fact that we were getting optimal k values of 1 may mean that some of our fields are irrelevant and causing noise in our results."
      ],
      "metadata": {
        "id": "-q1meMhmUdsY"
      }
    }
  ]
}