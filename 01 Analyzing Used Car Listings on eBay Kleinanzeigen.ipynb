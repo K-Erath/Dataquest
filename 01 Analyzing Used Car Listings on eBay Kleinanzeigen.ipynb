{
  "cells": [
    {
      "metadata": {
        "collapsed": true
      },
      "cell_type": "markdown",
      "source": "# Exploring Ebay Car Sales Data"
    },
    {
      "metadata": {},
      "cell_type": "markdown",
      "source": "This notebook will analyze used car sales listings from eBay Kleinanzeigen, a [classifieds](https://www.ebay-kleinanzeigen.de/s-autos/c216) section of the German eBay website.\n\nThe dataset was originally scraped and uploaded to [Kaggle](https://www.kaggle.com/orgesleka/used-cars-database/data). The version of the dataset we are working with is a sample of 50,000 data points that was prepared by [Dataquest](https://www.dataquest.io/) including simulating a less-cleaned version of the data.\n\nThe data dictionary provided with data is as follows:\n\n- dateCrawled - When this ad was first crawled. All field-values are taken from this date.\n- name - Name of the car.\n- seller - Whether the seller is private or a dealer.\n- offerType - The type of listing\n- price - The price on the ad to sell the car.\n- abtest - Whether the listing is included in an A/B test.\n- vehicleType - The vehicle Type.\n- yearOfRegistration - The year in which which year the car was first registered.\n- gearbox - The transmission type.\n- powerPS - The power of the car in PS.\n- model - The car model name.\n- kilometer - How many kilometers the car has driven.\n- monthOfRegistration - The month in which which year the car was first registered.\n- fuelType - What type of fuel the car uses.\n- brand - The brand of the car.\n- notRepairedDamage - If the car has a damage which is not yet repaired.\n- dateCreated - The date on which the eBay listing was created.\n- nrOfPictures - The number of pictures in the ad.\n- postalCode - The postal code for the location of the vehicle.\n- lastSeenOnline - When the crawler saw this ad last online.\n\nThe aim of this project is to clean the data and analyze the included used car listings."
    },
    {
      "metadata": {
        "trusted": true
      },
      "cell_type": "code",
      "source": "import pandas as pd\nimport numpy as np\nimport re",
      "execution_count": 1,
      "outputs": []
    },
    {
      "metadata": {
        "trusted": true
      },
      "cell_type": "code",
      "source": "autos = pd.read_csv(\"autos.csv\", encoding=\"Latin-1\")",
      "execution_count": 2,
      "outputs": []
    },
    {
      "metadata": {
        "trusted": true
      },
      "cell_type": "code",
      "source": "autos.info()",
      "execution_count": 3,
      "outputs": [
        {
          "output_type": "stream",
          "text": "<class 'pandas.core.frame.DataFrame'>\nRangeIndex: 50000 entries, 0 to 49999\nData columns (total 20 columns):\ndateCrawled            50000 non-null object\nname                   50000 non-null object\nseller                 50000 non-null object\nofferType              50000 non-null object\nprice                  50000 non-null object\nabtest                 50000 non-null object\nvehicleType            44905 non-null object\nyearOfRegistration     50000 non-null int64\ngearbox                47320 non-null object\npowerPS                50000 non-null int64\nmodel                  47242 non-null object\nodometer               50000 non-null object\nmonthOfRegistration    50000 non-null int64\nfuelType               45518 non-null object\nbrand                  50000 non-null object\nnotRepairedDamage      40171 non-null object\ndateCreated            50000 non-null object\nnrOfPictures           50000 non-null int64\npostalCode             50000 non-null int64\nlastSeen               50000 non-null object\ndtypes: int64(5), object(15)\nmemory usage: 7.6+ MB\n",
          "name": "stdout"
        }
      ]
    },
    {
      "metadata": {
        "trusted": true
      },
      "cell_type": "code",
      "source": "autos.head()",
      "execution_count": 4,
      "outputs": [
        {
          "output_type": "execute_result",
          "execution_count": 4,
          "data": {
            "text/html": "<div>\n<table border=\"1\" class=\"dataframe\">\n  <thead>\n    <tr style=\"text-align: right;\">\n      <th></th>\n      <th>dateCrawled</th>\n      <th>name</th>\n      <th>seller</th>\n      <th>offerType</th>\n      <th>price</th>\n      <th>abtest</th>\n      <th>vehicleType</th>\n      <th>yearOfRegistration</th>\n      <th>gearbox</th>\n      <th>powerPS</th>\n      <th>model</th>\n      <th>odometer</th>\n      <th>monthOfRegistration</th>\n      <th>fuelType</th>\n      <th>brand</th>\n      <th>notRepairedDamage</th>\n      <th>dateCreated</th>\n      <th>nrOfPictures</th>\n      <th>postalCode</th>\n      <th>lastSeen</th>\n    </tr>\n  </thead>\n  <tbody>\n    <tr>\n      <th>0</th>\n      <td>2016-03-26 17:47:46</td>\n      <td>Peugeot_807_160_NAVTECH_ON_BOARD</td>\n      <td>privat</td>\n      <td>Angebot</td>\n      <td>$5,000</td>\n      <td>control</td>\n      <td>bus</td>\n      <td>2004</td>\n      <td>manuell</td>\n      <td>158</td>\n      <td>andere</td>\n      <td>150,000km</td>\n      <td>3</td>\n      <td>lpg</td>\n      <td>peugeot</td>\n      <td>nein</td>\n      <td>2016-03-26 00:00:00</td>\n      <td>0</td>\n      <td>79588</td>\n      <td>2016-04-06 06:45:54</td>\n    </tr>\n    <tr>\n      <th>1</th>\n      <td>2016-04-04 13:38:56</td>\n      <td>BMW_740i_4_4_Liter_HAMANN_UMBAU_Mega_Optik</td>\n      <td>privat</td>\n      <td>Angebot</td>\n      <td>$8,500</td>\n      <td>control</td>\n      <td>limousine</td>\n      <td>1997</td>\n      <td>automatik</td>\n      <td>286</td>\n      <td>7er</td>\n      <td>150,000km</td>\n      <td>6</td>\n      <td>benzin</td>\n      <td>bmw</td>\n      <td>nein</td>\n      <td>2016-04-04 00:00:00</td>\n      <td>0</td>\n      <td>71034</td>\n      <td>2016-04-06 14:45:08</td>\n    </tr>\n    <tr>\n      <th>2</th>\n      <td>2016-03-26 18:57:24</td>\n      <td>Volkswagen_Golf_1.6_United</td>\n      <td>privat</td>\n      <td>Angebot</td>\n      <td>$8,990</td>\n      <td>test</td>\n      <td>limousine</td>\n      <td>2009</td>\n      <td>manuell</td>\n      <td>102</td>\n      <td>golf</td>\n      <td>70,000km</td>\n      <td>7</td>\n      <td>benzin</td>\n      <td>volkswagen</td>\n      <td>nein</td>\n      <td>2016-03-26 00:00:00</td>\n      <td>0</td>\n      <td>35394</td>\n      <td>2016-04-06 20:15:37</td>\n    </tr>\n    <tr>\n      <th>3</th>\n      <td>2016-03-12 16:58:10</td>\n      <td>Smart_smart_fortwo_coupe_softouch/F1/Klima/Pan...</td>\n      <td>privat</td>\n      <td>Angebot</td>\n      <td>$4,350</td>\n      <td>control</td>\n      <td>kleinwagen</td>\n      <td>2007</td>\n      <td>automatik</td>\n      <td>71</td>\n      <td>fortwo</td>\n      <td>70,000km</td>\n      <td>6</td>\n      <td>benzin</td>\n      <td>smart</td>\n      <td>nein</td>\n      <td>2016-03-12 00:00:00</td>\n      <td>0</td>\n      <td>33729</td>\n      <td>2016-03-15 03:16:28</td>\n    </tr>\n    <tr>\n      <th>4</th>\n      <td>2016-04-01 14:38:50</td>\n      <td>Ford_Focus_1_6_Benzin_TÜV_neu_ist_sehr_gepfleg...</td>\n      <td>privat</td>\n      <td>Angebot</td>\n      <td>$1,350</td>\n      <td>test</td>\n      <td>kombi</td>\n      <td>2003</td>\n      <td>manuell</td>\n      <td>0</td>\n      <td>focus</td>\n      <td>150,000km</td>\n      <td>7</td>\n      <td>benzin</td>\n      <td>ford</td>\n      <td>nein</td>\n      <td>2016-04-01 00:00:00</td>\n      <td>0</td>\n      <td>39218</td>\n      <td>2016-04-01 14:38:50</td>\n    </tr>\n  </tbody>\n</table>\n</div>",
            "text/plain": "           dateCrawled                                               name  \\\n0  2016-03-26 17:47:46                   Peugeot_807_160_NAVTECH_ON_BOARD   \n1  2016-04-04 13:38:56         BMW_740i_4_4_Liter_HAMANN_UMBAU_Mega_Optik   \n2  2016-03-26 18:57:24                         Volkswagen_Golf_1.6_United   \n3  2016-03-12 16:58:10  Smart_smart_fortwo_coupe_softouch/F1/Klima/Pan...   \n4  2016-04-01 14:38:50  Ford_Focus_1_6_Benzin_TÜV_neu_ist_sehr_gepfleg...   \n\n   seller offerType   price   abtest vehicleType  yearOfRegistration  \\\n0  privat   Angebot  $5,000  control         bus                2004   \n1  privat   Angebot  $8,500  control   limousine                1997   \n2  privat   Angebot  $8,990     test   limousine                2009   \n3  privat   Angebot  $4,350  control  kleinwagen                2007   \n4  privat   Angebot  $1,350     test       kombi                2003   \n\n     gearbox  powerPS   model   odometer  monthOfRegistration fuelType  \\\n0    manuell      158  andere  150,000km                    3      lpg   \n1  automatik      286     7er  150,000km                    6   benzin   \n2    manuell      102    golf   70,000km                    7   benzin   \n3  automatik       71  fortwo   70,000km                    6   benzin   \n4    manuell        0   focus  150,000km                    7   benzin   \n\n        brand notRepairedDamage          dateCreated  nrOfPictures  \\\n0     peugeot              nein  2016-03-26 00:00:00             0   \n1         bmw              nein  2016-04-04 00:00:00             0   \n2  volkswagen              nein  2016-03-26 00:00:00             0   \n3       smart              nein  2016-03-12 00:00:00             0   \n4        ford              nein  2016-04-01 00:00:00             0   \n\n   postalCode             lastSeen  \n0       79588  2016-04-06 06:45:54  \n1       71034  2016-04-06 14:45:08  \n2       35394  2016-04-06 20:15:37  \n3       33729  2016-03-15 03:16:28  \n4       39218  2016-04-01 14:38:50  "
          },
          "metadata": {}
        }
      ]
    },
    {
      "metadata": {},
      "cell_type": "markdown",
      "source": "Our dataset contains 20 columns, most of which are stored as strings. There are a few columns with null values, but no columns have more than ~20% null values. There are some columns that contain dates stored as strings."
    },
    {
      "metadata": {},
      "cell_type": "markdown",
      "source": "# Clean Columns"
    },
    {
      "metadata": {
        "trusted": true
      },
      "cell_type": "code",
      "source": "autos.columns",
      "execution_count": 5,
      "outputs": [
        {
          "output_type": "execute_result",
          "execution_count": 5,
          "data": {
            "text/plain": "Index(['dateCrawled', 'name', 'seller', 'offerType', 'price', 'abtest',\n       'vehicleType', 'yearOfRegistration', 'gearbox', 'powerPS', 'model',\n       'odometer', 'monthOfRegistration', 'fuelType', 'brand',\n       'notRepairedDamage', 'dateCreated', 'nrOfPictures', 'postalCode',\n       'lastSeen'],\n      dtype='object')"
          },
          "metadata": {}
        }
      ]
    },
    {
      "metadata": {},
      "cell_type": "markdown",
      "source": "Changes to make:\n- Change the columns from camelcase to snakecase.\n- Change a few wordings to more accurately describe the columns."
    },
    {
      "metadata": {
        "trusted": true
      },
      "cell_type": "code",
      "source": "rename_dict = {'yearOfRegistration': 'registration_year', \n                              'monthOfRegistration': 'registration_month', \n                              'notRepairedDamage': 'unrepaired_damage', \n                              'dateCreated': 'ad_created'}",
      "execution_count": 6,
      "outputs": []
    },
    {
      "metadata": {
        "trusted": true
      },
      "cell_type": "code",
      "source": "def convert(name):\n    s1 = re.sub('(.)([A-Z][a-z]+)', r'\\1_\\2', name)\n    return re.sub('([a-z0-9])([A-Z])', r'\\1_\\2', s1).lower()",
      "execution_count": 7,
      "outputs": []
    },
    {
      "metadata": {
        "trusted": true
      },
      "cell_type": "code",
      "source": "for c in autos.columns:\n    if c in rename_dict:\n        pass\n    else:\n        rename_dict[c] = convert(c)",
      "execution_count": 8,
      "outputs": []
    },
    {
      "metadata": {
        "trusted": true
      },
      "cell_type": "code",
      "source": "rename_dict",
      "execution_count": 9,
      "outputs": [
        {
          "output_type": "execute_result",
          "execution_count": 9,
          "data": {
            "text/plain": "{'abtest': 'abtest',\n 'brand': 'brand',\n 'dateCrawled': 'date_crawled',\n 'dateCreated': 'ad_created',\n 'fuelType': 'fuel_type',\n 'gearbox': 'gearbox',\n 'lastSeen': 'last_seen',\n 'model': 'model',\n 'monthOfRegistration': 'registration_month',\n 'name': 'name',\n 'notRepairedDamage': 'unrepaired_damage',\n 'nrOfPictures': 'nr_of_pictures',\n 'odometer': 'odometer',\n 'offerType': 'offer_type',\n 'postalCode': 'postal_code',\n 'powerPS': 'power_ps',\n 'price': 'price',\n 'seller': 'seller',\n 'vehicleType': 'vehicle_type',\n 'yearOfRegistration': 'registration_year'}"
          },
          "metadata": {}
        }
      ]
    },
    {
      "metadata": {
        "trusted": true
      },
      "cell_type": "code",
      "source": "autos = autos.rename(columns=rename_dict)",
      "execution_count": 10,
      "outputs": []
    },
    {
      "metadata": {
        "trusted": true
      },
      "cell_type": "code",
      "source": "autos.head()",
      "execution_count": 11,
      "outputs": [
        {
          "output_type": "execute_result",
          "execution_count": 11,
          "data": {
            "text/html": "<div>\n<table border=\"1\" class=\"dataframe\">\n  <thead>\n    <tr style=\"text-align: right;\">\n      <th></th>\n      <th>date_crawled</th>\n      <th>name</th>\n      <th>seller</th>\n      <th>offer_type</th>\n      <th>price</th>\n      <th>abtest</th>\n      <th>vehicle_type</th>\n      <th>registration_year</th>\n      <th>gearbox</th>\n      <th>power_ps</th>\n      <th>model</th>\n      <th>odometer</th>\n      <th>registration_month</th>\n      <th>fuel_type</th>\n      <th>brand</th>\n      <th>unrepaired_damage</th>\n      <th>ad_created</th>\n      <th>nr_of_pictures</th>\n      <th>postal_code</th>\n      <th>last_seen</th>\n    </tr>\n  </thead>\n  <tbody>\n    <tr>\n      <th>0</th>\n      <td>2016-03-26 17:47:46</td>\n      <td>Peugeot_807_160_NAVTECH_ON_BOARD</td>\n      <td>privat</td>\n      <td>Angebot</td>\n      <td>$5,000</td>\n      <td>control</td>\n      <td>bus</td>\n      <td>2004</td>\n      <td>manuell</td>\n      <td>158</td>\n      <td>andere</td>\n      <td>150,000km</td>\n      <td>3</td>\n      <td>lpg</td>\n      <td>peugeot</td>\n      <td>nein</td>\n      <td>2016-03-26 00:00:00</td>\n      <td>0</td>\n      <td>79588</td>\n      <td>2016-04-06 06:45:54</td>\n    </tr>\n    <tr>\n      <th>1</th>\n      <td>2016-04-04 13:38:56</td>\n      <td>BMW_740i_4_4_Liter_HAMANN_UMBAU_Mega_Optik</td>\n      <td>privat</td>\n      <td>Angebot</td>\n      <td>$8,500</td>\n      <td>control</td>\n      <td>limousine</td>\n      <td>1997</td>\n      <td>automatik</td>\n      <td>286</td>\n      <td>7er</td>\n      <td>150,000km</td>\n      <td>6</td>\n      <td>benzin</td>\n      <td>bmw</td>\n      <td>nein</td>\n      <td>2016-04-04 00:00:00</td>\n      <td>0</td>\n      <td>71034</td>\n      <td>2016-04-06 14:45:08</td>\n    </tr>\n    <tr>\n      <th>2</th>\n      <td>2016-03-26 18:57:24</td>\n      <td>Volkswagen_Golf_1.6_United</td>\n      <td>privat</td>\n      <td>Angebot</td>\n      <td>$8,990</td>\n      <td>test</td>\n      <td>limousine</td>\n      <td>2009</td>\n      <td>manuell</td>\n      <td>102</td>\n      <td>golf</td>\n      <td>70,000km</td>\n      <td>7</td>\n      <td>benzin</td>\n      <td>volkswagen</td>\n      <td>nein</td>\n      <td>2016-03-26 00:00:00</td>\n      <td>0</td>\n      <td>35394</td>\n      <td>2016-04-06 20:15:37</td>\n    </tr>\n    <tr>\n      <th>3</th>\n      <td>2016-03-12 16:58:10</td>\n      <td>Smart_smart_fortwo_coupe_softouch/F1/Klima/Pan...</td>\n      <td>privat</td>\n      <td>Angebot</td>\n      <td>$4,350</td>\n      <td>control</td>\n      <td>kleinwagen</td>\n      <td>2007</td>\n      <td>automatik</td>\n      <td>71</td>\n      <td>fortwo</td>\n      <td>70,000km</td>\n      <td>6</td>\n      <td>benzin</td>\n      <td>smart</td>\n      <td>nein</td>\n      <td>2016-03-12 00:00:00</td>\n      <td>0</td>\n      <td>33729</td>\n      <td>2016-03-15 03:16:28</td>\n    </tr>\n    <tr>\n      <th>4</th>\n      <td>2016-04-01 14:38:50</td>\n      <td>Ford_Focus_1_6_Benzin_TÜV_neu_ist_sehr_gepfleg...</td>\n      <td>privat</td>\n      <td>Angebot</td>\n      <td>$1,350</td>\n      <td>test</td>\n      <td>kombi</td>\n      <td>2003</td>\n      <td>manuell</td>\n      <td>0</td>\n      <td>focus</td>\n      <td>150,000km</td>\n      <td>7</td>\n      <td>benzin</td>\n      <td>ford</td>\n      <td>nein</td>\n      <td>2016-04-01 00:00:00</td>\n      <td>0</td>\n      <td>39218</td>\n      <td>2016-04-01 14:38:50</td>\n    </tr>\n  </tbody>\n</table>\n</div>",
            "text/plain": "          date_crawled                                               name  \\\n0  2016-03-26 17:47:46                   Peugeot_807_160_NAVTECH_ON_BOARD   \n1  2016-04-04 13:38:56         BMW_740i_4_4_Liter_HAMANN_UMBAU_Mega_Optik   \n2  2016-03-26 18:57:24                         Volkswagen_Golf_1.6_United   \n3  2016-03-12 16:58:10  Smart_smart_fortwo_coupe_softouch/F1/Klima/Pan...   \n4  2016-04-01 14:38:50  Ford_Focus_1_6_Benzin_TÜV_neu_ist_sehr_gepfleg...   \n\n   seller offer_type   price   abtest vehicle_type  registration_year  \\\n0  privat    Angebot  $5,000  control          bus               2004   \n1  privat    Angebot  $8,500  control    limousine               1997   \n2  privat    Angebot  $8,990     test    limousine               2009   \n3  privat    Angebot  $4,350  control   kleinwagen               2007   \n4  privat    Angebot  $1,350     test        kombi               2003   \n\n     gearbox  power_ps   model   odometer  registration_month fuel_type  \\\n0    manuell       158  andere  150,000km                   3       lpg   \n1  automatik       286     7er  150,000km                   6    benzin   \n2    manuell       102    golf   70,000km                   7    benzin   \n3  automatik        71  fortwo   70,000km                   6    benzin   \n4    manuell         0   focus  150,000km                   7    benzin   \n\n        brand unrepaired_damage           ad_created  nr_of_pictures  \\\n0     peugeot              nein  2016-03-26 00:00:00               0   \n1         bmw              nein  2016-04-04 00:00:00               0   \n2  volkswagen              nein  2016-03-26 00:00:00               0   \n3       smart              nein  2016-03-12 00:00:00               0   \n4        ford              nein  2016-04-01 00:00:00               0   \n\n   postal_code            last_seen  \n0        79588  2016-04-06 06:45:54  \n1        71034  2016-04-06 14:45:08  \n2        35394  2016-04-06 20:15:37  \n3        33729  2016-03-15 03:16:28  \n4        39218  2016-04-01 14:38:50  "
          },
          "metadata": {}
        }
      ]
    },
    {
      "metadata": {},
      "cell_type": "markdown",
      "source": "# Initial Data Exploration and Cleaning\nExplore the data to find obvious areas where we can clean the data."
    },
    {
      "metadata": {
        "trusted": true
      },
      "cell_type": "code",
      "source": "autos.describe(include='all')",
      "execution_count": 12,
      "outputs": [
        {
          "output_type": "execute_result",
          "execution_count": 12,
          "data": {
            "text/html": "<div>\n<table border=\"1\" class=\"dataframe\">\n  <thead>\n    <tr style=\"text-align: right;\">\n      <th></th>\n      <th>date_crawled</th>\n      <th>name</th>\n      <th>seller</th>\n      <th>offer_type</th>\n      <th>price</th>\n      <th>abtest</th>\n      <th>vehicle_type</th>\n      <th>registration_year</th>\n      <th>gearbox</th>\n      <th>power_ps</th>\n      <th>model</th>\n      <th>odometer</th>\n      <th>registration_month</th>\n      <th>fuel_type</th>\n      <th>brand</th>\n      <th>unrepaired_damage</th>\n      <th>ad_created</th>\n      <th>nr_of_pictures</th>\n      <th>postal_code</th>\n      <th>last_seen</th>\n    </tr>\n  </thead>\n  <tbody>\n    <tr>\n      <th>count</th>\n      <td>50000</td>\n      <td>50000</td>\n      <td>50000</td>\n      <td>50000</td>\n      <td>50000</td>\n      <td>50000</td>\n      <td>44905</td>\n      <td>50000.000000</td>\n      <td>47320</td>\n      <td>50000.000000</td>\n      <td>47242</td>\n      <td>50000</td>\n      <td>50000.000000</td>\n      <td>45518</td>\n      <td>50000</td>\n      <td>40171</td>\n      <td>50000</td>\n      <td>50000.0</td>\n      <td>50000.000000</td>\n      <td>50000</td>\n    </tr>\n    <tr>\n      <th>unique</th>\n      <td>48213</td>\n      <td>38754</td>\n      <td>2</td>\n      <td>2</td>\n      <td>2357</td>\n      <td>2</td>\n      <td>8</td>\n      <td>NaN</td>\n      <td>2</td>\n      <td>NaN</td>\n      <td>245</td>\n      <td>13</td>\n      <td>NaN</td>\n      <td>7</td>\n      <td>40</td>\n      <td>2</td>\n      <td>76</td>\n      <td>NaN</td>\n      <td>NaN</td>\n      <td>39481</td>\n    </tr>\n    <tr>\n      <th>top</th>\n      <td>2016-03-08 10:40:35</td>\n      <td>Ford_Fiesta</td>\n      <td>privat</td>\n      <td>Angebot</td>\n      <td>$0</td>\n      <td>test</td>\n      <td>limousine</td>\n      <td>NaN</td>\n      <td>manuell</td>\n      <td>NaN</td>\n      <td>golf</td>\n      <td>150,000km</td>\n      <td>NaN</td>\n      <td>benzin</td>\n      <td>volkswagen</td>\n      <td>nein</td>\n      <td>2016-04-03 00:00:00</td>\n      <td>NaN</td>\n      <td>NaN</td>\n      <td>2016-04-07 06:17:27</td>\n    </tr>\n    <tr>\n      <th>freq</th>\n      <td>3</td>\n      <td>78</td>\n      <td>49999</td>\n      <td>49999</td>\n      <td>1421</td>\n      <td>25756</td>\n      <td>12859</td>\n      <td>NaN</td>\n      <td>36993</td>\n      <td>NaN</td>\n      <td>4024</td>\n      <td>32424</td>\n      <td>NaN</td>\n      <td>30107</td>\n      <td>10687</td>\n      <td>35232</td>\n      <td>1946</td>\n      <td>NaN</td>\n      <td>NaN</td>\n      <td>8</td>\n    </tr>\n    <tr>\n      <th>mean</th>\n      <td>NaN</td>\n      <td>NaN</td>\n      <td>NaN</td>\n      <td>NaN</td>\n      <td>NaN</td>\n      <td>NaN</td>\n      <td>NaN</td>\n      <td>2005.073280</td>\n      <td>NaN</td>\n      <td>116.355920</td>\n      <td>NaN</td>\n      <td>NaN</td>\n      <td>5.723360</td>\n      <td>NaN</td>\n      <td>NaN</td>\n      <td>NaN</td>\n      <td>NaN</td>\n      <td>0.0</td>\n      <td>50813.627300</td>\n      <td>NaN</td>\n    </tr>\n    <tr>\n      <th>std</th>\n      <td>NaN</td>\n      <td>NaN</td>\n      <td>NaN</td>\n      <td>NaN</td>\n      <td>NaN</td>\n      <td>NaN</td>\n      <td>NaN</td>\n      <td>105.712813</td>\n      <td>NaN</td>\n      <td>209.216627</td>\n      <td>NaN</td>\n      <td>NaN</td>\n      <td>3.711984</td>\n      <td>NaN</td>\n      <td>NaN</td>\n      <td>NaN</td>\n      <td>NaN</td>\n      <td>0.0</td>\n      <td>25779.747957</td>\n      <td>NaN</td>\n    </tr>\n    <tr>\n      <th>min</th>\n      <td>NaN</td>\n      <td>NaN</td>\n      <td>NaN</td>\n      <td>NaN</td>\n      <td>NaN</td>\n      <td>NaN</td>\n      <td>NaN</td>\n      <td>1000.000000</td>\n      <td>NaN</td>\n      <td>0.000000</td>\n      <td>NaN</td>\n      <td>NaN</td>\n      <td>0.000000</td>\n      <td>NaN</td>\n      <td>NaN</td>\n      <td>NaN</td>\n      <td>NaN</td>\n      <td>0.0</td>\n      <td>1067.000000</td>\n      <td>NaN</td>\n    </tr>\n    <tr>\n      <th>25%</th>\n      <td>NaN</td>\n      <td>NaN</td>\n      <td>NaN</td>\n      <td>NaN</td>\n      <td>NaN</td>\n      <td>NaN</td>\n      <td>NaN</td>\n      <td>1999.000000</td>\n      <td>NaN</td>\n      <td>70.000000</td>\n      <td>NaN</td>\n      <td>NaN</td>\n      <td>3.000000</td>\n      <td>NaN</td>\n      <td>NaN</td>\n      <td>NaN</td>\n      <td>NaN</td>\n      <td>0.0</td>\n      <td>30451.000000</td>\n      <td>NaN</td>\n    </tr>\n    <tr>\n      <th>50%</th>\n      <td>NaN</td>\n      <td>NaN</td>\n      <td>NaN</td>\n      <td>NaN</td>\n      <td>NaN</td>\n      <td>NaN</td>\n      <td>NaN</td>\n      <td>2003.000000</td>\n      <td>NaN</td>\n      <td>105.000000</td>\n      <td>NaN</td>\n      <td>NaN</td>\n      <td>6.000000</td>\n      <td>NaN</td>\n      <td>NaN</td>\n      <td>NaN</td>\n      <td>NaN</td>\n      <td>0.0</td>\n      <td>49577.000000</td>\n      <td>NaN</td>\n    </tr>\n    <tr>\n      <th>75%</th>\n      <td>NaN</td>\n      <td>NaN</td>\n      <td>NaN</td>\n      <td>NaN</td>\n      <td>NaN</td>\n      <td>NaN</td>\n      <td>NaN</td>\n      <td>2008.000000</td>\n      <td>NaN</td>\n      <td>150.000000</td>\n      <td>NaN</td>\n      <td>NaN</td>\n      <td>9.000000</td>\n      <td>NaN</td>\n      <td>NaN</td>\n      <td>NaN</td>\n      <td>NaN</td>\n      <td>0.0</td>\n      <td>71540.000000</td>\n      <td>NaN</td>\n    </tr>\n    <tr>\n      <th>max</th>\n      <td>NaN</td>\n      <td>NaN</td>\n      <td>NaN</td>\n      <td>NaN</td>\n      <td>NaN</td>\n      <td>NaN</td>\n      <td>NaN</td>\n      <td>9999.000000</td>\n      <td>NaN</td>\n      <td>17700.000000</td>\n      <td>NaN</td>\n      <td>NaN</td>\n      <td>12.000000</td>\n      <td>NaN</td>\n      <td>NaN</td>\n      <td>NaN</td>\n      <td>NaN</td>\n      <td>0.0</td>\n      <td>99998.000000</td>\n      <td>NaN</td>\n    </tr>\n  </tbody>\n</table>\n</div>",
            "text/plain": "               date_crawled         name  seller offer_type  price abtest  \\\ncount                 50000        50000   50000      50000  50000  50000   \nunique                48213        38754       2          2   2357      2   \ntop     2016-03-08 10:40:35  Ford_Fiesta  privat    Angebot     $0   test   \nfreq                      3           78   49999      49999   1421  25756   \nmean                    NaN          NaN     NaN        NaN    NaN    NaN   \nstd                     NaN          NaN     NaN        NaN    NaN    NaN   \nmin                     NaN          NaN     NaN        NaN    NaN    NaN   \n25%                     NaN          NaN     NaN        NaN    NaN    NaN   \n50%                     NaN          NaN     NaN        NaN    NaN    NaN   \n75%                     NaN          NaN     NaN        NaN    NaN    NaN   \nmax                     NaN          NaN     NaN        NaN    NaN    NaN   \n\n       vehicle_type  registration_year  gearbox      power_ps  model  \\\ncount         44905       50000.000000    47320  50000.000000  47242   \nunique            8                NaN        2           NaN    245   \ntop       limousine                NaN  manuell           NaN   golf   \nfreq          12859                NaN    36993           NaN   4024   \nmean            NaN        2005.073280      NaN    116.355920    NaN   \nstd             NaN         105.712813      NaN    209.216627    NaN   \nmin             NaN        1000.000000      NaN      0.000000    NaN   \n25%             NaN        1999.000000      NaN     70.000000    NaN   \n50%             NaN        2003.000000      NaN    105.000000    NaN   \n75%             NaN        2008.000000      NaN    150.000000    NaN   \nmax             NaN        9999.000000      NaN  17700.000000    NaN   \n\n         odometer  registration_month fuel_type       brand unrepaired_damage  \\\ncount       50000        50000.000000     45518       50000             40171   \nunique         13                 NaN         7          40                 2   \ntop     150,000km                 NaN    benzin  volkswagen              nein   \nfreq        32424                 NaN     30107       10687             35232   \nmean          NaN            5.723360       NaN         NaN               NaN   \nstd           NaN            3.711984       NaN         NaN               NaN   \nmin           NaN            0.000000       NaN         NaN               NaN   \n25%           NaN            3.000000       NaN         NaN               NaN   \n50%           NaN            6.000000       NaN         NaN               NaN   \n75%           NaN            9.000000       NaN         NaN               NaN   \nmax           NaN           12.000000       NaN         NaN               NaN   \n\n                 ad_created  nr_of_pictures   postal_code            last_seen  \ncount                 50000         50000.0  50000.000000                50000  \nunique                   76             NaN           NaN                39481  \ntop     2016-04-03 00:00:00             NaN           NaN  2016-04-07 06:17:27  \nfreq                   1946             NaN           NaN                    8  \nmean                    NaN             0.0  50813.627300                  NaN  \nstd                     NaN             0.0  25779.747957                  NaN  \nmin                     NaN             0.0   1067.000000                  NaN  \n25%                     NaN             0.0  30451.000000                  NaN  \n50%                     NaN             0.0  49577.000000                  NaN  \n75%                     NaN             0.0  71540.000000                  NaN  \nmax                     NaN             0.0  99998.000000                  NaN  "
          },
          "metadata": {}
        }
      ]
    },
    {
      "metadata": {},
      "cell_type": "markdown",
      "source": "Initial observations:\n\nColumns where all (or nearly all) of the values are the same can be dropped:  \n- seller  \n- offer_type  \n\n\nThe nr_of_pictures column looks odd.\n\nNumeric data stored as text:\n- price  \n- odometer  \n\nNeed more investigation, should be integers?  \n- postal_code  \n- registration_month  \n- registration_year  "
    },
    {
      "metadata": {
        "trusted": true
      },
      "cell_type": "code",
      "source": "autos[\"nr_of_pictures\"].value_counts()",
      "execution_count": 13,
      "outputs": [
        {
          "output_type": "execute_result",
          "execution_count": 13,
          "data": {
            "text/plain": "0    50000\nName: nr_of_pictures, dtype: int64"
          },
          "metadata": {}
        }
      ]
    },
    {
      "metadata": {},
      "cell_type": "markdown",
      "source": "It looks like the num_photos column has 0 for every column. We'll drop this column, plus the other two we noted as mostly one value."
    },
    {
      "metadata": {
        "trusted": true
      },
      "cell_type": "code",
      "source": "autos = autos.drop([\"nr_of_pictures\", \"seller\", \"offer_type\"], axis=1)",
      "execution_count": 14,
      "outputs": []
    },
    {
      "metadata": {},
      "cell_type": "markdown",
      "source": "\nThere are two columns, price and auto, which are numeric values with extra characters being stored as text. We'll clean and convert these."
    },
    {
      "metadata": {
        "trusted": true
      },
      "cell_type": "code",
      "source": "autos[\"price\"] = (autos[\"price\"]\n                          .str.replace(\"$\",\"\")\n                          .str.replace(\",\",\"\")\n                          .astype(int)\n                          )\nautos[\"price\"].head()",
      "execution_count": 15,
      "outputs": [
        {
          "output_type": "execute_result",
          "execution_count": 15,
          "data": {
            "text/plain": "0    5000\n1    8500\n2    8990\n3    4350\n4    1350\nName: price, dtype: int64"
          },
          "metadata": {}
        }
      ]
    },
    {
      "metadata": {
        "trusted": true
      },
      "cell_type": "code",
      "source": "autos[\"odometer\"].unique()",
      "execution_count": 16,
      "outputs": [
        {
          "output_type": "execute_result",
          "execution_count": 16,
          "data": {
            "text/plain": "array(['150,000km', '70,000km', '50,000km', '80,000km', '10,000km',\n       '30,000km', '125,000km', '90,000km', '20,000km', '60,000km',\n       '5,000km', '100,000km', '40,000km'], dtype=object)"
          },
          "metadata": {}
        }
      ]
    },
    {
      "metadata": {
        "trusted": true
      },
      "cell_type": "code",
      "source": "autos[\"odometer\"] = (autos[\"odometer\"]\n                             .str.replace(\"km\",\"\")\n                             .str.replace(\",\",\"\")\n                             .astype(int)\n                             )",
      "execution_count": 17,
      "outputs": []
    },
    {
      "metadata": {
        "trusted": true
      },
      "cell_type": "code",
      "source": "# DataFrame.rename supports two calling conventions - https://pandas.pydata.org/pandas-docs/version/0.21.1/generated/pandas.DataFrame.rename.html\n# autos.rename(mapper={\"odometer\": \"odometer_km\"}, index=1, inplace=True) #https://stackoverflow.com/questions/54912626/python-renaming-pandas-dataframe-columns\nautos = autos.rename(columns={\"odometer\": \"odometer_km\"})",
      "execution_count": 18,
      "outputs": []
    },
    {
      "metadata": {
        "trusted": true
      },
      "cell_type": "code",
      "source": "autos[\"odometer_km\"].unique()",
      "execution_count": 19,
      "outputs": [
        {
          "output_type": "execute_result",
          "execution_count": 19,
          "data": {
            "text/plain": "array([150000,  70000,  50000,  80000,  10000,  30000, 125000,  90000,\n        20000,  60000,   5000, 100000,  40000])"
          },
          "metadata": {}
        }
      ]
    },
    {
      "metadata": {
        "trusted": true
      },
      "cell_type": "code",
      "source": "autos[\"odometer_km\"].head()",
      "execution_count": 20,
      "outputs": [
        {
          "output_type": "execute_result",
          "execution_count": 20,
          "data": {
            "text/plain": "0    150000\n1    150000\n2     70000\n3     70000\n4    150000\nName: odometer_km, dtype: int64"
          },
          "metadata": {}
        }
      ]
    },
    {
      "metadata": {},
      "cell_type": "markdown",
      "source": "# Exploring Odometer and Price"
    },
    {
      "metadata": {
        "trusted": true
      },
      "cell_type": "code",
      "source": "autos[\"odometer_km\"].value_counts()",
      "execution_count": 21,
      "outputs": [
        {
          "output_type": "execute_result",
          "execution_count": 21,
          "data": {
            "text/plain": "150000    32424\n125000     5170\n100000     2169\n90000      1757\n80000      1436\n70000      1230\n60000      1164\n50000      1027\n5000        967\n40000       819\n30000       789\n20000       784\n10000       264\nName: odometer_km, dtype: int64"
          },
          "metadata": {}
        }
      ]
    },
    {
      "metadata": {},
      "cell_type": "markdown",
      "source": "We can see that the values in this field are rounded, which might indicate that sellers had to choose from pre-set options for this field. Additionally, there are more high mileage than low mileage vehicles."
    },
    {
      "metadata": {
        "trusted": true
      },
      "cell_type": "code",
      "source": "autos = autos.rename(columns = {\"odometer\":\"odometer_km\"})",
      "execution_count": 22,
      "outputs": []
    },
    {
      "metadata": {
        "trusted": true
      },
      "cell_type": "code",
      "source": "autos[\"odometer_km\"].unique().shape",
      "execution_count": 23,
      "outputs": [
        {
          "output_type": "execute_result",
          "execution_count": 23,
          "data": {
            "text/plain": "(13,)"
          },
          "metadata": {}
        }
      ]
    },
    {
      "metadata": {
        "trusted": true
      },
      "cell_type": "code",
      "source": "autos[\"odometer_km\"].describe()",
      "execution_count": 24,
      "outputs": [
        {
          "output_type": "execute_result",
          "execution_count": 24,
          "data": {
            "text/plain": "count     50000.000000\nmean     125732.700000\nstd       40042.211706\nmin        5000.000000\n25%      125000.000000\n50%      150000.000000\n75%      150000.000000\nmax      150000.000000\nName: odometer_km, dtype: float64"
          },
          "metadata": {}
        }
      ]
    },
    {
      "metadata": {
        "trusted": true
      },
      "cell_type": "code",
      "source": "autos[\"odometer_km\"].value_counts().head()",
      "execution_count": 25,
      "outputs": [
        {
          "output_type": "execute_result",
          "execution_count": 25,
          "data": {
            "text/plain": "150000    32424\n125000     5170\n100000     2169\n90000      1757\n80000      1436\nName: odometer_km, dtype: int64"
          },
          "metadata": {}
        }
      ]
    },
    {
      "metadata": {
        "trusted": true
      },
      "cell_type": "code",
      "source": "autos[\"odometer_km\"].value_counts().sort_index(ascending=False).head()",
      "execution_count": 26,
      "outputs": [
        {
          "output_type": "execute_result",
          "execution_count": 26,
          "data": {
            "text/plain": "150000    32424\n125000     5170\n100000     2169\n90000      1757\n80000      1436\nName: odometer_km, dtype: int64"
          },
          "metadata": {}
        }
      ]
    },
    {
      "metadata": {},
      "cell_type": "markdown",
      "source": "Again, the prices in this column seem rounded, however given there are 2357 unique values in the column, that may just be people's tendency to round prices on the site.\n\nThere are 1,421 cars listed with $0 price - given that this is only 2% of the of the cars, we will consider removing these rows. The maximum price is one hundred million dollars, which seems a lot, let's look at the highest prices further."
    },
    {
      "metadata": {
        "trusted": true
      },
      "cell_type": "code",
      "source": "autos[\"odometer_km\"].value_counts().sort_index(ascending=False).head()",
      "execution_count": 27,
      "outputs": [
        {
          "output_type": "execute_result",
          "execution_count": 27,
          "data": {
            "text/plain": "150000    32424\n125000     5170\n100000     2169\n90000      1757\n80000      1436\nName: odometer_km, dtype: int64"
          },
          "metadata": {}
        }
      ]
    },
    {
      "metadata": {
        "trusted": true
      },
      "cell_type": "code",
      "source": "autos[\"odometer_km\"].value_counts().sort_index(ascending=True).head()",
      "execution_count": 28,
      "outputs": [
        {
          "output_type": "execute_result",
          "execution_count": 28,
          "data": {
            "text/plain": "5000     967\n10000    264\n20000    784\n30000    789\n40000    819\nName: odometer_km, dtype: int64"
          },
          "metadata": {}
        }
      ]
    },
    {
      "metadata": {},
      "cell_type": "markdown",
      "source": "There are a number of listings with prices below \\$30, including about 1,500 at \\$0. There are also a small number of listings with very high values, including 14 at around or over $1 million.\n\nGiven that eBay is an auction site, there could legitimately be items where the opening bid is \\$1. We will keep the \\$1 items, but remove anything above \\$350,000, since it seems that prices increase steadily to that number and then jump up to less realistic numbers."
    },
    {
      "metadata": {
        "trusted": true
      },
      "cell_type": "code",
      "source": "autos = autos[autos[\"price\"].between(1,30000000)]",
      "execution_count": 29,
      "outputs": []
    },
    {
      "metadata": {
        "trusted": true
      },
      "cell_type": "code",
      "source": "autos[\"price\"].describe()",
      "execution_count": 30,
      "outputs": [
        {
          "output_type": "execute_result",
          "execution_count": 30,
          "data": {
            "text/plain": "count    4.857800e+04\nmean     8.069542e+03\nstd      1.800356e+05\nmin      1.000000e+00\n25%      1.200000e+03\n50%      3.000000e+03\n75%      7.490000e+03\nmax      2.732222e+07\nName: price, dtype: float64"
          },
          "metadata": {}
        }
      ]
    },
    {
      "metadata": {},
      "cell_type": "markdown",
      "source": "# Exploring the date columns\n\nColumns with date information:\n\n- date_crawled  \n- registration_month  \n- registration_year  \n- ad_created  \n- last_seen  \n\nThese are a combination of dates that were crawled, and dates with meta-information from the crawler. The non-registration dates are stored as strings."
    },
    {
      "metadata": {
        "trusted": true
      },
      "cell_type": "code",
      "source": "autos[['date_crawled','ad_created','last_seen']][0:5]",
      "execution_count": 31,
      "outputs": [
        {
          "output_type": "execute_result",
          "execution_count": 31,
          "data": {
            "text/html": "<div>\n<table border=\"1\" class=\"dataframe\">\n  <thead>\n    <tr style=\"text-align: right;\">\n      <th></th>\n      <th>date_crawled</th>\n      <th>ad_created</th>\n      <th>last_seen</th>\n    </tr>\n  </thead>\n  <tbody>\n    <tr>\n      <th>0</th>\n      <td>2016-03-26 17:47:46</td>\n      <td>2016-03-26 00:00:00</td>\n      <td>2016-04-06 06:45:54</td>\n    </tr>\n    <tr>\n      <th>1</th>\n      <td>2016-04-04 13:38:56</td>\n      <td>2016-04-04 00:00:00</td>\n      <td>2016-04-06 14:45:08</td>\n    </tr>\n    <tr>\n      <th>2</th>\n      <td>2016-03-26 18:57:24</td>\n      <td>2016-03-26 00:00:00</td>\n      <td>2016-04-06 20:15:37</td>\n    </tr>\n    <tr>\n      <th>3</th>\n      <td>2016-03-12 16:58:10</td>\n      <td>2016-03-12 00:00:00</td>\n      <td>2016-03-15 03:16:28</td>\n    </tr>\n    <tr>\n      <th>4</th>\n      <td>2016-04-01 14:38:50</td>\n      <td>2016-04-01 00:00:00</td>\n      <td>2016-04-01 14:38:50</td>\n    </tr>\n  </tbody>\n</table>\n</div>",
            "text/plain": "          date_crawled           ad_created            last_seen\n0  2016-03-26 17:47:46  2016-03-26 00:00:00  2016-04-06 06:45:54\n1  2016-04-04 13:38:56  2016-04-04 00:00:00  2016-04-06 14:45:08\n2  2016-03-26 18:57:24  2016-03-26 00:00:00  2016-04-06 20:15:37\n3  2016-03-12 16:58:10  2016-03-12 00:00:00  2016-03-15 03:16:28\n4  2016-04-01 14:38:50  2016-04-01 00:00:00  2016-04-01 14:38:50"
          },
          "metadata": {}
        }
      ]
    },
    {
      "metadata": {
        "trusted": true
      },
      "cell_type": "code",
      "source": "autos[\"date_crawled\"].str[:10].value_counts(normalize=True, dropna=False).sort_index()",
      "execution_count": 32,
      "outputs": [
        {
          "output_type": "execute_result",
          "execution_count": 32,
          "data": {
            "text/plain": "2016-03-05    0.025320\n2016-03-06    0.014039\n2016-03-07    0.036004\n2016-03-08    0.033328\n2016-03-09    0.033101\n2016-03-10    0.032175\n2016-03-11    0.032566\n2016-03-12    0.036930\n2016-03-13    0.015666\n2016-03-14    0.036539\n2016-03-15    0.034275\n2016-03-16    0.029602\n2016-03-17    0.031640\n2016-03-18    0.012907\n2016-03-19    0.034769\n2016-03-20    0.037877\n2016-03-21    0.037404\n2016-03-22    0.032998\n2016-03-23    0.032216\n2016-03-24    0.029334\n2016-03-25    0.031599\n2016-03-26    0.032196\n2016-03-27    0.031084\n2016-03-28    0.034851\n2016-03-29    0.034131\n2016-03-30    0.033678\n2016-03-31    0.031846\n2016-04-01    0.033678\n2016-04-02    0.035469\n2016-04-03    0.038598\n2016-04-04    0.036519\n2016-04-05    0.013092\n2016-04-06    0.003170\n2016-04-07    0.001400\nName: date_crawled, dtype: float64"
          },
          "metadata": {}
        }
      ]
    },
    {
      "metadata": {},
      "cell_type": "markdown",
      "source": "Looks like the site was crawled daily over roughly a one month period in March and April 2016. The distribution of listings crawled on each day is roughly uniform."
    },
    {
      "metadata": {
        "trusted": true
      },
      "cell_type": "code",
      "source": "autos[\"last_seen\"].str[:10].value_counts(normalize=True, dropna=False).sort_index()",
      "execution_count": 33,
      "outputs": [
        {
          "output_type": "execute_result",
          "execution_count": 33,
          "data": {
            "text/plain": "2016-03-05    0.001070\n2016-03-06    0.004323\n2016-03-07    0.005393\n2016-03-08    0.007431\n2016-03-09    0.009613\n2016-03-10    0.010663\n2016-03-11    0.012372\n2016-03-12    0.023797\n2016-03-13    0.008893\n2016-03-14    0.012598\n2016-03-15    0.015871\n2016-03-16    0.016448\n2016-03-17    0.028079\n2016-03-18    0.007349\n2016-03-19    0.015830\n2016-03-20    0.020647\n2016-03-21    0.020647\n2016-03-22    0.021368\n2016-03-23    0.018527\n2016-03-24    0.019762\n2016-03-25    0.019206\n2016-03-26    0.016798\n2016-03-27    0.015645\n2016-03-28    0.020874\n2016-03-29    0.022356\n2016-03-30    0.024764\n2016-03-31    0.023797\n2016-04-01    0.022788\n2016-04-02    0.024929\n2016-04-03    0.025197\n2016-04-04    0.024476\n2016-04-05    0.124768\n2016-04-06    0.221808\n2016-04-07    0.131912\nName: last_seen, dtype: float64"
          },
          "metadata": {}
        }
      ]
    },
    {
      "metadata": {},
      "cell_type": "markdown",
      "source": "The crawler recorded the date it last saw any listing, which allows us to determine on what day a listing was removed, presumably because the car was sold.\n\nThe last three days contain a disproportionate amount of 'last seen' values. Given that these are 6-10x the values from the previous days, it's unlikely that there was a massive spike in sales, and more likely that these values are to do with the crawling period ending and don't indicate car sales."
    },
    {
      "metadata": {
        "trusted": true
      },
      "cell_type": "code",
      "source": "autos[\"ad_created\"].str[:10].value_counts(normalize=True, dropna=False).sort_index()",
      "execution_count": 34,
      "outputs": [
        {
          "output_type": "execute_result",
          "execution_count": 34,
          "data": {
            "text/plain": "2015-06-11    0.000021\n2015-08-10    0.000021\n2015-09-09    0.000021\n2015-11-10    0.000021\n2015-12-05    0.000021\n2015-12-30    0.000021\n2016-01-03    0.000021\n2016-01-07    0.000021\n2016-01-10    0.000041\n2016-01-13    0.000021\n2016-01-14    0.000021\n2016-01-16    0.000021\n2016-01-22    0.000021\n2016-01-27    0.000062\n2016-01-29    0.000021\n2016-02-01    0.000021\n2016-02-02    0.000041\n2016-02-05    0.000041\n2016-02-07    0.000021\n2016-02-08    0.000021\n2016-02-09    0.000021\n2016-02-11    0.000021\n2016-02-12    0.000041\n2016-02-14    0.000041\n2016-02-16    0.000021\n2016-02-17    0.000021\n2016-02-18    0.000041\n2016-02-19    0.000062\n2016-02-20    0.000041\n2016-02-21    0.000062\n                ...   \n2016-03-09    0.033163\n2016-03-10    0.031887\n2016-03-11    0.032896\n2016-03-12    0.036766\n2016-03-13    0.017004\n2016-03-14    0.035181\n2016-03-15    0.034007\n2016-03-16    0.030117\n2016-03-17    0.031290\n2016-03-18    0.013586\n2016-03-19    0.033678\n2016-03-20    0.037939\n2016-03-21    0.037610\n2016-03-22    0.032813\n2016-03-23    0.032052\n2016-03-24    0.029273\n2016-03-25    0.031743\n2016-03-26    0.032257\n2016-03-27    0.030981\n2016-03-28    0.034975\n2016-03-29    0.034069\n2016-03-30    0.033493\n2016-03-31    0.031887\n2016-04-01    0.033678\n2016-04-02    0.035139\n2016-04-03    0.038845\n2016-04-04    0.036889\n2016-04-05    0.011816\n2016-04-06    0.003253\n2016-04-07    0.001256\nName: ad_created, dtype: float64"
          },
          "metadata": {}
        }
      ]
    },
    {
      "metadata": {},
      "cell_type": "markdown",
      "source": "There is a large variety of ad created dates. Most fall within 1-2 months of the listing date, but a few are quite old, with the oldest at around 9 months."
    },
    {
      "metadata": {
        "trusted": true
      },
      "cell_type": "code",
      "source": "autos[\"registration_year\"].describe()",
      "execution_count": 35,
      "outputs": [
        {
          "output_type": "execute_result",
          "execution_count": 35,
          "data": {
            "text/plain": "count    48578.000000\nmean      2004.753119\nstd         88.632571\nmin       1000.000000\n25%       1999.000000\n50%       2004.000000\n75%       2008.000000\nmax       9999.000000\nName: registration_year, dtype: float64"
          },
          "metadata": {}
        }
      ]
    },
    {
      "metadata": {},
      "cell_type": "markdown",
      "source": "The year that the car was first registered will likely indicate the age of the car. Looking at this column, we note some odd values. The minimum value is 1000, long before cars were invented and the maximum is 9999, many years into the future."
    },
    {
      "metadata": {},
      "cell_type": "markdown",
      "source": "# Dealing with Incorrect Registration Year Data\nBecause a car can't be first registered before the listing was seen, any vehicle with a registration year above 2016 is definitely inaccurate. Determining the earliest valid year is more difficult. Realistically, it could be somewhere in the first few decades of the 1900s.\n\nOne option is to remove the listings with these values. Let's determine what percentage of our data has invalid values in this column:"
    },
    {
      "metadata": {
        "trusted": true
      },
      "cell_type": "code",
      "source": "autos[autos[\"registration_year\"] < 1900]",
      "execution_count": 36,
      "outputs": [
        {
          "output_type": "execute_result",
          "execution_count": 36,
          "data": {
            "text/html": "<div>\n<table border=\"1\" class=\"dataframe\">\n  <thead>\n    <tr style=\"text-align: right;\">\n      <th></th>\n      <th>date_crawled</th>\n      <th>name</th>\n      <th>price</th>\n      <th>abtest</th>\n      <th>vehicle_type</th>\n      <th>registration_year</th>\n      <th>gearbox</th>\n      <th>power_ps</th>\n      <th>model</th>\n      <th>odometer_km</th>\n      <th>registration_month</th>\n      <th>fuel_type</th>\n      <th>brand</th>\n      <th>unrepaired_damage</th>\n      <th>ad_created</th>\n      <th>postal_code</th>\n      <th>last_seen</th>\n    </tr>\n  </thead>\n  <tbody>\n    <tr>\n      <th>10556</th>\n      <td>2016-04-01 06:02:10</td>\n      <td>UNFAL_Auto</td>\n      <td>450</td>\n      <td>control</td>\n      <td>NaN</td>\n      <td>1800</td>\n      <td>NaN</td>\n      <td>1800</td>\n      <td>NaN</td>\n      <td>5000</td>\n      <td>2</td>\n      <td>NaN</td>\n      <td>mitsubishi</td>\n      <td>nein</td>\n      <td>2016-04-01 00:00:00</td>\n      <td>63322</td>\n      <td>2016-04-01 09:42:30</td>\n    </tr>\n    <tr>\n      <th>22316</th>\n      <td>2016-03-29 16:56:41</td>\n      <td>VW_Kaefer.__Zwei_zum_Preis_von_einem.</td>\n      <td>1500</td>\n      <td>control</td>\n      <td>NaN</td>\n      <td>1000</td>\n      <td>manuell</td>\n      <td>0</td>\n      <td>kaefer</td>\n      <td>5000</td>\n      <td>0</td>\n      <td>benzin</td>\n      <td>volkswagen</td>\n      <td>NaN</td>\n      <td>2016-03-29 00:00:00</td>\n      <td>48324</td>\n      <td>2016-03-31 10:15:28</td>\n    </tr>\n    <tr>\n      <th>24511</th>\n      <td>2016-03-17 19:45:11</td>\n      <td>Trabant__wartburg__Ostalgie</td>\n      <td>490</td>\n      <td>control</td>\n      <td>NaN</td>\n      <td>1111</td>\n      <td>NaN</td>\n      <td>0</td>\n      <td>NaN</td>\n      <td>5000</td>\n      <td>0</td>\n      <td>NaN</td>\n      <td>trabant</td>\n      <td>NaN</td>\n      <td>2016-03-17 00:00:00</td>\n      <td>16818</td>\n      <td>2016-04-07 07:17:29</td>\n    </tr>\n    <tr>\n      <th>32585</th>\n      <td>2016-04-02 16:56:39</td>\n      <td>UNFAL_Auto</td>\n      <td>450</td>\n      <td>control</td>\n      <td>NaN</td>\n      <td>1800</td>\n      <td>NaN</td>\n      <td>1800</td>\n      <td>NaN</td>\n      <td>5000</td>\n      <td>2</td>\n      <td>NaN</td>\n      <td>mitsubishi</td>\n      <td>nein</td>\n      <td>2016-04-02 00:00:00</td>\n      <td>63322</td>\n      <td>2016-04-04 14:46:21</td>\n    </tr>\n    <tr>\n      <th>49283</th>\n      <td>2016-03-15 18:38:53</td>\n      <td>Citroen_HY</td>\n      <td>7750</td>\n      <td>control</td>\n      <td>NaN</td>\n      <td>1001</td>\n      <td>NaN</td>\n      <td>0</td>\n      <td>andere</td>\n      <td>5000</td>\n      <td>0</td>\n      <td>NaN</td>\n      <td>citroen</td>\n      <td>NaN</td>\n      <td>2016-03-15 00:00:00</td>\n      <td>66706</td>\n      <td>2016-04-06 18:47:20</td>\n    </tr>\n  </tbody>\n</table>\n</div>",
            "text/plain": "              date_crawled                                   name  price  \\\n10556  2016-04-01 06:02:10                             UNFAL_Auto    450   \n22316  2016-03-29 16:56:41  VW_Kaefer.__Zwei_zum_Preis_von_einem.   1500   \n24511  2016-03-17 19:45:11            Trabant__wartburg__Ostalgie    490   \n32585  2016-04-02 16:56:39                             UNFAL_Auto    450   \n49283  2016-03-15 18:38:53                             Citroen_HY   7750   \n\n        abtest vehicle_type  registration_year  gearbox  power_ps   model  \\\n10556  control          NaN               1800      NaN      1800     NaN   \n22316  control          NaN               1000  manuell         0  kaefer   \n24511  control          NaN               1111      NaN         0     NaN   \n32585  control          NaN               1800      NaN      1800     NaN   \n49283  control          NaN               1001      NaN         0  andere   \n\n       odometer_km  registration_month fuel_type       brand  \\\n10556         5000                   2       NaN  mitsubishi   \n22316         5000                   0    benzin  volkswagen   \n24511         5000                   0       NaN     trabant   \n32585         5000                   2       NaN  mitsubishi   \n49283         5000                   0       NaN     citroen   \n\n      unrepaired_damage           ad_created  postal_code            last_seen  \n10556              nein  2016-04-01 00:00:00        63322  2016-04-01 09:42:30  \n22316               NaN  2016-03-29 00:00:00        48324  2016-03-31 10:15:28  \n24511               NaN  2016-03-17 00:00:00        16818  2016-04-07 07:17:29  \n32585              nein  2016-04-02 00:00:00        63322  2016-04-04 14:46:21  \n49283               NaN  2016-03-15 00:00:00        66706  2016-04-06 18:47:20  "
          },
          "metadata": {}
        }
      ]
    },
    {
      "metadata": {
        "trusted": true
      },
      "cell_type": "code",
      "source": "autos[autos[\"registration_year\"] > 2016]",
      "execution_count": 37,
      "outputs": [
        {
          "output_type": "execute_result",
          "execution_count": 37,
          "data": {
            "text/html": "<div>\n<table border=\"1\" class=\"dataframe\">\n  <thead>\n    <tr style=\"text-align: right;\">\n      <th></th>\n      <th>date_crawled</th>\n      <th>name</th>\n      <th>price</th>\n      <th>abtest</th>\n      <th>vehicle_type</th>\n      <th>registration_year</th>\n      <th>gearbox</th>\n      <th>power_ps</th>\n      <th>model</th>\n      <th>odometer_km</th>\n      <th>registration_month</th>\n      <th>fuel_type</th>\n      <th>brand</th>\n      <th>unrepaired_damage</th>\n      <th>ad_created</th>\n      <th>postal_code</th>\n      <th>last_seen</th>\n    </tr>\n  </thead>\n  <tbody>\n    <tr>\n      <th>10</th>\n      <td>2016-03-15 01:41:36</td>\n      <td>VW_Golf_Tuning_in_siber/grau</td>\n      <td>999</td>\n      <td>test</td>\n      <td>NaN</td>\n      <td>2017</td>\n      <td>manuell</td>\n      <td>90</td>\n      <td>NaN</td>\n      <td>150000</td>\n      <td>4</td>\n      <td>benzin</td>\n      <td>volkswagen</td>\n      <td>nein</td>\n      <td>2016-03-14 00:00:00</td>\n      <td>86157</td>\n      <td>2016-04-07 03:16:21</td>\n    </tr>\n    <tr>\n      <th>55</th>\n      <td>2016-03-07 02:47:54</td>\n      <td>Mercedes_E320_AMG_zu_Tauschen!</td>\n      <td>1</td>\n      <td>test</td>\n      <td>NaN</td>\n      <td>2017</td>\n      <td>automatik</td>\n      <td>224</td>\n      <td>e_klasse</td>\n      <td>125000</td>\n      <td>7</td>\n      <td>benzin</td>\n      <td>mercedes_benz</td>\n      <td>nein</td>\n      <td>2016-03-06 00:00:00</td>\n      <td>22111</td>\n      <td>2016-03-08 05:45:44</td>\n    </tr>\n    <tr>\n      <th>65</th>\n      <td>2016-04-04 19:30:39</td>\n      <td>Ford_Fiesta_zum_ausschlachten</td>\n      <td>250</td>\n      <td>control</td>\n      <td>NaN</td>\n      <td>2017</td>\n      <td>manuell</td>\n      <td>65</td>\n      <td>fiesta</td>\n      <td>125000</td>\n      <td>9</td>\n      <td>benzin</td>\n      <td>ford</td>\n      <td>NaN</td>\n      <td>2016-04-04 00:00:00</td>\n      <td>65606</td>\n      <td>2016-04-05 12:22:12</td>\n    </tr>\n    <tr>\n      <th>68</th>\n      <td>2016-04-03 17:36:59</td>\n      <td>Mini_cooper_s_clubman_/vollausstattung_/_Navi/...</td>\n      <td>10990</td>\n      <td>test</td>\n      <td>NaN</td>\n      <td>2017</td>\n      <td>manuell</td>\n      <td>174</td>\n      <td>clubman</td>\n      <td>100000</td>\n      <td>0</td>\n      <td>NaN</td>\n      <td>mini</td>\n      <td>nein</td>\n      <td>2016-04-03 00:00:00</td>\n      <td>83135</td>\n      <td>2016-04-05 17:26:26</td>\n    </tr>\n    <tr>\n      <th>84</th>\n      <td>2016-03-27 19:52:54</td>\n      <td>Renault_twingo</td>\n      <td>900</td>\n      <td>control</td>\n      <td>NaN</td>\n      <td>2018</td>\n      <td>NaN</td>\n      <td>60</td>\n      <td>twingo</td>\n      <td>150000</td>\n      <td>0</td>\n      <td>NaN</td>\n      <td>renault</td>\n      <td>NaN</td>\n      <td>2016-03-27 00:00:00</td>\n      <td>40589</td>\n      <td>2016-04-05 18:46:49</td>\n    </tr>\n    <tr>\n      <th>113</th>\n      <td>2016-04-03 14:58:29</td>\n      <td>Golf_4_Anfaenger_auto</td>\n      <td>1200</td>\n      <td>test</td>\n      <td>NaN</td>\n      <td>2017</td>\n      <td>manuell</td>\n      <td>75</td>\n      <td>golf</td>\n      <td>150000</td>\n      <td>7</td>\n      <td>NaN</td>\n      <td>volkswagen</td>\n      <td>NaN</td>\n      <td>2016-04-03 00:00:00</td>\n      <td>97656</td>\n      <td>2016-04-05 14:15:48</td>\n    </tr>\n    <tr>\n      <th>164</th>\n      <td>2016-03-13 20:39:16</td>\n      <td>Opel_Meriva__nur_76000_Km__unfallfrei__scheckh...</td>\n      <td>4800</td>\n      <td>control</td>\n      <td>NaN</td>\n      <td>2018</td>\n      <td>manuell</td>\n      <td>0</td>\n      <td>meriva</td>\n      <td>80000</td>\n      <td>4</td>\n      <td>benzin</td>\n      <td>opel</td>\n      <td>nein</td>\n      <td>2016-03-13 00:00:00</td>\n      <td>37627</td>\n      <td>2016-04-04 16:48:02</td>\n    </tr>\n    <tr>\n      <th>197</th>\n      <td>2016-04-05 10:36:24</td>\n      <td>VW_Polo_9N_an_Bastler</td>\n      <td>888</td>\n      <td>control</td>\n      <td>NaN</td>\n      <td>2017</td>\n      <td>manuell</td>\n      <td>64</td>\n      <td>polo</td>\n      <td>20000</td>\n      <td>7</td>\n      <td>NaN</td>\n      <td>volkswagen</td>\n      <td>ja</td>\n      <td>2016-04-05 00:00:00</td>\n      <td>58566</td>\n      <td>2016-04-07 13:16:13</td>\n    </tr>\n    <tr>\n      <th>253</th>\n      <td>2016-03-27 13:25:18</td>\n      <td>Ford_mondeo_Gas_anlage_mit_TÜV_04.2017</td>\n      <td>2250</td>\n      <td>test</td>\n      <td>NaN</td>\n      <td>2017</td>\n      <td>manuell</td>\n      <td>0</td>\n      <td>mondeo</td>\n      <td>150000</td>\n      <td>8</td>\n      <td>benzin</td>\n      <td>ford</td>\n      <td>nein</td>\n      <td>2016-03-27 00:00:00</td>\n      <td>56575</td>\n      <td>2016-04-05 15:18:34</td>\n    </tr>\n    <tr>\n      <th>348</th>\n      <td>2016-03-17 20:58:24</td>\n      <td>VW_Beetle_1.8Turbo_mit_Vollausstattung_und_seh...</td>\n      <td>3750</td>\n      <td>control</td>\n      <td>NaN</td>\n      <td>2017</td>\n      <td>manuell</td>\n      <td>150</td>\n      <td>beetle</td>\n      <td>150000</td>\n      <td>7</td>\n      <td>NaN</td>\n      <td>volkswagen</td>\n      <td>nein</td>\n      <td>2016-03-17 00:00:00</td>\n      <td>45896</td>\n      <td>2016-03-24 17:17:50</td>\n    </tr>\n    <tr>\n      <th>390</th>\n      <td>2016-03-25 12:59:06</td>\n      <td>Fiat_Bertone_X_1_9__X_1/9__X19__X_19__X1_9__X_19</td>\n      <td>7750</td>\n      <td>test</td>\n      <td>NaN</td>\n      <td>2018</td>\n      <td>manuell</td>\n      <td>76</td>\n      <td>andere</td>\n      <td>150000</td>\n      <td>6</td>\n      <td>benzin</td>\n      <td>fiat</td>\n      <td>nein</td>\n      <td>2016-03-25 00:00:00</td>\n      <td>78239</td>\n      <td>2016-03-28 12:16:50</td>\n    </tr>\n    <tr>\n      <th>438</th>\n      <td>2016-03-10 20:36:25</td>\n      <td>VW_Golf_5_V_1.6_2004_Klima_Tempomat</td>\n      <td>4150</td>\n      <td>test</td>\n      <td>NaN</td>\n      <td>2017</td>\n      <td>manuell</td>\n      <td>102</td>\n      <td>golf</td>\n      <td>150000</td>\n      <td>0</td>\n      <td>benzin</td>\n      <td>volkswagen</td>\n      <td>NaN</td>\n      <td>2016-03-10 00:00:00</td>\n      <td>49377</td>\n      <td>2016-03-13 03:16:51</td>\n    </tr>\n    <tr>\n      <th>453</th>\n      <td>2016-03-28 13:51:12</td>\n      <td>Armee_Jeep</td>\n      <td>9800</td>\n      <td>test</td>\n      <td>NaN</td>\n      <td>4500</td>\n      <td>manuell</td>\n      <td>0</td>\n      <td>andere</td>\n      <td>5000</td>\n      <td>0</td>\n      <td>NaN</td>\n      <td>jeep</td>\n      <td>NaN</td>\n      <td>2016-03-28 00:00:00</td>\n      <td>7545</td>\n      <td>2016-04-06 17:45:49</td>\n    </tr>\n    <tr>\n      <th>454</th>\n      <td>2016-03-25 09:57:03</td>\n      <td>Ford_Fiesta_Servo_D3_Kat_86_Steuern_65.000_tkm</td>\n      <td>750</td>\n      <td>test</td>\n      <td>NaN</td>\n      <td>2017</td>\n      <td>manuell</td>\n      <td>50</td>\n      <td>fiesta</td>\n      <td>70000</td>\n      <td>0</td>\n      <td>benzin</td>\n      <td>ford</td>\n      <td>NaN</td>\n      <td>2016-03-25 00:00:00</td>\n      <td>12207</td>\n      <td>2016-03-26 19:47:15</td>\n    </tr>\n    <tr>\n      <th>457</th>\n      <td>2016-03-15 17:48:39</td>\n      <td>Mercedes_Benz_W203_C200_Kombi_Kompressor_c_kla...</td>\n      <td>3000</td>\n      <td>control</td>\n      <td>NaN</td>\n      <td>2017</td>\n      <td>manuell</td>\n      <td>163</td>\n      <td>c_klasse</td>\n      <td>150000</td>\n      <td>8</td>\n      <td>NaN</td>\n      <td>mercedes_benz</td>\n      <td>NaN</td>\n      <td>2016-03-15 00:00:00</td>\n      <td>40627</td>\n      <td>2016-03-21 16:49:25</td>\n    </tr>\n    <tr>\n      <th>477</th>\n      <td>2016-03-31 08:53:34</td>\n      <td>Citroën_C4</td>\n      <td>3200</td>\n      <td>control</td>\n      <td>NaN</td>\n      <td>2017</td>\n      <td>manuell</td>\n      <td>88</td>\n      <td>NaN</td>\n      <td>125000</td>\n      <td>2</td>\n      <td>NaN</td>\n      <td>citroen</td>\n      <td>nein</td>\n      <td>2016-03-31 00:00:00</td>\n      <td>12459</td>\n      <td>2016-03-31 10:41:30</td>\n    </tr>\n    <tr>\n      <th>545</th>\n      <td>2016-03-22 18:50:53</td>\n      <td>Bmw_x5_/__E53</td>\n      <td>4300</td>\n      <td>test</td>\n      <td>NaN</td>\n      <td>2017</td>\n      <td>automatik</td>\n      <td>184</td>\n      <td>x_reihe</td>\n      <td>150000</td>\n      <td>7</td>\n      <td>NaN</td>\n      <td>bmw</td>\n      <td>ja</td>\n      <td>2016-03-22 00:00:00</td>\n      <td>56410</td>\n      <td>2016-03-23 17:27:19</td>\n    </tr>\n    <tr>\n      <th>548</th>\n      <td>2016-03-10 17:44:57</td>\n      <td>Peugeot_206_1.9_Hdi_4_Tueren_Tuev_02.17</td>\n      <td>1399</td>\n      <td>control</td>\n      <td>NaN</td>\n      <td>2017</td>\n      <td>manuell</td>\n      <td>90</td>\n      <td>2_reihe</td>\n      <td>150000</td>\n      <td>6</td>\n      <td>NaN</td>\n      <td>peugeot</td>\n      <td>nein</td>\n      <td>2016-03-10 00:00:00</td>\n      <td>48153</td>\n      <td>2016-03-11 05:44:18</td>\n    </tr>\n    <tr>\n      <th>557</th>\n      <td>2016-03-16 03:36:34</td>\n      <td>Smart_Fortwo_Passion_MHD</td>\n      <td>4900</td>\n      <td>test</td>\n      <td>NaN</td>\n      <td>2017</td>\n      <td>automatik</td>\n      <td>71</td>\n      <td>fortwo</td>\n      <td>30000</td>\n      <td>4</td>\n      <td>NaN</td>\n      <td>smart</td>\n      <td>nein</td>\n      <td>2016-03-16 00:00:00</td>\n      <td>25474</td>\n      <td>2016-03-29 15:47:46</td>\n    </tr>\n    <tr>\n      <th>568</th>\n      <td>2016-03-18 09:48:44</td>\n      <td>PRIMA_ANFÄNGERAUTO_smart_fortwo_cabrio</td>\n      <td>1950</td>\n      <td>control</td>\n      <td>NaN</td>\n      <td>2017</td>\n      <td>automatik</td>\n      <td>54</td>\n      <td>fortwo</td>\n      <td>125000</td>\n      <td>12</td>\n      <td>NaN</td>\n      <td>smart</td>\n      <td>nein</td>\n      <td>2016-03-18 00:00:00</td>\n      <td>25821</td>\n      <td>2016-04-01 23:47:20</td>\n    </tr>\n    <tr>\n      <th>577</th>\n      <td>2016-04-03 14:49:09</td>\n      <td>Volkswagen_Golf_3</td>\n      <td>650</td>\n      <td>test</td>\n      <td>NaN</td>\n      <td>2017</td>\n      <td>manuell</td>\n      <td>75</td>\n      <td>golf</td>\n      <td>150000</td>\n      <td>1</td>\n      <td>benzin</td>\n      <td>volkswagen</td>\n      <td>NaN</td>\n      <td>2016-04-03 00:00:00</td>\n      <td>91332</td>\n      <td>2016-04-05 13:47:38</td>\n    </tr>\n    <tr>\n      <th>582</th>\n      <td>2016-03-31 11:57:46</td>\n      <td>V10_TDI_TOUAREG</td>\n      <td>7300</td>\n      <td>control</td>\n      <td>NaN</td>\n      <td>2017</td>\n      <td>automatik</td>\n      <td>313</td>\n      <td>touareg</td>\n      <td>150000</td>\n      <td>7</td>\n      <td>NaN</td>\n      <td>volkswagen</td>\n      <td>nein</td>\n      <td>2016-03-31 00:00:00</td>\n      <td>53844</td>\n      <td>2016-04-02 07:17:28</td>\n    </tr>\n    <tr>\n      <th>654</th>\n      <td>2016-04-01 15:48:34</td>\n      <td>Ich_verkaufe_meinen_gepflegten_daewoo</td>\n      <td>2000</td>\n      <td>test</td>\n      <td>NaN</td>\n      <td>2017</td>\n      <td>manuell</td>\n      <td>0</td>\n      <td>kalos</td>\n      <td>100000</td>\n      <td>5</td>\n      <td>benzin</td>\n      <td>daewoo</td>\n      <td>NaN</td>\n      <td>2016-04-01 00:00:00</td>\n      <td>10555</td>\n      <td>2016-04-07 13:50:05</td>\n    </tr>\n    <tr>\n      <th>740</th>\n      <td>2016-04-02 19:49:46</td>\n      <td>Seat_Leon_zu_verkaufen!</td>\n      <td>2400</td>\n      <td>control</td>\n      <td>NaN</td>\n      <td>2017</td>\n      <td>manuell</td>\n      <td>104</td>\n      <td>leon</td>\n      <td>150000</td>\n      <td>2</td>\n      <td>benzin</td>\n      <td>seat</td>\n      <td>ja</td>\n      <td>2016-04-02 00:00:00</td>\n      <td>44267</td>\n      <td>2016-04-05 08:55:09</td>\n    </tr>\n    <tr>\n      <th>754</th>\n      <td>2016-03-26 13:47:56</td>\n      <td>Ford_Ka_Kleinwagen_BJ_2008</td>\n      <td>1850</td>\n      <td>control</td>\n      <td>NaN</td>\n      <td>2017</td>\n      <td>NaN</td>\n      <td>60</td>\n      <td>ka</td>\n      <td>125000</td>\n      <td>3</td>\n      <td>benzin</td>\n      <td>ford</td>\n      <td>NaN</td>\n      <td>2016-03-26 00:00:00</td>\n      <td>42119</td>\n      <td>2016-03-29 16:16:19</td>\n    </tr>\n    <tr>\n      <th>758</th>\n      <td>2016-03-12 18:42:33</td>\n      <td>Honda_Civic_mit_TÜV_!!!</td>\n      <td>1200</td>\n      <td>test</td>\n      <td>NaN</td>\n      <td>2017</td>\n      <td>NaN</td>\n      <td>90</td>\n      <td>civic</td>\n      <td>150000</td>\n      <td>12</td>\n      <td>benzin</td>\n      <td>honda</td>\n      <td>ja</td>\n      <td>2016-03-12 00:00:00</td>\n      <td>44532</td>\n      <td>2016-03-17 21:44:42</td>\n    </tr>\n    <tr>\n      <th>765</th>\n      <td>2016-03-26 11:52:53</td>\n      <td>BMW_3er_Limousine_mit_1_Jahr_TÜV!!!!</td>\n      <td>1350</td>\n      <td>control</td>\n      <td>NaN</td>\n      <td>2017</td>\n      <td>manuell</td>\n      <td>0</td>\n      <td>3er</td>\n      <td>150000</td>\n      <td>3</td>\n      <td>benzin</td>\n      <td>bmw</td>\n      <td>NaN</td>\n      <td>2016-03-26 00:00:00</td>\n      <td>22846</td>\n      <td>2016-04-06 00:15:26</td>\n    </tr>\n    <tr>\n      <th>802</th>\n      <td>2016-03-19 11:37:23</td>\n      <td>Lada_mit_wenig_km_neuem_Tuev_bj_08</td>\n      <td>2100</td>\n      <td>test</td>\n      <td>NaN</td>\n      <td>2018</td>\n      <td>manuell</td>\n      <td>0</td>\n      <td>kalina</td>\n      <td>150000</td>\n      <td>0</td>\n      <td>benzin</td>\n      <td>lada</td>\n      <td>NaN</td>\n      <td>2016-03-19 00:00:00</td>\n      <td>12621</td>\n      <td>2016-03-21 15:20:00</td>\n    </tr>\n    <tr>\n      <th>871</th>\n      <td>2016-04-04 19:38:38</td>\n      <td>Citroen_C2_60_PS</td>\n      <td>1450</td>\n      <td>test</td>\n      <td>NaN</td>\n      <td>2017</td>\n      <td>manuell</td>\n      <td>60</td>\n      <td>c2</td>\n      <td>150000</td>\n      <td>3</td>\n      <td>benzin</td>\n      <td>citroen</td>\n      <td>ja</td>\n      <td>2016-04-04 00:00:00</td>\n      <td>46117</td>\n      <td>2016-04-04 19:38:38</td>\n    </tr>\n    <tr>\n      <th>889</th>\n      <td>2016-03-12 16:52:19</td>\n      <td>Verkaufe_Opel_Corsa_C_1_2</td>\n      <td>870</td>\n      <td>control</td>\n      <td>NaN</td>\n      <td>2017</td>\n      <td>manuell</td>\n      <td>75</td>\n      <td>corsa</td>\n      <td>150000</td>\n      <td>10</td>\n      <td>benzin</td>\n      <td>opel</td>\n      <td>NaN</td>\n      <td>2016-03-12 00:00:00</td>\n      <td>94164</td>\n      <td>2016-03-12 16:52:19</td>\n    </tr>\n    <tr>\n      <th>...</th>\n      <td>...</td>\n      <td>...</td>\n      <td>...</td>\n      <td>...</td>\n      <td>...</td>\n      <td>...</td>\n      <td>...</td>\n      <td>...</td>\n      <td>...</td>\n      <td>...</td>\n      <td>...</td>\n      <td>...</td>\n      <td>...</td>\n      <td>...</td>\n      <td>...</td>\n      <td>...</td>\n      <td>...</td>\n    </tr>\n    <tr>\n      <th>49108</th>\n      <td>2016-03-14 22:37:20</td>\n      <td>TDI_20_L_DIESEL140_PS..AUTOMATICK</td>\n      <td>5500</td>\n      <td>control</td>\n      <td>NaN</td>\n      <td>2017</td>\n      <td>automatik</td>\n      <td>0</td>\n      <td>NaN</td>\n      <td>150000</td>\n      <td>1</td>\n      <td>NaN</td>\n      <td>volkswagen</td>\n      <td>nein</td>\n      <td>2016-03-14 00:00:00</td>\n      <td>90441</td>\n      <td>2016-03-15 19:47:17</td>\n    </tr>\n    <tr>\n      <th>49130</th>\n      <td>2016-03-09 18:46:05</td>\n      <td>Renault_Modus</td>\n      <td>2699</td>\n      <td>test</td>\n      <td>NaN</td>\n      <td>2017</td>\n      <td>manuell</td>\n      <td>75</td>\n      <td>modus</td>\n      <td>150000</td>\n      <td>6</td>\n      <td>benzin</td>\n      <td>renault</td>\n      <td>NaN</td>\n      <td>2016-03-09 00:00:00</td>\n      <td>47506</td>\n      <td>2016-03-14 11:46:09</td>\n    </tr>\n    <tr>\n      <th>49153</th>\n      <td>2016-03-12 01:36:59</td>\n      <td>Corsa_c20xe</td>\n      <td>2500</td>\n      <td>test</td>\n      <td>NaN</td>\n      <td>5000</td>\n      <td>NaN</td>\n      <td>0</td>\n      <td>corsa</td>\n      <td>5000</td>\n      <td>0</td>\n      <td>NaN</td>\n      <td>opel</td>\n      <td>NaN</td>\n      <td>2016-03-12 00:00:00</td>\n      <td>88214</td>\n      <td>2016-03-12 22:15:17</td>\n    </tr>\n    <tr>\n      <th>49154</th>\n      <td>2016-03-24 17:51:22</td>\n      <td>Auto_mit_TÜV_bis_September_2017</td>\n      <td>400</td>\n      <td>control</td>\n      <td>NaN</td>\n      <td>2017</td>\n      <td>manuell</td>\n      <td>60</td>\n      <td>ibiza</td>\n      <td>150000</td>\n      <td>7</td>\n      <td>NaN</td>\n      <td>seat</td>\n      <td>NaN</td>\n      <td>2016-03-24 00:00:00</td>\n      <td>50374</td>\n      <td>2016-04-07 11:16:16</td>\n    </tr>\n    <tr>\n      <th>49178</th>\n      <td>2016-03-24 19:58:43</td>\n      <td>Mazda_323_F_TÜV__neu_2te_Hand_viele_Neuteile</td>\n      <td>1500</td>\n      <td>control</td>\n      <td>NaN</td>\n      <td>2018</td>\n      <td>manuell</td>\n      <td>98</td>\n      <td>3_reihe</td>\n      <td>150000</td>\n      <td>6</td>\n      <td>NaN</td>\n      <td>mazda</td>\n      <td>nein</td>\n      <td>2016-03-24 00:00:00</td>\n      <td>41334</td>\n      <td>2016-03-27 16:47:05</td>\n    </tr>\n    <tr>\n      <th>49185</th>\n      <td>2016-03-28 11:45:31</td>\n      <td>Alfa_Romeo_156_Sportwagon_1_8_T_Spark</td>\n      <td>1200</td>\n      <td>control</td>\n      <td>NaN</td>\n      <td>2019</td>\n      <td>manuell</td>\n      <td>140</td>\n      <td>156</td>\n      <td>150000</td>\n      <td>5</td>\n      <td>benzin</td>\n      <td>alfa_romeo</td>\n      <td>nein</td>\n      <td>2016-03-28 00:00:00</td>\n      <td>91058</td>\n      <td>2016-04-06 13:45:56</td>\n    </tr>\n    <tr>\n      <th>49218</th>\n      <td>2016-04-01 19:48:06</td>\n      <td>Ford_Fiesta_1.3_4/5_Tuerer_16_Monate_Tuev</td>\n      <td>2750</td>\n      <td>control</td>\n      <td>NaN</td>\n      <td>2018</td>\n      <td>manuell</td>\n      <td>60</td>\n      <td>fiesta</td>\n      <td>125000</td>\n      <td>4</td>\n      <td>benzin</td>\n      <td>ford</td>\n      <td>nein</td>\n      <td>2016-04-01 00:00:00</td>\n      <td>58089</td>\n      <td>2016-04-05 16:45:21</td>\n    </tr>\n    <tr>\n      <th>49245</th>\n      <td>2016-03-26 08:32:30</td>\n      <td>Audi_A3_1.8T_tausch_moegl.</td>\n      <td>3300</td>\n      <td>control</td>\n      <td>NaN</td>\n      <td>2017</td>\n      <td>manuell</td>\n      <td>150</td>\n      <td>a3</td>\n      <td>150000</td>\n      <td>4</td>\n      <td>NaN</td>\n      <td>audi</td>\n      <td>nein</td>\n      <td>2016-03-26 00:00:00</td>\n      <td>35075</td>\n      <td>2016-04-05 21:44:36</td>\n    </tr>\n    <tr>\n      <th>49259</th>\n      <td>2016-03-19 18:45:05</td>\n      <td>Volkswagen_Lupo_TÜV_06.2017_Klima</td>\n      <td>999</td>\n      <td>test</td>\n      <td>NaN</td>\n      <td>2017</td>\n      <td>manuell</td>\n      <td>50</td>\n      <td>lupo</td>\n      <td>150000</td>\n      <td>0</td>\n      <td>benzin</td>\n      <td>volkswagen</td>\n      <td>NaN</td>\n      <td>2016-03-19 00:00:00</td>\n      <td>10713</td>\n      <td>2016-04-07 05:45:32</td>\n    </tr>\n    <tr>\n      <th>49261</th>\n      <td>2016-03-10 12:51:40</td>\n      <td>Toyota_aygo</td>\n      <td>2800</td>\n      <td>test</td>\n      <td>NaN</td>\n      <td>2017</td>\n      <td>manuell</td>\n      <td>0</td>\n      <td>aygo</td>\n      <td>90000</td>\n      <td>6</td>\n      <td>benzin</td>\n      <td>toyota</td>\n      <td>nein</td>\n      <td>2016-03-10 00:00:00</td>\n      <td>93055</td>\n      <td>2016-03-19 19:18:00</td>\n    </tr>\n    <tr>\n      <th>49262</th>\n      <td>2016-03-26 18:31:21</td>\n      <td>Opel_vectra</td>\n      <td>2000</td>\n      <td>test</td>\n      <td>NaN</td>\n      <td>2018</td>\n      <td>NaN</td>\n      <td>0</td>\n      <td>NaN</td>\n      <td>150000</td>\n      <td>0</td>\n      <td>NaN</td>\n      <td>opel</td>\n      <td>NaN</td>\n      <td>2016-03-26 00:00:00</td>\n      <td>65549</td>\n      <td>2016-04-06 18:19:01</td>\n    </tr>\n    <tr>\n      <th>49266</th>\n      <td>2016-03-10 00:54:09</td>\n      <td>Toyota_Corolla_Verso_7_Sitzer_104.000km_2_2_Di...</td>\n      <td>7699</td>\n      <td>control</td>\n      <td>NaN</td>\n      <td>2017</td>\n      <td>manuell</td>\n      <td>177</td>\n      <td>NaN</td>\n      <td>125000</td>\n      <td>12</td>\n      <td>diesel</td>\n      <td>toyota</td>\n      <td>nein</td>\n      <td>2016-03-09 00:00:00</td>\n      <td>27751</td>\n      <td>2016-04-05 19:18:39</td>\n    </tr>\n    <tr>\n      <th>49343</th>\n      <td>2016-03-12 11:56:55</td>\n      <td>bmw_320i_touring</td>\n      <td>4400</td>\n      <td>test</td>\n      <td>NaN</td>\n      <td>2017</td>\n      <td>manuell</td>\n      <td>0</td>\n      <td>3er</td>\n      <td>150000</td>\n      <td>0</td>\n      <td>diesel</td>\n      <td>bmw</td>\n      <td>NaN</td>\n      <td>2016-03-12 00:00:00</td>\n      <td>86695</td>\n      <td>2016-03-25 09:15:38</td>\n    </tr>\n    <tr>\n      <th>49347</th>\n      <td>2016-03-21 20:41:09</td>\n      <td>Honda_civic_mit_TÜV_3/2017</td>\n      <td>950</td>\n      <td>control</td>\n      <td>NaN</td>\n      <td>2017</td>\n      <td>manuell</td>\n      <td>90</td>\n      <td>civic</td>\n      <td>150000</td>\n      <td>0</td>\n      <td>NaN</td>\n      <td>honda</td>\n      <td>nein</td>\n      <td>2016-03-21 00:00:00</td>\n      <td>99439</td>\n      <td>2016-03-21 20:41:09</td>\n    </tr>\n    <tr>\n      <th>49354</th>\n      <td>2016-04-05 10:31:29</td>\n      <td>Bmw_e39_523i_mit_neuem_Tuev</td>\n      <td>2499</td>\n      <td>control</td>\n      <td>NaN</td>\n      <td>2018</td>\n      <td>manuell</td>\n      <td>174</td>\n      <td>5er</td>\n      <td>150000</td>\n      <td>8</td>\n      <td>NaN</td>\n      <td>bmw</td>\n      <td>nein</td>\n      <td>2016-04-05 00:00:00</td>\n      <td>65207</td>\n      <td>2016-04-05 12:27:15</td>\n    </tr>\n    <tr>\n      <th>49389</th>\n      <td>2016-03-10 07:54:10</td>\n      <td>Astra_G_CC</td>\n      <td>950</td>\n      <td>control</td>\n      <td>NaN</td>\n      <td>2017</td>\n      <td>NaN</td>\n      <td>0</td>\n      <td>astra</td>\n      <td>150000</td>\n      <td>0</td>\n      <td>benzin</td>\n      <td>opel</td>\n      <td>NaN</td>\n      <td>2016-03-10 00:00:00</td>\n      <td>33332</td>\n      <td>2016-03-25 07:17:25</td>\n    </tr>\n    <tr>\n      <th>49411</th>\n      <td>2016-03-28 12:58:19</td>\n      <td>Renault_twingo_Tuev_neu</td>\n      <td>1550</td>\n      <td>test</td>\n      <td>NaN</td>\n      <td>2018</td>\n      <td>NaN</td>\n      <td>0</td>\n      <td>twingo</td>\n      <td>100000</td>\n      <td>0</td>\n      <td>NaN</td>\n      <td>renault</td>\n      <td>NaN</td>\n      <td>2016-03-28 00:00:00</td>\n      <td>48739</td>\n      <td>2016-03-28 13:41:18</td>\n    </tr>\n    <tr>\n      <th>49522</th>\n      <td>2016-03-14 10:42:08</td>\n      <td>Mazda_Demio_zu_verkaufen!_RESERVIERT</td>\n      <td>350</td>\n      <td>control</td>\n      <td>NaN</td>\n      <td>2017</td>\n      <td>manuell</td>\n      <td>72</td>\n      <td>NaN</td>\n      <td>150000</td>\n      <td>12</td>\n      <td>NaN</td>\n      <td>mazda</td>\n      <td>nein</td>\n      <td>2016-03-14 00:00:00</td>\n      <td>32791</td>\n      <td>2016-03-24 17:45:40</td>\n    </tr>\n    <tr>\n      <th>49557</th>\n      <td>2016-03-19 18:42:28</td>\n      <td>E320_T_cdi_avangart</td>\n      <td>6250</td>\n      <td>test</td>\n      <td>NaN</td>\n      <td>2017</td>\n      <td>automatik</td>\n      <td>205</td>\n      <td>e_klasse</td>\n      <td>150000</td>\n      <td>3</td>\n      <td>diesel</td>\n      <td>mercedes_benz</td>\n      <td>nein</td>\n      <td>2016-03-19 00:00:00</td>\n      <td>13589</td>\n      <td>2016-04-07 05:17:42</td>\n    </tr>\n    <tr>\n      <th>49561</th>\n      <td>2016-03-27 11:25:23</td>\n      <td>Ford_Galaxy_1_8_TDCI_7_Sitze_Paoramadach_DPF_AHK</td>\n      <td>6500</td>\n      <td>test</td>\n      <td>NaN</td>\n      <td>2017</td>\n      <td>manuell</td>\n      <td>0</td>\n      <td>galaxy</td>\n      <td>150000</td>\n      <td>6</td>\n      <td>NaN</td>\n      <td>ford</td>\n      <td>NaN</td>\n      <td>2016-03-27 00:00:00</td>\n      <td>55128</td>\n      <td>2016-03-30 13:15:32</td>\n    </tr>\n    <tr>\n      <th>49653</th>\n      <td>2016-03-25 20:50:13</td>\n      <td>Top_zustand_privat</td>\n      <td>1050</td>\n      <td>control</td>\n      <td>NaN</td>\n      <td>2017</td>\n      <td>manuell</td>\n      <td>110</td>\n      <td>scenic</td>\n      <td>150000</td>\n      <td>8</td>\n      <td>benzin</td>\n      <td>renault</td>\n      <td>nein</td>\n      <td>2016-03-25 00:00:00</td>\n      <td>34127</td>\n      <td>2016-03-28 21:19:07</td>\n    </tr>\n    <tr>\n      <th>49662</th>\n      <td>2016-03-10 11:54:09</td>\n      <td>Daihatsu_Coure_122tkm_Tuev_1/17_2.Hand</td>\n      <td>333</td>\n      <td>test</td>\n      <td>NaN</td>\n      <td>2017</td>\n      <td>manuell</td>\n      <td>0</td>\n      <td>cuore</td>\n      <td>125000</td>\n      <td>0</td>\n      <td>benzin</td>\n      <td>daihatsu</td>\n      <td>NaN</td>\n      <td>2016-03-10 00:00:00</td>\n      <td>41751</td>\n      <td>2016-03-12 16:15:59</td>\n    </tr>\n    <tr>\n      <th>49689</th>\n      <td>2016-03-14 15:44:53</td>\n      <td>VW_GOLF_V_1.9</td>\n      <td>4700</td>\n      <td>control</td>\n      <td>NaN</td>\n      <td>2017</td>\n      <td>manuell</td>\n      <td>105</td>\n      <td>NaN</td>\n      <td>150000</td>\n      <td>0</td>\n      <td>diesel</td>\n      <td>volkswagen</td>\n      <td>NaN</td>\n      <td>2016-03-14 00:00:00</td>\n      <td>22459</td>\n      <td>2016-03-16 05:45:48</td>\n    </tr>\n    <tr>\n      <th>49696</th>\n      <td>2016-03-08 13:36:21</td>\n      <td>Audi_A3_1_6_Attraction_mit_TÜV_10/17</td>\n      <td>1250</td>\n      <td>control</td>\n      <td>NaN</td>\n      <td>2017</td>\n      <td>manuell</td>\n      <td>101</td>\n      <td>a3</td>\n      <td>150000</td>\n      <td>8</td>\n      <td>benzin</td>\n      <td>audi</td>\n      <td>nein</td>\n      <td>2016-03-08 00:00:00</td>\n      <td>26624</td>\n      <td>2016-03-08 21:17:30</td>\n    </tr>\n    <tr>\n      <th>49731</th>\n      <td>2016-03-28 13:40:31</td>\n      <td>Renault_MEGANE_1.6_16V__neu_ZANHRIEMEN_TOP_ZUS...</td>\n      <td>1700</td>\n      <td>test</td>\n      <td>NaN</td>\n      <td>2017</td>\n      <td>manuell</td>\n      <td>0</td>\n      <td>megane</td>\n      <td>150000</td>\n      <td>7</td>\n      <td>NaN</td>\n      <td>renault</td>\n      <td>nein</td>\n      <td>2016-03-28 00:00:00</td>\n      <td>34123</td>\n      <td>2016-03-31 21:44:52</td>\n    </tr>\n    <tr>\n      <th>49770</th>\n      <td>2016-03-15 12:54:26</td>\n      <td>VW_Polo_6n_Tuev_Neu!__1.6_75PS</td>\n      <td>999</td>\n      <td>control</td>\n      <td>NaN</td>\n      <td>2018</td>\n      <td>manuell</td>\n      <td>75</td>\n      <td>polo</td>\n      <td>150000</td>\n      <td>12</td>\n      <td>benzin</td>\n      <td>volkswagen</td>\n      <td>nein</td>\n      <td>2016-03-15 00:00:00</td>\n      <td>24321</td>\n      <td>2016-04-06 02:16:02</td>\n    </tr>\n    <tr>\n      <th>49796</th>\n      <td>2016-03-09 09:38:38</td>\n      <td>Opel_corsa_1.4_zu_verkaufen</td>\n      <td>4500</td>\n      <td>test</td>\n      <td>NaN</td>\n      <td>2017</td>\n      <td>manuell</td>\n      <td>90</td>\n      <td>corsa</td>\n      <td>70000</td>\n      <td>7</td>\n      <td>benzin</td>\n      <td>opel</td>\n      <td>nein</td>\n      <td>2016-03-09 00:00:00</td>\n      <td>88433</td>\n      <td>2016-03-17 20:45:08</td>\n    </tr>\n    <tr>\n      <th>49841</th>\n      <td>2016-03-11 15:37:02</td>\n      <td>Passat_abzugeben.</td>\n      <td>600</td>\n      <td>test</td>\n      <td>NaN</td>\n      <td>2017</td>\n      <td>manuell</td>\n      <td>101</td>\n      <td>passat</td>\n      <td>150000</td>\n      <td>7</td>\n      <td>NaN</td>\n      <td>volkswagen</td>\n      <td>NaN</td>\n      <td>2016-03-11 00:00:00</td>\n      <td>53804</td>\n      <td>2016-03-11 16:41:14</td>\n    </tr>\n    <tr>\n      <th>49910</th>\n      <td>2016-04-03 21:39:15</td>\n      <td>Schoener_fast_neuer_Opel_Mokka_in_Zell_Mosel_m...</td>\n      <td>22200</td>\n      <td>test</td>\n      <td>NaN</td>\n      <td>9000</td>\n      <td>automatik</td>\n      <td>140</td>\n      <td>andere</td>\n      <td>10000</td>\n      <td>3</td>\n      <td>benzin</td>\n      <td>opel</td>\n      <td>NaN</td>\n      <td>2016-04-03 00:00:00</td>\n      <td>56856</td>\n      <td>2016-04-05 22:18:26</td>\n    </tr>\n    <tr>\n      <th>49935</th>\n      <td>2016-04-01 21:48:20</td>\n      <td>Mercedes_A_klasse_angemeldet_mit_Tuef_und_Auto...</td>\n      <td>800</td>\n      <td>test</td>\n      <td>NaN</td>\n      <td>2017</td>\n      <td>automatik</td>\n      <td>101</td>\n      <td>a_klasse</td>\n      <td>150000</td>\n      <td>9</td>\n      <td>NaN</td>\n      <td>mercedes_benz</td>\n      <td>nein</td>\n      <td>2016-04-01 00:00:00</td>\n      <td>39108</td>\n      <td>2016-04-01 21:48:20</td>\n    </tr>\n  </tbody>\n</table>\n<p>1881 rows × 17 columns</p>\n</div>",
            "text/plain": "              date_crawled                                               name  \\\n10     2016-03-15 01:41:36                       VW_Golf_Tuning_in_siber/grau   \n55     2016-03-07 02:47:54                     Mercedes_E320_AMG_zu_Tauschen!   \n65     2016-04-04 19:30:39                      Ford_Fiesta_zum_ausschlachten   \n68     2016-04-03 17:36:59  Mini_cooper_s_clubman_/vollausstattung_/_Navi/...   \n84     2016-03-27 19:52:54                                     Renault_twingo   \n113    2016-04-03 14:58:29                              Golf_4_Anfaenger_auto   \n164    2016-03-13 20:39:16  Opel_Meriva__nur_76000_Km__unfallfrei__scheckh...   \n197    2016-04-05 10:36:24                              VW_Polo_9N_an_Bastler   \n253    2016-03-27 13:25:18             Ford_mondeo_Gas_anlage_mit_TÜV_04.2017   \n348    2016-03-17 20:58:24  VW_Beetle_1.8Turbo_mit_Vollausstattung_und_seh...   \n390    2016-03-25 12:59:06   Fiat_Bertone_X_1_9__X_1/9__X19__X_19__X1_9__X_19   \n438    2016-03-10 20:36:25                VW_Golf_5_V_1.6_2004_Klima_Tempomat   \n453    2016-03-28 13:51:12                                         Armee_Jeep   \n454    2016-03-25 09:57:03    Ford_Fiesta_Servo_D3_Kat_86_Steuern_65.000_tkm   \n457    2016-03-15 17:48:39  Mercedes_Benz_W203_C200_Kombi_Kompressor_c_kla...   \n477    2016-03-31 08:53:34                                         Citroën_C4   \n545    2016-03-22 18:50:53                                      Bmw_x5_/__E53   \n548    2016-03-10 17:44:57            Peugeot_206_1.9_Hdi_4_Tueren_Tuev_02.17   \n557    2016-03-16 03:36:34                           Smart_Fortwo_Passion_MHD   \n568    2016-03-18 09:48:44             PRIMA_ANFÄNGERAUTO_smart_fortwo_cabrio   \n577    2016-04-03 14:49:09                                  Volkswagen_Golf_3   \n582    2016-03-31 11:57:46                                    V10_TDI_TOUAREG   \n654    2016-04-01 15:48:34              Ich_verkaufe_meinen_gepflegten_daewoo   \n740    2016-04-02 19:49:46                            Seat_Leon_zu_verkaufen!   \n754    2016-03-26 13:47:56                         Ford_Ka_Kleinwagen_BJ_2008   \n758    2016-03-12 18:42:33                            Honda_Civic_mit_TÜV_!!!   \n765    2016-03-26 11:52:53               BMW_3er_Limousine_mit_1_Jahr_TÜV!!!!   \n802    2016-03-19 11:37:23                 Lada_mit_wenig_km_neuem_Tuev_bj_08   \n871    2016-04-04 19:38:38                                   Citroen_C2_60_PS   \n889    2016-03-12 16:52:19                          Verkaufe_Opel_Corsa_C_1_2   \n...                    ...                                                ...   \n49108  2016-03-14 22:37:20                  TDI_20_L_DIESEL140_PS..AUTOMATICK   \n49130  2016-03-09 18:46:05                                      Renault_Modus   \n49153  2016-03-12 01:36:59                                        Corsa_c20xe   \n49154  2016-03-24 17:51:22                    Auto_mit_TÜV_bis_September_2017   \n49178  2016-03-24 19:58:43       Mazda_323_F_TÜV__neu_2te_Hand_viele_Neuteile   \n49185  2016-03-28 11:45:31              Alfa_Romeo_156_Sportwagon_1_8_T_Spark   \n49218  2016-04-01 19:48:06          Ford_Fiesta_1.3_4/5_Tuerer_16_Monate_Tuev   \n49245  2016-03-26 08:32:30                         Audi_A3_1.8T_tausch_moegl.   \n49259  2016-03-19 18:45:05                  Volkswagen_Lupo_TÜV_06.2017_Klima   \n49261  2016-03-10 12:51:40                                        Toyota_aygo   \n49262  2016-03-26 18:31:21                                        Opel_vectra   \n49266  2016-03-10 00:54:09  Toyota_Corolla_Verso_7_Sitzer_104.000km_2_2_Di...   \n49343  2016-03-12 11:56:55                                   bmw_320i_touring   \n49347  2016-03-21 20:41:09                         Honda_civic_mit_TÜV_3/2017   \n49354  2016-04-05 10:31:29                        Bmw_e39_523i_mit_neuem_Tuev   \n49389  2016-03-10 07:54:10                                         Astra_G_CC   \n49411  2016-03-28 12:58:19                            Renault_twingo_Tuev_neu   \n49522  2016-03-14 10:42:08               Mazda_Demio_zu_verkaufen!_RESERVIERT   \n49557  2016-03-19 18:42:28                                E320_T_cdi_avangart   \n49561  2016-03-27 11:25:23   Ford_Galaxy_1_8_TDCI_7_Sitze_Paoramadach_DPF_AHK   \n49653  2016-03-25 20:50:13                                 Top_zustand_privat   \n49662  2016-03-10 11:54:09             Daihatsu_Coure_122tkm_Tuev_1/17_2.Hand   \n49689  2016-03-14 15:44:53                                      VW_GOLF_V_1.9   \n49696  2016-03-08 13:36:21               Audi_A3_1_6_Attraction_mit_TÜV_10/17   \n49731  2016-03-28 13:40:31  Renault_MEGANE_1.6_16V__neu_ZANHRIEMEN_TOP_ZUS...   \n49770  2016-03-15 12:54:26                     VW_Polo_6n_Tuev_Neu!__1.6_75PS   \n49796  2016-03-09 09:38:38                        Opel_corsa_1.4_zu_verkaufen   \n49841  2016-03-11 15:37:02                                  Passat_abzugeben.   \n49910  2016-04-03 21:39:15  Schoener_fast_neuer_Opel_Mokka_in_Zell_Mosel_m...   \n49935  2016-04-01 21:48:20  Mercedes_A_klasse_angemeldet_mit_Tuef_und_Auto...   \n\n       price   abtest vehicle_type  registration_year    gearbox  power_ps  \\\n10       999     test          NaN               2017    manuell        90   \n55         1     test          NaN               2017  automatik       224   \n65       250  control          NaN               2017    manuell        65   \n68     10990     test          NaN               2017    manuell       174   \n84       900  control          NaN               2018        NaN        60   \n113     1200     test          NaN               2017    manuell        75   \n164     4800  control          NaN               2018    manuell         0   \n197      888  control          NaN               2017    manuell        64   \n253     2250     test          NaN               2017    manuell         0   \n348     3750  control          NaN               2017    manuell       150   \n390     7750     test          NaN               2018    manuell        76   \n438     4150     test          NaN               2017    manuell       102   \n453     9800     test          NaN               4500    manuell         0   \n454      750     test          NaN               2017    manuell        50   \n457     3000  control          NaN               2017    manuell       163   \n477     3200  control          NaN               2017    manuell        88   \n545     4300     test          NaN               2017  automatik       184   \n548     1399  control          NaN               2017    manuell        90   \n557     4900     test          NaN               2017  automatik        71   \n568     1950  control          NaN               2017  automatik        54   \n577      650     test          NaN               2017    manuell        75   \n582     7300  control          NaN               2017  automatik       313   \n654     2000     test          NaN               2017    manuell         0   \n740     2400  control          NaN               2017    manuell       104   \n754     1850  control          NaN               2017        NaN        60   \n758     1200     test          NaN               2017        NaN        90   \n765     1350  control          NaN               2017    manuell         0   \n802     2100     test          NaN               2018    manuell         0   \n871     1450     test          NaN               2017    manuell        60   \n889      870  control          NaN               2017    manuell        75   \n...      ...      ...          ...                ...        ...       ...   \n49108   5500  control          NaN               2017  automatik         0   \n49130   2699     test          NaN               2017    manuell        75   \n49153   2500     test          NaN               5000        NaN         0   \n49154    400  control          NaN               2017    manuell        60   \n49178   1500  control          NaN               2018    manuell        98   \n49185   1200  control          NaN               2019    manuell       140   \n49218   2750  control          NaN               2018    manuell        60   \n49245   3300  control          NaN               2017    manuell       150   \n49259    999     test          NaN               2017    manuell        50   \n49261   2800     test          NaN               2017    manuell         0   \n49262   2000     test          NaN               2018        NaN         0   \n49266   7699  control          NaN               2017    manuell       177   \n49343   4400     test          NaN               2017    manuell         0   \n49347    950  control          NaN               2017    manuell        90   \n49354   2499  control          NaN               2018    manuell       174   \n49389    950  control          NaN               2017        NaN         0   \n49411   1550     test          NaN               2018        NaN         0   \n49522    350  control          NaN               2017    manuell        72   \n49557   6250     test          NaN               2017  automatik       205   \n49561   6500     test          NaN               2017    manuell         0   \n49653   1050  control          NaN               2017    manuell       110   \n49662    333     test          NaN               2017    manuell         0   \n49689   4700  control          NaN               2017    manuell       105   \n49696   1250  control          NaN               2017    manuell       101   \n49731   1700     test          NaN               2017    manuell         0   \n49770    999  control          NaN               2018    manuell        75   \n49796   4500     test          NaN               2017    manuell        90   \n49841    600     test          NaN               2017    manuell       101   \n49910  22200     test          NaN               9000  automatik       140   \n49935    800     test          NaN               2017  automatik       101   \n\n          model  odometer_km  registration_month fuel_type          brand  \\\n10          NaN       150000                   4    benzin     volkswagen   \n55     e_klasse       125000                   7    benzin  mercedes_benz   \n65       fiesta       125000                   9    benzin           ford   \n68      clubman       100000                   0       NaN           mini   \n84       twingo       150000                   0       NaN        renault   \n113        golf       150000                   7       NaN     volkswagen   \n164      meriva        80000                   4    benzin           opel   \n197        polo        20000                   7       NaN     volkswagen   \n253      mondeo       150000                   8    benzin           ford   \n348      beetle       150000                   7       NaN     volkswagen   \n390      andere       150000                   6    benzin           fiat   \n438        golf       150000                   0    benzin     volkswagen   \n453      andere         5000                   0       NaN           jeep   \n454      fiesta        70000                   0    benzin           ford   \n457    c_klasse       150000                   8       NaN  mercedes_benz   \n477         NaN       125000                   2       NaN        citroen   \n545     x_reihe       150000                   7       NaN            bmw   \n548     2_reihe       150000                   6       NaN        peugeot   \n557      fortwo        30000                   4       NaN          smart   \n568      fortwo       125000                  12       NaN          smart   \n577        golf       150000                   1    benzin     volkswagen   \n582     touareg       150000                   7       NaN     volkswagen   \n654       kalos       100000                   5    benzin         daewoo   \n740        leon       150000                   2    benzin           seat   \n754          ka       125000                   3    benzin           ford   \n758       civic       150000                  12    benzin          honda   \n765         3er       150000                   3    benzin            bmw   \n802      kalina       150000                   0    benzin           lada   \n871          c2       150000                   3    benzin        citroen   \n889       corsa       150000                  10    benzin           opel   \n...         ...          ...                 ...       ...            ...   \n49108       NaN       150000                   1       NaN     volkswagen   \n49130     modus       150000                   6    benzin        renault   \n49153     corsa         5000                   0       NaN           opel   \n49154     ibiza       150000                   7       NaN           seat   \n49178   3_reihe       150000                   6       NaN          mazda   \n49185       156       150000                   5    benzin     alfa_romeo   \n49218    fiesta       125000                   4    benzin           ford   \n49245        a3       150000                   4       NaN           audi   \n49259      lupo       150000                   0    benzin     volkswagen   \n49261      aygo        90000                   6    benzin         toyota   \n49262       NaN       150000                   0       NaN           opel   \n49266       NaN       125000                  12    diesel         toyota   \n49343       3er       150000                   0    diesel            bmw   \n49347     civic       150000                   0       NaN          honda   \n49354       5er       150000                   8       NaN            bmw   \n49389     astra       150000                   0    benzin           opel   \n49411    twingo       100000                   0       NaN        renault   \n49522       NaN       150000                  12       NaN          mazda   \n49557  e_klasse       150000                   3    diesel  mercedes_benz   \n49561    galaxy       150000                   6       NaN           ford   \n49653    scenic       150000                   8    benzin        renault   \n49662     cuore       125000                   0    benzin       daihatsu   \n49689       NaN       150000                   0    diesel     volkswagen   \n49696        a3       150000                   8    benzin           audi   \n49731    megane       150000                   7       NaN        renault   \n49770      polo       150000                  12    benzin     volkswagen   \n49796     corsa        70000                   7    benzin           opel   \n49841    passat       150000                   7       NaN     volkswagen   \n49910    andere        10000                   3    benzin           opel   \n49935  a_klasse       150000                   9       NaN  mercedes_benz   \n\n      unrepaired_damage           ad_created  postal_code            last_seen  \n10                 nein  2016-03-14 00:00:00        86157  2016-04-07 03:16:21  \n55                 nein  2016-03-06 00:00:00        22111  2016-03-08 05:45:44  \n65                  NaN  2016-04-04 00:00:00        65606  2016-04-05 12:22:12  \n68                 nein  2016-04-03 00:00:00        83135  2016-04-05 17:26:26  \n84                  NaN  2016-03-27 00:00:00        40589  2016-04-05 18:46:49  \n113                 NaN  2016-04-03 00:00:00        97656  2016-04-05 14:15:48  \n164                nein  2016-03-13 00:00:00        37627  2016-04-04 16:48:02  \n197                  ja  2016-04-05 00:00:00        58566  2016-04-07 13:16:13  \n253                nein  2016-03-27 00:00:00        56575  2016-04-05 15:18:34  \n348                nein  2016-03-17 00:00:00        45896  2016-03-24 17:17:50  \n390                nein  2016-03-25 00:00:00        78239  2016-03-28 12:16:50  \n438                 NaN  2016-03-10 00:00:00        49377  2016-03-13 03:16:51  \n453                 NaN  2016-03-28 00:00:00         7545  2016-04-06 17:45:49  \n454                 NaN  2016-03-25 00:00:00        12207  2016-03-26 19:47:15  \n457                 NaN  2016-03-15 00:00:00        40627  2016-03-21 16:49:25  \n477                nein  2016-03-31 00:00:00        12459  2016-03-31 10:41:30  \n545                  ja  2016-03-22 00:00:00        56410  2016-03-23 17:27:19  \n548                nein  2016-03-10 00:00:00        48153  2016-03-11 05:44:18  \n557                nein  2016-03-16 00:00:00        25474  2016-03-29 15:47:46  \n568                nein  2016-03-18 00:00:00        25821  2016-04-01 23:47:20  \n577                 NaN  2016-04-03 00:00:00        91332  2016-04-05 13:47:38  \n582                nein  2016-03-31 00:00:00        53844  2016-04-02 07:17:28  \n654                 NaN  2016-04-01 00:00:00        10555  2016-04-07 13:50:05  \n740                  ja  2016-04-02 00:00:00        44267  2016-04-05 08:55:09  \n754                 NaN  2016-03-26 00:00:00        42119  2016-03-29 16:16:19  \n758                  ja  2016-03-12 00:00:00        44532  2016-03-17 21:44:42  \n765                 NaN  2016-03-26 00:00:00        22846  2016-04-06 00:15:26  \n802                 NaN  2016-03-19 00:00:00        12621  2016-03-21 15:20:00  \n871                  ja  2016-04-04 00:00:00        46117  2016-04-04 19:38:38  \n889                 NaN  2016-03-12 00:00:00        94164  2016-03-12 16:52:19  \n...                 ...                  ...          ...                  ...  \n49108              nein  2016-03-14 00:00:00        90441  2016-03-15 19:47:17  \n49130               NaN  2016-03-09 00:00:00        47506  2016-03-14 11:46:09  \n49153               NaN  2016-03-12 00:00:00        88214  2016-03-12 22:15:17  \n49154               NaN  2016-03-24 00:00:00        50374  2016-04-07 11:16:16  \n49178              nein  2016-03-24 00:00:00        41334  2016-03-27 16:47:05  \n49185              nein  2016-03-28 00:00:00        91058  2016-04-06 13:45:56  \n49218              nein  2016-04-01 00:00:00        58089  2016-04-05 16:45:21  \n49245              nein  2016-03-26 00:00:00        35075  2016-04-05 21:44:36  \n49259               NaN  2016-03-19 00:00:00        10713  2016-04-07 05:45:32  \n49261              nein  2016-03-10 00:00:00        93055  2016-03-19 19:18:00  \n49262               NaN  2016-03-26 00:00:00        65549  2016-04-06 18:19:01  \n49266              nein  2016-03-09 00:00:00        27751  2016-04-05 19:18:39  \n49343               NaN  2016-03-12 00:00:00        86695  2016-03-25 09:15:38  \n49347              nein  2016-03-21 00:00:00        99439  2016-03-21 20:41:09  \n49354              nein  2016-04-05 00:00:00        65207  2016-04-05 12:27:15  \n49389               NaN  2016-03-10 00:00:00        33332  2016-03-25 07:17:25  \n49411               NaN  2016-03-28 00:00:00        48739  2016-03-28 13:41:18  \n49522              nein  2016-03-14 00:00:00        32791  2016-03-24 17:45:40  \n49557              nein  2016-03-19 00:00:00        13589  2016-04-07 05:17:42  \n49561               NaN  2016-03-27 00:00:00        55128  2016-03-30 13:15:32  \n49653              nein  2016-03-25 00:00:00        34127  2016-03-28 21:19:07  \n49662               NaN  2016-03-10 00:00:00        41751  2016-03-12 16:15:59  \n49689               NaN  2016-03-14 00:00:00        22459  2016-03-16 05:45:48  \n49696              nein  2016-03-08 00:00:00        26624  2016-03-08 21:17:30  \n49731              nein  2016-03-28 00:00:00        34123  2016-03-31 21:44:52  \n49770              nein  2016-03-15 00:00:00        24321  2016-04-06 02:16:02  \n49796              nein  2016-03-09 00:00:00        88433  2016-03-17 20:45:08  \n49841               NaN  2016-03-11 00:00:00        53804  2016-03-11 16:41:14  \n49910               NaN  2016-04-03 00:00:00        56856  2016-04-05 22:18:26  \n49935              nein  2016-04-01 00:00:00        39108  2016-04-01 21:48:20  \n\n[1881 rows x 17 columns]"
          },
          "metadata": {}
        }
      ]
    },
    {
      "metadata": {
        "trusted": true
      },
      "cell_type": "code",
      "source": "(~autos[\"registration_year\"].between(1900,2016)).sum() / autos.shape[0]",
      "execution_count": 38,
      "outputs": [
        {
          "output_type": "execute_result",
          "execution_count": 38,
          "data": {
            "text/plain": "0.038824159084359176"
          },
          "metadata": {}
        }
      ]
    },
    {
      "metadata": {},
      "cell_type": "markdown",
      "source": "Given that this is less than 4% of our data, we will remove these rows."
    },
    {
      "metadata": {
        "trusted": true
      },
      "cell_type": "code",
      "source": "autos = autos[autos[\"registration_year\"].between(1900,2016)]",
      "execution_count": 39,
      "outputs": []
    },
    {
      "metadata": {
        "trusted": true
      },
      "cell_type": "code",
      "source": "autos[\"registration_year\"].value_counts(normalize=True).head(10)",
      "execution_count": 40,
      "outputs": [
        {
          "output_type": "execute_result",
          "execution_count": 40,
          "data": {
            "text/plain": "2000    0.067592\n2005    0.062880\n1999    0.062066\n2004    0.057890\n2003    0.057804\n2006    0.057205\n2001    0.056476\n2002    0.053243\n1998    0.050608\n2007    0.048766\nName: registration_year, dtype: float64"
          },
          "metadata": {}
        }
      ]
    },
    {
      "metadata": {},
      "cell_type": "markdown",
      "source": "It appears that most of the vehicles were first registered in the past 20 years."
    },
    {
      "metadata": {},
      "cell_type": "markdown",
      "source": "# Exploring the Price of SUVs\n\nFirst we filter all of the autos by SUVs so we can get the brand names of SUVs. Then we can calculate the average price for each band of SUV."
    },
    {
      "metadata": {
        "trusted": true
      },
      "cell_type": "code",
      "source": "suvs = autos[autos[\"vehicle_type\"] == 'suv']",
      "execution_count": 41,
      "outputs": []
    },
    {
      "metadata": {
        "trusted": true
      },
      "cell_type": "code",
      "source": "brands = suvs[\"brand\"].unique()",
      "execution_count": 42,
      "outputs": []
    },
    {
      "metadata": {
        "trusted": true
      },
      "cell_type": "code",
      "source": "brand_data = {}",
      "execution_count": 43,
      "outputs": []
    },
    {
      "metadata": {
        "trusted": true
      },
      "cell_type": "code",
      "source": "for b in brands:\n    print(b)\n    selected_rows = autos[autos[\"brand\"]==b]\n    avg_price = selected_rows[\"price\"].mean()\n    brand_data[b] = avg_price",
      "execution_count": 44,
      "outputs": [
        {
          "output_type": "stream",
          "text": "mazda\njeep\nmercedes_benz\nsonstige_autos\nvolkswagen\ntoyota\nchevrolet\nbmw\nkia\nsuzuki\nhyundai\nnissan\nford\ndacia\nland_rover\nlada\nskoda\nporsche\nrenault\naudi\nhonda\ncitroen\ndaihatsu\nmitsubishi\nopel\nmini\nvolvo\npeugeot\nfiat\nsubaru\nrover\nsaab\nchrysler\n",
          "name": "stdout"
        }
      ]
    },
    {
      "metadata": {
        "trusted": true
      },
      "cell_type": "code",
      "source": "brand_data",
      "execution_count": 45,
      "outputs": [
        {
          "output_type": "execute_result",
          "execution_count": 45,
          "data": {
            "text/plain": "{'audi': 9336.687453600594,\n 'bmw': 8571.480147917478,\n 'chevrolet': 6684.139097744361,\n 'chrysler': 3465.743902439024,\n 'citroen': 45486.68549618321,\n 'dacia': 5915.528455284553,\n 'daihatsu': 1636.1965811965813,\n 'fiat': 2813.748538011696,\n 'ford': 7456.547932618683,\n 'honda': 4107.857923497268,\n 'hyundai': 5365.254273504273,\n 'jeep': 11650.5,\n 'kia': 5982.330303030303,\n 'lada': 2688.296296296296,\n 'land_rover': 19108.091836734693,\n 'mazda': 4112.596614950635,\n 'mercedes_benz': 8628.450366422385,\n 'mini': 10613.459657701711,\n 'mitsubishi': 3394.5729166666665,\n 'nissan': 4743.40252454418,\n 'opel': 5432.479195699781,\n 'peugeot': 3094.0172290021537,\n 'porsche': 45643.93706293706,\n 'renault': 2474.8646069968195,\n 'rover': 1602.2903225806451,\n 'saab': 3211.6493506493507,\n 'skoda': 6368.0,\n 'sonstige_autos': 45208.36442516269,\n 'subaru': 3953.29,\n 'suzuki': 4096.732851985559,\n 'toyota': 5167.091062394604,\n 'volkswagen': 6729.81956411556,\n 'volvo': 4946.501170960188}"
          },
          "metadata": {}
        }
      ]
    },
    {
      "metadata": {
        "trusted": true
      },
      "cell_type": "code",
      "source": "",
      "execution_count": null,
      "outputs": []
    }
  ],
  "metadata": {
    "kernelspec": {
      "name": "python3",
      "display_name": "Python 3",
      "language": "python"
    },
    "language_info": {
      "mimetype": "text/x-python",
      "nbconvert_exporter": "python",
      "name": "python",
      "file_extension": ".py",
      "version": "3.5.4",
      "pygments_lexer": "ipython3",
      "codemirror_mode": {
        "version": 3,
        "name": "ipython"
      }
    }
  },
  "nbformat": 4,
  "nbformat_minor": 2
}