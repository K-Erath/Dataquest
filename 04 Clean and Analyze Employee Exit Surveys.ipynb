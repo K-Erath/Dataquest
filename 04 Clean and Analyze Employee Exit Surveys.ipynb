{
  "cells": [
    {
      "metadata": {
        "collapsed": true
      },
      "cell_type": "markdown",
      "source": "# Clean and Analyze Employee Exit Surveys\nAnalyze data from employee exit surveys from the Department of Education, Training and Employment (DETE) and Technical and Further Education (TAFE). Determine if employees who only worked for the institutes for short periods of time are resigning due to some kind of dissatisfation. Compare that result to emplyees that worked longer periods of time. Determine if younger employees are resigning due to some kind of disatisfation. Compare that result to the result for older employees."
    },
    {
      "metadata": {
        "trusted": true
      },
      "cell_type": "code",
      "source": "import pandas as pd\nimport numpy as np\n%matplotlib inline",
      "execution_count": 1,
      "outputs": []
    },
    {
      "metadata": {
        "trusted": true
      },
      "cell_type": "code",
      "source": "dete_survey = pd.read_csv(\"dete_survey.csv\", na_values=\"Not Stated\")",
      "execution_count": 2,
      "outputs": []
    },
    {
      "metadata": {
        "trusted": true
      },
      "cell_type": "code",
      "source": "tafe_survey = pd.read_csv(\"tafe_survey.csv\")",
      "execution_count": 3,
      "outputs": []
    },
    {
      "metadata": {
        "trusted": true
      },
      "cell_type": "code",
      "source": "dete_survey.info()",
      "execution_count": 4,
      "outputs": [
        {
          "output_type": "stream",
          "text": "<class 'pandas.core.frame.DataFrame'>\nRangeIndex: 822 entries, 0 to 821\nData columns (total 56 columns):\nID                                     822 non-null int64\nSeparationType                         822 non-null object\nCease Date                             788 non-null object\nDETE Start Date                        749 non-null float64\nRole Start Date                        724 non-null float64\nPosition                               817 non-null object\nClassification                         455 non-null object\nRegion                                 717 non-null object\nBusiness Unit                          126 non-null object\nEmployment Status                      817 non-null object\nCareer move to public sector           822 non-null bool\nCareer move to private sector          822 non-null bool\nInterpersonal conflicts                822 non-null bool\nJob dissatisfaction                    822 non-null bool\nDissatisfaction with the department    822 non-null bool\nPhysical work environment              822 non-null bool\nLack of recognition                    822 non-null bool\nLack of job security                   822 non-null bool\nWork location                          822 non-null bool\nEmployment conditions                  822 non-null bool\nMaternity/family                       822 non-null bool\nRelocation                             822 non-null bool\nStudy/Travel                           822 non-null bool\nIll Health                             822 non-null bool\nTraumatic incident                     822 non-null bool\nWork life balance                      822 non-null bool\nWorkload                               822 non-null bool\nNone of the above                      822 non-null bool\nProfessional Development               808 non-null object\nOpportunities for promotion            735 non-null object\nStaff morale                           816 non-null object\nWorkplace issue                        788 non-null object\nPhysical environment                   817 non-null object\nWorklife balance                       815 non-null object\nStress and pressure support            810 non-null object\nPerformance of supervisor              813 non-null object\nPeer support                           812 non-null object\nInitiative                             813 non-null object\nSkills                                 811 non-null object\nCoach                                  767 non-null object\nCareer Aspirations                     746 non-null object\nFeedback                               792 non-null object\nFurther PD                             768 non-null object\nCommunication                          814 non-null object\nMy say                                 812 non-null object\nInformation                            816 non-null object\nKept informed                          813 non-null object\nWellness programs                      766 non-null object\nHealth & Safety                        793 non-null object\nGender                                 798 non-null object\nAge                                    811 non-null object\nAboriginal                             16 non-null object\nTorres Strait                          3 non-null object\nSouth Sea                              7 non-null object\nDisability                             23 non-null object\nNESB                                   32 non-null object\ndtypes: bool(18), float64(2), int64(1), object(35)\nmemory usage: 258.6+ KB\n",
          "name": "stdout"
        }
      ]
    },
    {
      "metadata": {
        "trusted": true
      },
      "cell_type": "code",
      "source": "dete_survey.head()",
      "execution_count": 5,
      "outputs": [
        {
          "output_type": "execute_result",
          "execution_count": 5,
          "data": {
            "text/plain": "   ID                    SeparationType Cease Date  DETE Start Date  \\\n0   1             Ill Health Retirement    08/2012           1984.0   \n1   2  Voluntary Early Retirement (VER)    08/2012              NaN   \n2   3  Voluntary Early Retirement (VER)    05/2012           2011.0   \n3   4         Resignation-Other reasons    05/2012           2005.0   \n4   5                    Age Retirement    05/2012           1970.0   \n\n   Role Start Date                                      Position  \\\n0           2004.0                                Public Servant   \n1              NaN                                Public Servant   \n2           2011.0                               Schools Officer   \n3           2006.0                                       Teacher   \n4           1989.0  Head of Curriculum/Head of Special Education   \n\n  Classification              Region                      Business Unit  \\\n0        A01-A04      Central Office  Corporate Strategy and Peformance   \n1        AO5-AO7      Central Office  Corporate Strategy and Peformance   \n2            NaN      Central Office               Education Queensland   \n3        Primary  Central Queensland                                NaN   \n4            NaN          South East                                NaN   \n\n     Employment Status  ...   Kept informed  Wellness programs  \\\n0  Permanent Full-time  ...               N                  N   \n1  Permanent Full-time  ...               N                  N   \n2  Permanent Full-time  ...               N                  N   \n3  Permanent Full-time  ...               A                  N   \n4  Permanent Full-time  ...               N                  A   \n\n   Health & Safety  Gender          Age  Aboriginal  Torres Strait  South Sea  \\\n0                N    Male        56-60         NaN            NaN        NaN   \n1                N    Male        56-60         NaN            NaN        NaN   \n2                N    Male  61 or older         NaN            NaN        NaN   \n3                A  Female        36-40         NaN            NaN        NaN   \n4                M  Female  61 or older         NaN            NaN        NaN   \n\n   Disability  NESB  \n0         NaN   Yes  \n1         NaN   NaN  \n2         NaN   NaN  \n3         NaN   NaN  \n4         NaN   NaN  \n\n[5 rows x 56 columns]",
            "text/html": "<div>\n<style scoped>\n    .dataframe tbody tr th:only-of-type {\n        vertical-align: middle;\n    }\n\n    .dataframe tbody tr th {\n        vertical-align: top;\n    }\n\n    .dataframe thead th {\n        text-align: right;\n    }\n</style>\n<table border=\"1\" class=\"dataframe\">\n  <thead>\n    <tr style=\"text-align: right;\">\n      <th></th>\n      <th>ID</th>\n      <th>SeparationType</th>\n      <th>Cease Date</th>\n      <th>DETE Start Date</th>\n      <th>Role Start Date</th>\n      <th>Position</th>\n      <th>Classification</th>\n      <th>Region</th>\n      <th>Business Unit</th>\n      <th>Employment Status</th>\n      <th>...</th>\n      <th>Kept informed</th>\n      <th>Wellness programs</th>\n      <th>Health &amp; Safety</th>\n      <th>Gender</th>\n      <th>Age</th>\n      <th>Aboriginal</th>\n      <th>Torres Strait</th>\n      <th>South Sea</th>\n      <th>Disability</th>\n      <th>NESB</th>\n    </tr>\n  </thead>\n  <tbody>\n    <tr>\n      <th>0</th>\n      <td>1</td>\n      <td>Ill Health Retirement</td>\n      <td>08/2012</td>\n      <td>1984.0</td>\n      <td>2004.0</td>\n      <td>Public Servant</td>\n      <td>A01-A04</td>\n      <td>Central Office</td>\n      <td>Corporate Strategy and Peformance</td>\n      <td>Permanent Full-time</td>\n      <td>...</td>\n      <td>N</td>\n      <td>N</td>\n      <td>N</td>\n      <td>Male</td>\n      <td>56-60</td>\n      <td>NaN</td>\n      <td>NaN</td>\n      <td>NaN</td>\n      <td>NaN</td>\n      <td>Yes</td>\n    </tr>\n    <tr>\n      <th>1</th>\n      <td>2</td>\n      <td>Voluntary Early Retirement (VER)</td>\n      <td>08/2012</td>\n      <td>NaN</td>\n      <td>NaN</td>\n      <td>Public Servant</td>\n      <td>AO5-AO7</td>\n      <td>Central Office</td>\n      <td>Corporate Strategy and Peformance</td>\n      <td>Permanent Full-time</td>\n      <td>...</td>\n      <td>N</td>\n      <td>N</td>\n      <td>N</td>\n      <td>Male</td>\n      <td>56-60</td>\n      <td>NaN</td>\n      <td>NaN</td>\n      <td>NaN</td>\n      <td>NaN</td>\n      <td>NaN</td>\n    </tr>\n    <tr>\n      <th>2</th>\n      <td>3</td>\n      <td>Voluntary Early Retirement (VER)</td>\n      <td>05/2012</td>\n      <td>2011.0</td>\n      <td>2011.0</td>\n      <td>Schools Officer</td>\n      <td>NaN</td>\n      <td>Central Office</td>\n      <td>Education Queensland</td>\n      <td>Permanent Full-time</td>\n      <td>...</td>\n      <td>N</td>\n      <td>N</td>\n      <td>N</td>\n      <td>Male</td>\n      <td>61 or older</td>\n      <td>NaN</td>\n      <td>NaN</td>\n      <td>NaN</td>\n      <td>NaN</td>\n      <td>NaN</td>\n    </tr>\n    <tr>\n      <th>3</th>\n      <td>4</td>\n      <td>Resignation-Other reasons</td>\n      <td>05/2012</td>\n      <td>2005.0</td>\n      <td>2006.0</td>\n      <td>Teacher</td>\n      <td>Primary</td>\n      <td>Central Queensland</td>\n      <td>NaN</td>\n      <td>Permanent Full-time</td>\n      <td>...</td>\n      <td>A</td>\n      <td>N</td>\n      <td>A</td>\n      <td>Female</td>\n      <td>36-40</td>\n      <td>NaN</td>\n      <td>NaN</td>\n      <td>NaN</td>\n      <td>NaN</td>\n      <td>NaN</td>\n    </tr>\n    <tr>\n      <th>4</th>\n      <td>5</td>\n      <td>Age Retirement</td>\n      <td>05/2012</td>\n      <td>1970.0</td>\n      <td>1989.0</td>\n      <td>Head of Curriculum/Head of Special Education</td>\n      <td>NaN</td>\n      <td>South East</td>\n      <td>NaN</td>\n      <td>Permanent Full-time</td>\n      <td>...</td>\n      <td>N</td>\n      <td>A</td>\n      <td>M</td>\n      <td>Female</td>\n      <td>61 or older</td>\n      <td>NaN</td>\n      <td>NaN</td>\n      <td>NaN</td>\n      <td>NaN</td>\n      <td>NaN</td>\n    </tr>\n  </tbody>\n</table>\n<p>5 rows × 56 columns</p>\n</div>"
          },
          "metadata": {}
        }
      ]
    },
    {
      "metadata": {
        "trusted": true
      },
      "cell_type": "code",
      "source": "tafe_survey.info()",
      "execution_count": 6,
      "outputs": [
        {
          "output_type": "stream",
          "text": "<class 'pandas.core.frame.DataFrame'>\nRangeIndex: 702 entries, 0 to 701\nData columns (total 72 columns):\nRecord ID                                                                                                                                                        702 non-null float64\nInstitute                                                                                                                                                        702 non-null object\nWorkArea                                                                                                                                                         702 non-null object\nCESSATION YEAR                                                                                                                                                   695 non-null float64\nReason for ceasing employment                                                                                                                                    701 non-null object\nContributing Factors. Career Move - Public Sector                                                                                                                437 non-null object\nContributing Factors. Career Move - Private Sector                                                                                                               437 non-null object\nContributing Factors. Career Move - Self-employment                                                                                                              437 non-null object\nContributing Factors. Ill Health                                                                                                                                 437 non-null object\nContributing Factors. Maternity/Family                                                                                                                           437 non-null object\nContributing Factors. Dissatisfaction                                                                                                                            437 non-null object\nContributing Factors. Job Dissatisfaction                                                                                                                        437 non-null object\nContributing Factors. Interpersonal Conflict                                                                                                                     437 non-null object\nContributing Factors. Study                                                                                                                                      437 non-null object\nContributing Factors. Travel                                                                                                                                     437 non-null object\nContributing Factors. Other                                                                                                                                      437 non-null object\nContributing Factors. NONE                                                                                                                                       437 non-null object\nMain Factor. Which of these was the main factor for leaving?                                                                                                     113 non-null object\nInstituteViews. Topic:1. I feel the senior leadership had a clear vision and direction                                                                           608 non-null object\nInstituteViews. Topic:2. I was given access to skills training to help me do my job better                                                                       613 non-null object\nInstituteViews. Topic:3. I was given adequate opportunities for personal development                                                                             610 non-null object\nInstituteViews. Topic:4. I was given adequate opportunities for promotion within %Institute]Q25LBL%                                                              608 non-null object\nInstituteViews. Topic:5. I felt the salary for the job was right for the responsibilities I had                                                                  615 non-null object\nInstituteViews. Topic:6. The organisation recognised when staff did good work                                                                                    607 non-null object\nInstituteViews. Topic:7. Management was generally supportive of me                                                                                               614 non-null object\nInstituteViews. Topic:8. Management was generally supportive of my team                                                                                          608 non-null object\nInstituteViews. Topic:9. I was kept informed of the changes in the organisation which would affect me                                                            610 non-null object\nInstituteViews. Topic:10. Staff morale was positive within the Institute                                                                                         602 non-null object\nInstituteViews. Topic:11. If I had a workplace issue it was dealt with quickly                                                                                   601 non-null object\nInstituteViews. Topic:12. If I had a workplace issue it was dealt with efficiently                                                                               597 non-null object\nInstituteViews. Topic:13. If I had a workplace issue it was dealt with discreetly                                                                                601 non-null object\nWorkUnitViews. Topic:14. I was satisfied with the quality of the management and supervision within my work unit                                                  609 non-null object\nWorkUnitViews. Topic:15. I worked well with my colleagues                                                                                                        605 non-null object\nWorkUnitViews. Topic:16. My job was challenging and interesting                                                                                                  607 non-null object\nWorkUnitViews. Topic:17. I was encouraged to use my initiative in the course of my work                                                                          610 non-null object\nWorkUnitViews. Topic:18. I had sufficient contact with other people in my job                                                                                    613 non-null object\nWorkUnitViews. Topic:19. I was given adequate support and co-operation by my peers to enable me to do my job                                                     609 non-null object\nWorkUnitViews. Topic:20. I was able to use the full range of my skills in my job                                                                                 609 non-null object\nWorkUnitViews. Topic:21. I was able to use the full range of my abilities in my job. ; Category:Level of Agreement; Question:YOUR VIEWS ABOUT YOUR WORK UNIT]    608 non-null object\nWorkUnitViews. Topic:22. I was able to use the full range of my knowledge in my job                                                                              608 non-null object\nWorkUnitViews. Topic:23. My job provided sufficient variety                                                                                                      611 non-null object\nWorkUnitViews. Topic:24. I was able to cope with the level of stress and pressure in my job                                                                      610 non-null object\nWorkUnitViews. Topic:25. My job allowed me to balance the demands of work and family to my satisfaction                                                          611 non-null object\nWorkUnitViews. Topic:26. My supervisor gave me adequate personal recognition and feedback on my performance                                                      606 non-null object\nWorkUnitViews. Topic:27. My working environment was satisfactory e.g. sufficient space, good lighting, suitable seating and working area                         610 non-null object\nWorkUnitViews. Topic:28. I was given the opportunity to mentor and coach others in order for me to pass on my skills and knowledge prior to my cessation date    609 non-null object\nWorkUnitViews. Topic:29. There was adequate communication between staff in my unit                                                                               603 non-null object\nWorkUnitViews. Topic:30. Staff morale was positive within my work unit                                                                                           606 non-null object\nInduction. Did you undertake Workplace Induction?                                                                                                                619 non-null object\nInductionInfo. Topic:Did you undertake a Corporate Induction?                                                                                                    432 non-null object\nInductionInfo. Topic:Did you undertake a Institute Induction?                                                                                                    483 non-null object\nInductionInfo. Topic: Did you undertake Team Induction?                                                                                                          440 non-null object\nInductionInfo. Face to Face Topic:Did you undertake a Corporate Induction; Category:How it was conducted?                                                        555 non-null object\nInductionInfo. On-line Topic:Did you undertake a Corporate Induction; Category:How it was conducted?                                                             555 non-null object\nInductionInfo. Induction Manual Topic:Did you undertake a Corporate Induction?                                                                                   555 non-null object\nInductionInfo. Face to Face Topic:Did you undertake a Institute Induction?                                                                                       530 non-null object\nInductionInfo. On-line Topic:Did you undertake a Institute Induction?                                                                                            555 non-null object\nInductionInfo. Induction Manual Topic:Did you undertake a Institute Induction?                                                                                   553 non-null object\nInductionInfo. Face to Face Topic: Did you undertake Team Induction; Category?                                                                                   555 non-null object\nInductionInfo. On-line Topic: Did you undertake Team Induction?process you undertook and how it was conducted.]                                                  555 non-null object\nInductionInfo. Induction Manual Topic: Did you undertake Team Induction?                                                                                         555 non-null object\nWorkplace. Topic:Did you and your Manager develop a Performance and Professional Development Plan (PPDP)?                                                        608 non-null object\nWorkplace. Topic:Does your workplace promote a work culture free from all forms of unlawful discrimination?                                                      594 non-null object\nWorkplace. Topic:Does your workplace promote and practice the principles of employment equity?                                                                   587 non-null object\nWorkplace. Topic:Does your workplace value the diversity of its employees?                                                                                       586 non-null object\nWorkplace. Topic:Would you recommend the Institute as an employer to others?                                                                                     581 non-null object\nGender. What is your Gender?                                                                                                                                     596 non-null object\nCurrentAge. Current Age                                                                                                                                          596 non-null object\nEmployment Type. Employment Type                                                                                                                                 596 non-null object\nClassification. Classification                                                                                                                                   596 non-null object\nLengthofServiceOverall. Overall Length of Service at Institute (in years)                                                                                        596 non-null object\nLengthofServiceCurrent. Length of Service at current workplace (in years)                                                                                        596 non-null object\ndtypes: float64(2), object(70)\nmemory usage: 395.0+ KB\n",
          "name": "stdout"
        }
      ]
    },
    {
      "metadata": {
        "trusted": true
      },
      "cell_type": "code",
      "source": "tafe_survey.head()",
      "execution_count": 7,
      "outputs": [
        {
          "output_type": "execute_result",
          "execution_count": 7,
          "data": {
            "text/plain": "      Record ID                              Institute  \\\n0  6.341330e+17  Southern Queensland Institute of TAFE   \n1  6.341337e+17            Mount Isa Institute of TAFE   \n2  6.341388e+17            Mount Isa Institute of TAFE   \n3  6.341399e+17            Mount Isa Institute of TAFE   \n4  6.341466e+17  Southern Queensland Institute of TAFE   \n\n                   WorkArea  CESSATION YEAR Reason for ceasing employment  \\\n0  Non-Delivery (corporate)          2010.0              Contract Expired   \n1  Non-Delivery (corporate)          2010.0                    Retirement   \n2       Delivery (teaching)          2010.0                    Retirement   \n3  Non-Delivery (corporate)          2010.0                   Resignation   \n4       Delivery (teaching)          2010.0                   Resignation   \n\n  Contributing Factors. Career Move - Public Sector   \\\n0                                                NaN   \n1                                                  -   \n2                                                  -   \n3                                                  -   \n4                                                  -   \n\n  Contributing Factors. Career Move - Private Sector   \\\n0                                                NaN    \n1                                                  -    \n2                                                  -    \n3                                                  -    \n4                       Career Move - Private Sector    \n\n  Contributing Factors. Career Move - Self-employment  \\\n0                                                NaN    \n1                                                  -    \n2                                                  -    \n3                                                  -    \n4                                                  -    \n\n  Contributing Factors. Ill Health Contributing Factors. Maternity/Family  \\\n0                              NaN                                    NaN   \n1                                -                                      -   \n2                                -                                      -   \n3                                -                                      -   \n4                                -                                      -   \n\n                                     ...                                     \\\n0                                    ...                                      \n1                                    ...                                      \n2                                    ...                                      \n3                                    ...                                      \n4                                    ...                                      \n\n  Workplace. Topic:Does your workplace promote a work culture free from all forms of unlawful discrimination?  \\\n0                                                Yes                                                            \n1                                                Yes                                                            \n2                                                Yes                                                            \n3                                                Yes                                                            \n4                                                Yes                                                            \n\n  Workplace. Topic:Does your workplace promote and practice the principles of employment equity?  \\\n0                                                Yes                                               \n1                                                Yes                                               \n2                                                Yes                                               \n3                                                Yes                                               \n4                                                Yes                                               \n\n  Workplace. Topic:Does your workplace value the diversity of its employees?  \\\n0                                                Yes                           \n1                                                Yes                           \n2                                                Yes                           \n3                                                Yes                           \n4                                                Yes                           \n\n  Workplace. Topic:Would you recommend the Institute as an employer to others?  \\\n0                                                Yes                             \n1                                                Yes                             \n2                                                Yes                             \n3                                                Yes                             \n4                                                Yes                             \n\n  Gender. What is your Gender? CurrentAge. Current Age  \\\n0                       Female                  26  30   \n1                          NaN                     NaN   \n2                          NaN                     NaN   \n3                          NaN                     NaN   \n4                         Male                  41  45   \n\n  Employment Type. Employment Type Classification. Classification  \\\n0              Temporary Full-time            Administration (AO)   \n1                              NaN                            NaN   \n2                              NaN                            NaN   \n3                              NaN                            NaN   \n4              Permanent Full-time        Teacher (including LVT)   \n\n  LengthofServiceOverall. Overall Length of Service at Institute (in years)  \\\n0                                                1-2                          \n1                                                NaN                          \n2                                                NaN                          \n3                                                NaN                          \n4                                                3-4                          \n\n  LengthofServiceCurrent. Length of Service at current workplace (in years)  \n0                                                1-2                         \n1                                                NaN                         \n2                                                NaN                         \n3                                                NaN                         \n4                                                3-4                         \n\n[5 rows x 72 columns]",
            "text/html": "<div>\n<style scoped>\n    .dataframe tbody tr th:only-of-type {\n        vertical-align: middle;\n    }\n\n    .dataframe tbody tr th {\n        vertical-align: top;\n    }\n\n    .dataframe thead th {\n        text-align: right;\n    }\n</style>\n<table border=\"1\" class=\"dataframe\">\n  <thead>\n    <tr style=\"text-align: right;\">\n      <th></th>\n      <th>Record ID</th>\n      <th>Institute</th>\n      <th>WorkArea</th>\n      <th>CESSATION YEAR</th>\n      <th>Reason for ceasing employment</th>\n      <th>Contributing Factors. Career Move - Public Sector</th>\n      <th>Contributing Factors. Career Move - Private Sector</th>\n      <th>Contributing Factors. Career Move - Self-employment</th>\n      <th>Contributing Factors. Ill Health</th>\n      <th>Contributing Factors. Maternity/Family</th>\n      <th>...</th>\n      <th>Workplace. Topic:Does your workplace promote a work culture free from all forms of unlawful discrimination?</th>\n      <th>Workplace. Topic:Does your workplace promote and practice the principles of employment equity?</th>\n      <th>Workplace. Topic:Does your workplace value the diversity of its employees?</th>\n      <th>Workplace. Topic:Would you recommend the Institute as an employer to others?</th>\n      <th>Gender. What is your Gender?</th>\n      <th>CurrentAge. Current Age</th>\n      <th>Employment Type. Employment Type</th>\n      <th>Classification. Classification</th>\n      <th>LengthofServiceOverall. Overall Length of Service at Institute (in years)</th>\n      <th>LengthofServiceCurrent. Length of Service at current workplace (in years)</th>\n    </tr>\n  </thead>\n  <tbody>\n    <tr>\n      <th>0</th>\n      <td>6.341330e+17</td>\n      <td>Southern Queensland Institute of TAFE</td>\n      <td>Non-Delivery (corporate)</td>\n      <td>2010.0</td>\n      <td>Contract Expired</td>\n      <td>NaN</td>\n      <td>NaN</td>\n      <td>NaN</td>\n      <td>NaN</td>\n      <td>NaN</td>\n      <td>...</td>\n      <td>Yes</td>\n      <td>Yes</td>\n      <td>Yes</td>\n      <td>Yes</td>\n      <td>Female</td>\n      <td>26  30</td>\n      <td>Temporary Full-time</td>\n      <td>Administration (AO)</td>\n      <td>1-2</td>\n      <td>1-2</td>\n    </tr>\n    <tr>\n      <th>1</th>\n      <td>6.341337e+17</td>\n      <td>Mount Isa Institute of TAFE</td>\n      <td>Non-Delivery (corporate)</td>\n      <td>2010.0</td>\n      <td>Retirement</td>\n      <td>-</td>\n      <td>-</td>\n      <td>-</td>\n      <td>-</td>\n      <td>-</td>\n      <td>...</td>\n      <td>Yes</td>\n      <td>Yes</td>\n      <td>Yes</td>\n      <td>Yes</td>\n      <td>NaN</td>\n      <td>NaN</td>\n      <td>NaN</td>\n      <td>NaN</td>\n      <td>NaN</td>\n      <td>NaN</td>\n    </tr>\n    <tr>\n      <th>2</th>\n      <td>6.341388e+17</td>\n      <td>Mount Isa Institute of TAFE</td>\n      <td>Delivery (teaching)</td>\n      <td>2010.0</td>\n      <td>Retirement</td>\n      <td>-</td>\n      <td>-</td>\n      <td>-</td>\n      <td>-</td>\n      <td>-</td>\n      <td>...</td>\n      <td>Yes</td>\n      <td>Yes</td>\n      <td>Yes</td>\n      <td>Yes</td>\n      <td>NaN</td>\n      <td>NaN</td>\n      <td>NaN</td>\n      <td>NaN</td>\n      <td>NaN</td>\n      <td>NaN</td>\n    </tr>\n    <tr>\n      <th>3</th>\n      <td>6.341399e+17</td>\n      <td>Mount Isa Institute of TAFE</td>\n      <td>Non-Delivery (corporate)</td>\n      <td>2010.0</td>\n      <td>Resignation</td>\n      <td>-</td>\n      <td>-</td>\n      <td>-</td>\n      <td>-</td>\n      <td>-</td>\n      <td>...</td>\n      <td>Yes</td>\n      <td>Yes</td>\n      <td>Yes</td>\n      <td>Yes</td>\n      <td>NaN</td>\n      <td>NaN</td>\n      <td>NaN</td>\n      <td>NaN</td>\n      <td>NaN</td>\n      <td>NaN</td>\n    </tr>\n    <tr>\n      <th>4</th>\n      <td>6.341466e+17</td>\n      <td>Southern Queensland Institute of TAFE</td>\n      <td>Delivery (teaching)</td>\n      <td>2010.0</td>\n      <td>Resignation</td>\n      <td>-</td>\n      <td>Career Move - Private Sector</td>\n      <td>-</td>\n      <td>-</td>\n      <td>-</td>\n      <td>...</td>\n      <td>Yes</td>\n      <td>Yes</td>\n      <td>Yes</td>\n      <td>Yes</td>\n      <td>Male</td>\n      <td>41  45</td>\n      <td>Permanent Full-time</td>\n      <td>Teacher (including LVT)</td>\n      <td>3-4</td>\n      <td>3-4</td>\n    </tr>\n  </tbody>\n</table>\n<p>5 rows × 72 columns</p>\n</div>"
          },
          "metadata": {}
        }
      ]
    },
    {
      "metadata": {
        "trusted": true
      },
      "cell_type": "code",
      "source": "dete_survey.isnull().sum()",
      "execution_count": 8,
      "outputs": [
        {
          "output_type": "execute_result",
          "execution_count": 8,
          "data": {
            "text/plain": "ID                                       0\nSeparationType                           0\nCease Date                              34\nDETE Start Date                         73\nRole Start Date                         98\nPosition                                 5\nClassification                         367\nRegion                                 105\nBusiness Unit                          696\nEmployment Status                        5\nCareer move to public sector             0\nCareer move to private sector            0\nInterpersonal conflicts                  0\nJob dissatisfaction                      0\nDissatisfaction with the department      0\nPhysical work environment                0\nLack of recognition                      0\nLack of job security                     0\nWork location                            0\nEmployment conditions                    0\nMaternity/family                         0\nRelocation                               0\nStudy/Travel                             0\nIll Health                               0\nTraumatic incident                       0\nWork life balance                        0\nWorkload                                 0\nNone of the above                        0\nProfessional Development                14\nOpportunities for promotion             87\nStaff morale                             6\nWorkplace issue                         34\nPhysical environment                     5\nWorklife balance                         7\nStress and pressure support             12\nPerformance of supervisor                9\nPeer support                            10\nInitiative                               9\nSkills                                  11\nCoach                                   55\nCareer Aspirations                      76\nFeedback                                30\nFurther PD                              54\nCommunication                            8\nMy say                                  10\nInformation                              6\nKept informed                            9\nWellness programs                       56\nHealth & Safety                         29\nGender                                  24\nAge                                     11\nAboriginal                             806\nTorres Strait                          819\nSouth Sea                              815\nDisability                             799\nNESB                                   790\ndtype: int64"
          },
          "metadata": {}
        }
      ]
    },
    {
      "metadata": {
        "trusted": true
      },
      "cell_type": "code",
      "source": "tafe_survey.isnull().sum()",
      "execution_count": 9,
      "outputs": [
        {
          "output_type": "execute_result",
          "execution_count": 9,
          "data": {
            "text/plain": "Record ID                                                                                                                                                          0\nInstitute                                                                                                                                                          0\nWorkArea                                                                                                                                                           0\nCESSATION YEAR                                                                                                                                                     7\nReason for ceasing employment                                                                                                                                      1\nContributing Factors. Career Move - Public Sector                                                                                                                265\nContributing Factors. Career Move - Private Sector                                                                                                               265\nContributing Factors. Career Move - Self-employment                                                                                                              265\nContributing Factors. Ill Health                                                                                                                                 265\nContributing Factors. Maternity/Family                                                                                                                           265\nContributing Factors. Dissatisfaction                                                                                                                            265\nContributing Factors. Job Dissatisfaction                                                                                                                        265\nContributing Factors. Interpersonal Conflict                                                                                                                     265\nContributing Factors. Study                                                                                                                                      265\nContributing Factors. Travel                                                                                                                                     265\nContributing Factors. Other                                                                                                                                      265\nContributing Factors. NONE                                                                                                                                       265\nMain Factor. Which of these was the main factor for leaving?                                                                                                     589\nInstituteViews. Topic:1. I feel the senior leadership had a clear vision and direction                                                                            94\nInstituteViews. Topic:2. I was given access to skills training to help me do my job better                                                                        89\nInstituteViews. Topic:3. I was given adequate opportunities for personal development                                                                              92\nInstituteViews. Topic:4. I was given adequate opportunities for promotion within %Institute]Q25LBL%                                                               94\nInstituteViews. Topic:5. I felt the salary for the job was right for the responsibilities I had                                                                   87\nInstituteViews. Topic:6. The organisation recognised when staff did good work                                                                                     95\nInstituteViews. Topic:7. Management was generally supportive of me                                                                                                88\nInstituteViews. Topic:8. Management was generally supportive of my team                                                                                           94\nInstituteViews. Topic:9. I was kept informed of the changes in the organisation which would affect me                                                             92\nInstituteViews. Topic:10. Staff morale was positive within the Institute                                                                                         100\nInstituteViews. Topic:11. If I had a workplace issue it was dealt with quickly                                                                                   101\nInstituteViews. Topic:12. If I had a workplace issue it was dealt with efficiently                                                                               105\n                                                                                                                                                                ... \nWorkUnitViews. Topic:25. My job allowed me to balance the demands of work and family to my satisfaction                                                           91\nWorkUnitViews. Topic:26. My supervisor gave me adequate personal recognition and feedback on my performance                                                       96\nWorkUnitViews. Topic:27. My working environment was satisfactory e.g. sufficient space, good lighting, suitable seating and working area                          92\nWorkUnitViews. Topic:28. I was given the opportunity to mentor and coach others in order for me to pass on my skills and knowledge prior to my cessation date     93\nWorkUnitViews. Topic:29. There was adequate communication between staff in my unit                                                                                99\nWorkUnitViews. Topic:30. Staff morale was positive within my work unit                                                                                            96\nInduction. Did you undertake Workplace Induction?                                                                                                                 83\nInductionInfo. Topic:Did you undertake a Corporate Induction?                                                                                                    270\nInductionInfo. Topic:Did you undertake a Institute Induction?                                                                                                    219\nInductionInfo. Topic: Did you undertake Team Induction?                                                                                                          262\nInductionInfo. Face to Face Topic:Did you undertake a Corporate Induction; Category:How it was conducted?                                                        147\nInductionInfo. On-line Topic:Did you undertake a Corporate Induction; Category:How it was conducted?                                                             147\nInductionInfo. Induction Manual Topic:Did you undertake a Corporate Induction?                                                                                   147\nInductionInfo. Face to Face Topic:Did you undertake a Institute Induction?                                                                                       172\nInductionInfo. On-line Topic:Did you undertake a Institute Induction?                                                                                            147\nInductionInfo. Induction Manual Topic:Did you undertake a Institute Induction?                                                                                   149\nInductionInfo. Face to Face Topic: Did you undertake Team Induction; Category?                                                                                   147\nInductionInfo. On-line Topic: Did you undertake Team Induction?process you undertook and how it was conducted.]                                                  147\nInductionInfo. Induction Manual Topic: Did you undertake Team Induction?                                                                                         147\nWorkplace. Topic:Did you and your Manager develop a Performance and Professional Development Plan (PPDP)?                                                         94\nWorkplace. Topic:Does your workplace promote a work culture free from all forms of unlawful discrimination?                                                      108\nWorkplace. Topic:Does your workplace promote and practice the principles of employment equity?                                                                   115\nWorkplace. Topic:Does your workplace value the diversity of its employees?                                                                                       116\nWorkplace. Topic:Would you recommend the Institute as an employer to others?                                                                                     121\nGender. What is your Gender?                                                                                                                                     106\nCurrentAge. Current Age                                                                                                                                          106\nEmployment Type. Employment Type                                                                                                                                 106\nClassification. Classification                                                                                                                                   106\nLengthofServiceOverall. Overall Length of Service at Institute (in years)                                                                                        106\nLengthofServiceCurrent. Length of Service at current workplace (in years)                                                                                        106\nLength: 72, dtype: int64"
          },
          "metadata": {}
        }
      ]
    },
    {
      "metadata": {
        "trusted": true
      },
      "cell_type": "code",
      "source": "dete_survey[\"SeparationType\"].value_counts()",
      "execution_count": 10,
      "outputs": [
        {
          "output_type": "execute_result",
          "execution_count": 10,
          "data": {
            "text/plain": "Age Retirement                          285\nResignation-Other reasons               150\nResignation-Other employer               91\nResignation-Move overseas/interstate     70\nVoluntary Early Retirement (VER)         67\nIll Health Retirement                    61\nOther                                    49\nContract Expired                         34\nTermination                              15\nName: SeparationType, dtype: int64"
          },
          "metadata": {}
        }
      ]
    },
    {
      "metadata": {
        "trusted": true
      },
      "cell_type": "code",
      "source": "tafe_survey[\"Reason for ceasing employment\"].value_counts()",
      "execution_count": 11,
      "outputs": [
        {
          "output_type": "execute_result",
          "execution_count": 11,
          "data": {
            "text/plain": "Resignation                 340\nContract Expired            127\nRetrenchment/ Redundancy    104\nRetirement                   82\nTransfer                     25\nTermination                  23\nName: Reason for ceasing employment, dtype: int64"
          },
          "metadata": {}
        }
      ]
    },
    {
      "metadata": {},
      "cell_type": "markdown",
      "source": "#### Observations:\n- The dete_survey dataframe contains 'Not Stated' values that indicate values are missing, but they aren't represented as NaN.\n- Both the dete_survey and tafe_survey dataframes contain many columns that we don't need to complete our analysis.\n- Each dataframe contains many of the same columns, but the column names are different.\n- There are multiple columns/answers that indicate an employee resigned because they were dissatisfied."
    },
    {
      "metadata": {},
      "cell_type": "markdown",
      "source": "Since most of the columns in the surveys are not needed for this analysis, so we can drop them to make our datasets cleaner and easier to work with."
    },
    {
      "metadata": {
        "trusted": true
      },
      "cell_type": "code",
      "source": "dete_survey_updated = dete_survey.drop(dete_survey.columns[28:49], axis=1)",
      "execution_count": 12,
      "outputs": []
    },
    {
      "metadata": {
        "trusted": true
      },
      "cell_type": "code",
      "source": "tafe_survey_updated = tafe_survey.drop(tafe_survey.columns[17:66], axis=1)",
      "execution_count": 13,
      "outputs": []
    },
    {
      "metadata": {},
      "cell_type": "markdown",
      "source": "Update column names so when we combine the datasets we will not duplicate columns."
    },
    {
      "metadata": {
        "trusted": true
      },
      "cell_type": "code",
      "source": "print(dete_survey_updated.columns)",
      "execution_count": 14,
      "outputs": [
        {
          "output_type": "stream",
          "text": "Index(['ID', 'SeparationType', 'Cease Date', 'DETE Start Date',\n       'Role Start Date', 'Position', 'Classification', 'Region',\n       'Business Unit', 'Employment Status', 'Career move to public sector',\n       'Career move to private sector', 'Interpersonal conflicts',\n       'Job dissatisfaction', 'Dissatisfaction with the department',\n       'Physical work environment', 'Lack of recognition',\n       'Lack of job security', 'Work location', 'Employment conditions',\n       'Maternity/family', 'Relocation', 'Study/Travel', 'Ill Health',\n       'Traumatic incident', 'Work life balance', 'Workload',\n       'None of the above', 'Gender', 'Age', 'Aboriginal', 'Torres Strait',\n       'South Sea', 'Disability', 'NESB'],\n      dtype='object')\n",
          "name": "stdout"
        }
      ]
    },
    {
      "metadata": {
        "trusted": true
      },
      "cell_type": "code",
      "source": "dete_survey_updated.columns = dete_survey_updated.columns.str.lower().str.strip().str.replace(' ', '_')",
      "execution_count": 15,
      "outputs": []
    },
    {
      "metadata": {
        "trusted": true
      },
      "cell_type": "code",
      "source": "print(dete_survey_updated.columns)",
      "execution_count": 16,
      "outputs": [
        {
          "output_type": "stream",
          "text": "Index(['id', 'separationtype', 'cease_date', 'dete_start_date',\n       'role_start_date', 'position', 'classification', 'region',\n       'business_unit', 'employment_status', 'career_move_to_public_sector',\n       'career_move_to_private_sector', 'interpersonal_conflicts',\n       'job_dissatisfaction', 'dissatisfaction_with_the_department',\n       'physical_work_environment', 'lack_of_recognition',\n       'lack_of_job_security', 'work_location', 'employment_conditions',\n       'maternity/family', 'relocation', 'study/travel', 'ill_health',\n       'traumatic_incident', 'work_life_balance', 'workload',\n       'none_of_the_above', 'gender', 'age', 'aboriginal', 'torres_strait',\n       'south_sea', 'disability', 'nesb'],\n      dtype='object')\n",
          "name": "stdout"
        }
      ]
    },
    {
      "metadata": {
        "trusted": true
      },
      "cell_type": "code",
      "source": "names = {\n    'Record ID': 'id',\n    'CESSATION YEAR': 'cease_date',\n    'Reason for ceasing employment': 'separationtype',\n    'Gender. What is your Gender?': 'gender',\n    'CurrentAge. Current Age': 'age',\n    'Employment Type. Employment Type': 'employment_status',\n    'Classification. Classification': 'position',\n    'LengthofServiceOverall. Overall Length of Service at Institute (in years)': 'institute_service',\n    'LengthofServiceCurrent. Length of Service at current workplace (in years)': 'role_service'\n}",
      "execution_count": 17,
      "outputs": []
    },
    {
      "metadata": {
        "trusted": true
      },
      "cell_type": "code",
      "source": "tafe_survey_updated = tafe_survey_updated.rename(names, axis=1)",
      "execution_count": 18,
      "outputs": []
    },
    {
      "metadata": {
        "scrolled": true,
        "trusted": true
      },
      "cell_type": "code",
      "source": "tafe_survey_updated.head()",
      "execution_count": 19,
      "outputs": [
        {
          "output_type": "execute_result",
          "execution_count": 19,
          "data": {
            "text/plain": "             id                              Institute  \\\n0  6.341330e+17  Southern Queensland Institute of TAFE   \n1  6.341337e+17            Mount Isa Institute of TAFE   \n2  6.341388e+17            Mount Isa Institute of TAFE   \n3  6.341399e+17            Mount Isa Institute of TAFE   \n4  6.341466e+17  Southern Queensland Institute of TAFE   \n\n                   WorkArea  cease_date    separationtype  \\\n0  Non-Delivery (corporate)      2010.0  Contract Expired   \n1  Non-Delivery (corporate)      2010.0        Retirement   \n2       Delivery (teaching)      2010.0        Retirement   \n3  Non-Delivery (corporate)      2010.0       Resignation   \n4       Delivery (teaching)      2010.0       Resignation   \n\n  Contributing Factors. Career Move - Public Sector   \\\n0                                                NaN   \n1                                                  -   \n2                                                  -   \n3                                                  -   \n4                                                  -   \n\n  Contributing Factors. Career Move - Private Sector   \\\n0                                                NaN    \n1                                                  -    \n2                                                  -    \n3                                                  -    \n4                       Career Move - Private Sector    \n\n  Contributing Factors. Career Move - Self-employment  \\\n0                                                NaN    \n1                                                  -    \n2                                                  -    \n3                                                  -    \n4                                                  -    \n\n  Contributing Factors. Ill Health Contributing Factors. Maternity/Family  \\\n0                              NaN                                    NaN   \n1                                -                                      -   \n2                                -                                      -   \n3                                -                                      -   \n4                                -                                      -   \n\n      ...      Contributing Factors. Study Contributing Factors. Travel  \\\n0     ...                              NaN                          NaN   \n1     ...                                -                       Travel   \n2     ...                                -                            -   \n3     ...                                -                       Travel   \n4     ...                                -                            -   \n\n  Contributing Factors. Other Contributing Factors. NONE  gender     age  \\\n0                         NaN                        NaN  Female  26  30   \n1                           -                          -     NaN     NaN   \n2                           -                       NONE     NaN     NaN   \n3                           -                          -     NaN     NaN   \n4                           -                          -    Male  41  45   \n\n     employment_status                 position institute_service role_service  \n0  Temporary Full-time      Administration (AO)               1-2          1-2  \n1                  NaN                      NaN               NaN          NaN  \n2                  NaN                      NaN               NaN          NaN  \n3                  NaN                      NaN               NaN          NaN  \n4  Permanent Full-time  Teacher (including LVT)               3-4          3-4  \n\n[5 rows x 23 columns]",
            "text/html": "<div>\n<style scoped>\n    .dataframe tbody tr th:only-of-type {\n        vertical-align: middle;\n    }\n\n    .dataframe tbody tr th {\n        vertical-align: top;\n    }\n\n    .dataframe thead th {\n        text-align: right;\n    }\n</style>\n<table border=\"1\" class=\"dataframe\">\n  <thead>\n    <tr style=\"text-align: right;\">\n      <th></th>\n      <th>id</th>\n      <th>Institute</th>\n      <th>WorkArea</th>\n      <th>cease_date</th>\n      <th>separationtype</th>\n      <th>Contributing Factors. Career Move - Public Sector</th>\n      <th>Contributing Factors. Career Move - Private Sector</th>\n      <th>Contributing Factors. Career Move - Self-employment</th>\n      <th>Contributing Factors. Ill Health</th>\n      <th>Contributing Factors. Maternity/Family</th>\n      <th>...</th>\n      <th>Contributing Factors. Study</th>\n      <th>Contributing Factors. Travel</th>\n      <th>Contributing Factors. Other</th>\n      <th>Contributing Factors. NONE</th>\n      <th>gender</th>\n      <th>age</th>\n      <th>employment_status</th>\n      <th>position</th>\n      <th>institute_service</th>\n      <th>role_service</th>\n    </tr>\n  </thead>\n  <tbody>\n    <tr>\n      <th>0</th>\n      <td>6.341330e+17</td>\n      <td>Southern Queensland Institute of TAFE</td>\n      <td>Non-Delivery (corporate)</td>\n      <td>2010.0</td>\n      <td>Contract Expired</td>\n      <td>NaN</td>\n      <td>NaN</td>\n      <td>NaN</td>\n      <td>NaN</td>\n      <td>NaN</td>\n      <td>...</td>\n      <td>NaN</td>\n      <td>NaN</td>\n      <td>NaN</td>\n      <td>NaN</td>\n      <td>Female</td>\n      <td>26  30</td>\n      <td>Temporary Full-time</td>\n      <td>Administration (AO)</td>\n      <td>1-2</td>\n      <td>1-2</td>\n    </tr>\n    <tr>\n      <th>1</th>\n      <td>6.341337e+17</td>\n      <td>Mount Isa Institute of TAFE</td>\n      <td>Non-Delivery (corporate)</td>\n      <td>2010.0</td>\n      <td>Retirement</td>\n      <td>-</td>\n      <td>-</td>\n      <td>-</td>\n      <td>-</td>\n      <td>-</td>\n      <td>...</td>\n      <td>-</td>\n      <td>Travel</td>\n      <td>-</td>\n      <td>-</td>\n      <td>NaN</td>\n      <td>NaN</td>\n      <td>NaN</td>\n      <td>NaN</td>\n      <td>NaN</td>\n      <td>NaN</td>\n    </tr>\n    <tr>\n      <th>2</th>\n      <td>6.341388e+17</td>\n      <td>Mount Isa Institute of TAFE</td>\n      <td>Delivery (teaching)</td>\n      <td>2010.0</td>\n      <td>Retirement</td>\n      <td>-</td>\n      <td>-</td>\n      <td>-</td>\n      <td>-</td>\n      <td>-</td>\n      <td>...</td>\n      <td>-</td>\n      <td>-</td>\n      <td>-</td>\n      <td>NONE</td>\n      <td>NaN</td>\n      <td>NaN</td>\n      <td>NaN</td>\n      <td>NaN</td>\n      <td>NaN</td>\n      <td>NaN</td>\n    </tr>\n    <tr>\n      <th>3</th>\n      <td>6.341399e+17</td>\n      <td>Mount Isa Institute of TAFE</td>\n      <td>Non-Delivery (corporate)</td>\n      <td>2010.0</td>\n      <td>Resignation</td>\n      <td>-</td>\n      <td>-</td>\n      <td>-</td>\n      <td>-</td>\n      <td>-</td>\n      <td>...</td>\n      <td>-</td>\n      <td>Travel</td>\n      <td>-</td>\n      <td>-</td>\n      <td>NaN</td>\n      <td>NaN</td>\n      <td>NaN</td>\n      <td>NaN</td>\n      <td>NaN</td>\n      <td>NaN</td>\n    </tr>\n    <tr>\n      <th>4</th>\n      <td>6.341466e+17</td>\n      <td>Southern Queensland Institute of TAFE</td>\n      <td>Delivery (teaching)</td>\n      <td>2010.0</td>\n      <td>Resignation</td>\n      <td>-</td>\n      <td>Career Move - Private Sector</td>\n      <td>-</td>\n      <td>-</td>\n      <td>-</td>\n      <td>...</td>\n      <td>-</td>\n      <td>-</td>\n      <td>-</td>\n      <td>-</td>\n      <td>Male</td>\n      <td>41  45</td>\n      <td>Permanent Full-time</td>\n      <td>Teacher (including LVT)</td>\n      <td>3-4</td>\n      <td>3-4</td>\n    </tr>\n  </tbody>\n</table>\n<p>5 rows × 23 columns</p>\n</div>"
          },
          "metadata": {}
        }
      ]
    },
    {
      "metadata": {
        "trusted": true
      },
      "cell_type": "code",
      "source": "dete_survey_updated.head()",
      "execution_count": 20,
      "outputs": [
        {
          "output_type": "execute_result",
          "execution_count": 20,
          "data": {
            "text/plain": "   id                    separationtype cease_date  dete_start_date  \\\n0   1             Ill Health Retirement    08/2012           1984.0   \n1   2  Voluntary Early Retirement (VER)    08/2012              NaN   \n2   3  Voluntary Early Retirement (VER)    05/2012           2011.0   \n3   4         Resignation-Other reasons    05/2012           2005.0   \n4   5                    Age Retirement    05/2012           1970.0   \n\n   role_start_date                                      position  \\\n0           2004.0                                Public Servant   \n1              NaN                                Public Servant   \n2           2011.0                               Schools Officer   \n3           2006.0                                       Teacher   \n4           1989.0  Head of Curriculum/Head of Special Education   \n\n  classification              region                      business_unit  \\\n0        A01-A04      Central Office  Corporate Strategy and Peformance   \n1        AO5-AO7      Central Office  Corporate Strategy and Peformance   \n2            NaN      Central Office               Education Queensland   \n3        Primary  Central Queensland                                NaN   \n4            NaN          South East                                NaN   \n\n     employment_status  ...   work_life_balance  workload  none_of_the_above  \\\n0  Permanent Full-time  ...               False     False               True   \n1  Permanent Full-time  ...               False     False              False   \n2  Permanent Full-time  ...               False     False               True   \n3  Permanent Full-time  ...               False     False              False   \n4  Permanent Full-time  ...                True     False              False   \n\n   gender          age  aboriginal  torres_strait  south_sea  disability  nesb  \n0    Male        56-60         NaN            NaN        NaN         NaN   Yes  \n1    Male        56-60         NaN            NaN        NaN         NaN   NaN  \n2    Male  61 or older         NaN            NaN        NaN         NaN   NaN  \n3  Female        36-40         NaN            NaN        NaN         NaN   NaN  \n4  Female  61 or older         NaN            NaN        NaN         NaN   NaN  \n\n[5 rows x 35 columns]",
            "text/html": "<div>\n<style scoped>\n    .dataframe tbody tr th:only-of-type {\n        vertical-align: middle;\n    }\n\n    .dataframe tbody tr th {\n        vertical-align: top;\n    }\n\n    .dataframe thead th {\n        text-align: right;\n    }\n</style>\n<table border=\"1\" class=\"dataframe\">\n  <thead>\n    <tr style=\"text-align: right;\">\n      <th></th>\n      <th>id</th>\n      <th>separationtype</th>\n      <th>cease_date</th>\n      <th>dete_start_date</th>\n      <th>role_start_date</th>\n      <th>position</th>\n      <th>classification</th>\n      <th>region</th>\n      <th>business_unit</th>\n      <th>employment_status</th>\n      <th>...</th>\n      <th>work_life_balance</th>\n      <th>workload</th>\n      <th>none_of_the_above</th>\n      <th>gender</th>\n      <th>age</th>\n      <th>aboriginal</th>\n      <th>torres_strait</th>\n      <th>south_sea</th>\n      <th>disability</th>\n      <th>nesb</th>\n    </tr>\n  </thead>\n  <tbody>\n    <tr>\n      <th>0</th>\n      <td>1</td>\n      <td>Ill Health Retirement</td>\n      <td>08/2012</td>\n      <td>1984.0</td>\n      <td>2004.0</td>\n      <td>Public Servant</td>\n      <td>A01-A04</td>\n      <td>Central Office</td>\n      <td>Corporate Strategy and Peformance</td>\n      <td>Permanent Full-time</td>\n      <td>...</td>\n      <td>False</td>\n      <td>False</td>\n      <td>True</td>\n      <td>Male</td>\n      <td>56-60</td>\n      <td>NaN</td>\n      <td>NaN</td>\n      <td>NaN</td>\n      <td>NaN</td>\n      <td>Yes</td>\n    </tr>\n    <tr>\n      <th>1</th>\n      <td>2</td>\n      <td>Voluntary Early Retirement (VER)</td>\n      <td>08/2012</td>\n      <td>NaN</td>\n      <td>NaN</td>\n      <td>Public Servant</td>\n      <td>AO5-AO7</td>\n      <td>Central Office</td>\n      <td>Corporate Strategy and Peformance</td>\n      <td>Permanent Full-time</td>\n      <td>...</td>\n      <td>False</td>\n      <td>False</td>\n      <td>False</td>\n      <td>Male</td>\n      <td>56-60</td>\n      <td>NaN</td>\n      <td>NaN</td>\n      <td>NaN</td>\n      <td>NaN</td>\n      <td>NaN</td>\n    </tr>\n    <tr>\n      <th>2</th>\n      <td>3</td>\n      <td>Voluntary Early Retirement (VER)</td>\n      <td>05/2012</td>\n      <td>2011.0</td>\n      <td>2011.0</td>\n      <td>Schools Officer</td>\n      <td>NaN</td>\n      <td>Central Office</td>\n      <td>Education Queensland</td>\n      <td>Permanent Full-time</td>\n      <td>...</td>\n      <td>False</td>\n      <td>False</td>\n      <td>True</td>\n      <td>Male</td>\n      <td>61 or older</td>\n      <td>NaN</td>\n      <td>NaN</td>\n      <td>NaN</td>\n      <td>NaN</td>\n      <td>NaN</td>\n    </tr>\n    <tr>\n      <th>3</th>\n      <td>4</td>\n      <td>Resignation-Other reasons</td>\n      <td>05/2012</td>\n      <td>2005.0</td>\n      <td>2006.0</td>\n      <td>Teacher</td>\n      <td>Primary</td>\n      <td>Central Queensland</td>\n      <td>NaN</td>\n      <td>Permanent Full-time</td>\n      <td>...</td>\n      <td>False</td>\n      <td>False</td>\n      <td>False</td>\n      <td>Female</td>\n      <td>36-40</td>\n      <td>NaN</td>\n      <td>NaN</td>\n      <td>NaN</td>\n      <td>NaN</td>\n      <td>NaN</td>\n    </tr>\n    <tr>\n      <th>4</th>\n      <td>5</td>\n      <td>Age Retirement</td>\n      <td>05/2012</td>\n      <td>1970.0</td>\n      <td>1989.0</td>\n      <td>Head of Curriculum/Head of Special Education</td>\n      <td>NaN</td>\n      <td>South East</td>\n      <td>NaN</td>\n      <td>Permanent Full-time</td>\n      <td>...</td>\n      <td>True</td>\n      <td>False</td>\n      <td>False</td>\n      <td>Female</td>\n      <td>61 or older</td>\n      <td>NaN</td>\n      <td>NaN</td>\n      <td>NaN</td>\n      <td>NaN</td>\n      <td>NaN</td>\n    </tr>\n  </tbody>\n</table>\n<p>5 rows × 35 columns</p>\n</div>"
          },
          "metadata": {}
        }
      ]
    },
    {
      "metadata": {},
      "cell_type": "markdown",
      "source": "For our analysis we are only need to look at records where employees have resigned. Create new dataframes that have filtered out other types of separation."
    },
    {
      "metadata": {
        "trusted": true
      },
      "cell_type": "code",
      "source": "dete_survey_updated[\"separationtype\"].value_counts()",
      "execution_count": 21,
      "outputs": [
        {
          "output_type": "execute_result",
          "execution_count": 21,
          "data": {
            "text/plain": "Age Retirement                          285\nResignation-Other reasons               150\nResignation-Other employer               91\nResignation-Move overseas/interstate     70\nVoluntary Early Retirement (VER)         67\nIll Health Retirement                    61\nOther                                    49\nContract Expired                         34\nTermination                              15\nName: separationtype, dtype: int64"
          },
          "metadata": {}
        }
      ]
    },
    {
      "metadata": {
        "trusted": true
      },
      "cell_type": "code",
      "source": "tafe_survey_updated[\"separationtype\"].value_counts()",
      "execution_count": 22,
      "outputs": [
        {
          "output_type": "execute_result",
          "execution_count": 22,
          "data": {
            "text/plain": "Resignation                 340\nContract Expired            127\nRetrenchment/ Redundancy    104\nRetirement                   82\nTransfer                     25\nTermination                  23\nName: separationtype, dtype: int64"
          },
          "metadata": {}
        }
      ]
    },
    {
      "metadata": {
        "trusted": true
      },
      "cell_type": "code",
      "source": "dete_resignations = dete_survey_updated[dete_survey_updated[\"separationtype\"].str.startswith(\"Resignation\")]",
      "execution_count": 23,
      "outputs": []
    },
    {
      "metadata": {
        "trusted": true
      },
      "cell_type": "code",
      "source": "dete_resignations[\"separationtype\"].value_counts()",
      "execution_count": 24,
      "outputs": [
        {
          "output_type": "execute_result",
          "execution_count": 24,
          "data": {
            "text/plain": "Resignation-Other reasons               150\nResignation-Other employer               91\nResignation-Move overseas/interstate     70\nName: separationtype, dtype: int64"
          },
          "metadata": {}
        }
      ]
    },
    {
      "metadata": {
        "trusted": true
      },
      "cell_type": "code",
      "source": "tafe_resignations = tafe_survey_updated[tafe_survey_updated[\"separationtype\"]=='Resignation']",
      "execution_count": 25,
      "outputs": []
    },
    {
      "metadata": {
        "trusted": true
      },
      "cell_type": "code",
      "source": "tafe_resignations[\"separationtype\"].value_counts()",
      "execution_count": 26,
      "outputs": [
        {
          "output_type": "execute_result",
          "execution_count": 26,
          "data": {
            "text/plain": "Resignation    340\nName: separationtype, dtype: int64"
          },
          "metadata": {}
        }
      ]
    },
    {
      "metadata": {
        "trusted": true
      },
      "cell_type": "code",
      "source": "dete_resignations[\"cease_date\"].value_counts()",
      "execution_count": 27,
      "outputs": [
        {
          "output_type": "execute_result",
          "execution_count": 27,
          "data": {
            "text/plain": "2012       126\n2013        74\n01/2014     22\n12/2013     17\n06/2013     14\n09/2013     11\n11/2013      9\n07/2013      9\n10/2013      6\n08/2013      4\n05/2012      2\n05/2013      2\n07/2012      1\n2010         1\n07/2006      1\n09/2010      1\nName: cease_date, dtype: int64"
          },
          "metadata": {}
        }
      ]
    },
    {
      "metadata": {
        "trusted": true
      },
      "cell_type": "code",
      "source": "dete_resignations[\"cease_date\"] = dete_resignations[\"cease_date\"].str.extract('([1-2][0-9]{3})').astype('float')\ndete_resignations[\"cease_date\"].value_counts()",
      "execution_count": 28,
      "outputs": [
        {
          "output_type": "stream",
          "text": "/home/nbuser/anaconda3_420/lib/python3.5/site-packages/ipykernel/__main__.py:1: SettingWithCopyWarning: \nA value is trying to be set on a copy of a slice from a DataFrame.\nTry using .loc[row_indexer,col_indexer] = value instead\n\nSee the caveats in the documentation: http://pandas.pydata.org/pandas-docs/stable/indexing.html#indexing-view-versus-copy\n  if __name__ == '__main__':\n",
          "name": "stderr"
        },
        {
          "output_type": "execute_result",
          "execution_count": 28,
          "data": {
            "text/plain": "2013.0    146\n2012.0    129\n2014.0     22\n2010.0      2\n2006.0      1\nName: cease_date, dtype: int64"
          },
          "metadata": {}
        }
      ]
    },
    {
      "metadata": {
        "trusted": true
      },
      "cell_type": "code",
      "source": "dete_resignations[\"dete_start_date\"].value_counts().sort_index(ascending=False)",
      "execution_count": 29,
      "outputs": [
        {
          "output_type": "execute_result",
          "execution_count": 29,
          "data": {
            "text/plain": "2013.0    10\n2012.0    21\n2011.0    24\n2010.0    17\n2009.0    13\n2008.0    22\n2007.0    21\n2006.0    13\n2005.0    15\n2004.0    14\n2003.0     6\n2002.0     6\n2001.0     3\n2000.0     9\n1999.0     8\n1998.0     6\n1997.0     5\n1996.0     6\n1995.0     4\n1994.0     6\n1993.0     5\n1992.0     6\n1991.0     4\n1990.0     5\n1989.0     4\n1988.0     4\n1987.0     1\n1986.0     3\n1985.0     3\n1984.0     1\n1983.0     2\n1982.0     1\n1980.0     5\n1977.0     1\n1976.0     2\n1975.0     1\n1974.0     2\n1973.0     1\n1972.0     1\n1971.0     1\n1963.0     1\nName: dete_start_date, dtype: int64"
          },
          "metadata": {}
        }
      ]
    },
    {
      "metadata": {
        "trusted": true
      },
      "cell_type": "code",
      "source": "tafe_resignations[\"cease_date\"].value_counts().sort_index(ascending=False)",
      "execution_count": 30,
      "outputs": [
        {
          "output_type": "execute_result",
          "execution_count": 30,
          "data": {
            "text/plain": "2013.0     55\n2012.0     94\n2011.0    116\n2010.0     68\n2009.0      2\nName: cease_date, dtype: int64"
          },
          "metadata": {}
        }
      ]
    },
    {
      "metadata": {
        "trusted": true
      },
      "cell_type": "code",
      "source": "boxplot = tafe_resignations.boxplot(column=\"cease_date\")\nboxplot",
      "execution_count": 31,
      "outputs": [
        {
          "output_type": "execute_result",
          "execution_count": 31,
          "data": {
            "text/plain": "<matplotlib.axes._subplots.AxesSubplot at 0x7f80b65bdbe0>"
          },
          "metadata": {}
        },
        {
          "output_type": "display_data",
          "data": {
            "image/png": "[encoded data removed]",
            "text/plain": "<matplotlib.figure.Figure at 0x7f80b65f6ba8>"
          },
          "metadata": {}
        }
      ]
    },
    {
      "metadata": {
        "trusted": true
      },
      "cell_type": "code",
      "source": "boxplot = dete_resignations.boxplot(column=\"dete_start_date\")\nboxplot",
      "execution_count": 32,
      "outputs": [
        {
          "output_type": "execute_result",
          "execution_count": 32,
          "data": {
            "text/plain": "<matplotlib.axes._subplots.AxesSubplot at 0x7f80b65583c8>"
          },
          "metadata": {}
        },
        {
          "output_type": "display_data",
          "data": {
            "image/png": "[encoded data removed]",
            "text/plain": "<matplotlib.figure.Figure at 0x7f80b64e1a20>"
          },
          "metadata": {}
        }
      ]
    },
    {
      "metadata": {
        "trusted": true
      },
      "cell_type": "code",
      "source": "dete_resignations[\"institute_service\"] = dete_resignations[\"cease_date\"] - dete_resignations[\"dete_start_date\"]",
      "execution_count": 33,
      "outputs": [
        {
          "output_type": "stream",
          "text": "/home/nbuser/anaconda3_420/lib/python3.5/site-packages/ipykernel/__main__.py:1: SettingWithCopyWarning: \nA value is trying to be set on a copy of a slice from a DataFrame.\nTry using .loc[row_indexer,col_indexer] = value instead\n\nSee the caveats in the documentation: http://pandas.pydata.org/pandas-docs/stable/indexing.html#indexing-view-versus-copy\n  if __name__ == '__main__':\n",
          "name": "stderr"
        }
      ]
    },
    {
      "metadata": {
        "trusted": true
      },
      "cell_type": "code",
      "source": "dete_resignations[\"institute_service\"].head()",
      "execution_count": 34,
      "outputs": [
        {
          "output_type": "execute_result",
          "execution_count": 34,
          "data": {
            "text/plain": "3      7.0\n5     18.0\n8      3.0\n9     15.0\n11     3.0\nName: institute_service, dtype: float64"
          },
          "metadata": {}
        }
      ]
    },
    {
      "metadata": {
        "trusted": true
      },
      "cell_type": "code",
      "source": "tafe_resignations[\"Contributing Factors. Dissatisfaction\"].value_counts()",
      "execution_count": 35,
      "outputs": [
        {
          "output_type": "execute_result",
          "execution_count": 35,
          "data": {
            "text/plain": "-                                         277\nContributing Factors. Dissatisfaction      55\nName: Contributing Factors. Dissatisfaction, dtype: int64"
          },
          "metadata": {}
        }
      ]
    },
    {
      "metadata": {
        "trusted": true
      },
      "cell_type": "code",
      "source": "tafe_resignations[\"Contributing Factors. Job Dissatisfaction\"].value_counts()",
      "execution_count": 36,
      "outputs": [
        {
          "output_type": "execute_result",
          "execution_count": 36,
          "data": {
            "text/plain": "-                      270\nJob Dissatisfaction     62\nName: Contributing Factors. Job Dissatisfaction, dtype: int64"
          },
          "metadata": {}
        }
      ]
    },
    {
      "metadata": {
        "trusted": true
      },
      "cell_type": "code",
      "source": "def update_vals(val):\n    if val == 'Nan':\n        return np.nan\n    elif val == '-':\n        return False\n    else:\n        return True",
      "execution_count": 37,
      "outputs": []
    },
    {
      "metadata": {
        "scrolled": true,
        "trusted": true
      },
      "cell_type": "code",
      "source": "tafe_resignations['dissatisfied'] = tafe_resignations[['Contributing Factors. Dissatisfaction', 'Contributing Factors. Job Dissatisfaction']].applymap(update_vals).any(1, skipna=False)\ntafe_resignations_up = tafe_resignations.copy()\ntafe_resignations_up['dissatisfied'].value_counts(dropna=False)",
      "execution_count": 38,
      "outputs": [
        {
          "output_type": "stream",
          "text": "/home/nbuser/anaconda3_420/lib/python3.5/site-packages/ipykernel/__main__.py:1: SettingWithCopyWarning: \nA value is trying to be set on a copy of a slice from a DataFrame.\nTry using .loc[row_indexer,col_indexer] = value instead\n\nSee the caveats in the documentation: http://pandas.pydata.org/pandas-docs/stable/indexing.html#indexing-view-versus-copy\n  if __name__ == '__main__':\n",
          "name": "stderr"
        },
        {
          "output_type": "execute_result",
          "execution_count": 38,
          "data": {
            "text/plain": "False    241\nTrue      99\nName: dissatisfied, dtype: int64"
          },
          "metadata": {}
        }
      ]
    },
    {
      "metadata": {
        "trusted": true
      },
      "cell_type": "code",
      "source": "dete_resignations['dissatisfied'] = dete_resignations[['job_dissatisfaction',\n       'dissatisfaction_with_the_department', 'physical_work_environment',\n       'lack_of_recognition', 'lack_of_job_security', 'work_location',\n       'employment_conditions', 'work_life_balance',\n       'workload']].any(1, skipna=False)\ndete_resignations_up = dete_resignations.copy()\ndete_resignations_up['dissatisfied'].value_counts(dropna=False)",
      "execution_count": 39,
      "outputs": [
        {
          "output_type": "stream",
          "text": "/home/nbuser/anaconda3_420/lib/python3.5/site-packages/ipykernel/__main__.py:5: SettingWithCopyWarning: \nA value is trying to be set on a copy of a slice from a DataFrame.\nTry using .loc[row_indexer,col_indexer] = value instead\n\nSee the caveats in the documentation: http://pandas.pydata.org/pandas-docs/stable/indexing.html#indexing-view-versus-copy\n",
          "name": "stderr"
        },
        {
          "output_type": "execute_result",
          "execution_count": 39,
          "data": {
            "text/plain": "False    162\nTrue     149\nName: dissatisfied, dtype: int64"
          },
          "metadata": {}
        }
      ]
    },
    {
      "metadata": {
        "trusted": true
      },
      "cell_type": "code",
      "source": "dete_resignations_up[\"institute\"] = 'DETE'",
      "execution_count": 40,
      "outputs": []
    },
    {
      "metadata": {
        "trusted": true
      },
      "cell_type": "code",
      "source": "tafe_resignations_up[\"institute\"] = 'TAFE'",
      "execution_count": 41,
      "outputs": []
    },
    {
      "metadata": {
        "trusted": true
      },
      "cell_type": "code",
      "source": "combined = pd.concat([dete_resignations_up, tafe_resignations_up])",
      "execution_count": 42,
      "outputs": [
        {
          "output_type": "stream",
          "text": "/home/nbuser/anaconda3_420/lib/python3.5/site-packages/ipykernel/__main__.py:1: FutureWarning: Sorting because non-concatenation axis is not aligned. A future version\nof pandas will change to not sort by default.\n\nTo accept the future behavior, pass 'sort=False'.\n\nTo retain the current behavior and silence the warning, pass 'sort=True'.\n\n  if __name__ == '__main__':\n",
          "name": "stderr"
        }
      ]
    },
    {
      "metadata": {
        "trusted": true
      },
      "cell_type": "code",
      "source": "combined_updated = combined.dropna(axis=1,thresh=500)",
      "execution_count": 43,
      "outputs": []
    },
    {
      "metadata": {
        "trusted": true
      },
      "cell_type": "code",
      "source": "combined_updated[\"institute_service\"].value_counts()",
      "execution_count": 44,
      "outputs": [
        {
          "output_type": "execute_result",
          "execution_count": 44,
          "data": {
            "text/plain": "Less than 1 year      73\n1-2                   64\n3-4                   63\n5-6                   33\n11-20                 26\n5.0                   23\n1.0                   22\n7-10                  21\n3.0                   20\n0.0                   20\n6.0                   17\n4.0                   16\n9.0                   14\n2.0                   14\n7.0                   13\nMore than 20 years    10\n13.0                   8\n8.0                    8\n20.0                   7\n15.0                   7\n14.0                   6\n17.0                   6\n12.0                   6\n10.0                   6\n22.0                   6\n18.0                   5\n16.0                   5\n24.0                   4\n23.0                   4\n11.0                   4\n39.0                   3\n19.0                   3\n21.0                   3\n32.0                   3\n36.0                   2\n25.0                   2\n26.0                   2\n28.0                   2\n30.0                   2\n42.0                   1\n35.0                   1\n49.0                   1\n34.0                   1\n38.0                   1\n33.0                   1\n29.0                   1\n27.0                   1\n41.0                   1\n31.0                   1\nName: institute_service, dtype: int64"
          },
          "metadata": {}
        }
      ]
    },
    {
      "metadata": {
        "trusted": true
      },
      "cell_type": "code",
      "source": "combined_updated[\"institute_service\"] = combined_updated[\"institute_service\"].astype('str')",
      "execution_count": 45,
      "outputs": [
        {
          "output_type": "stream",
          "text": "/home/nbuser/anaconda3_420/lib/python3.5/site-packages/ipykernel/__main__.py:1: SettingWithCopyWarning: \nA value is trying to be set on a copy of a slice from a DataFrame.\nTry using .loc[row_indexer,col_indexer] = value instead\n\nSee the caveats in the documentation: http://pandas.pydata.org/pandas-docs/stable/indexing.html#indexing-view-versus-copy\n  if __name__ == '__main__':\n",
          "name": "stderr"
        }
      ]
    },
    {
      "metadata": {
        "trusted": true
      },
      "cell_type": "code",
      "source": "s='7.0'\ndef add_cat(s):\n    index = s.find('-')\n    if index != -1:\n        number = float(s[:index])\n    elif s == 'NaN' or s == 'nan':\n        return None\n    else:\n        try:\n            number = [float(i) for i in s.split() if i.isdigit()][0]\n        except:\n            number = [float(i) for i in s.split('.') if i.isdigit()][0]\n        \n    if number < 3:\n        return 'New'\n    elif number < 7:\n        return 'Experienced'\n    elif number < 11:\n        return 'Established'\n    else:\n        return 'Veteran'\nadd_cat(s)",
      "execution_count": 46,
      "outputs": [
        {
          "output_type": "execute_result",
          "execution_count": 46,
          "data": {
            "text/plain": "'Established'"
          },
          "metadata": {}
        }
      ]
    },
    {
      "metadata": {
        "trusted": true
      },
      "cell_type": "code",
      "source": "combined_updated[\"service_cat\"] = combined_updated[\"institute_service\"].apply(add_cat)",
      "execution_count": 47,
      "outputs": [
        {
          "output_type": "stream",
          "text": "/home/nbuser/anaconda3_420/lib/python3.5/site-packages/ipykernel/__main__.py:1: SettingWithCopyWarning: \nA value is trying to be set on a copy of a slice from a DataFrame.\nTry using .loc[row_indexer,col_indexer] = value instead\n\nSee the caveats in the documentation: http://pandas.pydata.org/pandas-docs/stable/indexing.html#indexing-view-versus-copy\n  if __name__ == '__main__':\n",
          "name": "stderr"
        }
      ]
    },
    {
      "metadata": {
        "trusted": true
      },
      "cell_type": "code",
      "source": "combined_updated[\"institute_service\"].value_counts()",
      "execution_count": 48,
      "outputs": [
        {
          "output_type": "execute_result",
          "execution_count": 48,
          "data": {
            "text/plain": "nan                   88\nLess than 1 year      73\n1-2                   64\n3-4                   63\n5-6                   33\n11-20                 26\n5.0                   23\n1.0                   22\n7-10                  21\n0.0                   20\n3.0                   20\n6.0                   17\n4.0                   16\n2.0                   14\n9.0                   14\n7.0                   13\nMore than 20 years    10\n8.0                    8\n13.0                   8\n20.0                   7\n15.0                   7\n14.0                   6\n17.0                   6\n12.0                   6\n22.0                   6\n10.0                   6\n16.0                   5\n18.0                   5\n23.0                   4\n11.0                   4\n24.0                   4\n32.0                   3\n21.0                   3\n19.0                   3\n39.0                   3\n30.0                   2\n26.0                   2\n25.0                   2\n36.0                   2\n28.0                   2\n42.0                   1\n27.0                   1\n31.0                   1\n49.0                   1\n34.0                   1\n35.0                   1\n38.0                   1\n41.0                   1\n33.0                   1\n29.0                   1\nName: institute_service, dtype: int64"
          },
          "metadata": {}
        }
      ]
    },
    {
      "metadata": {
        "trusted": true
      },
      "cell_type": "code",
      "source": "combined_updated[\"service_cat\"].value_counts()",
      "execution_count": 49,
      "outputs": [
        {
          "output_type": "execute_result",
          "execution_count": 49,
          "data": {
            "text/plain": "New            193\nExperienced    172\nVeteran        136\nEstablished     62\nName: service_cat, dtype: int64"
          },
          "metadata": {}
        }
      ]
    },
    {
      "metadata": {
        "trusted": true
      },
      "cell_type": "code",
      "source": "combined_updated[\"dissatisfied\"].value_counts(dropna=False)",
      "execution_count": 50,
      "outputs": [
        {
          "output_type": "execute_result",
          "execution_count": 50,
          "data": {
            "text/plain": "False    403\nTrue     248\nName: dissatisfied, dtype: int64"
          },
          "metadata": {}
        }
      ]
    },
    {
      "metadata": {
        "trusted": true
      },
      "cell_type": "code",
      "source": "combined_updated[\"dissatisfied\"] = combined_updated[\"dissatisfied\"].fillna(False)",
      "execution_count": 51,
      "outputs": [
        {
          "output_type": "stream",
          "text": "/home/nbuser/anaconda3_420/lib/python3.5/site-packages/ipykernel/__main__.py:1: SettingWithCopyWarning: \nA value is trying to be set on a copy of a slice from a DataFrame.\nTry using .loc[row_indexer,col_indexer] = value instead\n\nSee the caveats in the documentation: http://pandas.pydata.org/pandas-docs/stable/indexing.html#indexing-view-versus-copy\n  if __name__ == '__main__':\n",
          "name": "stderr"
        }
      ]
    },
    {
      "metadata": {
        "trusted": true
      },
      "cell_type": "code",
      "source": "combined_updated[\"dissatisfied\"].value_counts(dropna=False)",
      "execution_count": 52,
      "outputs": [
        {
          "output_type": "execute_result",
          "execution_count": 52,
          "data": {
            "text/plain": "False    403\nTrue     248\nName: dissatisfied, dtype: int64"
          },
          "metadata": {}
        }
      ]
    },
    {
      "metadata": {
        "trusted": true
      },
      "cell_type": "code",
      "source": "pv = combined_updated.pivot_table(values =\"dissatisfied\", index=\"service_cat\")\npv",
      "execution_count": 53,
      "outputs": [
        {
          "output_type": "execute_result",
          "execution_count": 53,
          "data": {
            "text/plain": "             dissatisfied\nservice_cat              \nEstablished      0.516129\nExperienced      0.343023\nNew              0.295337\nVeteran          0.485294",
            "text/html": "<div>\n<style scoped>\n    .dataframe tbody tr th:only-of-type {\n        vertical-align: middle;\n    }\n\n    .dataframe tbody tr th {\n        vertical-align: top;\n    }\n\n    .dataframe thead th {\n        text-align: right;\n    }\n</style>\n<table border=\"1\" class=\"dataframe\">\n  <thead>\n    <tr style=\"text-align: right;\">\n      <th></th>\n      <th>dissatisfied</th>\n    </tr>\n    <tr>\n      <th>service_cat</th>\n      <th></th>\n    </tr>\n  </thead>\n  <tbody>\n    <tr>\n      <th>Established</th>\n      <td>0.516129</td>\n    </tr>\n    <tr>\n      <th>Experienced</th>\n      <td>0.343023</td>\n    </tr>\n    <tr>\n      <th>New</th>\n      <td>0.295337</td>\n    </tr>\n    <tr>\n      <th>Veteran</th>\n      <td>0.485294</td>\n    </tr>\n  </tbody>\n</table>\n</div>"
          },
          "metadata": {}
        }
      ]
    },
    {
      "metadata": {
        "trusted": true
      },
      "cell_type": "code",
      "source": "pv.plot(kind='bar')",
      "execution_count": 54,
      "outputs": [
        {
          "output_type": "execute_result",
          "execution_count": 54,
          "data": {
            "text/plain": "<matplotlib.axes._subplots.AxesSubplot at 0x7f80b619ff98>"
          },
          "metadata": {}
        },
        {
          "output_type": "display_data",
          "data": {
            "image/png": "[encoded data removed]",
            "text/plain": "<matplotlib.figure.Figure at 0x7f80b61c0518>"
          },
          "metadata": {}
        }
      ]
    },
    {
      "metadata": {},
      "cell_type": "markdown",
      "source": "The longer an employee works at the institute, the more likey they are to leave becuase of dissatisfation"
    },
    {
      "metadata": {
        "trusted": true
      },
      "cell_type": "code",
      "source": "",
      "execution_count": null,
      "outputs": []
    }
  ],
  "metadata": {
    "kernelspec": {
      "name": "python3",
      "display_name": "Python 3",
      "language": "python"
    },
    "language_info": {
      "mimetype": "text/x-python",
      "nbconvert_exporter": "python",
      "name": "python",
      "pygments_lexer": "ipython3",
      "version": "3.5.4",
      "file_extension": ".py",
      "codemirror_mode": {
        "version": 3,
        "name": "ipython"
      }
    }
  },
  "nbformat": 4,
  "nbformat_minor": 2
}