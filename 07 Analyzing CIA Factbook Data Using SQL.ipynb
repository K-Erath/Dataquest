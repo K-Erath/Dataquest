{
  "cells": [
    {
      "metadata": {
        "collapsed": true
      },
      "cell_type": "markdown",
      "source": "# Analyzing CIA Factbook Data Using SQL\n\nThis notebook examines data from the CIA World Factbook, a compendium of statistics about all of the countries on Earth."
    },
    {
      "metadata": {
        "trusted": true
      },
      "cell_type": "code",
      "source": "!pip install --upgrade pip",
      "execution_count": 19,
      "outputs": [
        {
          "output_type": "stream",
          "text": "Requirement already up-to-date: pip in /home/nbuser/anaconda3_420/lib/python3.5/site-packages (20.1.1)\r\n",
          "name": "stdout"
        }
      ]
    },
    {
      "metadata": {
        "trusted": true
      },
      "cell_type": "code",
      "source": "!pip install ipython-sql",
      "execution_count": 20,
      "outputs": [
        {
          "output_type": "stream",
          "text": "Requirement already satisfied: ipython-sql in /home/nbuser/anaconda3_420/lib/python3.5/site-packages (0.4.0)\nRequirement already satisfied: sqlparse in /home/nbuser/anaconda3_420/lib/python3.5/site-packages (from ipython-sql) (0.3.1)\nRequirement already satisfied: six in /home/nbuser/anaconda3_420/lib/python3.5/site-packages (from ipython-sql) (1.11.0)\nRequirement already satisfied: ipython>=1.0 in /home/nbuser/anaconda3_420/lib/python3.5/site-packages (from ipython-sql) (6.2.1)\nRequirement already satisfied: prettytable<1 in /home/nbuser/anaconda3_420/lib/python3.5/site-packages (from ipython-sql) (0.7.2)\nRequirement already satisfied: ipython-genutils>=0.1.0 in /home/nbuser/anaconda3_420/lib/python3.5/site-packages (from ipython-sql) (0.1.0)\nRequirement already satisfied: sqlalchemy>=0.6.7 in /home/nbuser/anaconda3_420/lib/python3.5/site-packages (from ipython-sql) (1.0.13)\nRequirement already satisfied: setuptools>=18.5 in /home/nbuser/anaconda3_420/lib/python3.5/site-packages (from ipython>=1.0->ipython-sql) (41.6.0)\nRequirement already satisfied: jedi>=0.10 in /home/nbuser/anaconda3_420/lib/python3.5/site-packages (from ipython>=1.0->ipython-sql) (0.11.0)\nRequirement already satisfied: decorator in /home/nbuser/anaconda3_420/lib/python3.5/site-packages (from ipython>=1.0->ipython-sql) (4.4.1)\nRequirement already satisfied: pickleshare in /home/nbuser/anaconda3_420/lib/python3.5/site-packages (from ipython>=1.0->ipython-sql) (0.7.4)\nRequirement already satisfied: simplegeneric>0.8 in /home/nbuser/anaconda3_420/lib/python3.5/site-packages (from ipython>=1.0->ipython-sql) (0.8.1)\nRequirement already satisfied: traitlets>=4.2 in /home/nbuser/anaconda3_420/lib/python3.5/site-packages (from ipython>=1.0->ipython-sql) (4.3.1)\nRequirement already satisfied: prompt_toolkit<2.0.0,>=1.0.4 in /home/nbuser/anaconda3_420/lib/python3.5/site-packages (from ipython>=1.0->ipython-sql) (1.0.15)\nRequirement already satisfied: pygments in /home/nbuser/anaconda3_420/lib/python3.5/site-packages (from ipython>=1.0->ipython-sql) (2.1.3)\nRequirement already satisfied: pexpect in /home/nbuser/anaconda3_420/lib/python3.5/site-packages (from ipython>=1.0->ipython-sql) (4.0.1)\nRequirement already satisfied: parso==0.1.* in /home/nbuser/anaconda3_420/lib/python3.5/site-packages (from jedi>=0.10->ipython>=1.0->ipython-sql) (0.1.1)\nRequirement already satisfied: wcwidth in /home/nbuser/anaconda3_420/lib/python3.5/site-packages (from prompt_toolkit<2.0.0,>=1.0.4->ipython>=1.0->ipython-sql) (0.1.7)\n",
          "name": "stdout"
        }
      ]
    },
    {
      "metadata": {
        "trusted": true
      },
      "cell_type": "code",
      "source": "%%capture\n%load_ext sql\n%sql sqlite:///factbook.db",
      "execution_count": 21,
      "outputs": []
    },
    {
      "metadata": {},
      "cell_type": "markdown",
      "source": "## Overview of the Data"
    },
    {
      "metadata": {
        "trusted": true
      },
      "cell_type": "code",
      "source": "%%sql\nSELECT * FROM sqlite_master WHERE type='table';",
      "execution_count": 22,
      "outputs": [
        {
          "output_type": "stream",
          "text": " * sqlite:///factbook.db\nDone.\n",
          "name": "stdout"
        },
        {
          "output_type": "execute_result",
          "execution_count": 22,
          "data": {
            "text/html": "<table>\n    <tr>\n        <th>type</th>\n        <th>name</th>\n        <th>tbl_name</th>\n        <th>rootpage</th>\n        <th>sql</th>\n    </tr>\n    <tr>\n        <td>table</td>\n        <td>sqlite_sequence</td>\n        <td>sqlite_sequence</td>\n        <td>3</td>\n        <td>CREATE TABLE sqlite_sequence(name,seq)</td>\n    </tr>\n    <tr>\n        <td>table</td>\n        <td>facts</td>\n        <td>facts</td>\n        <td>47</td>\n        <td>CREATE TABLE &quot;facts&quot; (&quot;id&quot; INTEGER PRIMARY KEY AUTOINCREMENT NOT NULL, &quot;code&quot; varchar(255) NOT NULL, &quot;name&quot; varchar(255) NOT NULL, &quot;area&quot; integer, &quot;area_land&quot; integer, &quot;area_water&quot; integer, &quot;population&quot; integer, &quot;population_growth&quot; float, &quot;birth_rate&quot; float, &quot;death_rate&quot; float, &quot;migration_rate&quot; float)</td>\n    </tr>\n</table>",
            "text/plain": "[('table', 'sqlite_sequence', 'sqlite_sequence', 3, 'CREATE TABLE sqlite_sequence(name,seq)'),\n ('table', 'facts', 'facts', 47, 'CREATE TABLE \"facts\" (\"id\" INTEGER PRIMARY KEY AUTOINCREMENT NOT NULL, \"code\" varchar(255) NOT NULL, \"name\" varchar(255) NOT NULL, \"area\" integer, \"area_land\" integer, \"area_water\" integer, \"population\" integer, \"population_growth\" float, \"birth_rate\" float, \"death_rate\" float, \"migration_rate\" float)')]"
          },
          "metadata": {}
        }
      ]
    },
    {
      "metadata": {
        "trusted": true
      },
      "cell_type": "code",
      "source": "%%sql\nSELECT * FROM sqlite_sequence;",
      "execution_count": 23,
      "outputs": [
        {
          "output_type": "stream",
          "text": " * sqlite:///factbook.db\nDone.\n",
          "name": "stdout"
        },
        {
          "output_type": "execute_result",
          "execution_count": 23,
          "data": {
            "text/html": "<table>\n    <tr>\n        <th>name</th>\n        <th>seq</th>\n    </tr>\n    <tr>\n        <td>facts</td>\n        <td>261</td>\n    </tr>\n</table>",
            "text/plain": "[('facts', 261)]"
          },
          "metadata": {}
        }
      ]
    },
    {
      "metadata": {
        "trusted": true
      },
      "cell_type": "code",
      "source": "%%sql\nSELECT * FROM facts LIMIT 5;",
      "execution_count": 24,
      "outputs": [
        {
          "output_type": "stream",
          "text": " * sqlite:///factbook.db\nDone.\n",
          "name": "stdout"
        },
        {
          "output_type": "execute_result",
          "execution_count": 24,
          "data": {
            "text/html": "<table>\n    <tr>\n        <th>id</th>\n        <th>code</th>\n        <th>name</th>\n        <th>area</th>\n        <th>area_land</th>\n        <th>area_water</th>\n        <th>population</th>\n        <th>population_growth</th>\n        <th>birth_rate</th>\n        <th>death_rate</th>\n        <th>migration_rate</th>\n    </tr>\n    <tr>\n        <td>1</td>\n        <td>af</td>\n        <td>Afghanistan</td>\n        <td>652230</td>\n        <td>652230</td>\n        <td>0</td>\n        <td>32564342</td>\n        <td>2.32</td>\n        <td>38.57</td>\n        <td>13.89</td>\n        <td>1.51</td>\n    </tr>\n    <tr>\n        <td>2</td>\n        <td>al</td>\n        <td>Albania</td>\n        <td>28748</td>\n        <td>27398</td>\n        <td>1350</td>\n        <td>3029278</td>\n        <td>0.3</td>\n        <td>12.92</td>\n        <td>6.58</td>\n        <td>3.3</td>\n    </tr>\n    <tr>\n        <td>3</td>\n        <td>ag</td>\n        <td>Algeria</td>\n        <td>2381741</td>\n        <td>2381741</td>\n        <td>0</td>\n        <td>39542166</td>\n        <td>1.84</td>\n        <td>23.67</td>\n        <td>4.31</td>\n        <td>0.92</td>\n    </tr>\n    <tr>\n        <td>4</td>\n        <td>an</td>\n        <td>Andorra</td>\n        <td>468</td>\n        <td>468</td>\n        <td>0</td>\n        <td>85580</td>\n        <td>0.12</td>\n        <td>8.13</td>\n        <td>6.96</td>\n        <td>0.0</td>\n    </tr>\n    <tr>\n        <td>5</td>\n        <td>ao</td>\n        <td>Angola</td>\n        <td>1246700</td>\n        <td>1246700</td>\n        <td>0</td>\n        <td>19625353</td>\n        <td>2.78</td>\n        <td>38.78</td>\n        <td>11.49</td>\n        <td>0.46</td>\n    </tr>\n</table>",
            "text/plain": "[(1, 'af', 'Afghanistan', 652230, 652230, 0, 32564342, 2.32, 38.57, 13.89, 1.51),\n (2, 'al', 'Albania', 28748, 27398, 1350, 3029278, 0.3, 12.92, 6.58, 3.3),\n (3, 'ag', 'Algeria', 2381741, 2381741, 0, 39542166, 1.84, 23.67, 4.31, 0.92),\n (4, 'an', 'Andorra', 468, 468, 0, 85580, 0.12, 8.13, 6.96, 0.0),\n (5, 'ao', 'Angola', 1246700, 1246700, 0, 19625353, 2.78, 38.78, 11.49, 0.46)]"
          },
          "metadata": {}
        }
      ]
    },
    {
      "metadata": {},
      "cell_type": "markdown",
      "source": "## Summary Statistics"
    },
    {
      "metadata": {
        "trusted": true
      },
      "cell_type": "code",
      "source": "%%sql\nSELECT name, MIN(population) AS population \n\nFROM facts;",
      "execution_count": 25,
      "outputs": [
        {
          "output_type": "stream",
          "text": " * sqlite:///factbook.db\nDone.\n",
          "name": "stdout"
        },
        {
          "output_type": "execute_result",
          "execution_count": 25,
          "data": {
            "text/html": "<table>\n    <tr>\n        <th>name</th>\n        <th>population</th>\n    </tr>\n    <tr>\n        <td>Antarctica</td>\n        <td>0</td>\n    </tr>\n</table>",
            "text/plain": "[('Antarctica', 0)]"
          },
          "metadata": {}
        }
      ]
    },
    {
      "metadata": {
        "trusted": true
      },
      "cell_type": "code",
      "source": "%%sql\nSELECT name, MAX(population) AS population FROM facts;",
      "execution_count": 26,
      "outputs": [
        {
          "output_type": "stream",
          "text": " * sqlite:///factbook.db\nDone.\n",
          "name": "stdout"
        },
        {
          "output_type": "execute_result",
          "execution_count": 26,
          "data": {
            "text/html": "<table>\n    <tr>\n        <th>name</th>\n        <th>population</th>\n    </tr>\n    <tr>\n        <td>World</td>\n        <td>7256490011</td>\n    </tr>\n</table>",
            "text/plain": "[('World', 7256490011)]"
          },
          "metadata": {}
        }
      ]
    },
    {
      "metadata": {
        "trusted": true
      },
      "cell_type": "code",
      "source": "%%sql\nSELECT name, MIN(population_growth) AS population_growth FROM facts;",
      "execution_count": 27,
      "outputs": [
        {
          "output_type": "stream",
          "text": " * sqlite:///factbook.db\nDone.\n",
          "name": "stdout"
        },
        {
          "output_type": "execute_result",
          "execution_count": 27,
          "data": {
            "text/html": "<table>\n    <tr>\n        <th>name</th>\n        <th>population_growth</th>\n    </tr>\n    <tr>\n        <td>Holy See (Vatican City)</td>\n        <td>0.0</td>\n    </tr>\n</table>",
            "text/plain": "[('Holy See (Vatican City)', 0.0)]"
          },
          "metadata": {}
        }
      ]
    },
    {
      "metadata": {
        "trusted": true
      },
      "cell_type": "code",
      "source": "%%sql\nSELECT name, MAX(population_growth) AS population_growth FROM facts;",
      "execution_count": 28,
      "outputs": [
        {
          "output_type": "stream",
          "text": " * sqlite:///factbook.db\nDone.\n",
          "name": "stdout"
        },
        {
          "output_type": "execute_result",
          "execution_count": 28,
          "data": {
            "text/html": "<table>\n    <tr>\n        <th>name</th>\n        <th>population_growth</th>\n    </tr>\n    <tr>\n        <td>South Sudan</td>\n        <td>4.02</td>\n    </tr>\n</table>",
            "text/plain": "[('South Sudan', 4.02)]"
          },
          "metadata": {}
        }
      ]
    },
    {
      "metadata": {},
      "cell_type": "markdown",
      "source": "## Exploring Average Population and Area"
    },
    {
      "metadata": {
        "trusted": true
      },
      "cell_type": "code",
      "source": "%%sql\nSELECT \n    AVG(population) AS avg_population,\n    AVG(area) AS avg_area\nFROM facts;",
      "execution_count": 29,
      "outputs": [
        {
          "output_type": "stream",
          "text": " * sqlite:///factbook.db\nDone.\n",
          "name": "stdout"
        },
        {
          "output_type": "execute_result",
          "execution_count": 29,
          "data": {
            "text/html": "<table>\n    <tr>\n        <th>avg_population</th>\n        <th>avg_area</th>\n    </tr>\n    <tr>\n        <td>62094928.32231405</td>\n        <td>555093.546184739</td>\n    </tr>\n</table>",
            "text/plain": "[(62094928.32231405, 555093.546184739)]"
          },
          "metadata": {}
        }
      ]
    },
    {
      "metadata": {},
      "cell_type": "markdown",
      "source": "## Finding Densely Populated Countries"
    },
    {
      "metadata": {
        "trusted": true
      },
      "cell_type": "code",
      "source": "%%sql\nSELECT \n    name \nFROM facts \nWHERE population > (SELECT AVG(population) from facts)\nAND area < (SELECT AVG(area) from facts)",
      "execution_count": 30,
      "outputs": [
        {
          "output_type": "stream",
          "text": " * sqlite:///factbook.db\nDone.\n",
          "name": "stdout"
        },
        {
          "output_type": "execute_result",
          "execution_count": 30,
          "data": {
            "text/html": "<table>\n    <tr>\n        <th>name</th>\n    </tr>\n    <tr>\n        <td>Bangladesh</td>\n    </tr>\n    <tr>\n        <td>Germany</td>\n    </tr>\n    <tr>\n        <td>Japan</td>\n    </tr>\n    <tr>\n        <td>Philippines</td>\n    </tr>\n    <tr>\n        <td>Thailand</td>\n    </tr>\n    <tr>\n        <td>United Kingdom</td>\n    </tr>\n    <tr>\n        <td>Vietnam</td>\n    </tr>\n</table>",
            "text/plain": "[('Bangladesh',),\n ('Germany',),\n ('Japan',),\n ('Philippines',),\n ('Thailand',),\n ('United Kingdom',),\n ('Vietnam',)]"
          },
          "metadata": {}
        }
      ]
    },
    {
      "metadata": {
        "collapsed": true
      },
      "cell_type": "markdown",
      "source": "## Countries With the Highest Ratio of Water to Land"
    },
    {
      "metadata": {
        "trusted": true
      },
      "cell_type": "code",
      "source": "%%sql\nSELECT name, CAST(area_water AS FLOAT)/CAST(area_land AS FLOAT) as ratio\nFROM facts\nORDER BY ratio DESC\nLIMIT 5;",
      "execution_count": 31,
      "outputs": [
        {
          "output_type": "stream",
          "text": " * sqlite:///factbook.db\nDone.\n",
          "name": "stdout"
        },
        {
          "output_type": "execute_result",
          "execution_count": 31,
          "data": {
            "text/html": "<table>\n    <tr>\n        <th>name</th>\n        <th>ratio</th>\n    </tr>\n    <tr>\n        <td>British Indian Ocean Territory</td>\n        <td>905.6666666666666</td>\n    </tr>\n    <tr>\n        <td>Virgin Islands</td>\n        <td>4.520231213872832</td>\n    </tr>\n    <tr>\n        <td>Puerto Rico</td>\n        <td>0.5547914317925592</td>\n    </tr>\n    <tr>\n        <td>Bahamas, The</td>\n        <td>0.3866133866133866</td>\n    </tr>\n    <tr>\n        <td>Guinea-Bissau</td>\n        <td>0.2846728307254623</td>\n    </tr>\n</table>",
            "text/plain": "[('British Indian Ocean Territory', 905.6666666666666),\n ('Virgin Islands', 4.520231213872832),\n ('Puerto Rico', 0.5547914317925592),\n ('Bahamas, The', 0.3866133866133866),\n ('Guinea-Bissau', 0.2846728307254623)]"
          },
          "metadata": {}
        }
      ]
    },
    {
      "metadata": {
        "collapsed": true
      },
      "cell_type": "markdown",
      "source": "## Countries That Will Add the Most People to Thier Populations Next Year"
    },
    {
      "metadata": {
        "trusted": true
      },
      "cell_type": "code",
      "source": "%%sql\nSELECT name, population, population_growth, population * population_growth as new_people\nFROM facts\nORDER BY new_people DESC\nLIMIT 5;",
      "execution_count": 32,
      "outputs": [
        {
          "output_type": "stream",
          "text": " * sqlite:///factbook.db\nDone.\n",
          "name": "stdout"
        },
        {
          "output_type": "execute_result",
          "execution_count": 32,
          "data": {
            "text/html": "<table>\n    <tr>\n        <th>name</th>\n        <th>population</th>\n        <th>population_growth</th>\n        <th>new_people</th>\n    </tr>\n    <tr>\n        <td>World</td>\n        <td>7256490011</td>\n        <td>1.08</td>\n        <td>7837009211.88</td>\n    </tr>\n    <tr>\n        <td>India</td>\n        <td>1251695584</td>\n        <td>1.22</td>\n        <td>1527068612.48</td>\n    </tr>\n    <tr>\n        <td>China</td>\n        <td>1367485388</td>\n        <td>0.45</td>\n        <td>615368424.6</td>\n    </tr>\n    <tr>\n        <td>Nigeria</td>\n        <td>181562056</td>\n        <td>2.45</td>\n        <td>444827037.20000005</td>\n    </tr>\n    <tr>\n        <td>Pakistan</td>\n        <td>199085847</td>\n        <td>1.46</td>\n        <td>290665336.62</td>\n    </tr>\n</table>",
            "text/plain": "[('World', 7256490011, 1.08, 7837009211.88),\n ('India', 1251695584, 1.22, 1527068612.48),\n ('China', 1367485388, 0.45, 615368424.6),\n ('Nigeria', 181562056, 2.45, 444827037.20000005),\n ('Pakistan', 199085847, 1.46, 290665336.62)]"
          },
          "metadata": {}
        }
      ]
    },
    {
      "metadata": {
        "collapsed": true
      },
      "cell_type": "markdown",
      "source": "## Countries With Higher Death Rate Than Birth Rate"
    },
    {
      "metadata": {
        "trusted": true
      },
      "cell_type": "code",
      "source": "%%sql\nSELECT name, death_rate, birth_rate\nFROM facts\nWHERE death_rate > birth_rate;",
      "execution_count": 33,
      "outputs": [
        {
          "output_type": "stream",
          "text": " * sqlite:///factbook.db\nDone.\n",
          "name": "stdout"
        },
        {
          "output_type": "execute_result",
          "execution_count": 33,
          "data": {
            "text/html": "<table>\n    <tr>\n        <th>name</th>\n        <th>death_rate</th>\n        <th>birth_rate</th>\n    </tr>\n    <tr>\n        <td>Austria</td>\n        <td>9.42</td>\n        <td>9.41</td>\n    </tr>\n    <tr>\n        <td>Belarus</td>\n        <td>13.36</td>\n        <td>10.7</td>\n    </tr>\n    <tr>\n        <td>Bosnia and Herzegovina</td>\n        <td>9.75</td>\n        <td>8.87</td>\n    </tr>\n    <tr>\n        <td>Bulgaria</td>\n        <td>14.44</td>\n        <td>8.92</td>\n    </tr>\n    <tr>\n        <td>Croatia</td>\n        <td>12.18</td>\n        <td>9.45</td>\n    </tr>\n    <tr>\n        <td>Czech Republic</td>\n        <td>10.34</td>\n        <td>9.63</td>\n    </tr>\n    <tr>\n        <td>Estonia</td>\n        <td>12.4</td>\n        <td>10.51</td>\n    </tr>\n    <tr>\n        <td>Germany</td>\n        <td>11.42</td>\n        <td>8.47</td>\n    </tr>\n    <tr>\n        <td>Greece</td>\n        <td>11.09</td>\n        <td>8.66</td>\n    </tr>\n    <tr>\n        <td>Hungary</td>\n        <td>12.73</td>\n        <td>9.16</td>\n    </tr>\n    <tr>\n        <td>Italy</td>\n        <td>10.19</td>\n        <td>8.74</td>\n    </tr>\n    <tr>\n        <td>Japan</td>\n        <td>9.51</td>\n        <td>7.93</td>\n    </tr>\n    <tr>\n        <td>Latvia</td>\n        <td>14.31</td>\n        <td>10.0</td>\n    </tr>\n    <tr>\n        <td>Lithuania</td>\n        <td>14.27</td>\n        <td>10.1</td>\n    </tr>\n    <tr>\n        <td>Moldova</td>\n        <td>12.59</td>\n        <td>12.0</td>\n    </tr>\n    <tr>\n        <td>Monaco</td>\n        <td>9.24</td>\n        <td>6.65</td>\n    </tr>\n    <tr>\n        <td>Poland</td>\n        <td>10.19</td>\n        <td>9.74</td>\n    </tr>\n    <tr>\n        <td>Portugal</td>\n        <td>11.02</td>\n        <td>9.27</td>\n    </tr>\n    <tr>\n        <td>Romania</td>\n        <td>11.9</td>\n        <td>9.14</td>\n    </tr>\n    <tr>\n        <td>Russia</td>\n        <td>13.69</td>\n        <td>11.6</td>\n    </tr>\n    <tr>\n        <td>Serbia</td>\n        <td>13.66</td>\n        <td>9.08</td>\n    </tr>\n    <tr>\n        <td>Slovenia</td>\n        <td>11.37</td>\n        <td>8.42</td>\n    </tr>\n    <tr>\n        <td>Ukraine</td>\n        <td>14.46</td>\n        <td>10.72</td>\n    </tr>\n    <tr>\n        <td>Saint Pierre and Miquelon</td>\n        <td>9.72</td>\n        <td>7.42</td>\n    </tr>\n</table>",
            "text/plain": "[('Austria', 9.42, 9.41),\n ('Belarus', 13.36, 10.7),\n ('Bosnia and Herzegovina', 9.75, 8.87),\n ('Bulgaria', 14.44, 8.92),\n ('Croatia', 12.18, 9.45),\n ('Czech Republic', 10.34, 9.63),\n ('Estonia', 12.4, 10.51),\n ('Germany', 11.42, 8.47),\n ('Greece', 11.09, 8.66),\n ('Hungary', 12.73, 9.16),\n ('Italy', 10.19, 8.74),\n ('Japan', 9.51, 7.93),\n ('Latvia', 14.31, 10.0),\n ('Lithuania', 14.27, 10.1),\n ('Moldova', 12.59, 12.0),\n ('Monaco', 9.24, 6.65),\n ('Poland', 10.19, 9.74),\n ('Portugal', 11.02, 9.27),\n ('Romania', 11.9, 9.14),\n ('Russia', 13.69, 11.6),\n ('Serbia', 13.66, 9.08),\n ('Slovenia', 11.37, 8.42),\n ('Ukraine', 14.46, 10.72),\n ('Saint Pierre and Miquelon', 9.72, 7.42)]"
          },
          "metadata": {}
        }
      ]
    },
    {
      "metadata": {
        "trusted": true
      },
      "cell_type": "code",
      "source": "",
      "execution_count": null,
      "outputs": []
    }
  ],
  "metadata": {
    "kernelspec": {
      "name": "python3",
      "display_name": "Python 3",
      "language": "python"
    },
    "language_info": {
      "mimetype": "text/x-python",
      "nbconvert_exporter": "python",
      "name": "python",
      "pygments_lexer": "ipython3",
      "version": "3.5.4",
      "file_extension": ".py",
      "codemirror_mode": {
        "version": 3,
        "name": "ipython"
      }
    }
  },
  "nbformat": 4,
  "nbformat_minor": 2
}