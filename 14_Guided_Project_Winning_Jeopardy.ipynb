{
  "nbformat": 4,
  "nbformat_minor": 0,
  "metadata": {
    "colab": {
      "name": "14 Guided Project Winning Jeopardy.ipynb",
      "provenance": [],
      "collapsed_sections": [],
      "authorship_tag": "ABX9TyO5tV+meodPewxPQzdsLf2E",
      "include_colab_link": true
    },
    "kernelspec": {
      "name": "python3",
      "display_name": "Python 3"
    },
    "language_info": {
      "name": "python"
    }
  },
  "cells": [
    {
      "cell_type": "markdown",
      "metadata": {
        "id": "view-in-github",
        "colab_type": "text"
      },
      "source": [
        "<a href=\"https://colab.research.google.com/github/K-Erath/Dataquest/blob/master/14_Guided_Project_Winning_Jeopardy.ipynb\" target=\"_parent\"><img src=\"https://colab.research.google.com/assets/colab-badge.svg\" alt=\"Open In Colab\"/></a>"
      ]
    },
    {
      "cell_type": "markdown",
      "source": [
        "# Winning Jeopardy\n",
        "Jeopardy is a popular TV show in the US where participants answer questions to win money. It's been running for many years, and is a major force in popular culture. \n",
        "\n",
        "In this project, we will work with a dataset of Jeopardy questions to figure out some patterns in the questions that could help us win if we had an opportunity to compete on Jeopardy."
      ],
      "metadata": {
        "id": "aJwMWSBimHGF"
      }
    },
    {
      "cell_type": "code",
      "execution_count": 1,
      "metadata": {
        "id": "YvnejIBjskWX"
      },
      "outputs": [],
      "source": [
        "import pandas as pd"
      ]
    },
    {
      "cell_type": "code",
      "source": [
        "csv = \"https://drive.google.com/u/0/uc?id=0BwT5wj_P7BKXUl9tOUJWYzVvUjA&export=download\" # dataset with 200K records\n",
        "# csv = \"jeopardy.csv\" # sample dataset with 20K records\n",
        "jeopardy = pd.read_csv(csv)\n",
        "jeopardy.head()"
      ],
      "metadata": {
        "colab": {
          "base_uri": "https://localhost:8080/",
          "height": 206
        },
        "id": "xWRVhJ2TvSvL",
        "outputId": "1ebb53cb-5f39-4d1d-8725-e636af0e7a87"
      },
      "execution_count": 2,
      "outputs": [
        {
          "output_type": "execute_result",
          "data": {
            "text/html": [
              "\n",
              "  <div id=\"df-21328c08-1390-4b15-83e8-dc022b15d02b\">\n",
              "    <div class=\"colab-df-container\">\n",
              "      <div>\n",
              "<style scoped>\n",
              "    .dataframe tbody tr th:only-of-type {\n",
              "        vertical-align: middle;\n",
              "    }\n",
              "\n",
              "    .dataframe tbody tr th {\n",
              "        vertical-align: top;\n",
              "    }\n",
              "\n",
              "    .dataframe thead th {\n",
              "        text-align: right;\n",
              "    }\n",
              "</style>\n",
              "<table border=\"1\" class=\"dataframe\">\n",
              "  <thead>\n",
              "    <tr style=\"text-align: right;\">\n",
              "      <th></th>\n",
              "      <th>Show Number</th>\n",
              "      <th>Air Date</th>\n",
              "      <th>Round</th>\n",
              "      <th>Category</th>\n",
              "      <th>Value</th>\n",
              "      <th>Question</th>\n",
              "      <th>Answer</th>\n",
              "    </tr>\n",
              "  </thead>\n",
              "  <tbody>\n",
              "    <tr>\n",
              "      <th>0</th>\n",
              "      <td>4680</td>\n",
              "      <td>2004-12-31</td>\n",
              "      <td>Jeopardy!</td>\n",
              "      <td>HISTORY</td>\n",
              "      <td>$200</td>\n",
              "      <td>For the last 8 years of his life, Galileo was ...</td>\n",
              "      <td>Copernicus</td>\n",
              "    </tr>\n",
              "    <tr>\n",
              "      <th>1</th>\n",
              "      <td>4680</td>\n",
              "      <td>2004-12-31</td>\n",
              "      <td>Jeopardy!</td>\n",
              "      <td>ESPN's TOP 10 ALL-TIME ATHLETES</td>\n",
              "      <td>$200</td>\n",
              "      <td>No. 2: 1912 Olympian; football star at Carlisl...</td>\n",
              "      <td>Jim Thorpe</td>\n",
              "    </tr>\n",
              "    <tr>\n",
              "      <th>2</th>\n",
              "      <td>4680</td>\n",
              "      <td>2004-12-31</td>\n",
              "      <td>Jeopardy!</td>\n",
              "      <td>EVERYBODY TALKS ABOUT IT...</td>\n",
              "      <td>$200</td>\n",
              "      <td>The city of Yuma in this state has a record av...</td>\n",
              "      <td>Arizona</td>\n",
              "    </tr>\n",
              "    <tr>\n",
              "      <th>3</th>\n",
              "      <td>4680</td>\n",
              "      <td>2004-12-31</td>\n",
              "      <td>Jeopardy!</td>\n",
              "      <td>THE COMPANY LINE</td>\n",
              "      <td>$200</td>\n",
              "      <td>In 1963, live on \"The Art Linkletter Show\", th...</td>\n",
              "      <td>McDonald's</td>\n",
              "    </tr>\n",
              "    <tr>\n",
              "      <th>4</th>\n",
              "      <td>4680</td>\n",
              "      <td>2004-12-31</td>\n",
              "      <td>Jeopardy!</td>\n",
              "      <td>EPITAPHS &amp; TRIBUTES</td>\n",
              "      <td>$200</td>\n",
              "      <td>Signer of the Dec. of Indep., framer of the Co...</td>\n",
              "      <td>John Adams</td>\n",
              "    </tr>\n",
              "  </tbody>\n",
              "</table>\n",
              "</div>\n",
              "      <button class=\"colab-df-convert\" onclick=\"convertToInteractive('df-21328c08-1390-4b15-83e8-dc022b15d02b')\"\n",
              "              title=\"Convert this dataframe to an interactive table.\"\n",
              "              style=\"display:none;\">\n",
              "        \n",
              "  <svg xmlns=\"http://www.w3.org/2000/svg\" height=\"24px\"viewBox=\"0 0 24 24\"\n",
              "       width=\"24px\">\n",
              "    <path d=\"M0 0h24v24H0V0z\" fill=\"none\"/>\n",
              "    <path d=\"M18.56 5.44l.94 2.06.94-2.06 2.06-.94-2.06-.94-.94-2.06-.94 2.06-2.06.94zm-11 1L8.5 8.5l.94-2.06 2.06-.94-2.06-.94L8.5 2.5l-.94 2.06-2.06.94zm10 10l.94 2.06.94-2.06 2.06-.94-2.06-.94-.94-2.06-.94 2.06-2.06.94z\"/><path d=\"M17.41 7.96l-1.37-1.37c-.4-.4-.92-.59-1.43-.59-.52 0-1.04.2-1.43.59L10.3 9.45l-7.72 7.72c-.78.78-.78 2.05 0 2.83L4 21.41c.39.39.9.59 1.41.59.51 0 1.02-.2 1.41-.59l7.78-7.78 2.81-2.81c.8-.78.8-2.07 0-2.86zM5.41 20L4 18.59l7.72-7.72 1.47 1.35L5.41 20z\"/>\n",
              "  </svg>\n",
              "      </button>\n",
              "      \n",
              "  <style>\n",
              "    .colab-df-container {\n",
              "      display:flex;\n",
              "      flex-wrap:wrap;\n",
              "      gap: 12px;\n",
              "    }\n",
              "\n",
              "    .colab-df-convert {\n",
              "      background-color: #E8F0FE;\n",
              "      border: none;\n",
              "      border-radius: 50%;\n",
              "      cursor: pointer;\n",
              "      display: none;\n",
              "      fill: #1967D2;\n",
              "      height: 32px;\n",
              "      padding: 0 0 0 0;\n",
              "      width: 32px;\n",
              "    }\n",
              "\n",
              "    .colab-df-convert:hover {\n",
              "      background-color: #E2EBFA;\n",
              "      box-shadow: 0px 1px 2px rgba(60, 64, 67, 0.3), 0px 1px 3px 1px rgba(60, 64, 67, 0.15);\n",
              "      fill: #174EA6;\n",
              "    }\n",
              "\n",
              "    [theme=dark] .colab-df-convert {\n",
              "      background-color: #3B4455;\n",
              "      fill: #D2E3FC;\n",
              "    }\n",
              "\n",
              "    [theme=dark] .colab-df-convert:hover {\n",
              "      background-color: #434B5C;\n",
              "      box-shadow: 0px 1px 3px 1px rgba(0, 0, 0, 0.15);\n",
              "      filter: drop-shadow(0px 1px 2px rgba(0, 0, 0, 0.3));\n",
              "      fill: #FFFFFF;\n",
              "    }\n",
              "  </style>\n",
              "\n",
              "      <script>\n",
              "        const buttonEl =\n",
              "          document.querySelector('#df-21328c08-1390-4b15-83e8-dc022b15d02b button.colab-df-convert');\n",
              "        buttonEl.style.display =\n",
              "          google.colab.kernel.accessAllowed ? 'block' : 'none';\n",
              "\n",
              "        async function convertToInteractive(key) {\n",
              "          const element = document.querySelector('#df-21328c08-1390-4b15-83e8-dc022b15d02b');\n",
              "          const dataTable =\n",
              "            await google.colab.kernel.invokeFunction('convertToInteractive',\n",
              "                                                     [key], {});\n",
              "          if (!dataTable) return;\n",
              "\n",
              "          const docLinkHtml = 'Like what you see? Visit the ' +\n",
              "            '<a target=\"_blank\" href=https://colab.research.google.com/notebooks/data_table.ipynb>data table notebook</a>'\n",
              "            + ' to learn more about interactive tables.';\n",
              "          element.innerHTML = '';\n",
              "          dataTable['output_type'] = 'display_data';\n",
              "          await google.colab.output.renderOutput(dataTable, element);\n",
              "          const docLink = document.createElement('div');\n",
              "          docLink.innerHTML = docLinkHtml;\n",
              "          element.appendChild(docLink);\n",
              "        }\n",
              "      </script>\n",
              "    </div>\n",
              "  </div>\n",
              "  "
            ],
            "text/plain": [
              "   Show Number  ...      Answer\n",
              "0         4680  ...  Copernicus\n",
              "1         4680  ...  Jim Thorpe\n",
              "2         4680  ...     Arizona\n",
              "3         4680  ...  McDonald's\n",
              "4         4680  ...  John Adams\n",
              "\n",
              "[5 rows x 7 columns]"
            ]
          },
          "metadata": {},
          "execution_count": 2
        }
      ]
    },
    {
      "cell_type": "code",
      "source": [
        "jeopardy.columns"
      ],
      "metadata": {
        "colab": {
          "base_uri": "https://localhost:8080/"
        },
        "id": "FXu7I15JgZNY",
        "outputId": "0b48670d-abfd-41f8-fddd-ff5da7eb0373"
      },
      "execution_count": 3,
      "outputs": [
        {
          "output_type": "execute_result",
          "data": {
            "text/plain": [
              "Index(['Show Number', ' Air Date', ' Round', ' Category', ' Value',\n",
              "       ' Question', ' Answer'],\n",
              "      dtype='object')"
            ]
          },
          "metadata": {},
          "execution_count": 3
        }
      ]
    },
    {
      "cell_type": "code",
      "source": [
        "# remove spaces from column names\n",
        "jeopardy.columns = jeopardy.columns.str.replace(' ', '')"
      ],
      "metadata": {
        "id": "NMMrMuJPgisH"
      },
      "execution_count": 4,
      "outputs": []
    },
    {
      "cell_type": "markdown",
      "source": [
        "## Normalize Columns\n",
        "Normalize columns of text so that we can compare them and words will not be counted as different if they have different capitalization or punctuation."
      ],
      "metadata": {
        "id": "alw0SAHlEZkt"
      }
    },
    {
      "cell_type": "code",
      "source": [
        "import re\n",
        "\n",
        "def clean_column(s):\n",
        "    '''functions takes string as input, converts to lowercase, removes \n",
        "    punctuation, returns clean string.\n",
        "    '''\n",
        "    s = str(s)\n",
        "    s = s.lower()\n",
        "    # remove anything that is not a word character or a white space\n",
        "    s = re.sub('[^\\w\\s]', '', s)\n",
        "    return s"
      ],
      "metadata": {
        "id": "-xspKibziZId"
      },
      "execution_count": 5,
      "outputs": []
    },
    {
      "cell_type": "code",
      "source": [
        "# clean question and anser columns so they will be ready for processing\n",
        "jeopardy['clean_question'] = jeopardy['Question'].apply(clean_column)\n",
        "jeopardy['clean_answer'] = jeopardy['Answer'].apply(clean_column)"
      ],
      "metadata": {
        "id": "PNVl_DymjGwJ"
      },
      "execution_count": 6,
      "outputs": []
    },
    {
      "cell_type": "code",
      "source": [
        "jeopardy"
      ],
      "metadata": {
        "colab": {
          "base_uri": "https://localhost:8080/",
          "height": 641
        },
        "id": "lFFlp0XukMc_",
        "outputId": "5d19d273-aba2-4444-a4ec-665b58ed3d72"
      },
      "execution_count": 7,
      "outputs": [
        {
          "output_type": "execute_result",
          "data": {
            "text/html": [
              "\n",
              "  <div id=\"df-5eef7b6a-18b4-4939-83f6-2d8b234af937\">\n",
              "    <div class=\"colab-df-container\">\n",
              "      <div>\n",
              "<style scoped>\n",
              "    .dataframe tbody tr th:only-of-type {\n",
              "        vertical-align: middle;\n",
              "    }\n",
              "\n",
              "    .dataframe tbody tr th {\n",
              "        vertical-align: top;\n",
              "    }\n",
              "\n",
              "    .dataframe thead th {\n",
              "        text-align: right;\n",
              "    }\n",
              "</style>\n",
              "<table border=\"1\" class=\"dataframe\">\n",
              "  <thead>\n",
              "    <tr style=\"text-align: right;\">\n",
              "      <th></th>\n",
              "      <th>ShowNumber</th>\n",
              "      <th>AirDate</th>\n",
              "      <th>Round</th>\n",
              "      <th>Category</th>\n",
              "      <th>Value</th>\n",
              "      <th>Question</th>\n",
              "      <th>Answer</th>\n",
              "      <th>clean_question</th>\n",
              "      <th>clean_answer</th>\n",
              "    </tr>\n",
              "  </thead>\n",
              "  <tbody>\n",
              "    <tr>\n",
              "      <th>0</th>\n",
              "      <td>4680</td>\n",
              "      <td>2004-12-31</td>\n",
              "      <td>Jeopardy!</td>\n",
              "      <td>HISTORY</td>\n",
              "      <td>$200</td>\n",
              "      <td>For the last 8 years of his life, Galileo was ...</td>\n",
              "      <td>Copernicus</td>\n",
              "      <td>for the last 8 years of his life galileo was u...</td>\n",
              "      <td>copernicus</td>\n",
              "    </tr>\n",
              "    <tr>\n",
              "      <th>1</th>\n",
              "      <td>4680</td>\n",
              "      <td>2004-12-31</td>\n",
              "      <td>Jeopardy!</td>\n",
              "      <td>ESPN's TOP 10 ALL-TIME ATHLETES</td>\n",
              "      <td>$200</td>\n",
              "      <td>No. 2: 1912 Olympian; football star at Carlisl...</td>\n",
              "      <td>Jim Thorpe</td>\n",
              "      <td>no 2 1912 olympian football star at carlisle i...</td>\n",
              "      <td>jim thorpe</td>\n",
              "    </tr>\n",
              "    <tr>\n",
              "      <th>2</th>\n",
              "      <td>4680</td>\n",
              "      <td>2004-12-31</td>\n",
              "      <td>Jeopardy!</td>\n",
              "      <td>EVERYBODY TALKS ABOUT IT...</td>\n",
              "      <td>$200</td>\n",
              "      <td>The city of Yuma in this state has a record av...</td>\n",
              "      <td>Arizona</td>\n",
              "      <td>the city of yuma in this state has a record av...</td>\n",
              "      <td>arizona</td>\n",
              "    </tr>\n",
              "    <tr>\n",
              "      <th>3</th>\n",
              "      <td>4680</td>\n",
              "      <td>2004-12-31</td>\n",
              "      <td>Jeopardy!</td>\n",
              "      <td>THE COMPANY LINE</td>\n",
              "      <td>$200</td>\n",
              "      <td>In 1963, live on \"The Art Linkletter Show\", th...</td>\n",
              "      <td>McDonald's</td>\n",
              "      <td>in 1963 live on the art linkletter show this c...</td>\n",
              "      <td>mcdonalds</td>\n",
              "    </tr>\n",
              "    <tr>\n",
              "      <th>4</th>\n",
              "      <td>4680</td>\n",
              "      <td>2004-12-31</td>\n",
              "      <td>Jeopardy!</td>\n",
              "      <td>EPITAPHS &amp; TRIBUTES</td>\n",
              "      <td>$200</td>\n",
              "      <td>Signer of the Dec. of Indep., framer of the Co...</td>\n",
              "      <td>John Adams</td>\n",
              "      <td>signer of the dec of indep framer of the const...</td>\n",
              "      <td>john adams</td>\n",
              "    </tr>\n",
              "    <tr>\n",
              "      <th>...</th>\n",
              "      <td>...</td>\n",
              "      <td>...</td>\n",
              "      <td>...</td>\n",
              "      <td>...</td>\n",
              "      <td>...</td>\n",
              "      <td>...</td>\n",
              "      <td>...</td>\n",
              "      <td>...</td>\n",
              "      <td>...</td>\n",
              "    </tr>\n",
              "    <tr>\n",
              "      <th>216925</th>\n",
              "      <td>4999</td>\n",
              "      <td>2006-05-11</td>\n",
              "      <td>Double Jeopardy!</td>\n",
              "      <td>RIDDLE ME THIS</td>\n",
              "      <td>$2000</td>\n",
              "      <td>This Puccini opera turns on the solution to 3 ...</td>\n",
              "      <td>Turandot</td>\n",
              "      <td>this puccini opera turns on the solution to 3 ...</td>\n",
              "      <td>turandot</td>\n",
              "    </tr>\n",
              "    <tr>\n",
              "      <th>216926</th>\n",
              "      <td>4999</td>\n",
              "      <td>2006-05-11</td>\n",
              "      <td>Double Jeopardy!</td>\n",
              "      <td>\"T\" BIRDS</td>\n",
              "      <td>$2000</td>\n",
              "      <td>In North America this term is properly applied...</td>\n",
              "      <td>a titmouse</td>\n",
              "      <td>in north america this term is properly applied...</td>\n",
              "      <td>a titmouse</td>\n",
              "    </tr>\n",
              "    <tr>\n",
              "      <th>216927</th>\n",
              "      <td>4999</td>\n",
              "      <td>2006-05-11</td>\n",
              "      <td>Double Jeopardy!</td>\n",
              "      <td>AUTHORS IN THEIR YOUTH</td>\n",
              "      <td>$2000</td>\n",
              "      <td>In Penny Lane, where this \"Hellraiser\" grew up...</td>\n",
              "      <td>Clive Barker</td>\n",
              "      <td>in penny lane where this hellraiser grew up th...</td>\n",
              "      <td>clive barker</td>\n",
              "    </tr>\n",
              "    <tr>\n",
              "      <th>216928</th>\n",
              "      <td>4999</td>\n",
              "      <td>2006-05-11</td>\n",
              "      <td>Double Jeopardy!</td>\n",
              "      <td>QUOTATIONS</td>\n",
              "      <td>$2000</td>\n",
              "      <td>From Ft. Sill, Okla. he made the plea, Arizona...</td>\n",
              "      <td>Geronimo</td>\n",
              "      <td>from ft sill okla he made the plea arizona is ...</td>\n",
              "      <td>geronimo</td>\n",
              "    </tr>\n",
              "    <tr>\n",
              "      <th>216929</th>\n",
              "      <td>4999</td>\n",
              "      <td>2006-05-11</td>\n",
              "      <td>Final Jeopardy!</td>\n",
              "      <td>HISTORIC NAMES</td>\n",
              "      <td>None</td>\n",
              "      <td>A silent movie title includes the last name of...</td>\n",
              "      <td>Grigori Alexandrovich Potemkin</td>\n",
              "      <td>a silent movie title includes the last name of...</td>\n",
              "      <td>grigori alexandrovich potemkin</td>\n",
              "    </tr>\n",
              "  </tbody>\n",
              "</table>\n",
              "<p>216930 rows × 9 columns</p>\n",
              "</div>\n",
              "      <button class=\"colab-df-convert\" onclick=\"convertToInteractive('df-5eef7b6a-18b4-4939-83f6-2d8b234af937')\"\n",
              "              title=\"Convert this dataframe to an interactive table.\"\n",
              "              style=\"display:none;\">\n",
              "        \n",
              "  <svg xmlns=\"http://www.w3.org/2000/svg\" height=\"24px\"viewBox=\"0 0 24 24\"\n",
              "       width=\"24px\">\n",
              "    <path d=\"M0 0h24v24H0V0z\" fill=\"none\"/>\n",
              "    <path d=\"M18.56 5.44l.94 2.06.94-2.06 2.06-.94-2.06-.94-.94-2.06-.94 2.06-2.06.94zm-11 1L8.5 8.5l.94-2.06 2.06-.94-2.06-.94L8.5 2.5l-.94 2.06-2.06.94zm10 10l.94 2.06.94-2.06 2.06-.94-2.06-.94-.94-2.06-.94 2.06-2.06.94z\"/><path d=\"M17.41 7.96l-1.37-1.37c-.4-.4-.92-.59-1.43-.59-.52 0-1.04.2-1.43.59L10.3 9.45l-7.72 7.72c-.78.78-.78 2.05 0 2.83L4 21.41c.39.39.9.59 1.41.59.51 0 1.02-.2 1.41-.59l7.78-7.78 2.81-2.81c.8-.78.8-2.07 0-2.86zM5.41 20L4 18.59l7.72-7.72 1.47 1.35L5.41 20z\"/>\n",
              "  </svg>\n",
              "      </button>\n",
              "      \n",
              "  <style>\n",
              "    .colab-df-container {\n",
              "      display:flex;\n",
              "      flex-wrap:wrap;\n",
              "      gap: 12px;\n",
              "    }\n",
              "\n",
              "    .colab-df-convert {\n",
              "      background-color: #E8F0FE;\n",
              "      border: none;\n",
              "      border-radius: 50%;\n",
              "      cursor: pointer;\n",
              "      display: none;\n",
              "      fill: #1967D2;\n",
              "      height: 32px;\n",
              "      padding: 0 0 0 0;\n",
              "      width: 32px;\n",
              "    }\n",
              "\n",
              "    .colab-df-convert:hover {\n",
              "      background-color: #E2EBFA;\n",
              "      box-shadow: 0px 1px 2px rgba(60, 64, 67, 0.3), 0px 1px 3px 1px rgba(60, 64, 67, 0.15);\n",
              "      fill: #174EA6;\n",
              "    }\n",
              "\n",
              "    [theme=dark] .colab-df-convert {\n",
              "      background-color: #3B4455;\n",
              "      fill: #D2E3FC;\n",
              "    }\n",
              "\n",
              "    [theme=dark] .colab-df-convert:hover {\n",
              "      background-color: #434B5C;\n",
              "      box-shadow: 0px 1px 3px 1px rgba(0, 0, 0, 0.15);\n",
              "      filter: drop-shadow(0px 1px 2px rgba(0, 0, 0, 0.3));\n",
              "      fill: #FFFFFF;\n",
              "    }\n",
              "  </style>\n",
              "\n",
              "      <script>\n",
              "        const buttonEl =\n",
              "          document.querySelector('#df-5eef7b6a-18b4-4939-83f6-2d8b234af937 button.colab-df-convert');\n",
              "        buttonEl.style.display =\n",
              "          google.colab.kernel.accessAllowed ? 'block' : 'none';\n",
              "\n",
              "        async function convertToInteractive(key) {\n",
              "          const element = document.querySelector('#df-5eef7b6a-18b4-4939-83f6-2d8b234af937');\n",
              "          const dataTable =\n",
              "            await google.colab.kernel.invokeFunction('convertToInteractive',\n",
              "                                                     [key], {});\n",
              "          if (!dataTable) return;\n",
              "\n",
              "          const docLinkHtml = 'Like what you see? Visit the ' +\n",
              "            '<a target=\"_blank\" href=https://colab.research.google.com/notebooks/data_table.ipynb>data table notebook</a>'\n",
              "            + ' to learn more about interactive tables.';\n",
              "          element.innerHTML = '';\n",
              "          dataTable['output_type'] = 'display_data';\n",
              "          await google.colab.output.renderOutput(dataTable, element);\n",
              "          const docLink = document.createElement('div');\n",
              "          docLink.innerHTML = docLinkHtml;\n",
              "          element.appendChild(docLink);\n",
              "        }\n",
              "      </script>\n",
              "    </div>\n",
              "  </div>\n",
              "  "
            ],
            "text/plain": [
              "        ShowNumber  ...                    clean_answer\n",
              "0             4680  ...                      copernicus\n",
              "1             4680  ...                      jim thorpe\n",
              "2             4680  ...                         arizona\n",
              "3             4680  ...                       mcdonalds\n",
              "4             4680  ...                      john adams\n",
              "...            ...  ...                             ...\n",
              "216925        4999  ...                        turandot\n",
              "216926        4999  ...                      a titmouse\n",
              "216927        4999  ...                    clive barker\n",
              "216928        4999  ...                        geronimo\n",
              "216929        4999  ...  grigori alexandrovich potemkin\n",
              "\n",
              "[216930 rows x 9 columns]"
            ]
          },
          "metadata": {},
          "execution_count": 7
        }
      ]
    },
    {
      "cell_type": "code",
      "source": [
        "def normalize_values(s):\n",
        "    '''Function takes string as input, removes punctuation, converts string to \n",
        "    integer, returns integer. If there is an error, returns 0.\n",
        "    '''\n",
        "    # remove dollar signs and commas by removing everything except word characters\n",
        "    s = re.sub('[^\\w]', '', s)\n",
        "    # if the new value will not convert to int, return zero\n",
        "    try:\n",
        "        val = int(s)\n",
        "    except:\n",
        "        val = 0\n",
        "    return val"
      ],
      "metadata": {
        "id": "gLVzVRDBn4sP"
      },
      "execution_count": 8,
      "outputs": []
    },
    {
      "cell_type": "code",
      "source": [
        "# clean dollar sign and punctuation from value column and convert to integer\n",
        "jeopardy['clean_value'] = jeopardy['Value'].apply(normalize_values)"
      ],
      "metadata": {
        "id": "rIaxfRWCsetK"
      },
      "execution_count": 9,
      "outputs": []
    },
    {
      "cell_type": "code",
      "source": [
        "jeopardy.info()"
      ],
      "metadata": {
        "colab": {
          "base_uri": "https://localhost:8080/"
        },
        "id": "nHnW_85Jvh7r",
        "outputId": "d366849e-f64c-464b-b7f7-8096be114ce8"
      },
      "execution_count": 10,
      "outputs": [
        {
          "output_type": "stream",
          "name": "stdout",
          "text": [
            "<class 'pandas.core.frame.DataFrame'>\n",
            "RangeIndex: 216930 entries, 0 to 216929\n",
            "Data columns (total 10 columns):\n",
            " #   Column          Non-Null Count   Dtype \n",
            "---  ------          --------------   ----- \n",
            " 0   ShowNumber      216930 non-null  int64 \n",
            " 1   AirDate         216930 non-null  object\n",
            " 2   Round           216930 non-null  object\n",
            " 3   Category        216930 non-null  object\n",
            " 4   Value           216930 non-null  object\n",
            " 5   Question        216930 non-null  object\n",
            " 6   Answer          216928 non-null  object\n",
            " 7   clean_question  216930 non-null  object\n",
            " 8   clean_answer    216930 non-null  object\n",
            " 9   clean_value     216930 non-null  int64 \n",
            "dtypes: int64(2), object(8)\n",
            "memory usage: 16.6+ MB\n"
          ]
        }
      ]
    },
    {
      "cell_type": "code",
      "source": [
        "# correct the data type of the date column\n",
        "jeopardy['AirDate'] = pd.to_datetime(jeopardy['AirDate'])"
      ],
      "metadata": {
        "id": "qa5Uy4iLu2iP"
      },
      "execution_count": 11,
      "outputs": []
    },
    {
      "cell_type": "markdown",
      "source": [
        "## Answer in question\n",
        "In order to figure out if we need to study, we will look at how often the answer can be used for a question. We will investigate how many times words in the answer also occur in the question."
      ],
      "metadata": {
        "id": "axBIwavdroDs"
      }
    },
    {
      "cell_type": "code",
      "source": [
        "import requests\n",
        "\n",
        "# get list of stopwords to filter out\n",
        "stopwords_list = requests.get(\"https://gist.githubusercontent.com/rg089/35e00abf8941d72d419224cfd5b5925d/raw/12d899b70156fd0041fa9778d657330b024b959c/stopwords.txt\").content\n",
        "stopwords = set(stopwords_list.decode().splitlines())"
      ],
      "metadata": {
        "id": "1Up4yX5DrQIF"
      },
      "execution_count": 12,
      "outputs": []
    },
    {
      "cell_type": "markdown",
      "source": [
        "Stopwords are any word in a stop list which are filtered out before or after processing of natural language data because they do not provide any useful information to decide in which category a text should be classified. This may be either because they don't have any meaning (prepositions, conjunctions, etc.) or because they are too frequent in the classification context. There is no single universal list of stop words used by all natural language processing tools, so we picked a publicly available list."
      ],
      "metadata": {
        "id": "361eB8aUFvcY"
      }
    },
    {
      "cell_type": "code",
      "source": [
        "def word_match(df):\n",
        "    '''Function takes row in jeopardy dataframe. Returns ratio of words in \n",
        "    answer that match words in question to total words in answer.\n",
        "    '''\n",
        "    # split strings into lists\n",
        "    split_answer = df['clean_answer'].split()\n",
        "    split_question = df['clean_question'].split()\n",
        "\n",
        "    # remove stopwords from the list\n",
        "    split_answer = [word for word in split_answer if word not in stopwords]\n",
        "\n",
        "    # to avoid division by zero error, return 0 if length of list is zero\n",
        "    if len(split_answer) == 0:\n",
        "        return 0\n",
        "\n",
        "    # count words in answer that exist in question\n",
        "    match_count = 0\n",
        "    for word in split_answer:\n",
        "        if word in split_question:\n",
        "            match_count += 1\n",
        "\n",
        "    # return ratio of matching words / total words\n",
        "    return match_count / len(split_answer)"
      ],
      "metadata": {
        "id": "vLTQs_Fjv4dV"
      },
      "execution_count": 13,
      "outputs": []
    },
    {
      "cell_type": "code",
      "source": [
        "jeopardy['answer_in_question'] = jeopardy.apply(word_match, axis=1)"
      ],
      "metadata": {
        "id": "oRqlJ5w5wpxJ"
      },
      "execution_count": 14,
      "outputs": []
    },
    {
      "cell_type": "code",
      "source": [
        "jeopardy['answer_in_question'].mean()"
      ],
      "metadata": {
        "colab": {
          "base_uri": "https://localhost:8080/"
        },
        "id": "g6L5Thha1uvi",
        "outputId": "42364c48-45b8-4d43-e7e0-54b6a8389a5d"
      },
      "execution_count": 15,
      "outputs": [
        {
          "output_type": "execute_result",
          "data": {
            "text/plain": [
              "0.03788726513937311"
            ]
          },
          "metadata": {},
          "execution_count": 15
        }
      ]
    },
    {
      "cell_type": "markdown",
      "source": [
        "### Answer in question results\n",
        "On average, the answer only makes up for about 3.7% of the question. This is not a huge number, and means that just hearing a question will probably not enable us to figure out the answer, so we will need to study.\n",
        "\n",
        "## Recycled questions\n",
        "In order to figure out whether to study past questions, we will investigate how often new questions are repeats of older ones. In order to do that we will see how often complex words (> 6 characters) reoccur. Only looking at words with six or more characters enables us to filter out words like 'the' and 'than', which are commonly used, but don't tell you a lot about a question."
      ],
      "metadata": {
        "id": "1neiKohQ13uU"
      }
    },
    {
      "cell_type": "code",
      "source": [
        "# sort dataframe by date\n",
        "jeopardy.sort_values('AirDate', inplace=True)"
      ],
      "metadata": {
        "id": "gPwKDqXE9CWt"
      },
      "execution_count": 16,
      "outputs": []
    },
    {
      "cell_type": "code",
      "source": [
        "import datetime"
      ],
      "metadata": {
        "id": "xeoRyd82Cdw0"
      },
      "execution_count": 17,
      "outputs": []
    },
    {
      "cell_type": "code",
      "source": [
        "# print(datetime.datetime.now().strftime('%H:%M:%S:%f'))\n",
        "# question_overlap = []\n",
        "# terms_used = set([])\n",
        "\n",
        "# for index, row in jeopardy.iterrows():\n",
        "#     split_question = row['clean_question'].split()\n",
        "#     split_question = [word for word in split_question if len(word) > 5]\n",
        "#     match_count = 0\n",
        "#     for word in split_question:\n",
        "#         if word in terms_used:\n",
        "#             match_count +=1\n",
        "#         terms_used.add(word)\n",
        "#     if len(split_question) > 0:\n",
        "#         match_count /= len(split_question)\n",
        "#     question_overlap.append(match_count)\n",
        "\n",
        "# jeopardy['question_overlap'] = question_overlap\n",
        "# print(datetime.datetime.now().strftime('%H:%M:%S:%f'))"
      ],
      "metadata": {
        "id": "7ySc4ADv4CEO"
      },
      "execution_count": 18,
      "outputs": []
    },
    {
      "cell_type": "markdown",
      "source": [
        "The above block of code works, but it runs slow. Let's write a function and use the apply method instead to see if it will run more efficiently."
      ],
      "metadata": {
        "id": "5g4m6THlBSTX"
      }
    },
    {
      "cell_type": "code",
      "source": [
        "print(datetime.datetime.now().strftime('%H:%M:%S:%f'))\n",
        "\n",
        "# empty set that will hold all words in questions\n",
        "terms_used = set([])\n",
        "\n",
        "def overlap(s):\n",
        "    '''Function takes string as input and returns ratio of words that match \n",
        "    previous questions to total words.\n",
        "    '''\n",
        "    # split string to list\n",
        "    split_question = s.split()\n",
        "    # filter out words shorter than 6 characters\n",
        "    split_question = [word for word in split_question if len(word) > 5]\n",
        "    # count of how many times a word matches words in previous questions\n",
        "    match_count = 0\n",
        "    for word in split_question:\n",
        "        # if the word is in the set of terms used, add 1 to match count\n",
        "        if word in terms_used:\n",
        "            match_count +=1\n",
        "        # if the word is not already in the set of terms used, add it\n",
        "        terms_used.add(word)\n",
        "    # to avoid divide by zero error, check if there words in split question\n",
        "    if len(split_question) > 0:\n",
        "        # divide matching words by total words in the question\n",
        "        match_count /= len(split_question)\n",
        "    return match_count\n",
        "\n",
        "# create new column using apply\n",
        "jeopardy['question_overlap'] = jeopardy['clean_question'].apply(overlap)\n",
        "print(datetime.datetime.now().strftime('%H:%M:%S:%f'))"
      ],
      "metadata": {
        "id": "Zd63Q_cD9Y6I",
        "colab": {
          "base_uri": "https://localhost:8080/"
        },
        "outputId": "b6e0d036-f07a-43e1-9c36-df57252a8652"
      },
      "execution_count": 19,
      "outputs": [
        {
          "output_type": "stream",
          "name": "stdout",
          "text": [
            "21:35:08:708001\n",
            "21:35:09:806616\n"
          ]
        }
      ]
    },
    {
      "cell_type": "markdown",
      "source": [
        "With the 20K sample size dataset, the first code block takes about 3 seconds to run. The second code block, using apply, runs in about 1 second. We will comment out the first code block to save processing time."
      ],
      "metadata": {
        "id": "vUGijIX9EvgM"
      }
    },
    {
      "cell_type": "code",
      "source": [
        "jeopardy['question_overlap'].mean()"
      ],
      "metadata": {
        "colab": {
          "base_uri": "https://localhost:8080/"
        },
        "id": "QhD-WUik9lJm",
        "outputId": "b819d457-0120-460c-8ee7-1bac827b3f2d"
      },
      "execution_count": 20,
      "outputs": [
        {
          "output_type": "execute_result",
          "data": {
            "text/plain": [
              "0.8726690023368967"
            ]
          },
          "metadata": {},
          "execution_count": 20
        }
      ]
    },
    {
      "cell_type": "markdown",
      "source": [
        "### Recycled questions results\n",
        "There is about 87% overlap between terms in new questions and terms in old questions. This doesn't look at phrases, it looks at single terms. This makes it relatively insignificant, but it does mean that it's worth looking more into the recycling of questions.\n",
        "\n",
        "## Low value vs high value questions\n",
        "In order to earn more money while we are on Jeopardy, we will study topics that pertain to high value questions instead of low value questions.\n",
        "\n",
        "We can figure out which terms correspond to high-value questions by using a chi-squared test. We will first need to narrow down the questions into two categories:\n",
        "* Low value -- Any row where Value is less than 800.\n",
        "* High value -- Any row where Value is greater than 800.\n"
      ],
      "metadata": {
        "id": "ze9kl1dc98uu"
      }
    },
    {
      "cell_type": "code",
      "source": [
        "def high_low(df):\n",
        "    '''Function takes row of jeopardy dataframe as input. If the clean_value \n",
        "    column is greater than 800, return 1 if not return 0.\n",
        "    '''\n",
        "    if df['clean_value'] > 800:\n",
        "        return 1\n",
        "    else:\n",
        "        return 0"
      ],
      "metadata": {
        "id": "jtizYyNz_zMR"
      },
      "execution_count": 21,
      "outputs": []
    },
    {
      "cell_type": "code",
      "source": [
        "# create boolean column that contains 1 for high value and 0 for low value\n",
        "jeopardy['high_value'] = jeopardy.apply(high_low, axis=1)"
      ],
      "metadata": {
        "id": "SAQW_zAmZTBK"
      },
      "execution_count": 22,
      "outputs": []
    },
    {
      "cell_type": "code",
      "source": [
        "def high_low_count(word):\n",
        "    '''Function takes word as input, loops through each row in the dataframe, \n",
        "    and counts how many times it was used in a high or low value questions.\n",
        "    '''\n",
        "    low_count = 0\n",
        "    high_count = 0\n",
        "    # loop through rows in dataframe\n",
        "    for index, row in jeopardy.iterrows():\n",
        "        # split string to list\n",
        "        split_question = row['clean_question'].split()\n",
        "        # if the word is in this row\n",
        "        if word in split_question:\n",
        "            # if question is high value add 1 to the high count\n",
        "            if row['high_value'] == 1:\n",
        "                high_count+=1\n",
        "            # if question is low value add one to the low count\n",
        "            else:\n",
        "                low_count+=1\n",
        "    # return number of times word appeared in high and low value questions\n",
        "    return high_count, low_count"
      ],
      "metadata": {
        "id": "oKhm4t9MZyPe"
      },
      "execution_count": 23,
      "outputs": []
    },
    {
      "cell_type": "code",
      "source": [
        "# create dataframe that counts how many times each word in the dataset is used\n",
        "freq_df = jeopardy['clean_question'].str.split(expand=True).stack().value_counts().reset_index()\n",
        "freq_df.head()"
      ],
      "metadata": {
        "colab": {
          "base_uri": "https://localhost:8080/",
          "height": 206
        },
        "id": "SbpYW3CRfI8e",
        "outputId": "26f0e9ec-5169-4967-faf7-b9621fe75fcf"
      },
      "execution_count": 24,
      "outputs": [
        {
          "output_type": "execute_result",
          "data": {
            "text/html": [
              "\n",
              "  <div id=\"df-292d232c-650b-4b13-9ff9-ebb7605a5330\">\n",
              "    <div class=\"colab-df-container\">\n",
              "      <div>\n",
              "<style scoped>\n",
              "    .dataframe tbody tr th:only-of-type {\n",
              "        vertical-align: middle;\n",
              "    }\n",
              "\n",
              "    .dataframe tbody tr th {\n",
              "        vertical-align: top;\n",
              "    }\n",
              "\n",
              "    .dataframe thead th {\n",
              "        text-align: right;\n",
              "    }\n",
              "</style>\n",
              "<table border=\"1\" class=\"dataframe\">\n",
              "  <thead>\n",
              "    <tr style=\"text-align: right;\">\n",
              "      <th></th>\n",
              "      <th>index</th>\n",
              "      <th>0</th>\n",
              "    </tr>\n",
              "  </thead>\n",
              "  <tbody>\n",
              "    <tr>\n",
              "      <th>0</th>\n",
              "      <td>the</td>\n",
              "      <td>180064</td>\n",
              "    </tr>\n",
              "    <tr>\n",
              "      <th>1</th>\n",
              "      <td>this</td>\n",
              "      <td>126776</td>\n",
              "    </tr>\n",
              "    <tr>\n",
              "      <th>2</th>\n",
              "      <td>of</td>\n",
              "      <td>114349</td>\n",
              "    </tr>\n",
              "    <tr>\n",
              "      <th>3</th>\n",
              "      <td>in</td>\n",
              "      <td>103144</td>\n",
              "    </tr>\n",
              "    <tr>\n",
              "      <th>4</th>\n",
              "      <td>a</td>\n",
              "      <td>101607</td>\n",
              "    </tr>\n",
              "  </tbody>\n",
              "</table>\n",
              "</div>\n",
              "      <button class=\"colab-df-convert\" onclick=\"convertToInteractive('df-292d232c-650b-4b13-9ff9-ebb7605a5330')\"\n",
              "              title=\"Convert this dataframe to an interactive table.\"\n",
              "              style=\"display:none;\">\n",
              "        \n",
              "  <svg xmlns=\"http://www.w3.org/2000/svg\" height=\"24px\"viewBox=\"0 0 24 24\"\n",
              "       width=\"24px\">\n",
              "    <path d=\"M0 0h24v24H0V0z\" fill=\"none\"/>\n",
              "    <path d=\"M18.56 5.44l.94 2.06.94-2.06 2.06-.94-2.06-.94-.94-2.06-.94 2.06-2.06.94zm-11 1L8.5 8.5l.94-2.06 2.06-.94-2.06-.94L8.5 2.5l-.94 2.06-2.06.94zm10 10l.94 2.06.94-2.06 2.06-.94-2.06-.94-.94-2.06-.94 2.06-2.06.94z\"/><path d=\"M17.41 7.96l-1.37-1.37c-.4-.4-.92-.59-1.43-.59-.52 0-1.04.2-1.43.59L10.3 9.45l-7.72 7.72c-.78.78-.78 2.05 0 2.83L4 21.41c.39.39.9.59 1.41.59.51 0 1.02-.2 1.41-.59l7.78-7.78 2.81-2.81c.8-.78.8-2.07 0-2.86zM5.41 20L4 18.59l7.72-7.72 1.47 1.35L5.41 20z\"/>\n",
              "  </svg>\n",
              "      </button>\n",
              "      \n",
              "  <style>\n",
              "    .colab-df-container {\n",
              "      display:flex;\n",
              "      flex-wrap:wrap;\n",
              "      gap: 12px;\n",
              "    }\n",
              "\n",
              "    .colab-df-convert {\n",
              "      background-color: #E8F0FE;\n",
              "      border: none;\n",
              "      border-radius: 50%;\n",
              "      cursor: pointer;\n",
              "      display: none;\n",
              "      fill: #1967D2;\n",
              "      height: 32px;\n",
              "      padding: 0 0 0 0;\n",
              "      width: 32px;\n",
              "    }\n",
              "\n",
              "    .colab-df-convert:hover {\n",
              "      background-color: #E2EBFA;\n",
              "      box-shadow: 0px 1px 2px rgba(60, 64, 67, 0.3), 0px 1px 3px 1px rgba(60, 64, 67, 0.15);\n",
              "      fill: #174EA6;\n",
              "    }\n",
              "\n",
              "    [theme=dark] .colab-df-convert {\n",
              "      background-color: #3B4455;\n",
              "      fill: #D2E3FC;\n",
              "    }\n",
              "\n",
              "    [theme=dark] .colab-df-convert:hover {\n",
              "      background-color: #434B5C;\n",
              "      box-shadow: 0px 1px 3px 1px rgba(0, 0, 0, 0.15);\n",
              "      filter: drop-shadow(0px 1px 2px rgba(0, 0, 0, 0.3));\n",
              "      fill: #FFFFFF;\n",
              "    }\n",
              "  </style>\n",
              "\n",
              "      <script>\n",
              "        const buttonEl =\n",
              "          document.querySelector('#df-292d232c-650b-4b13-9ff9-ebb7605a5330 button.colab-df-convert');\n",
              "        buttonEl.style.display =\n",
              "          google.colab.kernel.accessAllowed ? 'block' : 'none';\n",
              "\n",
              "        async function convertToInteractive(key) {\n",
              "          const element = document.querySelector('#df-292d232c-650b-4b13-9ff9-ebb7605a5330');\n",
              "          const dataTable =\n",
              "            await google.colab.kernel.invokeFunction('convertToInteractive',\n",
              "                                                     [key], {});\n",
              "          if (!dataTable) return;\n",
              "\n",
              "          const docLinkHtml = 'Like what you see? Visit the ' +\n",
              "            '<a target=\"_blank\" href=https://colab.research.google.com/notebooks/data_table.ipynb>data table notebook</a>'\n",
              "            + ' to learn more about interactive tables.';\n",
              "          element.innerHTML = '';\n",
              "          dataTable['output_type'] = 'display_data';\n",
              "          await google.colab.output.renderOutput(dataTable, element);\n",
              "          const docLink = document.createElement('div');\n",
              "          docLink.innerHTML = docLinkHtml;\n",
              "          element.appendChild(docLink);\n",
              "        }\n",
              "      </script>\n",
              "    </div>\n",
              "  </div>\n",
              "  "
            ],
            "text/plain": [
              "  index       0\n",
              "0   the  180064\n",
              "1  this  126776\n",
              "2    of  114349\n",
              "3    in  103144\n",
              "4     a  101607"
            ]
          },
          "metadata": {},
          "execution_count": 24
        }
      ]
    },
    {
      "cell_type": "code",
      "source": [
        "# rename columns\n",
        "freq_df.rename(columns={'index': 'word', 0: 'question_count'}, inplace=True)"
      ],
      "metadata": {
        "id": "02YJCXYDgegi"
      },
      "execution_count": 25,
      "outputs": []
    },
    {
      "cell_type": "code",
      "source": [
        "# filter the dataframe by terms used, since it only includes complex words\n",
        "freq_df = freq_df[freq_df['word'].isin(terms_used)].copy()\n",
        "freq_df.head()"
      ],
      "metadata": {
        "colab": {
          "base_uri": "https://localhost:8080/",
          "height": 206
        },
        "id": "Lm-1N6O9fUHb",
        "outputId": "c80d5aaa-6d1d-457c-c370-60df4334ebbd"
      },
      "execution_count": 26,
      "outputs": [
        {
          "output_type": "execute_result",
          "data": {
            "text/html": [
              "\n",
              "  <div id=\"df-a569d00b-da7b-41d7-8e8b-547bac9729bb\">\n",
              "    <div class=\"colab-df-container\">\n",
              "      <div>\n",
              "<style scoped>\n",
              "    .dataframe tbody tr th:only-of-type {\n",
              "        vertical-align: middle;\n",
              "    }\n",
              "\n",
              "    .dataframe tbody tr th {\n",
              "        vertical-align: top;\n",
              "    }\n",
              "\n",
              "    .dataframe thead th {\n",
              "        text-align: right;\n",
              "    }\n",
              "</style>\n",
              "<table border=\"1\" class=\"dataframe\">\n",
              "  <thead>\n",
              "    <tr style=\"text-align: right;\">\n",
              "      <th></th>\n",
              "      <th>word</th>\n",
              "      <th>question_count</th>\n",
              "    </tr>\n",
              "  </thead>\n",
              "  <tbody>\n",
              "    <tr>\n",
              "      <th>39</th>\n",
              "      <td>called</td>\n",
              "      <td>5461</td>\n",
              "    </tr>\n",
              "    <tr>\n",
              "      <th>49</th>\n",
              "      <td>country</td>\n",
              "      <td>4868</td>\n",
              "    </tr>\n",
              "    <tr>\n",
              "      <th>78</th>\n",
              "      <td>became</td>\n",
              "      <td>3162</td>\n",
              "    </tr>\n",
              "    <tr>\n",
              "      <th>81</th>\n",
              "      <td>played</td>\n",
              "      <td>3011</td>\n",
              "    </tr>\n",
              "    <tr>\n",
              "      <th>82</th>\n",
              "      <td>president</td>\n",
              "      <td>3010</td>\n",
              "    </tr>\n",
              "  </tbody>\n",
              "</table>\n",
              "</div>\n",
              "      <button class=\"colab-df-convert\" onclick=\"convertToInteractive('df-a569d00b-da7b-41d7-8e8b-547bac9729bb')\"\n",
              "              title=\"Convert this dataframe to an interactive table.\"\n",
              "              style=\"display:none;\">\n",
              "        \n",
              "  <svg xmlns=\"http://www.w3.org/2000/svg\" height=\"24px\"viewBox=\"0 0 24 24\"\n",
              "       width=\"24px\">\n",
              "    <path d=\"M0 0h24v24H0V0z\" fill=\"none\"/>\n",
              "    <path d=\"M18.56 5.44l.94 2.06.94-2.06 2.06-.94-2.06-.94-.94-2.06-.94 2.06-2.06.94zm-11 1L8.5 8.5l.94-2.06 2.06-.94-2.06-.94L8.5 2.5l-.94 2.06-2.06.94zm10 10l.94 2.06.94-2.06 2.06-.94-2.06-.94-.94-2.06-.94 2.06-2.06.94z\"/><path d=\"M17.41 7.96l-1.37-1.37c-.4-.4-.92-.59-1.43-.59-.52 0-1.04.2-1.43.59L10.3 9.45l-7.72 7.72c-.78.78-.78 2.05 0 2.83L4 21.41c.39.39.9.59 1.41.59.51 0 1.02-.2 1.41-.59l7.78-7.78 2.81-2.81c.8-.78.8-2.07 0-2.86zM5.41 20L4 18.59l7.72-7.72 1.47 1.35L5.41 20z\"/>\n",
              "  </svg>\n",
              "      </button>\n",
              "      \n",
              "  <style>\n",
              "    .colab-df-container {\n",
              "      display:flex;\n",
              "      flex-wrap:wrap;\n",
              "      gap: 12px;\n",
              "    }\n",
              "\n",
              "    .colab-df-convert {\n",
              "      background-color: #E8F0FE;\n",
              "      border: none;\n",
              "      border-radius: 50%;\n",
              "      cursor: pointer;\n",
              "      display: none;\n",
              "      fill: #1967D2;\n",
              "      height: 32px;\n",
              "      padding: 0 0 0 0;\n",
              "      width: 32px;\n",
              "    }\n",
              "\n",
              "    .colab-df-convert:hover {\n",
              "      background-color: #E2EBFA;\n",
              "      box-shadow: 0px 1px 2px rgba(60, 64, 67, 0.3), 0px 1px 3px 1px rgba(60, 64, 67, 0.15);\n",
              "      fill: #174EA6;\n",
              "    }\n",
              "\n",
              "    [theme=dark] .colab-df-convert {\n",
              "      background-color: #3B4455;\n",
              "      fill: #D2E3FC;\n",
              "    }\n",
              "\n",
              "    [theme=dark] .colab-df-convert:hover {\n",
              "      background-color: #434B5C;\n",
              "      box-shadow: 0px 1px 3px 1px rgba(0, 0, 0, 0.15);\n",
              "      filter: drop-shadow(0px 1px 2px rgba(0, 0, 0, 0.3));\n",
              "      fill: #FFFFFF;\n",
              "    }\n",
              "  </style>\n",
              "\n",
              "      <script>\n",
              "        const buttonEl =\n",
              "          document.querySelector('#df-a569d00b-da7b-41d7-8e8b-547bac9729bb button.colab-df-convert');\n",
              "        buttonEl.style.display =\n",
              "          google.colab.kernel.accessAllowed ? 'block' : 'none';\n",
              "\n",
              "        async function convertToInteractive(key) {\n",
              "          const element = document.querySelector('#df-a569d00b-da7b-41d7-8e8b-547bac9729bb');\n",
              "          const dataTable =\n",
              "            await google.colab.kernel.invokeFunction('convertToInteractive',\n",
              "                                                     [key], {});\n",
              "          if (!dataTable) return;\n",
              "\n",
              "          const docLinkHtml = 'Like what you see? Visit the ' +\n",
              "            '<a target=\"_blank\" href=https://colab.research.google.com/notebooks/data_table.ipynb>data table notebook</a>'\n",
              "            + ' to learn more about interactive tables.';\n",
              "          element.innerHTML = '';\n",
              "          dataTable['output_type'] = 'display_data';\n",
              "          await google.colab.output.renderOutput(dataTable, element);\n",
              "          const docLink = document.createElement('div');\n",
              "          docLink.innerHTML = docLinkHtml;\n",
              "          element.appendChild(docLink);\n",
              "        }\n",
              "      </script>\n",
              "    </div>\n",
              "  </div>\n",
              "  "
            ],
            "text/plain": [
              "         word  question_count\n",
              "39     called            5461\n",
              "49    country            4868\n",
              "78     became            3162\n",
              "81     played            3011\n",
              "82  president            3010"
            ]
          },
          "metadata": {},
          "execution_count": 26
        }
      ]
    },
    {
      "cell_type": "markdown",
      "source": [
        "For our final chi-square approximation to be valid, the expected frequency should be at least 5. Let's see how many questions a word has to appear in to get expected values of at least 5."
      ],
      "metadata": {
        "id": "tQ5J1idifMYR"
      }
    },
    {
      "cell_type": "code",
      "source": [
        "# total questions in dataset\n",
        "total_questions = jeopardy.shape[0]\n",
        "\n",
        "# get total number of high & low value questions in the dataset\n",
        "high_value_count = jeopardy[jeopardy['high_value'] == 1].shape[0]\n",
        "low_value_count = jeopardy[jeopardy['high_value'] == 0].shape[0]\n",
        "\n",
        "# let's try 20 questions\n",
        "total_prop = 20 / total_questions\n",
        "\n",
        "# calculate expected high and low values for a word that appears in 20 questions\n",
        "exp_high_count = total_prop * high_value_count\n",
        "exp_low_count = total_prop * low_value_count\n",
        "\n",
        "print(exp_high_count, exp_low_count)"
      ],
      "metadata": {
        "colab": {
          "base_uri": "https://localhost:8080/"
        },
        "id": "xYXKgQ1klb_h",
        "outputId": "82f7d0a1-66ef-41cd-bcb0-64c5cd7485be"
      },
      "execution_count": 27,
      "outputs": [
        {
          "output_type": "stream",
          "name": "stdout",
          "text": [
            "5.662840547642096 14.337159452357902\n"
          ]
        }
      ]
    },
    {
      "cell_type": "code",
      "source": [
        "# filter the dataframe by words that apear in more than 20 questions\n",
        "freq_df = freq_df[freq_df['question_count'] > 20]\n",
        "freq_df"
      ],
      "metadata": {
        "colab": {
          "base_uri": "https://localhost:8080/",
          "height": 424
        },
        "id": "_msnsrTejVzs",
        "outputId": "d20ae51c-f821-49f0-9cf8-3f4ad9597430"
      },
      "execution_count": 28,
      "outputs": [
        {
          "output_type": "execute_result",
          "data": {
            "text/html": [
              "\n",
              "  <div id=\"df-ad989129-a31e-4da9-9c73-d1a69d7ebf58\">\n",
              "    <div class=\"colab-df-container\">\n",
              "      <div>\n",
              "<style scoped>\n",
              "    .dataframe tbody tr th:only-of-type {\n",
              "        vertical-align: middle;\n",
              "    }\n",
              "\n",
              "    .dataframe tbody tr th {\n",
              "        vertical-align: top;\n",
              "    }\n",
              "\n",
              "    .dataframe thead th {\n",
              "        text-align: right;\n",
              "    }\n",
              "</style>\n",
              "<table border=\"1\" class=\"dataframe\">\n",
              "  <thead>\n",
              "    <tr style=\"text-align: right;\">\n",
              "      <th></th>\n",
              "      <th>word</th>\n",
              "      <th>question_count</th>\n",
              "    </tr>\n",
              "  </thead>\n",
              "  <tbody>\n",
              "    <tr>\n",
              "      <th>39</th>\n",
              "      <td>called</td>\n",
              "      <td>5461</td>\n",
              "    </tr>\n",
              "    <tr>\n",
              "      <th>49</th>\n",
              "      <td>country</td>\n",
              "      <td>4868</td>\n",
              "    </tr>\n",
              "    <tr>\n",
              "      <th>78</th>\n",
              "      <td>became</td>\n",
              "      <td>3162</td>\n",
              "    </tr>\n",
              "    <tr>\n",
              "      <th>81</th>\n",
              "      <td>played</td>\n",
              "      <td>3011</td>\n",
              "    </tr>\n",
              "    <tr>\n",
              "      <th>82</th>\n",
              "      <td>president</td>\n",
              "      <td>3010</td>\n",
              "    </tr>\n",
              "    <tr>\n",
              "      <th>...</th>\n",
              "      <td>...</td>\n",
              "      <td>...</td>\n",
              "    </tr>\n",
              "    <tr>\n",
              "      <th>10858</th>\n",
              "      <td>tunisia</td>\n",
              "      <td>21</td>\n",
              "    </tr>\n",
              "    <tr>\n",
              "      <th>10859</th>\n",
              "      <td>pointing</td>\n",
              "      <td>21</td>\n",
              "    </tr>\n",
              "    <tr>\n",
              "      <th>10861</th>\n",
              "      <td>mausoleum</td>\n",
              "      <td>21</td>\n",
              "    </tr>\n",
              "    <tr>\n",
              "      <th>10862</th>\n",
              "      <td>sabrina</td>\n",
              "      <td>21</td>\n",
              "    </tr>\n",
              "    <tr>\n",
              "      <th>10863</th>\n",
              "      <td>reactors</td>\n",
              "      <td>21</td>\n",
              "    </tr>\n",
              "  </tbody>\n",
              "</table>\n",
              "<p>6662 rows × 2 columns</p>\n",
              "</div>\n",
              "      <button class=\"colab-df-convert\" onclick=\"convertToInteractive('df-ad989129-a31e-4da9-9c73-d1a69d7ebf58')\"\n",
              "              title=\"Convert this dataframe to an interactive table.\"\n",
              "              style=\"display:none;\">\n",
              "        \n",
              "  <svg xmlns=\"http://www.w3.org/2000/svg\" height=\"24px\"viewBox=\"0 0 24 24\"\n",
              "       width=\"24px\">\n",
              "    <path d=\"M0 0h24v24H0V0z\" fill=\"none\"/>\n",
              "    <path d=\"M18.56 5.44l.94 2.06.94-2.06 2.06-.94-2.06-.94-.94-2.06-.94 2.06-2.06.94zm-11 1L8.5 8.5l.94-2.06 2.06-.94-2.06-.94L8.5 2.5l-.94 2.06-2.06.94zm10 10l.94 2.06.94-2.06 2.06-.94-2.06-.94-.94-2.06-.94 2.06-2.06.94z\"/><path d=\"M17.41 7.96l-1.37-1.37c-.4-.4-.92-.59-1.43-.59-.52 0-1.04.2-1.43.59L10.3 9.45l-7.72 7.72c-.78.78-.78 2.05 0 2.83L4 21.41c.39.39.9.59 1.41.59.51 0 1.02-.2 1.41-.59l7.78-7.78 2.81-2.81c.8-.78.8-2.07 0-2.86zM5.41 20L4 18.59l7.72-7.72 1.47 1.35L5.41 20z\"/>\n",
              "  </svg>\n",
              "      </button>\n",
              "      \n",
              "  <style>\n",
              "    .colab-df-container {\n",
              "      display:flex;\n",
              "      flex-wrap:wrap;\n",
              "      gap: 12px;\n",
              "    }\n",
              "\n",
              "    .colab-df-convert {\n",
              "      background-color: #E8F0FE;\n",
              "      border: none;\n",
              "      border-radius: 50%;\n",
              "      cursor: pointer;\n",
              "      display: none;\n",
              "      fill: #1967D2;\n",
              "      height: 32px;\n",
              "      padding: 0 0 0 0;\n",
              "      width: 32px;\n",
              "    }\n",
              "\n",
              "    .colab-df-convert:hover {\n",
              "      background-color: #E2EBFA;\n",
              "      box-shadow: 0px 1px 2px rgba(60, 64, 67, 0.3), 0px 1px 3px 1px rgba(60, 64, 67, 0.15);\n",
              "      fill: #174EA6;\n",
              "    }\n",
              "\n",
              "    [theme=dark] .colab-df-convert {\n",
              "      background-color: #3B4455;\n",
              "      fill: #D2E3FC;\n",
              "    }\n",
              "\n",
              "    [theme=dark] .colab-df-convert:hover {\n",
              "      background-color: #434B5C;\n",
              "      box-shadow: 0px 1px 3px 1px rgba(0, 0, 0, 0.15);\n",
              "      filter: drop-shadow(0px 1px 2px rgba(0, 0, 0, 0.3));\n",
              "      fill: #FFFFFF;\n",
              "    }\n",
              "  </style>\n",
              "\n",
              "      <script>\n",
              "        const buttonEl =\n",
              "          document.querySelector('#df-ad989129-a31e-4da9-9c73-d1a69d7ebf58 button.colab-df-convert');\n",
              "        buttonEl.style.display =\n",
              "          google.colab.kernel.accessAllowed ? 'block' : 'none';\n",
              "\n",
              "        async function convertToInteractive(key) {\n",
              "          const element = document.querySelector('#df-ad989129-a31e-4da9-9c73-d1a69d7ebf58');\n",
              "          const dataTable =\n",
              "            await google.colab.kernel.invokeFunction('convertToInteractive',\n",
              "                                                     [key], {});\n",
              "          if (!dataTable) return;\n",
              "\n",
              "          const docLinkHtml = 'Like what you see? Visit the ' +\n",
              "            '<a target=\"_blank\" href=https://colab.research.google.com/notebooks/data_table.ipynb>data table notebook</a>'\n",
              "            + ' to learn more about interactive tables.';\n",
              "          element.innerHTML = '';\n",
              "          dataTable['output_type'] = 'display_data';\n",
              "          await google.colab.output.renderOutput(dataTable, element);\n",
              "          const docLink = document.createElement('div');\n",
              "          docLink.innerHTML = docLinkHtml;\n",
              "          element.appendChild(docLink);\n",
              "        }\n",
              "      </script>\n",
              "    </div>\n",
              "  </div>\n",
              "  "
            ],
            "text/plain": [
              "            word  question_count\n",
              "39        called            5461\n",
              "49       country            4868\n",
              "78        became            3162\n",
              "81        played            3011\n",
              "82     president            3010\n",
              "...          ...             ...\n",
              "10858    tunisia              21\n",
              "10859   pointing              21\n",
              "10861  mausoleum              21\n",
              "10862    sabrina              21\n",
              "10863   reactors              21\n",
              "\n",
              "[6662 rows x 2 columns]"
            ]
          },
          "metadata": {},
          "execution_count": 28
        }
      ]
    },
    {
      "cell_type": "code",
      "source": [
        "frequent_terms =  freq_df['word'].to_list()"
      ],
      "metadata": {
        "id": "rZsbcnVHB2C4"
      },
      "execution_count": 29,
      "outputs": []
    },
    {
      "cell_type": "markdown",
      "source": [
        "Randomly pick 10 terms, becuase doing this for all of the terms would take a very long time."
      ],
      "metadata": {
        "id": "A4RbnGn7piXA"
      }
    },
    {
      "cell_type": "code",
      "source": [
        "import random\n",
        "\n",
        "comparison_terms = random.sample(frequent_terms, 10)\n",
        "comparison_terms"
      ],
      "metadata": {
        "colab": {
          "base_uri": "https://localhost:8080/"
        },
        "id": "77_4C0w5c-qm",
        "outputId": "f38cb30e-f8ad-4fd0-910e-1f479ef7dc6e"
      },
      "execution_count": 30,
      "outputs": [
        {
          "output_type": "execute_result",
          "data": {
            "text/plain": [
              "['missionary',\n",
              " 'produces',\n",
              " 'acquitted',\n",
              " 'performed',\n",
              " 'operetta',\n",
              " 'target_blankthis',\n",
              " 'mainly',\n",
              " 'bottom',\n",
              " 'islamic',\n",
              " 'elsewhere']"
            ]
          },
          "metadata": {},
          "execution_count": 30
        }
      ]
    },
    {
      "cell_type": "code",
      "source": [
        "# get the high value and low value count for each word in comparison terms\n",
        "observed_expected = []\n",
        "word_frequency = []\n",
        "\n",
        "for i in comparison_terms:\n",
        "    h_l = high_low_count(i)\n",
        "    observed_expected.append(h_l)\n",
        "\n",
        "observed_expected"
      ],
      "metadata": {
        "colab": {
          "base_uri": "https://localhost:8080/"
        },
        "id": "gNkvmvNRMa2a",
        "outputId": "98d7ddba-ce14-4c04-b5f8-d647f578d8cc"
      },
      "execution_count": 31,
      "outputs": [
        {
          "output_type": "execute_result",
          "data": {
            "text/plain": [
              "[(22, 33),\n",
              " (49, 119),\n",
              " (6, 17),\n",
              " (72, 215),\n",
              " (22, 27),\n",
              " (51, 64),\n",
              " (43, 124),\n",
              " (43, 157),\n",
              " (17, 42),\n",
              " (9, 20)]"
            ]
          },
          "metadata": {},
          "execution_count": 31
        }
      ]
    },
    {
      "cell_type": "code",
      "source": [
        "from scipy.stats import chisquare\n",
        "import numpy as np"
      ],
      "metadata": {
        "id": "VLsTXP8zrTgr"
      },
      "execution_count": 32,
      "outputs": []
    },
    {
      "cell_type": "code",
      "source": [
        "chi_squared = []\n",
        "\n",
        "for obs_high_count, obs_low_count in observed_expected:\n",
        "    # total number of times the word appears\n",
        "    total = obs_high_count + obs_low_count\n",
        "    # total proportion of how often the word appears divided by the total number of questions\n",
        "    total_prop = total / jeopardy.shape[0]\n",
        "\n",
        "    # get expected values by multiplying the total proportion by the total number of high/low questions\n",
        "    exp_high_count = total_prop * high_value_count\n",
        "    exp_low_count = total_prop * low_value_count\n",
        "\n",
        "    # create numpy arrays\n",
        "    observed = np.array([obs_high_count, obs_low_count])\n",
        "    expected = np.array([exp_high_count, exp_low_count])\n",
        "\n",
        "    # add chivalue and pvalue to chi_squared list\n",
        "    chi_squared.append(chisquare(observed, expected))\n",
        "\n",
        "chi_squared"
      ],
      "metadata": {
        "id": "eiG_da99dj5Y",
        "colab": {
          "base_uri": "https://localhost:8080/"
        },
        "outputId": "fde83a9b-9eac-4800-e8e7-5d4d68a8e852"
      },
      "execution_count": 33,
      "outputs": [
        {
          "output_type": "execute_result",
          "data": {
            "text/plain": [
              "[Power_divergenceResult(statistic=3.700342529477874, pvalue=0.05440129897014992),\n",
              " Power_divergenceResult(statistic=0.06014836782359, pvalue=0.8062615926457806),\n",
              " Power_divergenceResult(statistic=0.05621171538502828, pvalue=0.8125868927130006),\n",
              " Power_divergenceResult(statistic=1.4725425958422673, pvalue=0.22494495745754595),\n",
              " Power_divergenceResult(statistic=6.6393328979036035, pvalue=0.009975128042275058),\n",
              " Power_divergenceResult(statistic=14.565444332456028, pvalue=0.00013537444924416217),\n",
              " Power_divergenceResult(statistic=0.5416149903282792, pvalue=0.46176419173876504),\n",
              " Power_divergenceResult(statistic=4.575332281103448, pvalue=0.0324354548070976),\n",
              " Power_divergenceResult(statistic=0.0072482992491946, pvalue=0.9321525197784184),\n",
              " Power_divergenceResult(statistic=0.10572745161307058, pvalue=0.745061812207719)]"
            ]
          },
          "metadata": {},
          "execution_count": 33
        }
      ]
    },
    {
      "cell_type": "markdown",
      "source": [
        "Most of our p-values are larger than 5%, which means they are not statistically significant. Let's take a look at what words did have statistically significant results."
      ],
      "metadata": {
        "id": "55L9UgnxtiOn"
      }
    },
    {
      "cell_type": "code",
      "source": [
        "for i in range(10):\n",
        "    word = comparison_terms[i]\n",
        "    observed_h_l = observed_expected[i]\n",
        "    chivalue = chi_squared[i].statistic\n",
        "    pvalue = chi_squared[i].pvalue\n",
        "    if pvalue < 0.05:\n",
        "        print(word, observed_h_l, chivalue, pvalue)"
      ],
      "metadata": {
        "colab": {
          "base_uri": "https://localhost:8080/"
        },
        "id": "mq4Iu2a_rvi5",
        "outputId": "feed55b4-8a06-46e8-f2f6-004bd526ef2c"
      },
      "execution_count": 40,
      "outputs": [
        {
          "output_type": "stream",
          "name": "stdout",
          "text": [
            "operetta (22, 27) 6.6393328979036035 0.009975128042275058\n",
            "target_blankthis (51, 64) 14.565444332456028 0.00013537444924416217\n",
            "bottom (43, 157) 4.575332281103448 0.0324354548070976\n"
          ]
        }
      ]
    },
    {
      "cell_type": "markdown",
      "source": [
        "## Chi-squared results\n",
        "We planned on selecting the words with the biggest differences in usage between high and low value questions, by selecting the words with the highest associated chi-squared values. Unfortunately, all three of our statistically significant words occur more often in low value questions than high value questions, so that was not what we are looking for. Additionally, only 'operetta' seems meaningful in our context. \n",
        "\n",
        "If we think we might actually get to play on Jeopardy, we might further investigate what words occur in questions and see if we can find more words that we should add to our list of stop words. We would also need to look at a larger sample than 10 words."
      ],
      "metadata": {
        "id": "7EAZHaorifNL"
      }
    }
  ]
}