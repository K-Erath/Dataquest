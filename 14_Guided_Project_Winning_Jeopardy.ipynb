{
  "nbformat": 4,
  "nbformat_minor": 0,
  "metadata": {
    "colab": {
      "name": "14 Guided Project Winning Jeopardy.ipynb",
      "provenance": [],
      "collapsed_sections": [],
      "authorship_tag": "ABX9TyMK9qETqeH5jdu1U5116Ky9",
      "include_colab_link": true
    },
    "kernelspec": {
      "name": "python3",
      "display_name": "Python 3"
    },
    "language_info": {
      "name": "python"
    }
  },
  "cells": [
    {
      "cell_type": "markdown",
      "metadata": {
        "id": "view-in-github",
        "colab_type": "text"
      },
      "source": [
        "<a href=\"https://colab.research.google.com/github/K-Erath/Dataquest/blob/master/14_Guided_Project_Winning_Jeopardy.ipynb\" target=\"_parent\"><img src=\"https://colab.research.google.com/assets/colab-badge.svg\" alt=\"Open In Colab\"/></a>"
      ]
    },
    {
      "cell_type": "markdown",
      "source": [
        "# Winning Jeopardy\n",
        "Jeopardy is a popular TV show in the US where participants answer questions to win money. It's been running for many years, and is a major force in popular culture. \n",
        "\n",
        "In this project, we will work with a dataset of Jeopardy questions to figure out some patterns in the questions that could help us win if we had an opportunity to compete on Jeopardy."
      ],
      "metadata": {
        "id": "aJwMWSBimHGF"
      }
    },
    {
      "cell_type": "code",
      "execution_count": 1,
      "metadata": {
        "id": "YvnejIBjskWX"
      },
      "outputs": [],
      "source": [
        "import pandas as pd"
      ]
    },
    {
      "cell_type": "code",
      "source": [
        "url = \"https://drive.google.com/u/0/uc?id=0BwT5wj_P7BKXUl9tOUJWYzVvUjA&export=download\" # dataset with 200K records\n",
        "# url = \"jeopardy.csv\" # sample dataset with 20K records\n",
        "jeopardy = pd.read_csv(url)\n",
        "jeopardy.head()"
      ],
      "metadata": {
        "colab": {
          "base_uri": "https://localhost:8080/",
          "height": 206
        },
        "id": "xWRVhJ2TvSvL",
        "outputId": "8374a235-4d49-474e-ea08-d38b3ef4abd3"
      },
      "execution_count": 2,
      "outputs": [
        {
          "output_type": "execute_result",
          "data": {
            "text/html": [
              "\n",
              "  <div id=\"df-c06ace00-e541-4530-bbfc-e208a7193823\">\n",
              "    <div class=\"colab-df-container\">\n",
              "      <div>\n",
              "<style scoped>\n",
              "    .dataframe tbody tr th:only-of-type {\n",
              "        vertical-align: middle;\n",
              "    }\n",
              "\n",
              "    .dataframe tbody tr th {\n",
              "        vertical-align: top;\n",
              "    }\n",
              "\n",
              "    .dataframe thead th {\n",
              "        text-align: right;\n",
              "    }\n",
              "</style>\n",
              "<table border=\"1\" class=\"dataframe\">\n",
              "  <thead>\n",
              "    <tr style=\"text-align: right;\">\n",
              "      <th></th>\n",
              "      <th>Show Number</th>\n",
              "      <th>Air Date</th>\n",
              "      <th>Round</th>\n",
              "      <th>Category</th>\n",
              "      <th>Value</th>\n",
              "      <th>Question</th>\n",
              "      <th>Answer</th>\n",
              "    </tr>\n",
              "  </thead>\n",
              "  <tbody>\n",
              "    <tr>\n",
              "      <th>0</th>\n",
              "      <td>4680</td>\n",
              "      <td>2004-12-31</td>\n",
              "      <td>Jeopardy!</td>\n",
              "      <td>HISTORY</td>\n",
              "      <td>$200</td>\n",
              "      <td>For the last 8 years of his life, Galileo was ...</td>\n",
              "      <td>Copernicus</td>\n",
              "    </tr>\n",
              "    <tr>\n",
              "      <th>1</th>\n",
              "      <td>4680</td>\n",
              "      <td>2004-12-31</td>\n",
              "      <td>Jeopardy!</td>\n",
              "      <td>ESPN's TOP 10 ALL-TIME ATHLETES</td>\n",
              "      <td>$200</td>\n",
              "      <td>No. 2: 1912 Olympian; football star at Carlisl...</td>\n",
              "      <td>Jim Thorpe</td>\n",
              "    </tr>\n",
              "    <tr>\n",
              "      <th>2</th>\n",
              "      <td>4680</td>\n",
              "      <td>2004-12-31</td>\n",
              "      <td>Jeopardy!</td>\n",
              "      <td>EVERYBODY TALKS ABOUT IT...</td>\n",
              "      <td>$200</td>\n",
              "      <td>The city of Yuma in this state has a record av...</td>\n",
              "      <td>Arizona</td>\n",
              "    </tr>\n",
              "    <tr>\n",
              "      <th>3</th>\n",
              "      <td>4680</td>\n",
              "      <td>2004-12-31</td>\n",
              "      <td>Jeopardy!</td>\n",
              "      <td>THE COMPANY LINE</td>\n",
              "      <td>$200</td>\n",
              "      <td>In 1963, live on \"The Art Linkletter Show\", th...</td>\n",
              "      <td>McDonald's</td>\n",
              "    </tr>\n",
              "    <tr>\n",
              "      <th>4</th>\n",
              "      <td>4680</td>\n",
              "      <td>2004-12-31</td>\n",
              "      <td>Jeopardy!</td>\n",
              "      <td>EPITAPHS &amp; TRIBUTES</td>\n",
              "      <td>$200</td>\n",
              "      <td>Signer of the Dec. of Indep., framer of the Co...</td>\n",
              "      <td>John Adams</td>\n",
              "    </tr>\n",
              "  </tbody>\n",
              "</table>\n",
              "</div>\n",
              "      <button class=\"colab-df-convert\" onclick=\"convertToInteractive('df-c06ace00-e541-4530-bbfc-e208a7193823')\"\n",
              "              title=\"Convert this dataframe to an interactive table.\"\n",
              "              style=\"display:none;\">\n",
              "        \n",
              "  <svg xmlns=\"http://www.w3.org/2000/svg\" height=\"24px\"viewBox=\"0 0 24 24\"\n",
              "       width=\"24px\">\n",
              "    <path d=\"M0 0h24v24H0V0z\" fill=\"none\"/>\n",
              "    <path d=\"M18.56 5.44l.94 2.06.94-2.06 2.06-.94-2.06-.94-.94-2.06-.94 2.06-2.06.94zm-11 1L8.5 8.5l.94-2.06 2.06-.94-2.06-.94L8.5 2.5l-.94 2.06-2.06.94zm10 10l.94 2.06.94-2.06 2.06-.94-2.06-.94-.94-2.06-.94 2.06-2.06.94z\"/><path d=\"M17.41 7.96l-1.37-1.37c-.4-.4-.92-.59-1.43-.59-.52 0-1.04.2-1.43.59L10.3 9.45l-7.72 7.72c-.78.78-.78 2.05 0 2.83L4 21.41c.39.39.9.59 1.41.59.51 0 1.02-.2 1.41-.59l7.78-7.78 2.81-2.81c.8-.78.8-2.07 0-2.86zM5.41 20L4 18.59l7.72-7.72 1.47 1.35L5.41 20z\"/>\n",
              "  </svg>\n",
              "      </button>\n",
              "      \n",
              "  <style>\n",
              "    .colab-df-container {\n",
              "      display:flex;\n",
              "      flex-wrap:wrap;\n",
              "      gap: 12px;\n",
              "    }\n",
              "\n",
              "    .colab-df-convert {\n",
              "      background-color: #E8F0FE;\n",
              "      border: none;\n",
              "      border-radius: 50%;\n",
              "      cursor: pointer;\n",
              "      display: none;\n",
              "      fill: #1967D2;\n",
              "      height: 32px;\n",
              "      padding: 0 0 0 0;\n",
              "      width: 32px;\n",
              "    }\n",
              "\n",
              "    .colab-df-convert:hover {\n",
              "      background-color: #E2EBFA;\n",
              "      box-shadow: 0px 1px 2px rgba(60, 64, 67, 0.3), 0px 1px 3px 1px rgba(60, 64, 67, 0.15);\n",
              "      fill: #174EA6;\n",
              "    }\n",
              "\n",
              "    [theme=dark] .colab-df-convert {\n",
              "      background-color: #3B4455;\n",
              "      fill: #D2E3FC;\n",
              "    }\n",
              "\n",
              "    [theme=dark] .colab-df-convert:hover {\n",
              "      background-color: #434B5C;\n",
              "      box-shadow: 0px 1px 3px 1px rgba(0, 0, 0, 0.15);\n",
              "      filter: drop-shadow(0px 1px 2px rgba(0, 0, 0, 0.3));\n",
              "      fill: #FFFFFF;\n",
              "    }\n",
              "  </style>\n",
              "\n",
              "      <script>\n",
              "        const buttonEl =\n",
              "          document.querySelector('#df-c06ace00-e541-4530-bbfc-e208a7193823 button.colab-df-convert');\n",
              "        buttonEl.style.display =\n",
              "          google.colab.kernel.accessAllowed ? 'block' : 'none';\n",
              "\n",
              "        async function convertToInteractive(key) {\n",
              "          const element = document.querySelector('#df-c06ace00-e541-4530-bbfc-e208a7193823');\n",
              "          const dataTable =\n",
              "            await google.colab.kernel.invokeFunction('convertToInteractive',\n",
              "                                                     [key], {});\n",
              "          if (!dataTable) return;\n",
              "\n",
              "          const docLinkHtml = 'Like what you see? Visit the ' +\n",
              "            '<a target=\"_blank\" href=https://colab.research.google.com/notebooks/data_table.ipynb>data table notebook</a>'\n",
              "            + ' to learn more about interactive tables.';\n",
              "          element.innerHTML = '';\n",
              "          dataTable['output_type'] = 'display_data';\n",
              "          await google.colab.output.renderOutput(dataTable, element);\n",
              "          const docLink = document.createElement('div');\n",
              "          docLink.innerHTML = docLinkHtml;\n",
              "          element.appendChild(docLink);\n",
              "        }\n",
              "      </script>\n",
              "    </div>\n",
              "  </div>\n",
              "  "
            ],
            "text/plain": [
              "   Show Number  ...      Answer\n",
              "0         4680  ...  Copernicus\n",
              "1         4680  ...  Jim Thorpe\n",
              "2         4680  ...     Arizona\n",
              "3         4680  ...  McDonald's\n",
              "4         4680  ...  John Adams\n",
              "\n",
              "[5 rows x 7 columns]"
            ]
          },
          "metadata": {},
          "execution_count": 2
        }
      ]
    },
    {
      "cell_type": "code",
      "source": [
        "jeopardy.columns"
      ],
      "metadata": {
        "colab": {
          "base_uri": "https://localhost:8080/"
        },
        "id": "FXu7I15JgZNY",
        "outputId": "8fe58a84-8a3f-44b9-d6f9-15053c427f16"
      },
      "execution_count": 3,
      "outputs": [
        {
          "output_type": "execute_result",
          "data": {
            "text/plain": [
              "Index(['Show Number', ' Air Date', ' Round', ' Category', ' Value',\n",
              "       ' Question', ' Answer'],\n",
              "      dtype='object')"
            ]
          },
          "metadata": {},
          "execution_count": 3
        }
      ]
    },
    {
      "cell_type": "code",
      "source": [
        "# remove spaces from column names\n",
        "jeopardy.columns = jeopardy.columns.str.replace(' ', '')"
      ],
      "metadata": {
        "id": "NMMrMuJPgisH"
      },
      "execution_count": 4,
      "outputs": []
    },
    {
      "cell_type": "code",
      "source": [
        "import re\n",
        "\n",
        "def clean_column(s):\n",
        "    '''functions takes string as input, converts to lowercase, removes \n",
        "    punctuation, returns clean string.\n",
        "    '''\n",
        "    s = str(s)\n",
        "    s = s.lower()\n",
        "    # s = re.sub('[^A-Za-z0-9\\s]', '', s)\n",
        "    # s = re.sub('[\\W\\s]', '', s)\n",
        "    # remove anything that is not a word character or a white space\n",
        "    s = re.sub('[^\\w\\s]', '', s)\n",
        "    return s"
      ],
      "metadata": {
        "id": "-xspKibziZId"
      },
      "execution_count": 5,
      "outputs": []
    },
    {
      "cell_type": "code",
      "source": [
        "jeopardy['clean_question'] = jeopardy['Question'].apply(clean_column)\n",
        "jeopardy['clean_answer'] = jeopardy['Answer'].apply(clean_column)"
      ],
      "metadata": {
        "id": "PNVl_DymjGwJ"
      },
      "execution_count": 6,
      "outputs": []
    },
    {
      "cell_type": "code",
      "source": [
        "jeopardy"
      ],
      "metadata": {
        "colab": {
          "base_uri": "https://localhost:8080/",
          "height": 641
        },
        "id": "lFFlp0XukMc_",
        "outputId": "d9ac33a3-44a8-43bf-c1a1-f5bbeb424964"
      },
      "execution_count": 7,
      "outputs": [
        {
          "output_type": "execute_result",
          "data": {
            "text/html": [
              "\n",
              "  <div id=\"df-9805f0ab-02ce-4c24-bdda-be0e45015399\">\n",
              "    <div class=\"colab-df-container\">\n",
              "      <div>\n",
              "<style scoped>\n",
              "    .dataframe tbody tr th:only-of-type {\n",
              "        vertical-align: middle;\n",
              "    }\n",
              "\n",
              "    .dataframe tbody tr th {\n",
              "        vertical-align: top;\n",
              "    }\n",
              "\n",
              "    .dataframe thead th {\n",
              "        text-align: right;\n",
              "    }\n",
              "</style>\n",
              "<table border=\"1\" class=\"dataframe\">\n",
              "  <thead>\n",
              "    <tr style=\"text-align: right;\">\n",
              "      <th></th>\n",
              "      <th>ShowNumber</th>\n",
              "      <th>AirDate</th>\n",
              "      <th>Round</th>\n",
              "      <th>Category</th>\n",
              "      <th>Value</th>\n",
              "      <th>Question</th>\n",
              "      <th>Answer</th>\n",
              "      <th>clean_question</th>\n",
              "      <th>clean_answer</th>\n",
              "    </tr>\n",
              "  </thead>\n",
              "  <tbody>\n",
              "    <tr>\n",
              "      <th>0</th>\n",
              "      <td>4680</td>\n",
              "      <td>2004-12-31</td>\n",
              "      <td>Jeopardy!</td>\n",
              "      <td>HISTORY</td>\n",
              "      <td>$200</td>\n",
              "      <td>For the last 8 years of his life, Galileo was ...</td>\n",
              "      <td>Copernicus</td>\n",
              "      <td>for the last 8 years of his life galileo was u...</td>\n",
              "      <td>copernicus</td>\n",
              "    </tr>\n",
              "    <tr>\n",
              "      <th>1</th>\n",
              "      <td>4680</td>\n",
              "      <td>2004-12-31</td>\n",
              "      <td>Jeopardy!</td>\n",
              "      <td>ESPN's TOP 10 ALL-TIME ATHLETES</td>\n",
              "      <td>$200</td>\n",
              "      <td>No. 2: 1912 Olympian; football star at Carlisl...</td>\n",
              "      <td>Jim Thorpe</td>\n",
              "      <td>no 2 1912 olympian football star at carlisle i...</td>\n",
              "      <td>jim thorpe</td>\n",
              "    </tr>\n",
              "    <tr>\n",
              "      <th>2</th>\n",
              "      <td>4680</td>\n",
              "      <td>2004-12-31</td>\n",
              "      <td>Jeopardy!</td>\n",
              "      <td>EVERYBODY TALKS ABOUT IT...</td>\n",
              "      <td>$200</td>\n",
              "      <td>The city of Yuma in this state has a record av...</td>\n",
              "      <td>Arizona</td>\n",
              "      <td>the city of yuma in this state has a record av...</td>\n",
              "      <td>arizona</td>\n",
              "    </tr>\n",
              "    <tr>\n",
              "      <th>3</th>\n",
              "      <td>4680</td>\n",
              "      <td>2004-12-31</td>\n",
              "      <td>Jeopardy!</td>\n",
              "      <td>THE COMPANY LINE</td>\n",
              "      <td>$200</td>\n",
              "      <td>In 1963, live on \"The Art Linkletter Show\", th...</td>\n",
              "      <td>McDonald's</td>\n",
              "      <td>in 1963 live on the art linkletter show this c...</td>\n",
              "      <td>mcdonalds</td>\n",
              "    </tr>\n",
              "    <tr>\n",
              "      <th>4</th>\n",
              "      <td>4680</td>\n",
              "      <td>2004-12-31</td>\n",
              "      <td>Jeopardy!</td>\n",
              "      <td>EPITAPHS &amp; TRIBUTES</td>\n",
              "      <td>$200</td>\n",
              "      <td>Signer of the Dec. of Indep., framer of the Co...</td>\n",
              "      <td>John Adams</td>\n",
              "      <td>signer of the dec of indep framer of the const...</td>\n",
              "      <td>john adams</td>\n",
              "    </tr>\n",
              "    <tr>\n",
              "      <th>...</th>\n",
              "      <td>...</td>\n",
              "      <td>...</td>\n",
              "      <td>...</td>\n",
              "      <td>...</td>\n",
              "      <td>...</td>\n",
              "      <td>...</td>\n",
              "      <td>...</td>\n",
              "      <td>...</td>\n",
              "      <td>...</td>\n",
              "    </tr>\n",
              "    <tr>\n",
              "      <th>216925</th>\n",
              "      <td>4999</td>\n",
              "      <td>2006-05-11</td>\n",
              "      <td>Double Jeopardy!</td>\n",
              "      <td>RIDDLE ME THIS</td>\n",
              "      <td>$2000</td>\n",
              "      <td>This Puccini opera turns on the solution to 3 ...</td>\n",
              "      <td>Turandot</td>\n",
              "      <td>this puccini opera turns on the solution to 3 ...</td>\n",
              "      <td>turandot</td>\n",
              "    </tr>\n",
              "    <tr>\n",
              "      <th>216926</th>\n",
              "      <td>4999</td>\n",
              "      <td>2006-05-11</td>\n",
              "      <td>Double Jeopardy!</td>\n",
              "      <td>\"T\" BIRDS</td>\n",
              "      <td>$2000</td>\n",
              "      <td>In North America this term is properly applied...</td>\n",
              "      <td>a titmouse</td>\n",
              "      <td>in north america this term is properly applied...</td>\n",
              "      <td>a titmouse</td>\n",
              "    </tr>\n",
              "    <tr>\n",
              "      <th>216927</th>\n",
              "      <td>4999</td>\n",
              "      <td>2006-05-11</td>\n",
              "      <td>Double Jeopardy!</td>\n",
              "      <td>AUTHORS IN THEIR YOUTH</td>\n",
              "      <td>$2000</td>\n",
              "      <td>In Penny Lane, where this \"Hellraiser\" grew up...</td>\n",
              "      <td>Clive Barker</td>\n",
              "      <td>in penny lane where this hellraiser grew up th...</td>\n",
              "      <td>clive barker</td>\n",
              "    </tr>\n",
              "    <tr>\n",
              "      <th>216928</th>\n",
              "      <td>4999</td>\n",
              "      <td>2006-05-11</td>\n",
              "      <td>Double Jeopardy!</td>\n",
              "      <td>QUOTATIONS</td>\n",
              "      <td>$2000</td>\n",
              "      <td>From Ft. Sill, Okla. he made the plea, Arizona...</td>\n",
              "      <td>Geronimo</td>\n",
              "      <td>from ft sill okla he made the plea arizona is ...</td>\n",
              "      <td>geronimo</td>\n",
              "    </tr>\n",
              "    <tr>\n",
              "      <th>216929</th>\n",
              "      <td>4999</td>\n",
              "      <td>2006-05-11</td>\n",
              "      <td>Final Jeopardy!</td>\n",
              "      <td>HISTORIC NAMES</td>\n",
              "      <td>None</td>\n",
              "      <td>A silent movie title includes the last name of...</td>\n",
              "      <td>Grigori Alexandrovich Potemkin</td>\n",
              "      <td>a silent movie title includes the last name of...</td>\n",
              "      <td>grigori alexandrovich potemkin</td>\n",
              "    </tr>\n",
              "  </tbody>\n",
              "</table>\n",
              "<p>216930 rows × 9 columns</p>\n",
              "</div>\n",
              "      <button class=\"colab-df-convert\" onclick=\"convertToInteractive('df-9805f0ab-02ce-4c24-bdda-be0e45015399')\"\n",
              "              title=\"Convert this dataframe to an interactive table.\"\n",
              "              style=\"display:none;\">\n",
              "        \n",
              "  <svg xmlns=\"http://www.w3.org/2000/svg\" height=\"24px\"viewBox=\"0 0 24 24\"\n",
              "       width=\"24px\">\n",
              "    <path d=\"M0 0h24v24H0V0z\" fill=\"none\"/>\n",
              "    <path d=\"M18.56 5.44l.94 2.06.94-2.06 2.06-.94-2.06-.94-.94-2.06-.94 2.06-2.06.94zm-11 1L8.5 8.5l.94-2.06 2.06-.94-2.06-.94L8.5 2.5l-.94 2.06-2.06.94zm10 10l.94 2.06.94-2.06 2.06-.94-2.06-.94-.94-2.06-.94 2.06-2.06.94z\"/><path d=\"M17.41 7.96l-1.37-1.37c-.4-.4-.92-.59-1.43-.59-.52 0-1.04.2-1.43.59L10.3 9.45l-7.72 7.72c-.78.78-.78 2.05 0 2.83L4 21.41c.39.39.9.59 1.41.59.51 0 1.02-.2 1.41-.59l7.78-7.78 2.81-2.81c.8-.78.8-2.07 0-2.86zM5.41 20L4 18.59l7.72-7.72 1.47 1.35L5.41 20z\"/>\n",
              "  </svg>\n",
              "      </button>\n",
              "      \n",
              "  <style>\n",
              "    .colab-df-container {\n",
              "      display:flex;\n",
              "      flex-wrap:wrap;\n",
              "      gap: 12px;\n",
              "    }\n",
              "\n",
              "    .colab-df-convert {\n",
              "      background-color: #E8F0FE;\n",
              "      border: none;\n",
              "      border-radius: 50%;\n",
              "      cursor: pointer;\n",
              "      display: none;\n",
              "      fill: #1967D2;\n",
              "      height: 32px;\n",
              "      padding: 0 0 0 0;\n",
              "      width: 32px;\n",
              "    }\n",
              "\n",
              "    .colab-df-convert:hover {\n",
              "      background-color: #E2EBFA;\n",
              "      box-shadow: 0px 1px 2px rgba(60, 64, 67, 0.3), 0px 1px 3px 1px rgba(60, 64, 67, 0.15);\n",
              "      fill: #174EA6;\n",
              "    }\n",
              "\n",
              "    [theme=dark] .colab-df-convert {\n",
              "      background-color: #3B4455;\n",
              "      fill: #D2E3FC;\n",
              "    }\n",
              "\n",
              "    [theme=dark] .colab-df-convert:hover {\n",
              "      background-color: #434B5C;\n",
              "      box-shadow: 0px 1px 3px 1px rgba(0, 0, 0, 0.15);\n",
              "      filter: drop-shadow(0px 1px 2px rgba(0, 0, 0, 0.3));\n",
              "      fill: #FFFFFF;\n",
              "    }\n",
              "  </style>\n",
              "\n",
              "      <script>\n",
              "        const buttonEl =\n",
              "          document.querySelector('#df-9805f0ab-02ce-4c24-bdda-be0e45015399 button.colab-df-convert');\n",
              "        buttonEl.style.display =\n",
              "          google.colab.kernel.accessAllowed ? 'block' : 'none';\n",
              "\n",
              "        async function convertToInteractive(key) {\n",
              "          const element = document.querySelector('#df-9805f0ab-02ce-4c24-bdda-be0e45015399');\n",
              "          const dataTable =\n",
              "            await google.colab.kernel.invokeFunction('convertToInteractive',\n",
              "                                                     [key], {});\n",
              "          if (!dataTable) return;\n",
              "\n",
              "          const docLinkHtml = 'Like what you see? Visit the ' +\n",
              "            '<a target=\"_blank\" href=https://colab.research.google.com/notebooks/data_table.ipynb>data table notebook</a>'\n",
              "            + ' to learn more about interactive tables.';\n",
              "          element.innerHTML = '';\n",
              "          dataTable['output_type'] = 'display_data';\n",
              "          await google.colab.output.renderOutput(dataTable, element);\n",
              "          const docLink = document.createElement('div');\n",
              "          docLink.innerHTML = docLinkHtml;\n",
              "          element.appendChild(docLink);\n",
              "        }\n",
              "      </script>\n",
              "    </div>\n",
              "  </div>\n",
              "  "
            ],
            "text/plain": [
              "        ShowNumber  ...                    clean_answer\n",
              "0             4680  ...                      copernicus\n",
              "1             4680  ...                      jim thorpe\n",
              "2             4680  ...                         arizona\n",
              "3             4680  ...                       mcdonalds\n",
              "4             4680  ...                      john adams\n",
              "...            ...  ...                             ...\n",
              "216925        4999  ...                        turandot\n",
              "216926        4999  ...                      a titmouse\n",
              "216927        4999  ...                    clive barker\n",
              "216928        4999  ...                        geronimo\n",
              "216929        4999  ...  grigori alexandrovich potemkin\n",
              "\n",
              "[216930 rows x 9 columns]"
            ]
          },
          "metadata": {},
          "execution_count": 7
        }
      ]
    },
    {
      "cell_type": "code",
      "source": [
        "def normalize_values(s):\n",
        "    '''Function takes string as input, removes punctuation, converts string to \n",
        "    integer, returns integer. If there is an error, returns 0.\n",
        "    '''\n",
        "    # s = re.sub('[^\\w\\s]', '', s)\n",
        "    # s = str(s)\n",
        "    # s = s.replace('$', '')\n",
        "    s = re.sub('[^\\w.]', '', s)\n",
        "    try:\n",
        "        val = int(s)\n",
        "    except:\n",
        "        val = 0\n",
        "    return val\n"
      ],
      "metadata": {
        "id": "gLVzVRDBn4sP"
      },
      "execution_count": 8,
      "outputs": []
    },
    {
      "cell_type": "code",
      "source": [
        "jeopardy['clean_value'] = jeopardy['Value'].apply(normalize_values)\n",
        "# jeopardy[(jeopardy['clean_value'] == 0) & (jeopardy['Value'].notnull())]"
      ],
      "metadata": {
        "id": "rIaxfRWCsetK"
      },
      "execution_count": 9,
      "outputs": []
    },
    {
      "cell_type": "code",
      "source": [
        "jeopardy.info()"
      ],
      "metadata": {
        "colab": {
          "base_uri": "https://localhost:8080/"
        },
        "id": "nHnW_85Jvh7r",
        "outputId": "e5128939-efcc-4c67-e09d-0a25dd975bc6"
      },
      "execution_count": 10,
      "outputs": [
        {
          "output_type": "stream",
          "name": "stdout",
          "text": [
            "<class 'pandas.core.frame.DataFrame'>\n",
            "RangeIndex: 216930 entries, 0 to 216929\n",
            "Data columns (total 10 columns):\n",
            " #   Column          Non-Null Count   Dtype \n",
            "---  ------          --------------   ----- \n",
            " 0   ShowNumber      216930 non-null  int64 \n",
            " 1   AirDate         216930 non-null  object\n",
            " 2   Round           216930 non-null  object\n",
            " 3   Category        216930 non-null  object\n",
            " 4   Value           216930 non-null  object\n",
            " 5   Question        216930 non-null  object\n",
            " 6   Answer          216928 non-null  object\n",
            " 7   clean_question  216930 non-null  object\n",
            " 8   clean_answer    216930 non-null  object\n",
            " 9   clean_value     216930 non-null  int64 \n",
            "dtypes: int64(2), object(8)\n",
            "memory usage: 16.6+ MB\n"
          ]
        }
      ]
    },
    {
      "cell_type": "code",
      "source": [
        "jeopardy['AirDate'] = pd.to_datetime(jeopardy['AirDate'])"
      ],
      "metadata": {
        "id": "qa5Uy4iLu2iP"
      },
      "execution_count": 11,
      "outputs": []
    },
    {
      "cell_type": "code",
      "source": [
        "def word_match(df):\n",
        "    '''Function takes row in jeopardy dataframe. Returns ratio of words in \n",
        "    answer that match words in question.\n",
        "    '''\n",
        "    # split strings into lists\n",
        "    split_answer = df['clean_answer'].split()\n",
        "    split_question = df['clean_question'].split()\n",
        "\n",
        "    # remove the word 'the' since it occurs often & is meaningless for this excercise\n",
        "    split_answer = [word for word in split_answer if word != 'the']\n",
        "\n",
        "    # to avoid division by zero, return 0 if length of list is zero\n",
        "    if len(split_answer) == 0:\n",
        "        return 0\n",
        "\n",
        "    # counts words in answer that exist in question\n",
        "    match_count = 0\n",
        "    for word in split_answer:\n",
        "        if word in split_question:\n",
        "            match_count += 1\n",
        "\n",
        "    # return ratio of words in answer that match words in question\n",
        "    return match_count / len(split_answer)"
      ],
      "metadata": {
        "id": "vLTQs_Fjv4dV"
      },
      "execution_count": 12,
      "outputs": []
    },
    {
      "cell_type": "code",
      "source": [
        "jeopardy['answer_in_question'] = jeopardy.apply(word_match, axis=1)"
      ],
      "metadata": {
        "id": "oRqlJ5w5wpxJ"
      },
      "execution_count": 13,
      "outputs": []
    },
    {
      "cell_type": "code",
      "source": [
        "jeopardy['answer_in_question'].mean()"
      ],
      "metadata": {
        "colab": {
          "base_uri": "https://localhost:8080/"
        },
        "id": "g6L5Thha1uvi",
        "outputId": "30c0f3a8-f311-4480-964b-dc919209da5b"
      },
      "execution_count": 14,
      "outputs": [
        {
          "output_type": "execute_result",
          "data": {
            "text/plain": [
              "0.05732619088707737"
            ]
          },
          "metadata": {},
          "execution_count": 14
        }
      ]
    },
    {
      "cell_type": "markdown",
      "source": [
        "## Recycled questions\n",
        "On average, the answer only makes up for about 5.7% of the question. This isn't a huge number, and means that just hearing a question will probably not enable us to figure out the answer."
      ],
      "metadata": {
        "id": "1neiKohQ13uU"
      }
    },
    {
      "cell_type": "code",
      "source": [
        "jeopardy.sort_values('AirDate', inplace=True)"
      ],
      "metadata": {
        "id": "gPwKDqXE9CWt"
      },
      "execution_count": 15,
      "outputs": []
    },
    {
      "cell_type": "code",
      "source": [
        "question_overlap = []\n",
        "terms_used = set([])\n",
        "\n",
        "for index, row in jeopardy.iterrows():\n",
        "    split_question = row['clean_question'].split()\n",
        "    split_question = [word for word in split_question if len(word) > 5]\n",
        "    match_count = 0\n",
        "    for word in split_question:\n",
        "        if word in terms_used:\n",
        "            match_count +=1\n",
        "        terms_used.add(word)\n",
        "    if len(split_question) > 0:\n",
        "        match_count /= len(split_question)\n",
        "    question_overlap.append(match_count)"
      ],
      "metadata": {
        "id": "7ySc4ADv4CEO"
      },
      "execution_count": 16,
      "outputs": []
    },
    {
      "cell_type": "code",
      "source": [
        "jeopardy['question_overlap'] = question_overlap"
      ],
      "metadata": {
        "id": "Zd63Q_cD9Y6I"
      },
      "execution_count": 17,
      "outputs": []
    },
    {
      "cell_type": "code",
      "source": [
        "jeopardy['question_overlap'].mean()"
      ],
      "metadata": {
        "colab": {
          "base_uri": "https://localhost:8080/"
        },
        "id": "QhD-WUik9lJm",
        "outputId": "e254fc6b-ffcf-4e6a-c8e5-0c454afd5926"
      },
      "execution_count": 18,
      "outputs": [
        {
          "output_type": "execute_result",
          "data": {
            "text/plain": [
              "0.8726690023368967"
            ]
          },
          "metadata": {},
          "execution_count": 18
        }
      ]
    },
    {
      "cell_type": "markdown",
      "source": [
        "## Low value vs high value questions\n",
        "There is about 87% overlap between terms in new questions and terms in old questions. This doesn't look at phrases, it looks at single terms. This makes it relatively insignificant, but it does mean that it's worth looking more into the recycling of questions."
      ],
      "metadata": {
        "id": "ze9kl1dc98uu"
      }
    },
    {
      "cell_type": "code",
      "source": [
        "jeopardy"
      ],
      "metadata": {
        "colab": {
          "base_uri": "https://localhost:8080/",
          "height": 693
        },
        "id": "z-buaDbF_KQQ",
        "outputId": "f04dca32-7b2b-480d-ef3e-017e82a6682b"
      },
      "execution_count": 19,
      "outputs": [
        {
          "output_type": "execute_result",
          "data": {
            "text/html": [
              "\n",
              "  <div id=\"df-50d33aec-294f-4851-b125-ab56a43f1411\">\n",
              "    <div class=\"colab-df-container\">\n",
              "      <div>\n",
              "<style scoped>\n",
              "    .dataframe tbody tr th:only-of-type {\n",
              "        vertical-align: middle;\n",
              "    }\n",
              "\n",
              "    .dataframe tbody tr th {\n",
              "        vertical-align: top;\n",
              "    }\n",
              "\n",
              "    .dataframe thead th {\n",
              "        text-align: right;\n",
              "    }\n",
              "</style>\n",
              "<table border=\"1\" class=\"dataframe\">\n",
              "  <thead>\n",
              "    <tr style=\"text-align: right;\">\n",
              "      <th></th>\n",
              "      <th>ShowNumber</th>\n",
              "      <th>AirDate</th>\n",
              "      <th>Round</th>\n",
              "      <th>Category</th>\n",
              "      <th>Value</th>\n",
              "      <th>Question</th>\n",
              "      <th>Answer</th>\n",
              "      <th>clean_question</th>\n",
              "      <th>clean_answer</th>\n",
              "      <th>clean_value</th>\n",
              "      <th>answer_in_question</th>\n",
              "      <th>question_overlap</th>\n",
              "    </tr>\n",
              "  </thead>\n",
              "  <tbody>\n",
              "    <tr>\n",
              "      <th>84523</th>\n",
              "      <td>1</td>\n",
              "      <td>1984-09-10</td>\n",
              "      <td>Jeopardy!</td>\n",
              "      <td>LAKES &amp; RIVERS</td>\n",
              "      <td>$100</td>\n",
              "      <td>River mentioned most often in the Bible</td>\n",
              "      <td>the Jordan</td>\n",
              "      <td>river mentioned most often in the bible</td>\n",
              "      <td>the jordan</td>\n",
              "      <td>100</td>\n",
              "      <td>0.000000</td>\n",
              "      <td>0.000000</td>\n",
              "    </tr>\n",
              "    <tr>\n",
              "      <th>84565</th>\n",
              "      <td>1</td>\n",
              "      <td>1984-09-10</td>\n",
              "      <td>Double Jeopardy!</td>\n",
              "      <td>THE BIBLE</td>\n",
              "      <td>$1000</td>\n",
              "      <td>According to 1st Timothy, it is the \"root of a...</td>\n",
              "      <td>the love of money</td>\n",
              "      <td>according to 1st timothy it is the root of all...</td>\n",
              "      <td>the love of money</td>\n",
              "      <td>1000</td>\n",
              "      <td>0.333333</td>\n",
              "      <td>0.000000</td>\n",
              "    </tr>\n",
              "    <tr>\n",
              "      <th>84566</th>\n",
              "      <td>1</td>\n",
              "      <td>1984-09-10</td>\n",
              "      <td>Double Jeopardy!</td>\n",
              "      <td>'50'S TV</td>\n",
              "      <td>$1000</td>\n",
              "      <td>Name under which experimenter Don Herbert taug...</td>\n",
              "      <td>Mr. Wizard</td>\n",
              "      <td>name under which experimenter don herbert taug...</td>\n",
              "      <td>mr wizard</td>\n",
              "      <td>1000</td>\n",
              "      <td>0.000000</td>\n",
              "      <td>0.000000</td>\n",
              "    </tr>\n",
              "    <tr>\n",
              "      <th>84567</th>\n",
              "      <td>1</td>\n",
              "      <td>1984-09-10</td>\n",
              "      <td>Double Jeopardy!</td>\n",
              "      <td>NATIONAL LANDMARKS</td>\n",
              "      <td>$1000</td>\n",
              "      <td>D.C. building shaken by November '83 bomb blast</td>\n",
              "      <td>the Capitol</td>\n",
              "      <td>dc building shaken by november 83 bomb blast</td>\n",
              "      <td>the capitol</td>\n",
              "      <td>1000</td>\n",
              "      <td>0.000000</td>\n",
              "      <td>0.000000</td>\n",
              "    </tr>\n",
              "    <tr>\n",
              "      <th>84568</th>\n",
              "      <td>1</td>\n",
              "      <td>1984-09-10</td>\n",
              "      <td>Double Jeopardy!</td>\n",
              "      <td>NOTORIOUS</td>\n",
              "      <td>$1000</td>\n",
              "      <td>After the deed, he leaped to the stage shoutin...</td>\n",
              "      <td>John Wilkes Booth</td>\n",
              "      <td>after the deed he leaped to the stage shouting...</td>\n",
              "      <td>john wilkes booth</td>\n",
              "      <td>1000</td>\n",
              "      <td>0.000000</td>\n",
              "      <td>0.000000</td>\n",
              "    </tr>\n",
              "    <tr>\n",
              "      <th>...</th>\n",
              "      <td>...</td>\n",
              "      <td>...</td>\n",
              "      <td>...</td>\n",
              "      <td>...</td>\n",
              "      <td>...</td>\n",
              "      <td>...</td>\n",
              "      <td>...</td>\n",
              "      <td>...</td>\n",
              "      <td>...</td>\n",
              "      <td>...</td>\n",
              "      <td>...</td>\n",
              "      <td>...</td>\n",
              "    </tr>\n",
              "    <tr>\n",
              "      <th>105947</th>\n",
              "      <td>6300</td>\n",
              "      <td>2012-01-27</td>\n",
              "      <td>Jeopardy!</td>\n",
              "      <td>VISITING THE CITY</td>\n",
              "      <td>$800</td>\n",
              "      <td>There's a great opera house on Bennelong Point...</td>\n",
              "      <td>Sydney</td>\n",
              "      <td>theres a great opera house on bennelong point ...</td>\n",
              "      <td>sydney</td>\n",
              "      <td>800</td>\n",
              "      <td>0.000000</td>\n",
              "      <td>1.000000</td>\n",
              "    </tr>\n",
              "    <tr>\n",
              "      <th>105948</th>\n",
              "      <td>6300</td>\n",
              "      <td>2012-01-27</td>\n",
              "      <td>Jeopardy!</td>\n",
              "      <td>PANTS</td>\n",
              "      <td>$1,400</td>\n",
              "      <td>Tight-fitting pants patterned after those worn...</td>\n",
              "      <td>toreador pants</td>\n",
              "      <td>tightfitting pants patterned after those worn ...</td>\n",
              "      <td>toreador pants</td>\n",
              "      <td>1400</td>\n",
              "      <td>0.500000</td>\n",
              "      <td>1.000000</td>\n",
              "    </tr>\n",
              "    <tr>\n",
              "      <th>105949</th>\n",
              "      <td>6300</td>\n",
              "      <td>2012-01-27</td>\n",
              "      <td>Jeopardy!</td>\n",
              "      <td>CHILD ACTORS</td>\n",
              "      <td>$800</td>\n",
              "      <td>This kid, with a familiar last name, is seen &lt;...</td>\n",
              "      <td>Jaden Smith</td>\n",
              "      <td>this kid with a familiar last name is seen a h...</td>\n",
              "      <td>jaden smith</td>\n",
              "      <td>800</td>\n",
              "      <td>0.000000</td>\n",
              "      <td>0.500000</td>\n",
              "    </tr>\n",
              "    <tr>\n",
              "      <th>105951</th>\n",
              "      <td>6300</td>\n",
              "      <td>2012-01-27</td>\n",
              "      <td>Jeopardy!</td>\n",
              "      <td>LESSER-KNOWN SCIENTISTS</td>\n",
              "      <td>$800</td>\n",
              "      <td>Joseph Lagrange insisted on 10 as the basic un...</td>\n",
              "      <td>the metric system</td>\n",
              "      <td>joseph lagrange insisted on 10 as the basic un...</td>\n",
              "      <td>the metric system</td>\n",
              "      <td>800</td>\n",
              "      <td>0.500000</td>\n",
              "      <td>0.777778</td>\n",
              "    </tr>\n",
              "    <tr>\n",
              "      <th>105930</th>\n",
              "      <td>6300</td>\n",
              "      <td>2012-01-27</td>\n",
              "      <td>Jeopardy!</td>\n",
              "      <td>PANTS</td>\n",
              "      <td>$200</td>\n",
              "      <td>A synonym for freight, or pants with large bel...</td>\n",
              "      <td>cargo pants</td>\n",
              "      <td>a synonym for freight or pants with large bell...</td>\n",
              "      <td>cargo pants</td>\n",
              "      <td>200</td>\n",
              "      <td>0.500000</td>\n",
              "      <td>0.833333</td>\n",
              "    </tr>\n",
              "  </tbody>\n",
              "</table>\n",
              "<p>216930 rows × 12 columns</p>\n",
              "</div>\n",
              "      <button class=\"colab-df-convert\" onclick=\"convertToInteractive('df-50d33aec-294f-4851-b125-ab56a43f1411')\"\n",
              "              title=\"Convert this dataframe to an interactive table.\"\n",
              "              style=\"display:none;\">\n",
              "        \n",
              "  <svg xmlns=\"http://www.w3.org/2000/svg\" height=\"24px\"viewBox=\"0 0 24 24\"\n",
              "       width=\"24px\">\n",
              "    <path d=\"M0 0h24v24H0V0z\" fill=\"none\"/>\n",
              "    <path d=\"M18.56 5.44l.94 2.06.94-2.06 2.06-.94-2.06-.94-.94-2.06-.94 2.06-2.06.94zm-11 1L8.5 8.5l.94-2.06 2.06-.94-2.06-.94L8.5 2.5l-.94 2.06-2.06.94zm10 10l.94 2.06.94-2.06 2.06-.94-2.06-.94-.94-2.06-.94 2.06-2.06.94z\"/><path d=\"M17.41 7.96l-1.37-1.37c-.4-.4-.92-.59-1.43-.59-.52 0-1.04.2-1.43.59L10.3 9.45l-7.72 7.72c-.78.78-.78 2.05 0 2.83L4 21.41c.39.39.9.59 1.41.59.51 0 1.02-.2 1.41-.59l7.78-7.78 2.81-2.81c.8-.78.8-2.07 0-2.86zM5.41 20L4 18.59l7.72-7.72 1.47 1.35L5.41 20z\"/>\n",
              "  </svg>\n",
              "      </button>\n",
              "      \n",
              "  <style>\n",
              "    .colab-df-container {\n",
              "      display:flex;\n",
              "      flex-wrap:wrap;\n",
              "      gap: 12px;\n",
              "    }\n",
              "\n",
              "    .colab-df-convert {\n",
              "      background-color: #E8F0FE;\n",
              "      border: none;\n",
              "      border-radius: 50%;\n",
              "      cursor: pointer;\n",
              "      display: none;\n",
              "      fill: #1967D2;\n",
              "      height: 32px;\n",
              "      padding: 0 0 0 0;\n",
              "      width: 32px;\n",
              "    }\n",
              "\n",
              "    .colab-df-convert:hover {\n",
              "      background-color: #E2EBFA;\n",
              "      box-shadow: 0px 1px 2px rgba(60, 64, 67, 0.3), 0px 1px 3px 1px rgba(60, 64, 67, 0.15);\n",
              "      fill: #174EA6;\n",
              "    }\n",
              "\n",
              "    [theme=dark] .colab-df-convert {\n",
              "      background-color: #3B4455;\n",
              "      fill: #D2E3FC;\n",
              "    }\n",
              "\n",
              "    [theme=dark] .colab-df-convert:hover {\n",
              "      background-color: #434B5C;\n",
              "      box-shadow: 0px 1px 3px 1px rgba(0, 0, 0, 0.15);\n",
              "      filter: drop-shadow(0px 1px 2px rgba(0, 0, 0, 0.3));\n",
              "      fill: #FFFFFF;\n",
              "    }\n",
              "  </style>\n",
              "\n",
              "      <script>\n",
              "        const buttonEl =\n",
              "          document.querySelector('#df-50d33aec-294f-4851-b125-ab56a43f1411 button.colab-df-convert');\n",
              "        buttonEl.style.display =\n",
              "          google.colab.kernel.accessAllowed ? 'block' : 'none';\n",
              "\n",
              "        async function convertToInteractive(key) {\n",
              "          const element = document.querySelector('#df-50d33aec-294f-4851-b125-ab56a43f1411');\n",
              "          const dataTable =\n",
              "            await google.colab.kernel.invokeFunction('convertToInteractive',\n",
              "                                                     [key], {});\n",
              "          if (!dataTable) return;\n",
              "\n",
              "          const docLinkHtml = 'Like what you see? Visit the ' +\n",
              "            '<a target=\"_blank\" href=https://colab.research.google.com/notebooks/data_table.ipynb>data table notebook</a>'\n",
              "            + ' to learn more about interactive tables.';\n",
              "          element.innerHTML = '';\n",
              "          dataTable['output_type'] = 'display_data';\n",
              "          await google.colab.output.renderOutput(dataTable, element);\n",
              "          const docLink = document.createElement('div');\n",
              "          docLink.innerHTML = docLinkHtml;\n",
              "          element.appendChild(docLink);\n",
              "        }\n",
              "      </script>\n",
              "    </div>\n",
              "  </div>\n",
              "  "
            ],
            "text/plain": [
              "        ShowNumber    AirDate  ... answer_in_question question_overlap\n",
              "84523            1 1984-09-10  ...           0.000000         0.000000\n",
              "84565            1 1984-09-10  ...           0.333333         0.000000\n",
              "84566            1 1984-09-10  ...           0.000000         0.000000\n",
              "84567            1 1984-09-10  ...           0.000000         0.000000\n",
              "84568            1 1984-09-10  ...           0.000000         0.000000\n",
              "...            ...        ...  ...                ...              ...\n",
              "105947        6300 2012-01-27  ...           0.000000         1.000000\n",
              "105948        6300 2012-01-27  ...           0.500000         1.000000\n",
              "105949        6300 2012-01-27  ...           0.000000         0.500000\n",
              "105951        6300 2012-01-27  ...           0.500000         0.777778\n",
              "105930        6300 2012-01-27  ...           0.500000         0.833333\n",
              "\n",
              "[216930 rows x 12 columns]"
            ]
          },
          "metadata": {},
          "execution_count": 19
        }
      ]
    },
    {
      "cell_type": "code",
      "source": [
        "def high_low(df):\n",
        "    '''Function takes row of jeopardy dataframe as input. If the clean_value column is greater than 800, return 1 if not return 0.\n",
        "    '''\n",
        "    if df['clean_value'] > 800:\n",
        "        return 1\n",
        "    else:\n",
        "        return 0"
      ],
      "metadata": {
        "id": "jtizYyNz_zMR"
      },
      "execution_count": 20,
      "outputs": []
    },
    {
      "cell_type": "code",
      "source": [
        "jeopardy['high_value'] = jeopardy.apply(high_low, axis=1)"
      ],
      "metadata": {
        "id": "SAQW_zAmZTBK"
      },
      "execution_count": 21,
      "outputs": []
    },
    {
      "cell_type": "code",
      "source": [
        "def high_low_count(word):\n",
        "    low_count = 0\n",
        "    high_count = 0\n",
        "    for index, row in jeopardy.iterrows():\n",
        "        split_question = row['clean_question'].split()\n",
        "        if word in split_question:\n",
        "            if row['high_value'] == 1:\n",
        "                high_count+=1\n",
        "            else:\n",
        "                low_count+=1\n",
        "    return high_count, low_count"
      ],
      "metadata": {
        "id": "oKhm4t9MZyPe"
      },
      "execution_count": 22,
      "outputs": []
    },
    {
      "cell_type": "code",
      "source": [
        "import random\n",
        "\n",
        "comparison_terms = random.sample(terms_used, 10)\n",
        "comparison_terms"
      ],
      "metadata": {
        "colab": {
          "base_uri": "https://localhost:8080/"
        },
        "id": "77_4C0w5c-qm",
        "outputId": "293d19da-fbd2-4101-c2fb-1267c9bbaa75"
      },
      "execution_count": 23,
      "outputs": [
        {
          "output_type": "execute_result",
          "data": {
            "text/plain": [
              "['weatherrelated',\n",
              " 'pastures',\n",
              " 'hypocrisy',\n",
              " 'winterthur',\n",
              " 'steptoe',\n",
              " 'waterloving',\n",
              " 'goodbyeing',\n",
              " 'celsius',\n",
              " 'fuguer',\n",
              " 'target_blankinteriora']"
            ]
          },
          "metadata": {},
          "execution_count": 23
        }
      ]
    },
    {
      "cell_type": "code",
      "source": [
        "observed_expected = []\n",
        "\n",
        "for i in comparison_terms:\n",
        "    observed_expected.append(high_low_count(i))\n",
        "\n",
        "observed_expected"
      ],
      "metadata": {
        "colab": {
          "base_uri": "https://localhost:8080/"
        },
        "id": "HCHdMVNebh6a",
        "outputId": "a2645b85-d5a1-4975-d583-b4b307dab601"
      },
      "execution_count": 24,
      "outputs": [
        {
          "output_type": "execute_result",
          "data": {
            "text/plain": [
              "[(0, 1),\n",
              " (2, 5),\n",
              " (1, 3),\n",
              " (0, 1),\n",
              " (1, 2),\n",
              " (0, 1),\n",
              " (0, 1),\n",
              " (11, 19),\n",
              " (0, 1),\n",
              " (1, 0)]"
            ]
          },
          "metadata": {},
          "execution_count": 24
        }
      ]
    },
    {
      "cell_type": "code",
      "source": [
        "jeopardy.size"
      ],
      "metadata": {
        "colab": {
          "base_uri": "https://localhost:8080/"
        },
        "id": "Ay7yzsPZdGNW",
        "outputId": "a291c1f9-02cf-4be3-cdee-261a32828633"
      },
      "execution_count": 25,
      "outputs": [
        {
          "output_type": "execute_result",
          "data": {
            "text/plain": [
              "2820090"
            ]
          },
          "metadata": {},
          "execution_count": 25
        }
      ]
    },
    {
      "cell_type": "code",
      "source": [
        "jeopardy.shape"
      ],
      "metadata": {
        "colab": {
          "base_uri": "https://localhost:8080/"
        },
        "id": "ZnwIpGFRdIsU",
        "outputId": "838b0560-9d23-47c1-d1d9-7e608f6820df"
      },
      "execution_count": 26,
      "outputs": [
        {
          "output_type": "execute_result",
          "data": {
            "text/plain": [
              "(216930, 13)"
            ]
          },
          "metadata": {},
          "execution_count": 26
        }
      ]
    },
    {
      "cell_type": "code",
      "source": [
        "jeopardy[jeopardy['high_value'] == 1].shape[0]"
      ],
      "metadata": {
        "colab": {
          "base_uri": "https://localhost:8080/"
        },
        "id": "ij2idTWQdZKo",
        "outputId": "b16631b7-00bd-4589-bc11-afcd855ea956"
      },
      "execution_count": 27,
      "outputs": [
        {
          "output_type": "execute_result",
          "data": {
            "text/plain": [
              "61422"
            ]
          },
          "metadata": {},
          "execution_count": 27
        }
      ]
    },
    {
      "cell_type": "code",
      "source": [
        "from scipy.stats import chisquare\n",
        "import numpy as np"
      ],
      "metadata": {
        "id": "VLsTXP8zrTgr"
      },
      "execution_count": 28,
      "outputs": []
    },
    {
      "cell_type": "code",
      "source": [
        "high_value_count = jeopardy[jeopardy['high_value'] == 1].shape[0]\n",
        "low_value_count = jeopardy[jeopardy['high_value'] == 0].shape[0]"
      ],
      "metadata": {
        "id": "uC3ZfVzDc6RT"
      },
      "execution_count": 29,
      "outputs": []
    },
    {
      "cell_type": "code",
      "source": [
        "chi_squared = []\n",
        "\n",
        "for obs_high_count, obs_low_count in observed_expected:\n",
        "    total = obs_high_count + obs_low_count\n",
        "    total_prop = total / jeopardy.shape[0]\n",
        "\n",
        "    exp_high_count = total_prop * high_value_count\n",
        "    exp_low_count = total_prop * low_value_count\n",
        "\n",
        "    observed = np.array([obs_high_count, obs_low_count])\n",
        "    expected = np.array([exp_high_count, exp_low_count])\n",
        "\n",
        "    chi_squared.append(chisquare(observed, expected))\n",
        "\n",
        "chi_squared"
      ],
      "metadata": {
        "colab": {
          "base_uri": "https://localhost:8080/"
        },
        "id": "eiG_da99dj5Y",
        "outputId": "b2db7ecd-fa07-4f3f-8a58-147b5287bd45"
      },
      "execution_count": 31,
      "outputs": [
        {
          "output_type": "execute_result",
          "data": {
            "text/plain": [
              "[Power_divergenceResult(statistic=0.3949764642333513, pvalue=0.5296950912486695),\n",
              " Power_divergenceResult(statistic=0.00022818639557405952, pvalue=0.9879477420204993),\n",
              " Power_divergenceResult(statistic=0.021646150708492677, pvalue=0.8830323245068887),\n",
              " Power_divergenceResult(statistic=0.3949764642333513, pvalue=0.5296950912486695),\n",
              " Power_divergenceResult(statistic=0.03723409388907139, pvalue=0.846989214486915),\n",
              " Power_divergenceResult(statistic=0.3949764642333513, pvalue=0.5296950912486695),\n",
              " Power_divergenceResult(statistic=0.3949764642333513, pvalue=0.5296950912486695),\n",
              " Power_divergenceResult(statistic=1.031129032701023, pvalue=0.30989363782327795),\n",
              " Power_divergenceResult(statistic=0.3949764642333513, pvalue=0.5296950912486695),\n",
              " Power_divergenceResult(statistic=2.5317964247338085, pvalue=0.11157312838169751)]"
            ]
          },
          "metadata": {},
          "execution_count": 31
        }
      ]
    },
    {
      "cell_type": "markdown",
      "source": [
        "## Chi-squared results\n",
        "Since all of the p values are < 0.05 that means none of the terms had a significant difference in usage between high value and low value rows. Additionally, most of the the frequencies were lower than 5, so the chi-squared test isn't as valid. It would be better to run this test with only terms that have higher frequencies."
      ],
      "metadata": {
        "id": "7EAZHaorifNL"
      }
    }
  ]
}